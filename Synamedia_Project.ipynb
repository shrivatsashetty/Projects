{
  "cells": [
    {
      "cell_type": "markdown",
      "metadata": {
        "id": "view-in-github",
        "colab_type": "text"
      },
      "source": [
        "<a href=\"https://colab.research.google.com/github/shrivatsashetty/Projects/blob/main/Synamedia_Project.ipynb\" target=\"_parent\"><img src=\"https://colab.research.google.com/assets/colab-badge.svg\" alt=\"Open In Colab\"/></a>"
      ]
    },
    {
      "cell_type": "markdown",
      "metadata": {
        "id": "ozY28M-PC9n8"
      },
      "source": [
        "# **Import modules**"
      ]
    },
    {
      "cell_type": "code",
      "execution_count": null,
      "metadata": {
        "id": "e673eFsExghN"
      },
      "outputs": [],
      "source": [
        "import numpy as np\n",
        "import pandas as pd\n",
        "import matplotlib.pyplot as plt\n",
        "import seaborn as sns\n",
        "# %matplotlib notebook"
      ]
    },
    {
      "cell_type": "code",
      "execution_count": null,
      "metadata": {
        "colab": {
          "base_uri": "https://localhost:8080/"
        },
        "id": "GhwuV60X0Oc3",
        "outputId": "d3088b37-8342-449f-b027-a0d90cddbafb"
      },
      "outputs": [
        {
          "output_type": "stream",
          "name": "stdout",
          "text": [
            "Drive already mounted at /content/drive/; to attempt to forcibly remount, call drive.mount(\"/content/drive/\", force_remount=True).\n"
          ]
        }
      ],
      "source": [
        "from google.colab import drive\n",
        "drive.mount('/content/drive/')"
      ]
    },
    {
      "cell_type": "code",
      "execution_count": null,
      "metadata": {
        "id": "b-hREszXxwTt"
      },
      "outputs": [],
      "source": [
        "main_df = pd.read_csv(\"/content/drive/MyDrive/Data-Science/2DaysViewingSession.csv\")"
      ]
    },
    {
      "cell_type": "markdown",
      "metadata": {
        "id": "m-rLWiFUCyd_"
      },
      "source": [
        "# **Tabular form**"
      ]
    },
    {
      "cell_type": "code",
      "execution_count": null,
      "metadata": {
        "colab": {
          "base_uri": "https://localhost:8080/",
          "height": 423
        },
        "id": "SWZgvKt02pmp",
        "outputId": "893f7aa7-6ef6-4fa8-efea-50a21101d6f8"
      },
      "outputs": [
        {
          "output_type": "execute_result",
          "data": {
            "text/plain": [
              "                 state                          event_start_tz  \\\n",
              "0             Selangor  2023-08-27 11:03:13.686 Asia/Singapore   \n",
              "1         Kuala Lumpur  2023-08-27 10:48:56.982 Asia/Singapore   \n",
              "2                Johor  2023-08-27 10:56:51.851 Asia/Singapore   \n",
              "3         Kuala Lumpur  2023-08-27 10:31:40.717 Asia/Singapore   \n",
              "4               Penang  2023-08-27 10:24:16.194 Asia/Singapore   \n",
              "...                ...                                     ...   \n",
              "26011962  Kuala Lumpur  2023-08-28 15:04:59.497 Asia/Singapore   \n",
              "26011963  Kuala Lumpur  2023-08-28 15:05:03.023 Asia/Singapore   \n",
              "26011964  Kuala Lumpur  2023-08-28 15:05:16.592 Asia/Singapore   \n",
              "26011965       Sarawak  2023-08-28 14:59:50.687 Asia/Singapore   \n",
              "26011966  Kuala Lumpur  2023-08-28 15:00:12.829 Asia/Singapore   \n",
              "\n",
              "          duration_seconds content_type                      content  \\\n",
              "0                       40          VOD                  Ombak Rindu   \n",
              "1                      424          VOD    Pada Zaman Dahulu S4 Ep08   \n",
              "2                      398          VOD         Upin & Ipin S16 Ep34   \n",
              "3                     1411          VOD         Tanah Kubur S13 Ep08   \n",
              "4                     2526          VOD        Narcotics Heroes Ep17   \n",
              "...                    ...          ...                          ...   \n",
              "26011962                 1         CDVR          Ghost of Relativity   \n",
              "26011963               906         CDVR          Ghost of Relativity   \n",
              "26011964               362          VOD         Upin & Ipin S15 Ep34   \n",
              "26011965              1241          VOD               Mechamato Ep01   \n",
              "26011966               672          VOD  Tayo The Little Bus S5 Ep13   \n",
              "\n",
              "          content_source  \n",
              "0               astro.2d  \n",
              "1               astro.7d  \n",
              "2              astro.30d  \n",
              "3              astro.30d  \n",
              "4              astro.30d  \n",
              "...                  ...  \n",
              "26011962  TVB CLASSIC HD  \n",
              "26011963  TVB CLASSIC HD  \n",
              "26011964       astro.30d  \n",
              "26011965       astro.30d  \n",
              "26011966        astro.7d  \n",
              "\n",
              "[26011967 rows x 6 columns]"
            ],
            "text/html": [
              "\n",
              "  <div id=\"df-cc0442a2-d7a1-43e9-bde4-e7bcc20db6d4\" class=\"colab-df-container\">\n",
              "    <div>\n",
              "<style scoped>\n",
              "    .dataframe tbody tr th:only-of-type {\n",
              "        vertical-align: middle;\n",
              "    }\n",
              "\n",
              "    .dataframe tbody tr th {\n",
              "        vertical-align: top;\n",
              "    }\n",
              "\n",
              "    .dataframe thead th {\n",
              "        text-align: right;\n",
              "    }\n",
              "</style>\n",
              "<table border=\"1\" class=\"dataframe\">\n",
              "  <thead>\n",
              "    <tr style=\"text-align: right;\">\n",
              "      <th></th>\n",
              "      <th>state</th>\n",
              "      <th>event_start_tz</th>\n",
              "      <th>duration_seconds</th>\n",
              "      <th>content_type</th>\n",
              "      <th>content</th>\n",
              "      <th>content_source</th>\n",
              "    </tr>\n",
              "  </thead>\n",
              "  <tbody>\n",
              "    <tr>\n",
              "      <th>0</th>\n",
              "      <td>Selangor</td>\n",
              "      <td>2023-08-27 11:03:13.686 Asia/Singapore</td>\n",
              "      <td>40</td>\n",
              "      <td>VOD</td>\n",
              "      <td>Ombak Rindu</td>\n",
              "      <td>astro.2d</td>\n",
              "    </tr>\n",
              "    <tr>\n",
              "      <th>1</th>\n",
              "      <td>Kuala Lumpur</td>\n",
              "      <td>2023-08-27 10:48:56.982 Asia/Singapore</td>\n",
              "      <td>424</td>\n",
              "      <td>VOD</td>\n",
              "      <td>Pada Zaman Dahulu S4 Ep08</td>\n",
              "      <td>astro.7d</td>\n",
              "    </tr>\n",
              "    <tr>\n",
              "      <th>2</th>\n",
              "      <td>Johor</td>\n",
              "      <td>2023-08-27 10:56:51.851 Asia/Singapore</td>\n",
              "      <td>398</td>\n",
              "      <td>VOD</td>\n",
              "      <td>Upin &amp; Ipin S16 Ep34</td>\n",
              "      <td>astro.30d</td>\n",
              "    </tr>\n",
              "    <tr>\n",
              "      <th>3</th>\n",
              "      <td>Kuala Lumpur</td>\n",
              "      <td>2023-08-27 10:31:40.717 Asia/Singapore</td>\n",
              "      <td>1411</td>\n",
              "      <td>VOD</td>\n",
              "      <td>Tanah Kubur S13 Ep08</td>\n",
              "      <td>astro.30d</td>\n",
              "    </tr>\n",
              "    <tr>\n",
              "      <th>4</th>\n",
              "      <td>Penang</td>\n",
              "      <td>2023-08-27 10:24:16.194 Asia/Singapore</td>\n",
              "      <td>2526</td>\n",
              "      <td>VOD</td>\n",
              "      <td>Narcotics Heroes Ep17</td>\n",
              "      <td>astro.30d</td>\n",
              "    </tr>\n",
              "    <tr>\n",
              "      <th>...</th>\n",
              "      <td>...</td>\n",
              "      <td>...</td>\n",
              "      <td>...</td>\n",
              "      <td>...</td>\n",
              "      <td>...</td>\n",
              "      <td>...</td>\n",
              "    </tr>\n",
              "    <tr>\n",
              "      <th>26011962</th>\n",
              "      <td>Kuala Lumpur</td>\n",
              "      <td>2023-08-28 15:04:59.497 Asia/Singapore</td>\n",
              "      <td>1</td>\n",
              "      <td>CDVR</td>\n",
              "      <td>Ghost of Relativity</td>\n",
              "      <td>TVB CLASSIC HD</td>\n",
              "    </tr>\n",
              "    <tr>\n",
              "      <th>26011963</th>\n",
              "      <td>Kuala Lumpur</td>\n",
              "      <td>2023-08-28 15:05:03.023 Asia/Singapore</td>\n",
              "      <td>906</td>\n",
              "      <td>CDVR</td>\n",
              "      <td>Ghost of Relativity</td>\n",
              "      <td>TVB CLASSIC HD</td>\n",
              "    </tr>\n",
              "    <tr>\n",
              "      <th>26011964</th>\n",
              "      <td>Kuala Lumpur</td>\n",
              "      <td>2023-08-28 15:05:16.592 Asia/Singapore</td>\n",
              "      <td>362</td>\n",
              "      <td>VOD</td>\n",
              "      <td>Upin &amp; Ipin S15 Ep34</td>\n",
              "      <td>astro.30d</td>\n",
              "    </tr>\n",
              "    <tr>\n",
              "      <th>26011965</th>\n",
              "      <td>Sarawak</td>\n",
              "      <td>2023-08-28 14:59:50.687 Asia/Singapore</td>\n",
              "      <td>1241</td>\n",
              "      <td>VOD</td>\n",
              "      <td>Mechamato Ep01</td>\n",
              "      <td>astro.30d</td>\n",
              "    </tr>\n",
              "    <tr>\n",
              "      <th>26011966</th>\n",
              "      <td>Kuala Lumpur</td>\n",
              "      <td>2023-08-28 15:00:12.829 Asia/Singapore</td>\n",
              "      <td>672</td>\n",
              "      <td>VOD</td>\n",
              "      <td>Tayo The Little Bus S5 Ep13</td>\n",
              "      <td>astro.7d</td>\n",
              "    </tr>\n",
              "  </tbody>\n",
              "</table>\n",
              "<p>26011967 rows × 6 columns</p>\n",
              "</div>\n",
              "    <div class=\"colab-df-buttons\">\n",
              "\n",
              "  <div class=\"colab-df-container\">\n",
              "    <button class=\"colab-df-convert\" onclick=\"convertToInteractive('df-cc0442a2-d7a1-43e9-bde4-e7bcc20db6d4')\"\n",
              "            title=\"Convert this dataframe to an interactive table.\"\n",
              "            style=\"display:none;\">\n",
              "\n",
              "  <svg xmlns=\"http://www.w3.org/2000/svg\" height=\"24px\" viewBox=\"0 -960 960 960\">\n",
              "    <path d=\"M120-120v-720h720v720H120Zm60-500h600v-160H180v160Zm220 220h160v-160H400v160Zm0 220h160v-160H400v160ZM180-400h160v-160H180v160Zm440 0h160v-160H620v160ZM180-180h160v-160H180v160Zm440 0h160v-160H620v160Z\"/>\n",
              "  </svg>\n",
              "    </button>\n",
              "\n",
              "  <style>\n",
              "    .colab-df-container {\n",
              "      display:flex;\n",
              "      gap: 12px;\n",
              "    }\n",
              "\n",
              "    .colab-df-convert {\n",
              "      background-color: #E8F0FE;\n",
              "      border: none;\n",
              "      border-radius: 50%;\n",
              "      cursor: pointer;\n",
              "      display: none;\n",
              "      fill: #1967D2;\n",
              "      height: 32px;\n",
              "      padding: 0 0 0 0;\n",
              "      width: 32px;\n",
              "    }\n",
              "\n",
              "    .colab-df-convert:hover {\n",
              "      background-color: #E2EBFA;\n",
              "      box-shadow: 0px 1px 2px rgba(60, 64, 67, 0.3), 0px 1px 3px 1px rgba(60, 64, 67, 0.15);\n",
              "      fill: #174EA6;\n",
              "    }\n",
              "\n",
              "    .colab-df-buttons div {\n",
              "      margin-bottom: 4px;\n",
              "    }\n",
              "\n",
              "    [theme=dark] .colab-df-convert {\n",
              "      background-color: #3B4455;\n",
              "      fill: #D2E3FC;\n",
              "    }\n",
              "\n",
              "    [theme=dark] .colab-df-convert:hover {\n",
              "      background-color: #434B5C;\n",
              "      box-shadow: 0px 1px 3px 1px rgba(0, 0, 0, 0.15);\n",
              "      filter: drop-shadow(0px 1px 2px rgba(0, 0, 0, 0.3));\n",
              "      fill: #FFFFFF;\n",
              "    }\n",
              "  </style>\n",
              "\n",
              "    <script>\n",
              "      const buttonEl =\n",
              "        document.querySelector('#df-cc0442a2-d7a1-43e9-bde4-e7bcc20db6d4 button.colab-df-convert');\n",
              "      buttonEl.style.display =\n",
              "        google.colab.kernel.accessAllowed ? 'block' : 'none';\n",
              "\n",
              "      async function convertToInteractive(key) {\n",
              "        const element = document.querySelector('#df-cc0442a2-d7a1-43e9-bde4-e7bcc20db6d4');\n",
              "        const dataTable =\n",
              "          await google.colab.kernel.invokeFunction('convertToInteractive',\n",
              "                                                    [key], {});\n",
              "        if (!dataTable) return;\n",
              "\n",
              "        const docLinkHtml = 'Like what you see? Visit the ' +\n",
              "          '<a target=\"_blank\" href=https://colab.research.google.com/notebooks/data_table.ipynb>data table notebook</a>'\n",
              "          + ' to learn more about interactive tables.';\n",
              "        element.innerHTML = '';\n",
              "        dataTable['output_type'] = 'display_data';\n",
              "        await google.colab.output.renderOutput(dataTable, element);\n",
              "        const docLink = document.createElement('div');\n",
              "        docLink.innerHTML = docLinkHtml;\n",
              "        element.appendChild(docLink);\n",
              "      }\n",
              "    </script>\n",
              "  </div>\n",
              "\n",
              "\n",
              "<div id=\"df-1ed304f6-0ba6-42d4-a210-e40c775bdba5\">\n",
              "  <button class=\"colab-df-quickchart\" onclick=\"quickchart('df-1ed304f6-0ba6-42d4-a210-e40c775bdba5')\"\n",
              "            title=\"Suggest charts.\"\n",
              "            style=\"display:none;\">\n",
              "\n",
              "<svg xmlns=\"http://www.w3.org/2000/svg\" height=\"24px\"viewBox=\"0 0 24 24\"\n",
              "     width=\"24px\">\n",
              "    <g>\n",
              "        <path d=\"M19 3H5c-1.1 0-2 .9-2 2v14c0 1.1.9 2 2 2h14c1.1 0 2-.9 2-2V5c0-1.1-.9-2-2-2zM9 17H7v-7h2v7zm4 0h-2V7h2v10zm4 0h-2v-4h2v4z\"/>\n",
              "    </g>\n",
              "</svg>\n",
              "  </button>\n",
              "\n",
              "<style>\n",
              "  .colab-df-quickchart {\n",
              "      --bg-color: #E8F0FE;\n",
              "      --fill-color: #1967D2;\n",
              "      --hover-bg-color: #E2EBFA;\n",
              "      --hover-fill-color: #174EA6;\n",
              "      --disabled-fill-color: #AAA;\n",
              "      --disabled-bg-color: #DDD;\n",
              "  }\n",
              "\n",
              "  [theme=dark] .colab-df-quickchart {\n",
              "      --bg-color: #3B4455;\n",
              "      --fill-color: #D2E3FC;\n",
              "      --hover-bg-color: #434B5C;\n",
              "      --hover-fill-color: #FFFFFF;\n",
              "      --disabled-bg-color: #3B4455;\n",
              "      --disabled-fill-color: #666;\n",
              "  }\n",
              "\n",
              "  .colab-df-quickchart {\n",
              "    background-color: var(--bg-color);\n",
              "    border: none;\n",
              "    border-radius: 50%;\n",
              "    cursor: pointer;\n",
              "    display: none;\n",
              "    fill: var(--fill-color);\n",
              "    height: 32px;\n",
              "    padding: 0;\n",
              "    width: 32px;\n",
              "  }\n",
              "\n",
              "  .colab-df-quickchart:hover {\n",
              "    background-color: var(--hover-bg-color);\n",
              "    box-shadow: 0 1px 2px rgba(60, 64, 67, 0.3), 0 1px 3px 1px rgba(60, 64, 67, 0.15);\n",
              "    fill: var(--button-hover-fill-color);\n",
              "  }\n",
              "\n",
              "  .colab-df-quickchart-complete:disabled,\n",
              "  .colab-df-quickchart-complete:disabled:hover {\n",
              "    background-color: var(--disabled-bg-color);\n",
              "    fill: var(--disabled-fill-color);\n",
              "    box-shadow: none;\n",
              "  }\n",
              "\n",
              "  .colab-df-spinner {\n",
              "    border: 2px solid var(--fill-color);\n",
              "    border-color: transparent;\n",
              "    border-bottom-color: var(--fill-color);\n",
              "    animation:\n",
              "      spin 1s steps(1) infinite;\n",
              "  }\n",
              "\n",
              "  @keyframes spin {\n",
              "    0% {\n",
              "      border-color: transparent;\n",
              "      border-bottom-color: var(--fill-color);\n",
              "      border-left-color: var(--fill-color);\n",
              "    }\n",
              "    20% {\n",
              "      border-color: transparent;\n",
              "      border-left-color: var(--fill-color);\n",
              "      border-top-color: var(--fill-color);\n",
              "    }\n",
              "    30% {\n",
              "      border-color: transparent;\n",
              "      border-left-color: var(--fill-color);\n",
              "      border-top-color: var(--fill-color);\n",
              "      border-right-color: var(--fill-color);\n",
              "    }\n",
              "    40% {\n",
              "      border-color: transparent;\n",
              "      border-right-color: var(--fill-color);\n",
              "      border-top-color: var(--fill-color);\n",
              "    }\n",
              "    60% {\n",
              "      border-color: transparent;\n",
              "      border-right-color: var(--fill-color);\n",
              "    }\n",
              "    80% {\n",
              "      border-color: transparent;\n",
              "      border-right-color: var(--fill-color);\n",
              "      border-bottom-color: var(--fill-color);\n",
              "    }\n",
              "    90% {\n",
              "      border-color: transparent;\n",
              "      border-bottom-color: var(--fill-color);\n",
              "    }\n",
              "  }\n",
              "</style>\n",
              "\n",
              "  <script>\n",
              "    async function quickchart(key) {\n",
              "      const quickchartButtonEl =\n",
              "        document.querySelector('#' + key + ' button');\n",
              "      quickchartButtonEl.disabled = true;  // To prevent multiple clicks.\n",
              "      quickchartButtonEl.classList.add('colab-df-spinner');\n",
              "      try {\n",
              "        const charts = await google.colab.kernel.invokeFunction(\n",
              "            'suggestCharts', [key], {});\n",
              "      } catch (error) {\n",
              "        console.error('Error during call to suggestCharts:', error);\n",
              "      }\n",
              "      quickchartButtonEl.classList.remove('colab-df-spinner');\n",
              "      quickchartButtonEl.classList.add('colab-df-quickchart-complete');\n",
              "    }\n",
              "    (() => {\n",
              "      let quickchartButtonEl =\n",
              "        document.querySelector('#df-1ed304f6-0ba6-42d4-a210-e40c775bdba5 button');\n",
              "      quickchartButtonEl.style.display =\n",
              "        google.colab.kernel.accessAllowed ? 'block' : 'none';\n",
              "    })();\n",
              "  </script>\n",
              "</div>\n",
              "    </div>\n",
              "  </div>\n"
            ]
          },
          "metadata": {},
          "execution_count": 4
        }
      ],
      "source": [
        "main_df"
      ]
    },
    {
      "cell_type": "markdown",
      "metadata": {
        "id": "jBJooQ5fDVE3"
      },
      "source": [
        "# *main dataframe shape*"
      ]
    },
    {
      "cell_type": "code",
      "execution_count": null,
      "metadata": {
        "colab": {
          "base_uri": "https://localhost:8080/"
        },
        "id": "_Fa91j-642dw",
        "outputId": "a0ea40bb-57af-459b-fa1b-ce2ac66b2cc4"
      },
      "outputs": [
        {
          "output_type": "execute_result",
          "data": {
            "text/plain": [
              "(26011967, 6)"
            ]
          },
          "metadata": {},
          "execution_count": 5
        }
      ],
      "source": [
        "main_df.shape"
      ]
    },
    {
      "cell_type": "markdown",
      "metadata": {
        "id": "rVBAbQMtTReH"
      },
      "source": [
        "### ***the main dataframe contains 2,60,11,967 records***"
      ]
    },
    {
      "cell_type": "markdown",
      "metadata": {
        "id": "N9m3DFWDDk-V"
      },
      "source": [
        "# main dataset columns"
      ]
    },
    {
      "cell_type": "code",
      "execution_count": null,
      "metadata": {
        "colab": {
          "base_uri": "https://localhost:8080/"
        },
        "id": "mAZC1VKz_S_z",
        "outputId": "8184941a-633c-498d-a923-17cfbf68bc6f"
      },
      "outputs": [
        {
          "output_type": "stream",
          "name": "stdout",
          "text": [
            "The dataset contains the following columns\n",
            "1 . state\n",
            "2 . event_start_tz\n",
            "3 . duration_seconds\n",
            "4 . content_type\n",
            "5 . content\n",
            "6 . content_source\n"
          ]
        }
      ],
      "source": [
        "i = 1\n",
        "print(\"The dataset contains the following columns\")\n",
        "for column in main_df.columns:\n",
        "  print(i,\".\",column)\n",
        "  i+=1"
      ]
    },
    {
      "cell_type": "code",
      "execution_count": null,
      "metadata": {
        "colab": {
          "base_uri": "https://localhost:8080/",
          "height": 300
        },
        "id": "xAw9yGLK5Dpe",
        "outputId": "b8ba0f3f-04a9-4b2f-f96f-cf778389bf59"
      },
      "outputs": [
        {
          "output_type": "execute_result",
          "data": {
            "text/plain": [
              "       duration_seconds\n",
              "count      2.601197e+07\n",
              "mean       7.747659e+02\n",
              "std        1.274039e+03\n",
              "min        0.000000e+00\n",
              "25%        5.700000e+01\n",
              "50%        2.490000e+02\n",
              "75%        9.730000e+02\n",
              "max        3.239500e+04"
            ],
            "text/html": [
              "\n",
              "  <div id=\"df-fd75f5af-ab56-46a9-aadd-5aadf1376f6b\" class=\"colab-df-container\">\n",
              "    <div>\n",
              "<style scoped>\n",
              "    .dataframe tbody tr th:only-of-type {\n",
              "        vertical-align: middle;\n",
              "    }\n",
              "\n",
              "    .dataframe tbody tr th {\n",
              "        vertical-align: top;\n",
              "    }\n",
              "\n",
              "    .dataframe thead th {\n",
              "        text-align: right;\n",
              "    }\n",
              "</style>\n",
              "<table border=\"1\" class=\"dataframe\">\n",
              "  <thead>\n",
              "    <tr style=\"text-align: right;\">\n",
              "      <th></th>\n",
              "      <th>duration_seconds</th>\n",
              "    </tr>\n",
              "  </thead>\n",
              "  <tbody>\n",
              "    <tr>\n",
              "      <th>count</th>\n",
              "      <td>2.601197e+07</td>\n",
              "    </tr>\n",
              "    <tr>\n",
              "      <th>mean</th>\n",
              "      <td>7.747659e+02</td>\n",
              "    </tr>\n",
              "    <tr>\n",
              "      <th>std</th>\n",
              "      <td>1.274039e+03</td>\n",
              "    </tr>\n",
              "    <tr>\n",
              "      <th>min</th>\n",
              "      <td>0.000000e+00</td>\n",
              "    </tr>\n",
              "    <tr>\n",
              "      <th>25%</th>\n",
              "      <td>5.700000e+01</td>\n",
              "    </tr>\n",
              "    <tr>\n",
              "      <th>50%</th>\n",
              "      <td>2.490000e+02</td>\n",
              "    </tr>\n",
              "    <tr>\n",
              "      <th>75%</th>\n",
              "      <td>9.730000e+02</td>\n",
              "    </tr>\n",
              "    <tr>\n",
              "      <th>max</th>\n",
              "      <td>3.239500e+04</td>\n",
              "    </tr>\n",
              "  </tbody>\n",
              "</table>\n",
              "</div>\n",
              "    <div class=\"colab-df-buttons\">\n",
              "\n",
              "  <div class=\"colab-df-container\">\n",
              "    <button class=\"colab-df-convert\" onclick=\"convertToInteractive('df-fd75f5af-ab56-46a9-aadd-5aadf1376f6b')\"\n",
              "            title=\"Convert this dataframe to an interactive table.\"\n",
              "            style=\"display:none;\">\n",
              "\n",
              "  <svg xmlns=\"http://www.w3.org/2000/svg\" height=\"24px\" viewBox=\"0 -960 960 960\">\n",
              "    <path d=\"M120-120v-720h720v720H120Zm60-500h600v-160H180v160Zm220 220h160v-160H400v160Zm0 220h160v-160H400v160ZM180-400h160v-160H180v160Zm440 0h160v-160H620v160ZM180-180h160v-160H180v160Zm440 0h160v-160H620v160Z\"/>\n",
              "  </svg>\n",
              "    </button>\n",
              "\n",
              "  <style>\n",
              "    .colab-df-container {\n",
              "      display:flex;\n",
              "      gap: 12px;\n",
              "    }\n",
              "\n",
              "    .colab-df-convert {\n",
              "      background-color: #E8F0FE;\n",
              "      border: none;\n",
              "      border-radius: 50%;\n",
              "      cursor: pointer;\n",
              "      display: none;\n",
              "      fill: #1967D2;\n",
              "      height: 32px;\n",
              "      padding: 0 0 0 0;\n",
              "      width: 32px;\n",
              "    }\n",
              "\n",
              "    .colab-df-convert:hover {\n",
              "      background-color: #E2EBFA;\n",
              "      box-shadow: 0px 1px 2px rgba(60, 64, 67, 0.3), 0px 1px 3px 1px rgba(60, 64, 67, 0.15);\n",
              "      fill: #174EA6;\n",
              "    }\n",
              "\n",
              "    .colab-df-buttons div {\n",
              "      margin-bottom: 4px;\n",
              "    }\n",
              "\n",
              "    [theme=dark] .colab-df-convert {\n",
              "      background-color: #3B4455;\n",
              "      fill: #D2E3FC;\n",
              "    }\n",
              "\n",
              "    [theme=dark] .colab-df-convert:hover {\n",
              "      background-color: #434B5C;\n",
              "      box-shadow: 0px 1px 3px 1px rgba(0, 0, 0, 0.15);\n",
              "      filter: drop-shadow(0px 1px 2px rgba(0, 0, 0, 0.3));\n",
              "      fill: #FFFFFF;\n",
              "    }\n",
              "  </style>\n",
              "\n",
              "    <script>\n",
              "      const buttonEl =\n",
              "        document.querySelector('#df-fd75f5af-ab56-46a9-aadd-5aadf1376f6b button.colab-df-convert');\n",
              "      buttonEl.style.display =\n",
              "        google.colab.kernel.accessAllowed ? 'block' : 'none';\n",
              "\n",
              "      async function convertToInteractive(key) {\n",
              "        const element = document.querySelector('#df-fd75f5af-ab56-46a9-aadd-5aadf1376f6b');\n",
              "        const dataTable =\n",
              "          await google.colab.kernel.invokeFunction('convertToInteractive',\n",
              "                                                    [key], {});\n",
              "        if (!dataTable) return;\n",
              "\n",
              "        const docLinkHtml = 'Like what you see? Visit the ' +\n",
              "          '<a target=\"_blank\" href=https://colab.research.google.com/notebooks/data_table.ipynb>data table notebook</a>'\n",
              "          + ' to learn more about interactive tables.';\n",
              "        element.innerHTML = '';\n",
              "        dataTable['output_type'] = 'display_data';\n",
              "        await google.colab.output.renderOutput(dataTable, element);\n",
              "        const docLink = document.createElement('div');\n",
              "        docLink.innerHTML = docLinkHtml;\n",
              "        element.appendChild(docLink);\n",
              "      }\n",
              "    </script>\n",
              "  </div>\n",
              "\n",
              "\n",
              "<div id=\"df-23ac617b-ac2e-4233-aa12-76b5ebde2abb\">\n",
              "  <button class=\"colab-df-quickchart\" onclick=\"quickchart('df-23ac617b-ac2e-4233-aa12-76b5ebde2abb')\"\n",
              "            title=\"Suggest charts.\"\n",
              "            style=\"display:none;\">\n",
              "\n",
              "<svg xmlns=\"http://www.w3.org/2000/svg\" height=\"24px\"viewBox=\"0 0 24 24\"\n",
              "     width=\"24px\">\n",
              "    <g>\n",
              "        <path d=\"M19 3H5c-1.1 0-2 .9-2 2v14c0 1.1.9 2 2 2h14c1.1 0 2-.9 2-2V5c0-1.1-.9-2-2-2zM9 17H7v-7h2v7zm4 0h-2V7h2v10zm4 0h-2v-4h2v4z\"/>\n",
              "    </g>\n",
              "</svg>\n",
              "  </button>\n",
              "\n",
              "<style>\n",
              "  .colab-df-quickchart {\n",
              "      --bg-color: #E8F0FE;\n",
              "      --fill-color: #1967D2;\n",
              "      --hover-bg-color: #E2EBFA;\n",
              "      --hover-fill-color: #174EA6;\n",
              "      --disabled-fill-color: #AAA;\n",
              "      --disabled-bg-color: #DDD;\n",
              "  }\n",
              "\n",
              "  [theme=dark] .colab-df-quickchart {\n",
              "      --bg-color: #3B4455;\n",
              "      --fill-color: #D2E3FC;\n",
              "      --hover-bg-color: #434B5C;\n",
              "      --hover-fill-color: #FFFFFF;\n",
              "      --disabled-bg-color: #3B4455;\n",
              "      --disabled-fill-color: #666;\n",
              "  }\n",
              "\n",
              "  .colab-df-quickchart {\n",
              "    background-color: var(--bg-color);\n",
              "    border: none;\n",
              "    border-radius: 50%;\n",
              "    cursor: pointer;\n",
              "    display: none;\n",
              "    fill: var(--fill-color);\n",
              "    height: 32px;\n",
              "    padding: 0;\n",
              "    width: 32px;\n",
              "  }\n",
              "\n",
              "  .colab-df-quickchart:hover {\n",
              "    background-color: var(--hover-bg-color);\n",
              "    box-shadow: 0 1px 2px rgba(60, 64, 67, 0.3), 0 1px 3px 1px rgba(60, 64, 67, 0.15);\n",
              "    fill: var(--button-hover-fill-color);\n",
              "  }\n",
              "\n",
              "  .colab-df-quickchart-complete:disabled,\n",
              "  .colab-df-quickchart-complete:disabled:hover {\n",
              "    background-color: var(--disabled-bg-color);\n",
              "    fill: var(--disabled-fill-color);\n",
              "    box-shadow: none;\n",
              "  }\n",
              "\n",
              "  .colab-df-spinner {\n",
              "    border: 2px solid var(--fill-color);\n",
              "    border-color: transparent;\n",
              "    border-bottom-color: var(--fill-color);\n",
              "    animation:\n",
              "      spin 1s steps(1) infinite;\n",
              "  }\n",
              "\n",
              "  @keyframes spin {\n",
              "    0% {\n",
              "      border-color: transparent;\n",
              "      border-bottom-color: var(--fill-color);\n",
              "      border-left-color: var(--fill-color);\n",
              "    }\n",
              "    20% {\n",
              "      border-color: transparent;\n",
              "      border-left-color: var(--fill-color);\n",
              "      border-top-color: var(--fill-color);\n",
              "    }\n",
              "    30% {\n",
              "      border-color: transparent;\n",
              "      border-left-color: var(--fill-color);\n",
              "      border-top-color: var(--fill-color);\n",
              "      border-right-color: var(--fill-color);\n",
              "    }\n",
              "    40% {\n",
              "      border-color: transparent;\n",
              "      border-right-color: var(--fill-color);\n",
              "      border-top-color: var(--fill-color);\n",
              "    }\n",
              "    60% {\n",
              "      border-color: transparent;\n",
              "      border-right-color: var(--fill-color);\n",
              "    }\n",
              "    80% {\n",
              "      border-color: transparent;\n",
              "      border-right-color: var(--fill-color);\n",
              "      border-bottom-color: var(--fill-color);\n",
              "    }\n",
              "    90% {\n",
              "      border-color: transparent;\n",
              "      border-bottom-color: var(--fill-color);\n",
              "    }\n",
              "  }\n",
              "</style>\n",
              "\n",
              "  <script>\n",
              "    async function quickchart(key) {\n",
              "      const quickchartButtonEl =\n",
              "        document.querySelector('#' + key + ' button');\n",
              "      quickchartButtonEl.disabled = true;  // To prevent multiple clicks.\n",
              "      quickchartButtonEl.classList.add('colab-df-spinner');\n",
              "      try {\n",
              "        const charts = await google.colab.kernel.invokeFunction(\n",
              "            'suggestCharts', [key], {});\n",
              "      } catch (error) {\n",
              "        console.error('Error during call to suggestCharts:', error);\n",
              "      }\n",
              "      quickchartButtonEl.classList.remove('colab-df-spinner');\n",
              "      quickchartButtonEl.classList.add('colab-df-quickchart-complete');\n",
              "    }\n",
              "    (() => {\n",
              "      let quickchartButtonEl =\n",
              "        document.querySelector('#df-23ac617b-ac2e-4233-aa12-76b5ebde2abb button');\n",
              "      quickchartButtonEl.style.display =\n",
              "        google.colab.kernel.accessAllowed ? 'block' : 'none';\n",
              "    })();\n",
              "  </script>\n",
              "</div>\n",
              "    </div>\n",
              "  </div>\n"
            ]
          },
          "metadata": {},
          "execution_count": 7
        }
      ],
      "source": [
        "main_df.describe()"
      ]
    },
    {
      "cell_type": "code",
      "execution_count": null,
      "metadata": {
        "colab": {
          "base_uri": "https://localhost:8080/"
        },
        "id": "HdzaMaJS21PO",
        "outputId": "552d22cb-ff5d-4d60-ef9e-36e3d97c70f8"
      },
      "outputs": [
        {
          "output_type": "execute_result",
          "data": {
            "text/plain": [
              "state               13493121\n",
              "event_start_tz             0\n",
              "duration_seconds           0\n",
              "content_type               0\n",
              "content               110136\n",
              "content_source          3780\n",
              "dtype: int64"
            ]
          },
          "metadata": {},
          "execution_count": 8
        }
      ],
      "source": [
        "main_df.isna().sum()"
      ]
    },
    {
      "cell_type": "code",
      "execution_count": null,
      "metadata": {
        "id": "M5-ByEFmJ3f5"
      },
      "outputs": [],
      "source": [
        "cleaned_df = main_df.dropna()"
      ]
    },
    {
      "cell_type": "code",
      "execution_count": null,
      "metadata": {
        "colab": {
          "base_uri": "https://localhost:8080/"
        },
        "id": "fIUhOgzFNOv4",
        "outputId": "b8df2503-f673-4b7b-c2b4-8f6adad304c9"
      },
      "outputs": [
        {
          "output_type": "execute_result",
          "data": {
            "text/plain": [
              "(12466618, 6)"
            ]
          },
          "metadata": {},
          "execution_count": 10
        }
      ],
      "source": [
        "cleaned_df.shape"
      ]
    },
    {
      "cell_type": "code",
      "execution_count": null,
      "metadata": {
        "colab": {
          "base_uri": "https://localhost:8080/"
        },
        "id": "fqramgLG6mf9",
        "outputId": "2583c013-50d0-47cb-f73e-eab07f1c883a"
      },
      "outputs": [
        {
          "output_type": "execute_result",
          "data": {
            "text/plain": [
              "tuple"
            ]
          },
          "metadata": {},
          "execution_count": 11
        }
      ],
      "source": [
        "type(cleaned_df.shape)"
      ]
    },
    {
      "cell_type": "markdown",
      "metadata": {
        "id": "KItgXqDlGONx"
      },
      "source": [
        "# difference b/w new and orignal data frame"
      ]
    },
    {
      "cell_type": "code",
      "execution_count": null,
      "metadata": {
        "id": "qHiK2QXG6tYo"
      },
      "outputs": [],
      "source": [
        "records_differenece = main_df.shape[0] - cleaned_df.shape[0]"
      ]
    },
    {
      "cell_type": "code",
      "execution_count": null,
      "metadata": {
        "id": "blwJOlmm7FOk"
      },
      "outputs": [],
      "source": [
        "percent_record_difference = (records_differenece / main_df.shape[0]) * 100"
      ]
    },
    {
      "cell_type": "markdown",
      "metadata": {
        "id": "LPedBoPCFvtM"
      },
      "source": [
        "### percentage difference in records after dropping rows"
      ]
    },
    {
      "cell_type": "code",
      "execution_count": null,
      "metadata": {
        "colab": {
          "base_uri": "https://localhost:8080/"
        },
        "id": "XdNNPTEx7soL",
        "outputId": "a7ee123e-af7d-41a8-b0c5-a107e4655574"
      },
      "outputs": [
        {
          "output_type": "execute_result",
          "data": {
            "text/plain": [
              "52.073528311027"
            ]
          },
          "metadata": {},
          "execution_count": 14
        }
      ],
      "source": [
        "percent_record_difference"
      ]
    },
    {
      "cell_type": "code",
      "execution_count": null,
      "metadata": {
        "colab": {
          "base_uri": "https://localhost:8080/",
          "height": 300
        },
        "id": "Nj2ag5je5VP9",
        "outputId": "dda04077-2028-4eb9-ecda-5aab227659b9"
      },
      "outputs": [
        {
          "output_type": "execute_result",
          "data": {
            "text/plain": [
              "       duration_seconds\n",
              "count      1.246662e+07\n",
              "mean       5.246197e+02\n",
              "std        1.160204e+03\n",
              "min        0.000000e+00\n",
              "25%        1.000000e+01\n",
              "50%        1.250000e+02\n",
              "75%        4.280000e+02\n",
              "max        3.239500e+04"
            ],
            "text/html": [
              "\n",
              "  <div id=\"df-853b208b-12f2-4085-9501-99c70a6efbcf\" class=\"colab-df-container\">\n",
              "    <div>\n",
              "<style scoped>\n",
              "    .dataframe tbody tr th:only-of-type {\n",
              "        vertical-align: middle;\n",
              "    }\n",
              "\n",
              "    .dataframe tbody tr th {\n",
              "        vertical-align: top;\n",
              "    }\n",
              "\n",
              "    .dataframe thead th {\n",
              "        text-align: right;\n",
              "    }\n",
              "</style>\n",
              "<table border=\"1\" class=\"dataframe\">\n",
              "  <thead>\n",
              "    <tr style=\"text-align: right;\">\n",
              "      <th></th>\n",
              "      <th>duration_seconds</th>\n",
              "    </tr>\n",
              "  </thead>\n",
              "  <tbody>\n",
              "    <tr>\n",
              "      <th>count</th>\n",
              "      <td>1.246662e+07</td>\n",
              "    </tr>\n",
              "    <tr>\n",
              "      <th>mean</th>\n",
              "      <td>5.246197e+02</td>\n",
              "    </tr>\n",
              "    <tr>\n",
              "      <th>std</th>\n",
              "      <td>1.160204e+03</td>\n",
              "    </tr>\n",
              "    <tr>\n",
              "      <th>min</th>\n",
              "      <td>0.000000e+00</td>\n",
              "    </tr>\n",
              "    <tr>\n",
              "      <th>25%</th>\n",
              "      <td>1.000000e+01</td>\n",
              "    </tr>\n",
              "    <tr>\n",
              "      <th>50%</th>\n",
              "      <td>1.250000e+02</td>\n",
              "    </tr>\n",
              "    <tr>\n",
              "      <th>75%</th>\n",
              "      <td>4.280000e+02</td>\n",
              "    </tr>\n",
              "    <tr>\n",
              "      <th>max</th>\n",
              "      <td>3.239500e+04</td>\n",
              "    </tr>\n",
              "  </tbody>\n",
              "</table>\n",
              "</div>\n",
              "    <div class=\"colab-df-buttons\">\n",
              "\n",
              "  <div class=\"colab-df-container\">\n",
              "    <button class=\"colab-df-convert\" onclick=\"convertToInteractive('df-853b208b-12f2-4085-9501-99c70a6efbcf')\"\n",
              "            title=\"Convert this dataframe to an interactive table.\"\n",
              "            style=\"display:none;\">\n",
              "\n",
              "  <svg xmlns=\"http://www.w3.org/2000/svg\" height=\"24px\" viewBox=\"0 -960 960 960\">\n",
              "    <path d=\"M120-120v-720h720v720H120Zm60-500h600v-160H180v160Zm220 220h160v-160H400v160Zm0 220h160v-160H400v160ZM180-400h160v-160H180v160Zm440 0h160v-160H620v160ZM180-180h160v-160H180v160Zm440 0h160v-160H620v160Z\"/>\n",
              "  </svg>\n",
              "    </button>\n",
              "\n",
              "  <style>\n",
              "    .colab-df-container {\n",
              "      display:flex;\n",
              "      gap: 12px;\n",
              "    }\n",
              "\n",
              "    .colab-df-convert {\n",
              "      background-color: #E8F0FE;\n",
              "      border: none;\n",
              "      border-radius: 50%;\n",
              "      cursor: pointer;\n",
              "      display: none;\n",
              "      fill: #1967D2;\n",
              "      height: 32px;\n",
              "      padding: 0 0 0 0;\n",
              "      width: 32px;\n",
              "    }\n",
              "\n",
              "    .colab-df-convert:hover {\n",
              "      background-color: #E2EBFA;\n",
              "      box-shadow: 0px 1px 2px rgba(60, 64, 67, 0.3), 0px 1px 3px 1px rgba(60, 64, 67, 0.15);\n",
              "      fill: #174EA6;\n",
              "    }\n",
              "\n",
              "    .colab-df-buttons div {\n",
              "      margin-bottom: 4px;\n",
              "    }\n",
              "\n",
              "    [theme=dark] .colab-df-convert {\n",
              "      background-color: #3B4455;\n",
              "      fill: #D2E3FC;\n",
              "    }\n",
              "\n",
              "    [theme=dark] .colab-df-convert:hover {\n",
              "      background-color: #434B5C;\n",
              "      box-shadow: 0px 1px 3px 1px rgba(0, 0, 0, 0.15);\n",
              "      filter: drop-shadow(0px 1px 2px rgba(0, 0, 0, 0.3));\n",
              "      fill: #FFFFFF;\n",
              "    }\n",
              "  </style>\n",
              "\n",
              "    <script>\n",
              "      const buttonEl =\n",
              "        document.querySelector('#df-853b208b-12f2-4085-9501-99c70a6efbcf button.colab-df-convert');\n",
              "      buttonEl.style.display =\n",
              "        google.colab.kernel.accessAllowed ? 'block' : 'none';\n",
              "\n",
              "      async function convertToInteractive(key) {\n",
              "        const element = document.querySelector('#df-853b208b-12f2-4085-9501-99c70a6efbcf');\n",
              "        const dataTable =\n",
              "          await google.colab.kernel.invokeFunction('convertToInteractive',\n",
              "                                                    [key], {});\n",
              "        if (!dataTable) return;\n",
              "\n",
              "        const docLinkHtml = 'Like what you see? Visit the ' +\n",
              "          '<a target=\"_blank\" href=https://colab.research.google.com/notebooks/data_table.ipynb>data table notebook</a>'\n",
              "          + ' to learn more about interactive tables.';\n",
              "        element.innerHTML = '';\n",
              "        dataTable['output_type'] = 'display_data';\n",
              "        await google.colab.output.renderOutput(dataTable, element);\n",
              "        const docLink = document.createElement('div');\n",
              "        docLink.innerHTML = docLinkHtml;\n",
              "        element.appendChild(docLink);\n",
              "      }\n",
              "    </script>\n",
              "  </div>\n",
              "\n",
              "\n",
              "<div id=\"df-3fc40b78-09a7-49f0-95bf-3639ba67efb8\">\n",
              "  <button class=\"colab-df-quickchart\" onclick=\"quickchart('df-3fc40b78-09a7-49f0-95bf-3639ba67efb8')\"\n",
              "            title=\"Suggest charts.\"\n",
              "            style=\"display:none;\">\n",
              "\n",
              "<svg xmlns=\"http://www.w3.org/2000/svg\" height=\"24px\"viewBox=\"0 0 24 24\"\n",
              "     width=\"24px\">\n",
              "    <g>\n",
              "        <path d=\"M19 3H5c-1.1 0-2 .9-2 2v14c0 1.1.9 2 2 2h14c1.1 0 2-.9 2-2V5c0-1.1-.9-2-2-2zM9 17H7v-7h2v7zm4 0h-2V7h2v10zm4 0h-2v-4h2v4z\"/>\n",
              "    </g>\n",
              "</svg>\n",
              "  </button>\n",
              "\n",
              "<style>\n",
              "  .colab-df-quickchart {\n",
              "      --bg-color: #E8F0FE;\n",
              "      --fill-color: #1967D2;\n",
              "      --hover-bg-color: #E2EBFA;\n",
              "      --hover-fill-color: #174EA6;\n",
              "      --disabled-fill-color: #AAA;\n",
              "      --disabled-bg-color: #DDD;\n",
              "  }\n",
              "\n",
              "  [theme=dark] .colab-df-quickchart {\n",
              "      --bg-color: #3B4455;\n",
              "      --fill-color: #D2E3FC;\n",
              "      --hover-bg-color: #434B5C;\n",
              "      --hover-fill-color: #FFFFFF;\n",
              "      --disabled-bg-color: #3B4455;\n",
              "      --disabled-fill-color: #666;\n",
              "  }\n",
              "\n",
              "  .colab-df-quickchart {\n",
              "    background-color: var(--bg-color);\n",
              "    border: none;\n",
              "    border-radius: 50%;\n",
              "    cursor: pointer;\n",
              "    display: none;\n",
              "    fill: var(--fill-color);\n",
              "    height: 32px;\n",
              "    padding: 0;\n",
              "    width: 32px;\n",
              "  }\n",
              "\n",
              "  .colab-df-quickchart:hover {\n",
              "    background-color: var(--hover-bg-color);\n",
              "    box-shadow: 0 1px 2px rgba(60, 64, 67, 0.3), 0 1px 3px 1px rgba(60, 64, 67, 0.15);\n",
              "    fill: var(--button-hover-fill-color);\n",
              "  }\n",
              "\n",
              "  .colab-df-quickchart-complete:disabled,\n",
              "  .colab-df-quickchart-complete:disabled:hover {\n",
              "    background-color: var(--disabled-bg-color);\n",
              "    fill: var(--disabled-fill-color);\n",
              "    box-shadow: none;\n",
              "  }\n",
              "\n",
              "  .colab-df-spinner {\n",
              "    border: 2px solid var(--fill-color);\n",
              "    border-color: transparent;\n",
              "    border-bottom-color: var(--fill-color);\n",
              "    animation:\n",
              "      spin 1s steps(1) infinite;\n",
              "  }\n",
              "\n",
              "  @keyframes spin {\n",
              "    0% {\n",
              "      border-color: transparent;\n",
              "      border-bottom-color: var(--fill-color);\n",
              "      border-left-color: var(--fill-color);\n",
              "    }\n",
              "    20% {\n",
              "      border-color: transparent;\n",
              "      border-left-color: var(--fill-color);\n",
              "      border-top-color: var(--fill-color);\n",
              "    }\n",
              "    30% {\n",
              "      border-color: transparent;\n",
              "      border-left-color: var(--fill-color);\n",
              "      border-top-color: var(--fill-color);\n",
              "      border-right-color: var(--fill-color);\n",
              "    }\n",
              "    40% {\n",
              "      border-color: transparent;\n",
              "      border-right-color: var(--fill-color);\n",
              "      border-top-color: var(--fill-color);\n",
              "    }\n",
              "    60% {\n",
              "      border-color: transparent;\n",
              "      border-right-color: var(--fill-color);\n",
              "    }\n",
              "    80% {\n",
              "      border-color: transparent;\n",
              "      border-right-color: var(--fill-color);\n",
              "      border-bottom-color: var(--fill-color);\n",
              "    }\n",
              "    90% {\n",
              "      border-color: transparent;\n",
              "      border-bottom-color: var(--fill-color);\n",
              "    }\n",
              "  }\n",
              "</style>\n",
              "\n",
              "  <script>\n",
              "    async function quickchart(key) {\n",
              "      const quickchartButtonEl =\n",
              "        document.querySelector('#' + key + ' button');\n",
              "      quickchartButtonEl.disabled = true;  // To prevent multiple clicks.\n",
              "      quickchartButtonEl.classList.add('colab-df-spinner');\n",
              "      try {\n",
              "        const charts = await google.colab.kernel.invokeFunction(\n",
              "            'suggestCharts', [key], {});\n",
              "      } catch (error) {\n",
              "        console.error('Error during call to suggestCharts:', error);\n",
              "      }\n",
              "      quickchartButtonEl.classList.remove('colab-df-spinner');\n",
              "      quickchartButtonEl.classList.add('colab-df-quickchart-complete');\n",
              "    }\n",
              "    (() => {\n",
              "      let quickchartButtonEl =\n",
              "        document.querySelector('#df-3fc40b78-09a7-49f0-95bf-3639ba67efb8 button');\n",
              "      quickchartButtonEl.style.display =\n",
              "        google.colab.kernel.accessAllowed ? 'block' : 'none';\n",
              "    })();\n",
              "  </script>\n",
              "</div>\n",
              "    </div>\n",
              "  </div>\n"
            ]
          },
          "metadata": {},
          "execution_count": 15
        }
      ],
      "source": [
        "cleaned_df.describe()"
      ]
    },
    {
      "cell_type": "code",
      "execution_count": null,
      "metadata": {
        "colab": {
          "base_uri": "https://localhost:8080/"
        },
        "id": "NoN8H-6h5OPb",
        "outputId": "7d5f312c-b2be-4fdd-dc53-a630317c398a"
      },
      "outputs": [
        {
          "output_type": "stream",
          "name": "stdout",
          "text": [
            "<class 'pandas.core.frame.DataFrame'>\n",
            "Int64Index: 12466618 entries, 0 to 26011966\n",
            "Data columns (total 6 columns):\n",
            " #   Column            Dtype \n",
            "---  ------            ----- \n",
            " 0   state             object\n",
            " 1   event_start_tz    object\n",
            " 2   duration_seconds  int64 \n",
            " 3   content_type      object\n",
            " 4   content           object\n",
            " 5   content_source    object\n",
            "dtypes: int64(1), object(5)\n",
            "memory usage: 665.8+ MB\n"
          ]
        }
      ],
      "source": [
        "cleaned_df.info()"
      ]
    },
    {
      "cell_type": "code",
      "execution_count": null,
      "metadata": {
        "id": "4mLhRST5F8sg"
      },
      "outputs": [],
      "source": [
        "uniq_states = cleaned_df['state'].value_counts()"
      ]
    },
    {
      "cell_type": "markdown",
      "metadata": {
        "id": "jvJ1dLZlH1R9"
      },
      "source": [
        "### List of distinct states"
      ]
    },
    {
      "cell_type": "code",
      "execution_count": null,
      "metadata": {
        "colab": {
          "base_uri": "https://localhost:8080/"
        },
        "id": "-9q0_VrpHQPD",
        "outputId": "1a5c97cd-a7bd-4c11-a12f-136de6e00fc0"
      },
      "outputs": [
        {
          "output_type": "execute_result",
          "data": {
            "text/plain": [
              "Kuala Lumpur                  6878719\n",
              "Selangor                      2634243\n",
              "Penang                         751319\n",
              "Johor                          722522\n",
              "Perak                          404518\n",
              "Sarawak                        228747\n",
              "Negeri Sembilan                219438\n",
              "Sabah                          208386\n",
              "Melaka                         119456\n",
              "Kedah                           94178\n",
              "Kelantan                        62062\n",
              "Pahang                          52238\n",
              "UNKNOWN                         48884\n",
              "Terengganu                      31681\n",
              "Putrajaya                        7271\n",
              "Perlis                           1869\n",
              "Karnataka                         379\n",
              "Labuan                            370\n",
              "ERROR                             169\n",
              "Maharashtra                       129\n",
              "Seoul                              10\n",
              "Uttar Pradesh                       6\n",
              "Occitanie                           5\n",
              "England                             5\n",
              "Victoria                            3\n",
              "Jerusalem                           3\n",
              "Tamil Nadu                          2\n",
              "Lesser Poland                       2\n",
              "Zurich                              2\n",
              "Taoyuan                             1\n",
              "Departamento de Cochabamba          1\n",
              "Name: state, dtype: int64"
            ]
          },
          "metadata": {},
          "execution_count": 18
        }
      ],
      "source": [
        "uniq_states\n"
      ]
    },
    {
      "cell_type": "markdown",
      "metadata": {
        "id": "wGdV3EHGRmSc"
      },
      "source": [
        "# List of actual Malaysian states plus federal territories"
      ]
    },
    {
      "cell_type": "code",
      "execution_count": null,
      "metadata": {
        "id": "Ki29hypARk7h"
      },
      "outputs": [],
      "source": [
        "states_list = [\"Perlis\", \"Kedah\", \"Penang\", \"Perak\", \"Selangor\", \"Negeri Sembilan\",\n",
        "               \"Melaka\", \"Johor\", \"Kelantan\", \"Terengganu\", \"Pahang\", \"Kuala Lumpur\", \"Putrajaya\", \"Sabah\", \"Sarawak\", \"Labuan\" ]"
      ]
    },
    {
      "cell_type": "code",
      "execution_count": null,
      "metadata": {
        "colab": {
          "base_uri": "https://localhost:8080/"
        },
        "id": "ElYSPrhMSCXW",
        "outputId": "28f18886-e3b5-4e6b-ca59-30af806d3762"
      },
      "outputs": [
        {
          "output_type": "execute_result",
          "data": {
            "text/plain": [
              "16"
            ]
          },
          "metadata": {},
          "execution_count": 20
        }
      ],
      "source": [
        "len(states_list)"
      ]
    },
    {
      "cell_type": "markdown",
      "metadata": {
        "id": "k9-mOQ0cV8Ws"
      },
      "source": [
        "# filtering duplicate state if any"
      ]
    },
    {
      "cell_type": "code",
      "execution_count": null,
      "metadata": {
        "id": "HJfNq2xhSLrz"
      },
      "outputs": [],
      "source": [
        "states_list = list(set(states_list))"
      ]
    },
    {
      "cell_type": "code",
      "execution_count": null,
      "metadata": {
        "colab": {
          "base_uri": "https://localhost:8080/"
        },
        "id": "MI7qOKReVrs2",
        "outputId": "79d9988a-8ba0-43f9-8656-be617721541b"
      },
      "outputs": [
        {
          "output_type": "stream",
          "name": "stdout",
          "text": [
            "Kuala Lumpur\n",
            "Pahang\n",
            "Terengganu\n",
            "Melaka\n",
            "Putrajaya\n",
            "Sabah\n",
            "Perlis\n",
            "Negeri Sembilan\n",
            "Labuan\n",
            "Kelantan\n",
            "Johor\n",
            "Sarawak\n",
            "Penang\n",
            "Kedah\n",
            "Selangor\n",
            "Perak\n"
          ]
        }
      ],
      "source": [
        "for state in states_list:\n",
        "  print(state)"
      ]
    },
    {
      "cell_type": "code",
      "execution_count": null,
      "metadata": {
        "colab": {
          "base_uri": "https://localhost:8080/"
        },
        "id": "2CauLjhYVyxe",
        "outputId": "689d07c1-6fc4-4c4c-b5cc-3545ecef3644"
      },
      "outputs": [
        {
          "output_type": "execute_result",
          "data": {
            "text/plain": [
              "16"
            ]
          },
          "metadata": {},
          "execution_count": 23
        }
      ],
      "source": [
        "len(states_list)"
      ]
    },
    {
      "cell_type": "code",
      "execution_count": null,
      "metadata": {
        "id": "K9qEwpAyIWdm"
      },
      "outputs": [],
      "source": [
        "org_distinct_states = main_df['state'].value_counts()"
      ]
    },
    {
      "cell_type": "code",
      "execution_count": null,
      "metadata": {
        "colab": {
          "base_uri": "https://localhost:8080/"
        },
        "id": "KQQK69_8IZR5",
        "outputId": "8d9e505b-2f33-4298-db47-dfa038d0b589"
      },
      "outputs": [
        {
          "output_type": "execute_result",
          "data": {
            "text/plain": [
              "31"
            ]
          },
          "metadata": {},
          "execution_count": 27
        }
      ],
      "source": [
        "org_distinct_states.count()"
      ]
    },
    {
      "cell_type": "markdown",
      "metadata": {
        "id": "ev55vYNd4JvD"
      },
      "source": [
        "# Filtering  non Malaysian states"
      ]
    },
    {
      "cell_type": "code",
      "execution_count": null,
      "metadata": {
        "id": "fKyLM5nH4I41"
      },
      "outputs": [],
      "source": [
        "cleaned_df = cleaned_df[cleaned_df['state'].isin(states_list)]"
      ]
    },
    {
      "cell_type": "code",
      "execution_count": null,
      "metadata": {
        "colab": {
          "base_uri": "https://localhost:8080/"
        },
        "id": "u_fJiQhKc00l",
        "outputId": "49456465-2392-4cdb-8a0f-5c844953965c"
      },
      "outputs": [
        {
          "output_type": "execute_result",
          "data": {
            "text/plain": [
              "pandas.core.series.Series"
            ]
          },
          "metadata": {},
          "execution_count": 29
        }
      ],
      "source": [
        "type(cleaned_df['state'].isin(states_list))"
      ]
    },
    {
      "cell_type": "code",
      "execution_count": null,
      "metadata": {
        "id": "NGVf6l4JGMBz"
      },
      "outputs": [],
      "source": [
        "cleaned_df_states = cleaned_df['state'].value_counts()"
      ]
    },
    {
      "cell_type": "code",
      "execution_count": null,
      "metadata": {
        "colab": {
          "base_uri": "https://localhost:8080/"
        },
        "id": "zUFTlTuZPw9n",
        "outputId": "aa4308b6-4078-45a2-d211-9bc22994fff6"
      },
      "outputs": [
        {
          "output_type": "execute_result",
          "data": {
            "text/plain": [
              "Kuala Lumpur       6878719\n",
              "Selangor           2634243\n",
              "Penang              751319\n",
              "Johor               722522\n",
              "Perak               404518\n",
              "Sarawak             228747\n",
              "Negeri Sembilan     219438\n",
              "Sabah               208386\n",
              "Melaka              119456\n",
              "Kedah                94178\n",
              "Kelantan             62062\n",
              "Pahang               52238\n",
              "Terengganu           31681\n",
              "Putrajaya             7271\n",
              "Perlis                1869\n",
              "Labuan                 370\n",
              "Name: state, dtype: int64"
            ]
          },
          "metadata": {},
          "execution_count": 31
        }
      ],
      "source": [
        "cleaned_df_states"
      ]
    },
    {
      "cell_type": "code",
      "execution_count": null,
      "metadata": {
        "colab": {
          "base_uri": "https://localhost:8080/"
        },
        "id": "RZAnyt9wKz3N",
        "outputId": "73f518a4-4b03-4c94-caa3-fa2936614ad5"
      },
      "outputs": [
        {
          "output_type": "execute_result",
          "data": {
            "text/plain": [
              "pandas.core.series.Series"
            ]
          },
          "metadata": {},
          "execution_count": 32
        }
      ],
      "source": [
        "type(cleaned_df_states)"
      ]
    },
    {
      "cell_type": "code",
      "execution_count": null,
      "metadata": {
        "colab": {
          "base_uri": "https://localhost:8080/"
        },
        "id": "zY_bpIYAP3R8",
        "outputId": "84b572bc-10ed-4f2c-a795-7a35a5a2b9c4"
      },
      "outputs": [
        {
          "output_type": "execute_result",
          "data": {
            "text/plain": [
              "12417017"
            ]
          },
          "metadata": {},
          "execution_count": 33
        }
      ],
      "source": [
        "cleaned_df_states.sum()"
      ]
    },
    {
      "cell_type": "code",
      "execution_count": null,
      "metadata": {
        "colab": {
          "base_uri": "https://localhost:8080/"
        },
        "id": "hGzaC8mMPTfD",
        "outputId": "3c0f8ecd-4878-4926-834e-d75677a8f414"
      },
      "outputs": [
        {
          "output_type": "execute_result",
          "data": {
            "text/plain": [
              "16"
            ]
          },
          "metadata": {},
          "execution_count": 34
        }
      ],
      "source": [
        "cleaned_df_states.count()"
      ]
    },
    {
      "cell_type": "markdown",
      "metadata": {
        "id": "CSDs_8xmPc7x"
      },
      "source": [
        "### hence the **final version of cleaned_df** contains list of only 16 states which is actual no of states in malaysia"
      ]
    },
    {
      "cell_type": "code",
      "execution_count": null,
      "metadata": {
        "colab": {
          "base_uri": "https://localhost:8080/"
        },
        "id": "vrFHO04G4QXJ",
        "outputId": "0186abab-11a0-49b9-c1f7-c944f184dcb9"
      },
      "outputs": [
        {
          "output_type": "execute_result",
          "data": {
            "text/plain": [
              "(12417017, 6)"
            ]
          },
          "metadata": {},
          "execution_count": 35
        }
      ],
      "source": [
        "cleaned_df.shape"
      ]
    },
    {
      "cell_type": "markdown",
      "metadata": {
        "id": "cpLGB6LM7pPt"
      },
      "source": [
        "## Till here we have a final version of cleaned dataframe"
      ]
    },
    {
      "cell_type": "markdown",
      "metadata": {
        "id": "FQUR2weZOOr1"
      },
      "source": [
        "# Now scaling down the dataset"
      ]
    },
    {
      "cell_type": "code",
      "execution_count": null,
      "metadata": {
        "id": "M14eHjDwOTBO"
      },
      "outputs": [],
      "source": [
        "sample_size = int(cleaned_df.shape[0] * 0.4)"
      ]
    },
    {
      "cell_type": "code",
      "execution_count": null,
      "metadata": {
        "colab": {
          "base_uri": "https://localhost:8080/"
        },
        "id": "dE6l4g3NYzVS",
        "outputId": "db54854d-b44a-4a51-d2c3-999426e4b347"
      },
      "outputs": [
        {
          "output_type": "execute_result",
          "data": {
            "text/plain": [
              "4966806"
            ]
          },
          "metadata": {},
          "execution_count": 37
        }
      ],
      "source": [
        "sample_size"
      ]
    },
    {
      "cell_type": "code",
      "execution_count": null,
      "metadata": {
        "id": "-TlM3buoY7ti"
      },
      "outputs": [],
      "source": [
        "sampled_df = cleaned_df.sample(n=sample_size, random_state=42)"
      ]
    },
    {
      "cell_type": "markdown",
      "metadata": {
        "id": "WsHdJGXzbgQs"
      },
      "source": [
        "# Now we consider only those records whose watch duration is non-zero"
      ]
    },
    {
      "cell_type": "code",
      "execution_count": null,
      "metadata": {
        "id": "5axUoPVXZijV"
      },
      "outputs": [],
      "source": [
        "nz_duartion_df = sampled_df[sampled_df[\"duration_seconds\"] !=0]"
      ]
    },
    {
      "cell_type": "code",
      "execution_count": null,
      "metadata": {
        "colab": {
          "base_uri": "https://localhost:8080/",
          "height": 423
        },
        "id": "w69Jmx9qdEct",
        "outputId": "a0775290-0e14-48d8-ccab-030af3d6efb1"
      },
      "outputs": [
        {
          "output_type": "execute_result",
          "data": {
            "text/plain": [
              "                 state                          event_start_tz  \\\n",
              "14622656      Selangor  2023-08-28 19:37:11.438 Asia/Singapore   \n",
              "24953294  Kuala Lumpur  2023-08-29 00:54:11.028 Asia/Singapore   \n",
              "12353742      Selangor  2023-08-28 00:55:21.046 Asia/Singapore   \n",
              "4993584       Selangor  2023-08-27 14:08:21.937 Asia/Singapore   \n",
              "20949672         Johor  2023-08-28 13:51:03.669 Asia/Singapore   \n",
              "...                ...                                     ...   \n",
              "21510289      Selangor  2023-08-28 21:41:16.559 Asia/Singapore   \n",
              "13690390  Kuala Lumpur  2023-08-28 01:48:37.945 Asia/Singapore   \n",
              "19056004  Kuala Lumpur  2023-08-28 17:35:44.997 Asia/Singapore   \n",
              "20244015      Selangor  2023-08-28 22:16:24.330 Asia/Singapore   \n",
              "21151475      Selangor  2023-08-28 12:07:07.003 Asia/Singapore   \n",
              "\n",
              "          duration_seconds     content_type                         content  \\\n",
              "14622656               119              VOD     Lagu Didi & Friends S3 Ep31   \n",
              "24953294               378              VOD             Upin & Ipin S5 Ep06   \n",
              "12353742              1949           LINEAR  (L) PL: Newcastle vs Liverpool   \n",
              "4993584                 87           LINEAR        A Pillow Case of Mystery   \n",
              "20949672               128              VOD     Lagu Didi & Friends S2 Ep08   \n",
              "...                    ...              ...                             ...   \n",
              "21510289                 4  Play From Start                       Majalah 3   \n",
              "13690390              2216              VOD      Jangan Menangis Cinta Ep18   \n",
              "19056004                49           LINEAR  Arsenal TV : Arsenal Vs Fulham   \n",
              "20244015                66              VOD         Where's Chicky? S2 Ep14   \n",
              "21151475                 3       Live Pause                     Berita 7:57   \n",
              "\n",
              "          content_source  \n",
              "14622656       astro.30d  \n",
              "24953294       astro.30d  \n",
              "12353742        ASSP3 HD  \n",
              "4993584   TVB CLASSIC HD  \n",
              "20949672       astro.30d  \n",
              "...                  ...  \n",
              "21510289             TV3  \n",
              "13690390       astro.30d  \n",
              "19056004     beIN SPORTS  \n",
              "20244015        astro.7d  \n",
              "21151475      Awesome TV  \n",
              "\n",
              "[4378496 rows x 6 columns]"
            ],
            "text/html": [
              "\n",
              "  <div id=\"df-efd7873c-d235-460c-8b50-f4710fa73178\" class=\"colab-df-container\">\n",
              "    <div>\n",
              "<style scoped>\n",
              "    .dataframe tbody tr th:only-of-type {\n",
              "        vertical-align: middle;\n",
              "    }\n",
              "\n",
              "    .dataframe tbody tr th {\n",
              "        vertical-align: top;\n",
              "    }\n",
              "\n",
              "    .dataframe thead th {\n",
              "        text-align: right;\n",
              "    }\n",
              "</style>\n",
              "<table border=\"1\" class=\"dataframe\">\n",
              "  <thead>\n",
              "    <tr style=\"text-align: right;\">\n",
              "      <th></th>\n",
              "      <th>state</th>\n",
              "      <th>event_start_tz</th>\n",
              "      <th>duration_seconds</th>\n",
              "      <th>content_type</th>\n",
              "      <th>content</th>\n",
              "      <th>content_source</th>\n",
              "    </tr>\n",
              "  </thead>\n",
              "  <tbody>\n",
              "    <tr>\n",
              "      <th>14622656</th>\n",
              "      <td>Selangor</td>\n",
              "      <td>2023-08-28 19:37:11.438 Asia/Singapore</td>\n",
              "      <td>119</td>\n",
              "      <td>VOD</td>\n",
              "      <td>Lagu Didi &amp; Friends S3 Ep31</td>\n",
              "      <td>astro.30d</td>\n",
              "    </tr>\n",
              "    <tr>\n",
              "      <th>24953294</th>\n",
              "      <td>Kuala Lumpur</td>\n",
              "      <td>2023-08-29 00:54:11.028 Asia/Singapore</td>\n",
              "      <td>378</td>\n",
              "      <td>VOD</td>\n",
              "      <td>Upin &amp; Ipin S5 Ep06</td>\n",
              "      <td>astro.30d</td>\n",
              "    </tr>\n",
              "    <tr>\n",
              "      <th>12353742</th>\n",
              "      <td>Selangor</td>\n",
              "      <td>2023-08-28 00:55:21.046 Asia/Singapore</td>\n",
              "      <td>1949</td>\n",
              "      <td>LINEAR</td>\n",
              "      <td>(L) PL: Newcastle vs Liverpool</td>\n",
              "      <td>ASSP3 HD</td>\n",
              "    </tr>\n",
              "    <tr>\n",
              "      <th>4993584</th>\n",
              "      <td>Selangor</td>\n",
              "      <td>2023-08-27 14:08:21.937 Asia/Singapore</td>\n",
              "      <td>87</td>\n",
              "      <td>LINEAR</td>\n",
              "      <td>A Pillow Case of Mystery</td>\n",
              "      <td>TVB CLASSIC HD</td>\n",
              "    </tr>\n",
              "    <tr>\n",
              "      <th>20949672</th>\n",
              "      <td>Johor</td>\n",
              "      <td>2023-08-28 13:51:03.669 Asia/Singapore</td>\n",
              "      <td>128</td>\n",
              "      <td>VOD</td>\n",
              "      <td>Lagu Didi &amp; Friends S2 Ep08</td>\n",
              "      <td>astro.30d</td>\n",
              "    </tr>\n",
              "    <tr>\n",
              "      <th>...</th>\n",
              "      <td>...</td>\n",
              "      <td>...</td>\n",
              "      <td>...</td>\n",
              "      <td>...</td>\n",
              "      <td>...</td>\n",
              "      <td>...</td>\n",
              "    </tr>\n",
              "    <tr>\n",
              "      <th>21510289</th>\n",
              "      <td>Selangor</td>\n",
              "      <td>2023-08-28 21:41:16.559 Asia/Singapore</td>\n",
              "      <td>4</td>\n",
              "      <td>Play From Start</td>\n",
              "      <td>Majalah 3</td>\n",
              "      <td>TV3</td>\n",
              "    </tr>\n",
              "    <tr>\n",
              "      <th>13690390</th>\n",
              "      <td>Kuala Lumpur</td>\n",
              "      <td>2023-08-28 01:48:37.945 Asia/Singapore</td>\n",
              "      <td>2216</td>\n",
              "      <td>VOD</td>\n",
              "      <td>Jangan Menangis Cinta Ep18</td>\n",
              "      <td>astro.30d</td>\n",
              "    </tr>\n",
              "    <tr>\n",
              "      <th>19056004</th>\n",
              "      <td>Kuala Lumpur</td>\n",
              "      <td>2023-08-28 17:35:44.997 Asia/Singapore</td>\n",
              "      <td>49</td>\n",
              "      <td>LINEAR</td>\n",
              "      <td>Arsenal TV : Arsenal Vs Fulham</td>\n",
              "      <td>beIN SPORTS</td>\n",
              "    </tr>\n",
              "    <tr>\n",
              "      <th>20244015</th>\n",
              "      <td>Selangor</td>\n",
              "      <td>2023-08-28 22:16:24.330 Asia/Singapore</td>\n",
              "      <td>66</td>\n",
              "      <td>VOD</td>\n",
              "      <td>Where's Chicky? S2 Ep14</td>\n",
              "      <td>astro.7d</td>\n",
              "    </tr>\n",
              "    <tr>\n",
              "      <th>21151475</th>\n",
              "      <td>Selangor</td>\n",
              "      <td>2023-08-28 12:07:07.003 Asia/Singapore</td>\n",
              "      <td>3</td>\n",
              "      <td>Live Pause</td>\n",
              "      <td>Berita 7:57</td>\n",
              "      <td>Awesome TV</td>\n",
              "    </tr>\n",
              "  </tbody>\n",
              "</table>\n",
              "<p>4378496 rows × 6 columns</p>\n",
              "</div>\n",
              "    <div class=\"colab-df-buttons\">\n",
              "\n",
              "  <div class=\"colab-df-container\">\n",
              "    <button class=\"colab-df-convert\" onclick=\"convertToInteractive('df-efd7873c-d235-460c-8b50-f4710fa73178')\"\n",
              "            title=\"Convert this dataframe to an interactive table.\"\n",
              "            style=\"display:none;\">\n",
              "\n",
              "  <svg xmlns=\"http://www.w3.org/2000/svg\" height=\"24px\" viewBox=\"0 -960 960 960\">\n",
              "    <path d=\"M120-120v-720h720v720H120Zm60-500h600v-160H180v160Zm220 220h160v-160H400v160Zm0 220h160v-160H400v160ZM180-400h160v-160H180v160Zm440 0h160v-160H620v160ZM180-180h160v-160H180v160Zm440 0h160v-160H620v160Z\"/>\n",
              "  </svg>\n",
              "    </button>\n",
              "\n",
              "  <style>\n",
              "    .colab-df-container {\n",
              "      display:flex;\n",
              "      gap: 12px;\n",
              "    }\n",
              "\n",
              "    .colab-df-convert {\n",
              "      background-color: #E8F0FE;\n",
              "      border: none;\n",
              "      border-radius: 50%;\n",
              "      cursor: pointer;\n",
              "      display: none;\n",
              "      fill: #1967D2;\n",
              "      height: 32px;\n",
              "      padding: 0 0 0 0;\n",
              "      width: 32px;\n",
              "    }\n",
              "\n",
              "    .colab-df-convert:hover {\n",
              "      background-color: #E2EBFA;\n",
              "      box-shadow: 0px 1px 2px rgba(60, 64, 67, 0.3), 0px 1px 3px 1px rgba(60, 64, 67, 0.15);\n",
              "      fill: #174EA6;\n",
              "    }\n",
              "\n",
              "    .colab-df-buttons div {\n",
              "      margin-bottom: 4px;\n",
              "    }\n",
              "\n",
              "    [theme=dark] .colab-df-convert {\n",
              "      background-color: #3B4455;\n",
              "      fill: #D2E3FC;\n",
              "    }\n",
              "\n",
              "    [theme=dark] .colab-df-convert:hover {\n",
              "      background-color: #434B5C;\n",
              "      box-shadow: 0px 1px 3px 1px rgba(0, 0, 0, 0.15);\n",
              "      filter: drop-shadow(0px 1px 2px rgba(0, 0, 0, 0.3));\n",
              "      fill: #FFFFFF;\n",
              "    }\n",
              "  </style>\n",
              "\n",
              "    <script>\n",
              "      const buttonEl =\n",
              "        document.querySelector('#df-efd7873c-d235-460c-8b50-f4710fa73178 button.colab-df-convert');\n",
              "      buttonEl.style.display =\n",
              "        google.colab.kernel.accessAllowed ? 'block' : 'none';\n",
              "\n",
              "      async function convertToInteractive(key) {\n",
              "        const element = document.querySelector('#df-efd7873c-d235-460c-8b50-f4710fa73178');\n",
              "        const dataTable =\n",
              "          await google.colab.kernel.invokeFunction('convertToInteractive',\n",
              "                                                    [key], {});\n",
              "        if (!dataTable) return;\n",
              "\n",
              "        const docLinkHtml = 'Like what you see? Visit the ' +\n",
              "          '<a target=\"_blank\" href=https://colab.research.google.com/notebooks/data_table.ipynb>data table notebook</a>'\n",
              "          + ' to learn more about interactive tables.';\n",
              "        element.innerHTML = '';\n",
              "        dataTable['output_type'] = 'display_data';\n",
              "        await google.colab.output.renderOutput(dataTable, element);\n",
              "        const docLink = document.createElement('div');\n",
              "        docLink.innerHTML = docLinkHtml;\n",
              "        element.appendChild(docLink);\n",
              "      }\n",
              "    </script>\n",
              "  </div>\n",
              "\n",
              "\n",
              "<div id=\"df-958f2b41-f341-43ef-8128-fe579c0645a9\">\n",
              "  <button class=\"colab-df-quickchart\" onclick=\"quickchart('df-958f2b41-f341-43ef-8128-fe579c0645a9')\"\n",
              "            title=\"Suggest charts.\"\n",
              "            style=\"display:none;\">\n",
              "\n",
              "<svg xmlns=\"http://www.w3.org/2000/svg\" height=\"24px\"viewBox=\"0 0 24 24\"\n",
              "     width=\"24px\">\n",
              "    <g>\n",
              "        <path d=\"M19 3H5c-1.1 0-2 .9-2 2v14c0 1.1.9 2 2 2h14c1.1 0 2-.9 2-2V5c0-1.1-.9-2-2-2zM9 17H7v-7h2v7zm4 0h-2V7h2v10zm4 0h-2v-4h2v4z\"/>\n",
              "    </g>\n",
              "</svg>\n",
              "  </button>\n",
              "\n",
              "<style>\n",
              "  .colab-df-quickchart {\n",
              "      --bg-color: #E8F0FE;\n",
              "      --fill-color: #1967D2;\n",
              "      --hover-bg-color: #E2EBFA;\n",
              "      --hover-fill-color: #174EA6;\n",
              "      --disabled-fill-color: #AAA;\n",
              "      --disabled-bg-color: #DDD;\n",
              "  }\n",
              "\n",
              "  [theme=dark] .colab-df-quickchart {\n",
              "      --bg-color: #3B4455;\n",
              "      --fill-color: #D2E3FC;\n",
              "      --hover-bg-color: #434B5C;\n",
              "      --hover-fill-color: #FFFFFF;\n",
              "      --disabled-bg-color: #3B4455;\n",
              "      --disabled-fill-color: #666;\n",
              "  }\n",
              "\n",
              "  .colab-df-quickchart {\n",
              "    background-color: var(--bg-color);\n",
              "    border: none;\n",
              "    border-radius: 50%;\n",
              "    cursor: pointer;\n",
              "    display: none;\n",
              "    fill: var(--fill-color);\n",
              "    height: 32px;\n",
              "    padding: 0;\n",
              "    width: 32px;\n",
              "  }\n",
              "\n",
              "  .colab-df-quickchart:hover {\n",
              "    background-color: var(--hover-bg-color);\n",
              "    box-shadow: 0 1px 2px rgba(60, 64, 67, 0.3), 0 1px 3px 1px rgba(60, 64, 67, 0.15);\n",
              "    fill: var(--button-hover-fill-color);\n",
              "  }\n",
              "\n",
              "  .colab-df-quickchart-complete:disabled,\n",
              "  .colab-df-quickchart-complete:disabled:hover {\n",
              "    background-color: var(--disabled-bg-color);\n",
              "    fill: var(--disabled-fill-color);\n",
              "    box-shadow: none;\n",
              "  }\n",
              "\n",
              "  .colab-df-spinner {\n",
              "    border: 2px solid var(--fill-color);\n",
              "    border-color: transparent;\n",
              "    border-bottom-color: var(--fill-color);\n",
              "    animation:\n",
              "      spin 1s steps(1) infinite;\n",
              "  }\n",
              "\n",
              "  @keyframes spin {\n",
              "    0% {\n",
              "      border-color: transparent;\n",
              "      border-bottom-color: var(--fill-color);\n",
              "      border-left-color: var(--fill-color);\n",
              "    }\n",
              "    20% {\n",
              "      border-color: transparent;\n",
              "      border-left-color: var(--fill-color);\n",
              "      border-top-color: var(--fill-color);\n",
              "    }\n",
              "    30% {\n",
              "      border-color: transparent;\n",
              "      border-left-color: var(--fill-color);\n",
              "      border-top-color: var(--fill-color);\n",
              "      border-right-color: var(--fill-color);\n",
              "    }\n",
              "    40% {\n",
              "      border-color: transparent;\n",
              "      border-right-color: var(--fill-color);\n",
              "      border-top-color: var(--fill-color);\n",
              "    }\n",
              "    60% {\n",
              "      border-color: transparent;\n",
              "      border-right-color: var(--fill-color);\n",
              "    }\n",
              "    80% {\n",
              "      border-color: transparent;\n",
              "      border-right-color: var(--fill-color);\n",
              "      border-bottom-color: var(--fill-color);\n",
              "    }\n",
              "    90% {\n",
              "      border-color: transparent;\n",
              "      border-bottom-color: var(--fill-color);\n",
              "    }\n",
              "  }\n",
              "</style>\n",
              "\n",
              "  <script>\n",
              "    async function quickchart(key) {\n",
              "      const quickchartButtonEl =\n",
              "        document.querySelector('#' + key + ' button');\n",
              "      quickchartButtonEl.disabled = true;  // To prevent multiple clicks.\n",
              "      quickchartButtonEl.classList.add('colab-df-spinner');\n",
              "      try {\n",
              "        const charts = await google.colab.kernel.invokeFunction(\n",
              "            'suggestCharts', [key], {});\n",
              "      } catch (error) {\n",
              "        console.error('Error during call to suggestCharts:', error);\n",
              "      }\n",
              "      quickchartButtonEl.classList.remove('colab-df-spinner');\n",
              "      quickchartButtonEl.classList.add('colab-df-quickchart-complete');\n",
              "    }\n",
              "    (() => {\n",
              "      let quickchartButtonEl =\n",
              "        document.querySelector('#df-958f2b41-f341-43ef-8128-fe579c0645a9 button');\n",
              "      quickchartButtonEl.style.display =\n",
              "        google.colab.kernel.accessAllowed ? 'block' : 'none';\n",
              "    })();\n",
              "  </script>\n",
              "</div>\n",
              "    </div>\n",
              "  </div>\n"
            ]
          },
          "metadata": {},
          "execution_count": 40
        }
      ],
      "source": [
        "nz_duartion_df"
      ]
    },
    {
      "cell_type": "code",
      "execution_count": null,
      "metadata": {
        "colab": {
          "base_uri": "https://localhost:8080/"
        },
        "id": "2tLoFjX-hXqj",
        "outputId": "250d5407-82f0-4042-9470-c0d830b0e7f7"
      },
      "outputs": [
        {
          "output_type": "execute_result",
          "data": {
            "text/plain": [
              "(4378496, 6)"
            ]
          },
          "metadata": {},
          "execution_count": 41
        }
      ],
      "source": [
        "nz_duartion_df.shape"
      ]
    },
    {
      "cell_type": "code",
      "execution_count": null,
      "metadata": {
        "colab": {
          "base_uri": "https://localhost:8080/"
        },
        "id": "xFnWSaI9hh71",
        "outputId": "e1b81459-c80f-413e-9a5b-24713eb42979"
      },
      "outputs": [
        {
          "output_type": "execute_result",
          "data": {
            "text/plain": [
              "16.832621692930797"
            ]
          },
          "metadata": {},
          "execution_count": 42
        }
      ],
      "source": [
        "(nz_duartion_df.shape[0] / main_df.shape[0]) * 100"
      ]
    },
    {
      "cell_type": "code",
      "execution_count": null,
      "metadata": {
        "colab": {
          "base_uri": "https://localhost:8080/"
        },
        "id": "tv9MvjJHgxzZ",
        "outputId": "972e7a66-282d-4bb7-c459-dbded973ec44"
      },
      "outputs": [
        {
          "output_type": "execute_result",
          "data": {
            "text/plain": [
              "Kuala Lumpur       2752122\n",
              "Selangor           1052497\n",
              "Penang              301065\n",
              "Johor               289287\n",
              "Perak               161315\n",
              "Sarawak              91277\n",
              "Negeri Sembilan      87627\n",
              "Sabah                83336\n",
              "Melaka               47890\n",
              "Kedah                37831\n",
              "Kelantan             24785\n",
              "Pahang               21128\n",
              "Terengganu           12850\n",
              "Putrajaya             2883\n",
              "Perlis                 755\n",
              "Labuan                 158\n",
              "Name: state, dtype: int64"
            ]
          },
          "metadata": {},
          "execution_count": 43
        }
      ],
      "source": [
        "sampled_df[\"state\"].value_counts()"
      ]
    },
    {
      "cell_type": "code",
      "execution_count": null,
      "metadata": {
        "colab": {
          "base_uri": "https://localhost:8080/"
        },
        "id": "YsHu-6RCbIQ-",
        "outputId": "910e0d06-e9de-44ba-b01d-344000a384e3"
      },
      "outputs": [
        {
          "output_type": "execute_result",
          "data": {
            "text/plain": [
              "Kuala Lumpur       2439745\n",
              "Selangor            927057\n",
              "Penang              263188\n",
              "Johor               254033\n",
              "Perak               138457\n",
              "Sarawak              81245\n",
              "Negeri Sembilan      75902\n",
              "Sabah                72932\n",
              "Melaka               41072\n",
              "Kedah                31033\n",
              "Kelantan             21524\n",
              "Pahang               18232\n",
              "Terengganu           10718\n",
              "Putrajaya             2525\n",
              "Perlis                 706\n",
              "Labuan                 127\n",
              "Name: state, dtype: int64"
            ]
          },
          "metadata": {},
          "execution_count": 44
        }
      ],
      "source": [
        "nz_duartion_df[\"state\"].value_counts()"
      ]
    },
    {
      "cell_type": "code",
      "execution_count": null,
      "metadata": {
        "id": "PG45pJEpZOyO"
      },
      "outputs": [],
      "source": [
        "states_series = nz_duartion_df[\"state\"].value_counts()"
      ]
    },
    {
      "cell_type": "code",
      "execution_count": null,
      "metadata": {
        "colab": {
          "base_uri": "https://localhost:8080/"
        },
        "id": "V-yQy9h2aYI9",
        "outputId": "b38b7275-e7e1-4b6b-fc41-e5e23d679ab6"
      },
      "outputs": [
        {
          "output_type": "execute_result",
          "data": {
            "text/plain": [
              "Kuala Lumpur       2439745\n",
              "Selangor            927057\n",
              "Penang              263188\n",
              "Johor               254033\n",
              "Perak               138457\n",
              "Sarawak              81245\n",
              "Negeri Sembilan      75902\n",
              "Sabah                72932\n",
              "Melaka               41072\n",
              "Kedah                31033\n",
              "Kelantan             21524\n",
              "Pahang               18232\n",
              "Terengganu           10718\n",
              "Putrajaya             2525\n",
              "Perlis                 706\n",
              "Labuan                 127\n",
              "Name: state, dtype: int64"
            ]
          },
          "metadata": {},
          "execution_count": 46
        }
      ],
      "source": [
        "states_series"
      ]
    },
    {
      "cell_type": "code",
      "source": [
        "print(len(states_series))"
      ],
      "metadata": {
        "colab": {
          "base_uri": "https://localhost:8080/"
        },
        "id": "mA8xb_45RCiD",
        "outputId": "1a235933-814f-407b-b0e6-37e6e40ee2c6"
      },
      "execution_count": 85,
      "outputs": [
        {
          "output_type": "stream",
          "name": "stdout",
          "text": [
            "16\n"
          ]
        }
      ]
    },
    {
      "cell_type": "code",
      "source": [
        "print(states_series.nunique())"
      ],
      "metadata": {
        "colab": {
          "base_uri": "https://localhost:8080/"
        },
        "id": "Xa-z7IMERIR6",
        "outputId": "5ccaabdf-f117-471f-c25f-66ab40bed81a"
      },
      "execution_count": 86,
      "outputs": [
        {
          "output_type": "stream",
          "name": "stdout",
          "text": [
            "16\n"
          ]
        }
      ]
    },
    {
      "cell_type": "code",
      "execution_count": null,
      "metadata": {
        "id": "qQwkNg49o_n0"
      },
      "outputs": [],
      "source": [
        "cumilative_frequency_of_states = states_series.sum()"
      ]
    },
    {
      "cell_type": "code",
      "execution_count": null,
      "metadata": {
        "colab": {
          "base_uri": "https://localhost:8080/"
        },
        "id": "Xrzq6MQjp2Dn",
        "outputId": "37f0a984-2288-43f1-92f9-e9e0473824bf"
      },
      "outputs": [
        {
          "output_type": "execute_result",
          "data": {
            "text/plain": [
              "4378496"
            ]
          },
          "metadata": {},
          "execution_count": 48
        }
      ],
      "source": [
        "cumilative_frequency_of_states"
      ]
    },
    {
      "cell_type": "code",
      "execution_count": null,
      "metadata": {
        "id": "WWYQBDd9ocaU"
      },
      "outputs": [],
      "source": [
        "statewise_frequency_percentages = {}\n",
        "for state in states_series.index:\n",
        "  statewise_frequency_percentages[state] = (states_series[state] / cumilative_frequency_of_states) * 100"
      ]
    },
    {
      "cell_type": "code",
      "execution_count": null,
      "metadata": {
        "colab": {
          "base_uri": "https://localhost:8080/"
        },
        "id": "9i1yHsoxo6ZZ",
        "outputId": "fab8b316-4808-49e2-de14-da9a57ce7e06"
      },
      "outputs": [
        {
          "output_type": "execute_result",
          "data": {
            "text/plain": [
              "{'Kuala Lumpur': 55.721074085713454,\n",
              " 'Selangor': 21.17295527962113,\n",
              " 'Penang': 6.010922472008653,\n",
              " 'Johor': 5.801832410033034,\n",
              " 'Perak': 3.162204556085012,\n",
              " 'Sarawak': 1.8555458312626072,\n",
              " 'Negeri Sembilan': 1.7335176279708833,\n",
              " 'Sabah': 1.6656861168766628,\n",
              " 'Melaka': 0.9380389978659339,\n",
              " 'Kedah': 0.708759354810419,\n",
              " 'Kelantan': 0.4915843248457918,\n",
              " 'Pahang': 0.41639869032654137,\n",
              " 'Terengganu': 0.24478725114742594,\n",
              " 'Putrajaya': 0.05766820387639957,\n",
              " 'Perlis': 0.01612425819276756,\n",
              " 'Labuan': 0.002900539363288216}"
            ]
          },
          "metadata": {},
          "execution_count": 50
        }
      ],
      "source": [
        "statewise_frequency_percentages"
      ]
    },
    {
      "cell_type": "markdown",
      "metadata": {
        "id": "_Ae6BpwMZ8wJ"
      },
      "source": [
        "# list of distinct content_type (content_category)\n"
      ]
    },
    {
      "cell_type": "code",
      "execution_count": null,
      "metadata": {
        "id": "-gBJxON3aDeL"
      },
      "outputs": [],
      "source": [
        "content_categories = nz_duartion_df['content_type'].value_counts()"
      ]
    },
    {
      "cell_type": "code",
      "execution_count": null,
      "metadata": {
        "colab": {
          "base_uri": "https://localhost:8080/"
        },
        "id": "ADzCNuzSenPb",
        "outputId": "a5c0c44e-224a-4acf-8987-76d58a7fffd8"
      },
      "outputs": [
        {
          "output_type": "execute_result",
          "data": {
            "text/plain": [
              "VOD                2457064\n",
              "LINEAR              874069\n",
              "CDVR                628511\n",
              "Live Pause          162493\n",
              "Play From Start     145822\n",
              "IP Switch           110537\n",
              "Name: content_type, dtype: int64"
            ]
          },
          "metadata": {},
          "execution_count": 52
        }
      ],
      "source": [
        "content_categories"
      ]
    },
    {
      "cell_type": "code",
      "source": [
        "len(content_categories)"
      ],
      "metadata": {
        "colab": {
          "base_uri": "https://localhost:8080/"
        },
        "id": "o7mSARctQaXa",
        "outputId": "55417e6c-cf52-4221-f4a5-255c99a1e9bd"
      },
      "execution_count": 83,
      "outputs": [
        {
          "output_type": "execute_result",
          "data": {
            "text/plain": [
              "6"
            ]
          },
          "metadata": {},
          "execution_count": 83
        }
      ]
    },
    {
      "cell_type": "code",
      "source": [
        "print(content_categories.nunique())"
      ],
      "metadata": {
        "colab": {
          "base_uri": "https://localhost:8080/"
        },
        "id": "rl2Rf4AOQgsm",
        "outputId": "e2adb173-8d72-4742-b1c7-58f77dd2a8bd"
      },
      "execution_count": 84,
      "outputs": [
        {
          "output_type": "stream",
          "name": "stdout",
          "text": [
            "6\n"
          ]
        }
      ]
    },
    {
      "cell_type": "code",
      "source": [
        "content_categorywise_percentages = {}\n",
        "for category in content_categories.index:\n",
        "  content_categorywise_percentages[category] = (content_categories[category] / content_categories.sum()) * 100"
      ],
      "metadata": {
        "id": "EloHGoLo_OOq"
      },
      "execution_count": null,
      "outputs": []
    },
    {
      "cell_type": "code",
      "source": [
        "content_categorywise_percentages"
      ],
      "metadata": {
        "colab": {
          "base_uri": "https://localhost:8080/"
        },
        "id": "MJSL12Y0A_sn",
        "outputId": "4e900b0e-4b69-4801-9f1b-1fcb89eba926"
      },
      "execution_count": null,
      "outputs": [
        {
          "output_type": "execute_result",
          "data": {
            "text/plain": [
              "{'VOD': 56.11662086707398,\n",
              " 'LINEAR': 19.96276803724384,\n",
              " 'CDVR': 14.354495242201889,\n",
              " 'Live Pause': 3.711160179203087,\n",
              " 'Play From Start': 3.3304130002631043,\n",
              " 'IP Switch': 2.524542674014091}"
            ]
          },
          "metadata": {},
          "execution_count": 69
        }
      ]
    },
    {
      "cell_type": "markdown",
      "metadata": {
        "id": "d4afLOO5cNYG"
      },
      "source": [
        "# list of distinct content (T.V Shows)"
      ]
    },
    {
      "cell_type": "code",
      "execution_count": 108,
      "metadata": {
        "id": "pCNAgqZ2aQXB"
      },
      "outputs": [],
      "source": [
        "content_series = nz_duartion_df['content'].value_counts()"
      ]
    },
    {
      "cell_type": "markdown",
      "metadata": {
        "id": "su98wJiOn1e0"
      },
      "source": [
        " * ***the value_counts() method will always return a pandas series with unique indexes so no need to worry about the uniqueness of index names***"
      ]
    },
    {
      "cell_type": "code",
      "execution_count": 109,
      "metadata": {
        "colab": {
          "base_uri": "https://localhost:8080/"
        },
        "id": "8E9e8S84br-l",
        "outputId": "7aeeca61-c30a-408e-ae50-1a1663d57db4"
      },
      "outputs": [
        {
          "output_type": "execute_result",
          "data": {
            "text/plain": [
              "(L) BWF World Championships: Finals     67542\n",
              "(L) PL: Newcastle vs Liverpool          64799\n",
              "(L) PL: Sheffield vs Manchester City    44282\n",
              "The Flash [Fast Premiere]               30522\n",
              "Tiktok Awards Malaysia                  30340\n",
              "                                        ...  \n",
              "DIY Science Show Ep11                       1\n",
              "Ni Chang Ep27                               1\n",
              "Enlightened S1 Ep03                         1\n",
              "Thalli Pogathey Ep44                        1\n",
              "Tong Tong's Wonderland S3 Ep10              1\n",
              "Name: content, Length: 53999, dtype: int64"
            ]
          },
          "metadata": {},
          "execution_count": 109
        }
      ],
      "source": [
        "content_series"
      ]
    },
    {
      "cell_type": "code",
      "source": [
        "nz_duartion_df.shape[0]"
      ],
      "metadata": {
        "colab": {
          "base_uri": "https://localhost:8080/"
        },
        "id": "OMAtenICZw3g",
        "outputId": "af9360f6-afcf-4f0e-b540-f9ef9f91d11e"
      },
      "execution_count": 110,
      "outputs": [
        {
          "output_type": "execute_result",
          "data": {
            "text/plain": [
              "4378496"
            ]
          },
          "metadata": {},
          "execution_count": 110
        }
      ]
    },
    {
      "cell_type": "code",
      "execution_count": 111,
      "metadata": {
        "colab": {
          "base_uri": "https://localhost:8080/"
        },
        "id": "DlchwzqtL4vp",
        "outputId": "29c331cf-f6f2-4711-b662-cba180ff06f4"
      },
      "outputs": [
        {
          "output_type": "execute_result",
          "data": {
            "text/plain": [
              "53999"
            ]
          },
          "metadata": {},
          "execution_count": 111
        }
      ],
      "source": [
        "len(content_series)"
      ]
    },
    {
      "cell_type": "code",
      "source": [
        "print(content_series.index.nunique()) # using nunique() method"
      ],
      "metadata": {
        "colab": {
          "base_uri": "https://localhost:8080/"
        },
        "id": "TUA1WLlkRWgN",
        "outputId": "180e76ef-9496-4c7f-ee09-b4c18be89243"
      },
      "execution_count": 107,
      "outputs": [
        {
          "output_type": "stream",
          "name": "stdout",
          "text": [
            "53999\n"
          ]
        }
      ]
    },
    {
      "cell_type": "code",
      "source": [
        "no_of_shows = content_series.index.nunique()"
      ],
      "metadata": {
        "id": "HVu6nzStei_j"
      },
      "execution_count": 112,
      "outputs": []
    },
    {
      "cell_type": "markdown",
      "metadata": {
        "id": "DooUYautMFl7"
      },
      "source": [
        "## There are almost 54000 distinct shows. Below is top 20\n"
      ]
    },
    {
      "cell_type": "code",
      "execution_count": null,
      "metadata": {
        "colab": {
          "base_uri": "https://localhost:8080/"
        },
        "id": "IElQpkrKKZgi",
        "outputId": "874ed7b0-d088-4d02-b745-a7f1f15ee6e6"
      },
      "outputs": [
        {
          "output_type": "execute_result",
          "data": {
            "text/plain": [
              "(L) BWF World Championships: Finals     67542\n",
              "(L) PL: Newcastle vs Liverpool          64799\n",
              "(L) PL: Sheffield vs Manchester City    44282\n",
              "The Flash [Fast Premiere]               30522\n",
              "Tiktok Awards Malaysia                  30340\n",
              "Super Singer Junior                     26377\n",
              "(L) Formula 1 Main Race 2023            23116\n",
              "FIBA: Latvia vs Lebanon                 20731\n",
              "Start Music                             18146\n",
              "Buletin Utama                           17737\n",
              "Name: content, dtype: int64"
            ]
          },
          "metadata": {},
          "execution_count": 73
        }
      ],
      "source": [
        "content_series.head(10)"
      ]
    },
    {
      "cell_type": "markdown",
      "source": [
        "### bottom 20 TV shows"
      ],
      "metadata": {
        "id": "LRXnhBmu5wQD"
      }
    },
    {
      "cell_type": "code",
      "execution_count": null,
      "metadata": {
        "colab": {
          "base_uri": "https://localhost:8080/"
        },
        "id": "4fhXqb_uL2-G",
        "outputId": "13237340-6472-462b-bcc7-048cef1d5236"
      },
      "outputs": [
        {
          "output_type": "execute_result",
          "data": {
            "text/plain": [
              "The Kitchen S30 Ep08                 1\n",
              "(L) EURO QUAL: Portugal vs Bosnia    1\n",
              "Love Story The Series S2 Ep47        1\n",
              "Udaariyaan Ep042                     1\n",
              "Brave Bunnies S1 Ep10                1\n",
              "The Traditional Trades Ep02          1\n",
              "Healthopedia Sacha Inchi Oil         1\n",
              "Agent on the Environment S1 Ep11     1\n",
              "Supergirl S6 Ep14                    1\n",
              "Udaariyaan Ep347                     1\n",
              "Lo and Behold Ep1907                 1\n",
              "Queen Dugu Ep15                      1\n",
              "Life is Beautiful Ep205              1\n",
              "Friend Fried Ep04                    1\n",
              "MeleTOP S11 Ep11 : Segment 2         1\n",
              "DIY Science Show Ep11                1\n",
              "Ni Chang Ep27                        1\n",
              "Enlightened S1 Ep03                  1\n",
              "Thalli Pogathey Ep44                 1\n",
              "Tong Tong's Wonderland S3 Ep10       1\n",
              "Name: content, dtype: int64"
            ]
          },
          "metadata": {},
          "execution_count": 77
        }
      ],
      "source": [
        "content_series.tail(20)"
      ]
    },
    {
      "cell_type": "markdown",
      "metadata": {
        "id": "ZZJMTnTW-ojh"
      },
      "source": [
        "## sports shows are most watched"
      ]
    },
    {
      "cell_type": "code",
      "execution_count": null,
      "metadata": {
        "id": "NbbDScixbuiu"
      },
      "outputs": [],
      "source": [
        "distinct_contents_dictionary = content_series.to_dict()"
      ]
    },
    {
      "cell_type": "code",
      "source": [
        "len(distinct_contents_dictionary)"
      ],
      "metadata": {
        "colab": {
          "base_uri": "https://localhost:8080/"
        },
        "id": "6uk-9O0EFVKd",
        "outputId": "d72eaf16-534f-4da0-a0b5-e9b1d15afc6f"
      },
      "execution_count": null,
      "outputs": [
        {
          "output_type": "execute_result",
          "data": {
            "text/plain": [
              "53999"
            ]
          },
          "metadata": {},
          "execution_count": 79
        }
      ]
    },
    {
      "cell_type": "code",
      "source": [
        "distinct_contents_dictionary"
      ],
      "metadata": {
        "id": "PLhKlph9Oh6y",
        "outputId": "68608379-e965-4183-9df4-9ba85511b673",
        "colab": {
          "base_uri": "https://localhost:8080/"
        }
      },
      "execution_count": 113,
      "outputs": [
        {
          "output_type": "execute_result",
          "data": {
            "text/plain": [
              "{'(L) BWF World Championships: Finals': 67542,\n",
              " '(L) PL: Newcastle vs Liverpool': 64799,\n",
              " '(L) PL: Sheffield vs Manchester City': 44282,\n",
              " 'The Flash [Fast Premiere]': 30522,\n",
              " 'Tiktok Awards Malaysia': 30340,\n",
              " 'Super Singer Junior': 26377,\n",
              " '(L) Formula 1 Main Race 2023': 23116,\n",
              " 'FIBA: Latvia vs Lebanon': 20731,\n",
              " 'Start Music': 18146,\n",
              " 'Buletin Utama': 17737,\n",
              " '(L) World Athletics Championships 2023': 17683,\n",
              " 'Pathaan': 16197,\n",
              " '2000 Prime Talk': 15375,\n",
              " 'Rajuk Karina': 15006,\n",
              " 'Evening Edition': 14166,\n",
              " 'Saregamapa Little Champs': 14116,\n",
              " 'Sepahtu Reunion Live S8 Ep07': 12814,\n",
              " 'Narcotics Heroes': 12414,\n",
              " 'Varalaru': 12366,\n",
              " '(L) Miss Hong Kong Pageant 2023': 12358,\n",
              " 'Baagyaletchumi Illatharisiyin Kadhai': 11282,\n",
              " 'Running Man': 10955,\n",
              " 'Pandian Stores': 10853,\n",
              " 'MasterChef Australia': 10769,\n",
              " '(L) MSL 2023: PRK lwn KLC': 10710,\n",
              " 'Thamizhum Saraswathiyum': 10227,\n",
              " 'Super Nabil Ep01': 9953,\n",
              " 'MW3: Newcastle United vs Liverpool': 9068,\n",
              " '(L) PL: Burnley vs Aston Villa': 8886,\n",
              " 'Siragadikka Aasai': 8847,\n",
              " 'Puss In Boots: The Last Wish': 8436,\n",
              " 'Aku Yang Kau Sakiti': 8320,\n",
              " 'Ethirneechal': 8175,\n",
              " '(L) BWF World Championships: Semi Finals': 8156,\n",
              " 'Malbatt: Misi Bakara [The Making Of]': 7732,\n",
              " 'Kaatrukkenna Veli': 7136,\n",
              " 'Go Shop': 6981,\n",
              " 'Tiara: Bukan Cinta Sempurna': 6944,\n",
              " 'Aha Kalyanam': 6812,\n",
              " '(L) BOLA SEPAK LIGA SUPER 2023': 6767,\n",
              " 'Running Man Ep645': 6414,\n",
              " 'MW3: Arsenal vs Fulham': 6412,\n",
              " 'Ready Steady Po Vachi Seivome': 6387,\n",
              " 'Ejen Ali The Movie': 6267,\n",
              " '(L) Chequered Flag 2023': 6230,\n",
              " '(L) Postshow': 5971,\n",
              " 'Budak Hostel Otaknya Sewel Ep16': 5746,\n",
              " '(L) Dutch League: PSV vs Go Ahead Eagles': 5681,\n",
              " 'MW3: Manchester United vs Nottingham Forest': 5655,\n",
              " 'Narcotics Heroes Ep21': 5582,\n",
              " 'Majalah 3': 5550,\n",
              " 'Real Men Malaysia: Wira Merah Ep05': 5503,\n",
              " 'Upin & Ipin': 5499,\n",
              " 'Hello Pinkfong Songs': 5410,\n",
              " 'Kathaanaayagi': 5373,\n",
              " 'Melodi': 5324,\n",
              " 'A Pillow Case of Mystery': 5304,\n",
              " 'Adanga Maru': 5257,\n",
              " 'Mothalum Kaadhalum': 5113,\n",
              " 'Lo and Behold': 5109,\n",
              " 'Narcotics Heroes Ep20': 5068,\n",
              " 'Eeramana Rojavey 2': 5017,\n",
              " 'Baasha': 4980,\n",
              " 'Mandarin News': 4919,\n",
              " 'Sundari': 4914,\n",
              " 'Real Men Malaysia: Wira Merah': 4880,\n",
              " 'Panggung P.Ramlee: Sergeant Hassan': 4872,\n",
              " '(L) Preshow': 4627,\n",
              " 'Thendral Vandhu Ennai Thodum': 4616,\n",
              " 'Vinayagar Agaval': 4600,\n",
              " 'Robocar POLI S5 Ep01': 4572,\n",
              " 'Meant to Be': 4527,\n",
              " 'Darbar': 4526,\n",
              " 'Kodiyil Oruvan': 4507,\n",
              " 'My Dearest': 4361,\n",
              " 'Buletin 130': 4351,\n",
              " 'The Meg': 4348,\n",
              " '(D) FIBA: United States vs New Zealand': 4268,\n",
              " 'No information available': 4240,\n",
              " 'Mahanadhi': 4210,\n",
              " 'O2': 4157,\n",
              " 'Hudson & Rex': 4154,\n",
              " '(L) Buletin Awani': 4135,\n",
              " 'Semua Salahku': 4130,\n",
              " 'My Pet My Angel': 4002,\n",
              " 'One Million Dollar Voice Mashup': 3954,\n",
              " 'Chellamma': 3939,\n",
              " 'Takdir Yang Ditakdirkan': 3927,\n",
              " 'Sepahtu Reunion Live S8 Ep06': 3914,\n",
              " 'Takkar': 3876,\n",
              " 'The Real Has Come!': 3854,\n",
              " 'MW3: Sheffield United vs Manchester City': 3843,\n",
              " 'Budak Hostel Otaknya Sewel Ep15': 3813,\n",
              " 'Ka Pae Ranasingam': 3801,\n",
              " 'Kampung Foodsteps': 3750,\n",
              " 'Ponni': 3694,\n",
              " 'Bornean Elephant': 3610,\n",
              " 'Keluarga Iskandar The Movie': 3595,\n",
              " 'Curse of the Royal Harem': 3547,\n",
              " 'Neeya Naana': 3500,\n",
              " 'Love Story The Series Season 2': 3485,\n",
              " 'FBI: Most Wanted': 3480,\n",
              " '(L)UFC 23: Holloway vs The Korean Zombie': 3466,\n",
              " 'Nona': 3453,\n",
              " 'Billionaire Story': 3404,\n",
              " 'Buletin Awani': 3399,\n",
              " 'Chandramukhi': 3379,\n",
              " 'Golden City': 3377,\n",
              " 'The Angry Birds Movie': 3334,\n",
              " 'Smurfs 2, the': 3315,\n",
              " 'New Doraemon': 3303,\n",
              " 'Married at First Sight Australia': 3251,\n",
              " 'BoBoiBoy Movie 2': 3247,\n",
              " 'Hotel Transylvania 3: Summer Vacation': 3236,\n",
              " 'Kizhaku Vasal': 3220,\n",
              " 'Fight For Justice': 3205,\n",
              " 'Kaaki Sattai': 3182,\n",
              " 'Ultra Galaxy Fight: The Destined Crossroad': 3164,\n",
              " 'Bukan Cinta Sempurna Ep21': 3137,\n",
              " 'Anna': 3079,\n",
              " '(L) TOUR Championship Day 4': 3061,\n",
              " 'Astro Seithigal': 3058,\n",
              " 'Narcotics Heroes Ep19': 3045,\n",
              " 'Bukan Cinta Sempurna Ep20': 3032,\n",
              " 'Anniyan': 3029,\n",
              " 'Transformers: Rise of the Beasts': 3022,\n",
              " 'MW3: AFC Bournemouth vs Tottenham': 3022,\n",
              " 'BARISTA: Misi Terpaling Sulit Ep01': 3020,\n",
              " 'Muthazhagu': 3019,\n",
              " 'Wow Shop': 3011,\n",
              " 'INNOVATHON': 2993,\n",
              " 'Iravin Nizhal': 2956,\n",
              " 'Tucker Tucker': 2936,\n",
              " 'The Mysteries of Love': 2932,\n",
              " 'Munafik': 2877,\n",
              " 'Tanyalah Ustaz': 2870,\n",
              " 'Law & Order: Special Victims Unit': 2851,\n",
              " 'Running Man Ep644': 2841,\n",
              " 'Shivalinga': 2826,\n",
              " 'Robocar POLI S5 Ep02': 2815,\n",
              " 'Saat Kau Takluk Cinta Ini': 2790,\n",
              " 'The Ultimate Crime Fighter': 2788,\n",
              " 'Survivor': 2775,\n",
              " 'My Name Is Lola Xtra': 2755,\n",
              " '(L) Debaran Separuh Akhir Bintang Kecil': 2739,\n",
              " 'Sepahtu Reunion Live 2023': 2721,\n",
              " 'Lagu Didi & Friends S1 Ep03': 2715,\n",
              " 'Budak Hostel Otaknya Sewel Ep14': 2711,\n",
              " 'Die Die Also Must Serve': 2691,\n",
              " 'Friends': 2676,\n",
              " 'Sarvam Thala Mayam': 2674,\n",
              " 'Lagu Merdeka Didi & Friends': 2667,\n",
              " 'Khatron Ke Khiladi': 2664,\n",
              " 'Lagu Didi & Friends S1 Ep07': 2660,\n",
              " 'News': 2651,\n",
              " 'Lagu Didi & Friends S1 Ep04': 2646,\n",
              " 'MegaDrama: One Million Dollar Voice': 2624,\n",
              " 'Life is Beautiful': 2619,\n",
              " 'Suyamvaram': 2612,\n",
              " 'Lagu Didi & Friends S1 Ep06': 2601,\n",
              " 'Lagu Didi & Friends S1 Ep08': 2599,\n",
              " '(L) Grand Prix Sunday 2023': 2595,\n",
              " 'Tsurupika Hagemaru': 2595,\n",
              " \"Lepak@Les'Copaque: Upin & Ipin\": 2575,\n",
              " 'The Love You Give Me': 2559,\n",
              " 'Lagu Didi & Friends S1 Ep09': 2559,\n",
              " 'Karthigai Deepam': 2553,\n",
              " 'Polis Evo 3': 2551,\n",
              " 'Lagu Didi & Friends S1 Ep02': 2548,\n",
              " 'Lagu Didi & Friends S1 Ep01': 2543,\n",
              " 'FBI': 2538,\n",
              " 'Lagu Didi & Friends S1 Ep05': 2534,\n",
              " 'Lagu Didi & Friends S1 Ep11': 2531,\n",
              " 'Minsara Kanna': 2513,\n",
              " 'Lagu Didi & Friends S1 Ep13': 2494,\n",
              " 'Naam Shabana': 2492,\n",
              " 'Lagu Didi & Friends S1 Ep10': 2486,\n",
              " 'Lagu Didi & Friends S1 Ep12': 2483,\n",
              " 'Lagu Didi & Friends S2 Ep03': 2450,\n",
              " 'Minions': 2450,\n",
              " 'Lagu Didi & Friends S2 Ep02': 2448,\n",
              " 'Lagu Didi & Friends S1 Ep15': 2445,\n",
              " 'Gods of Honour': 2430,\n",
              " 'Lagu Didi & Friends S1 Ep14': 2415,\n",
              " 'MW3: Chelsea vs Luton Town': 2409,\n",
              " 'Outbound Love': 2402,\n",
              " 'Lagu Didi & Friends S1 Ep16': 2397,\n",
              " 'Ultraman Zero: The Chronicle': 2386,\n",
              " 'Damayanthi': 2379,\n",
              " 'Lagu Didi & Friends S1 Ep17': 2374,\n",
              " '(L) Bundesliga : Bayern Vs Augsburg': 2366,\n",
              " 'Tamizha Tamizha': 2361,\n",
              " 'Lagu Didi & Friends S2 Ep05': 2360,\n",
              " 'Lagu Didi & Friends S2 Ep04': 2357,\n",
              " 'BoBoiBoy Movie': 2350,\n",
              " 'Lagu Didi & Friends S1 Ep23': 2334,\n",
              " 'Lagu Didi & Friends S2 Ep12': 2333,\n",
              " 'Berita Mandarin': 2332,\n",
              " 'Ghost of Relativity': 2332,\n",
              " 'Leftenan Adnan': 2329,\n",
              " 'Lagu Didi & Friends S2 Ep07': 2324,\n",
              " 'Lagu Didi & Friends S2 Ep08': 2324,\n",
              " 'Lagu Didi & Friends S2 Ep09': 2323,\n",
              " 'Entertainment News': 2313,\n",
              " 'Kayal': 2311,\n",
              " 'Lagu Didi & Friends S2 Ep01': 2309,\n",
              " 'Two Days and One Night': 2295,\n",
              " 'Lagu Didi & Friends S1 Ep18': 2287,\n",
              " 'Narcotics Heroes Ep18': 2284,\n",
              " 'Lagu Didi & Friends S1 Ep21': 2282,\n",
              " 'Lagu Didi & Friends S2 Ep06': 2281,\n",
              " 'Pendekar Bujang Lapok': 2281,\n",
              " 'Lagu Didi & Friends S1 Ep19': 2280,\n",
              " 'Budak Hostel Otaknya Sewel': 2280,\n",
              " 'Lagu Didi & Friends S1 Ep24': 2280,\n",
              " 'PL: Man Utd vs Nottm Forest': 2277,\n",
              " 'Lagu Didi & Friends S1 Ep20': 2275,\n",
              " 'Rookie Blue': 2274,\n",
              " 'Lagu Didi & Friends S3 Ep01': 2274,\n",
              " 'Lagu Didi & Friends S3 Ep02': 2271,\n",
              " 'Lagu Didi & Friends S3 Ep05': 2266,\n",
              " 'Lagu Didi & Friends S1 Ep22': 2262,\n",
              " 'Budak Hostel Otaknya Sewel Ep01': 2253,\n",
              " 'Lagu Didi & Friends S3 Ep07': 2243,\n",
              " 'Lagu Didi & Friends S3 Ep03': 2231,\n",
              " 'Unforgettable': 2227,\n",
              " 'Budak Hostel Otaknya Sewel Ep13': 2223,\n",
              " 'Lagu Didi & Friends S2 Ep13': 2221,\n",
              " 'Lagu Didi & Friends S3 Ep04': 2216,\n",
              " 'Goyang Upin & Ipin': 2215,\n",
              " 'Lagu Didi & Friends S2 Ep11': 2215,\n",
              " 'Lagu Didi & Friends S3 Ep06': 2214,\n",
              " 'Lagu Didi & Friends S2 Ep16': 2212,\n",
              " 'Ultraman Blazar Ep08': 2207,\n",
              " 'Sabhaapathy': 2206,\n",
              " 'Lagu Didi & Friends S2 Ep14': 2206,\n",
              " 'Lagu Didi & Friends S2 Ep19': 2201,\n",
              " 'Berita Wilayah': 2197,\n",
              " 'Iniya': 2193,\n",
              " 'Lagu Didi & Friends S2 Ep17': 2192,\n",
              " 'Lagu Didi & Friends S3 Ep09': 2187,\n",
              " 'Lagu Didi & Friends S3 Ep10': 2167,\n",
              " 'Overachievers': 2164,\n",
              " 'Top Gun: Maverick': 2160,\n",
              " 'Lagu Didi & Friends S2 Ep18': 2160,\n",
              " 'Lagu Didi & Friends S2 Ep20': 2152,\n",
              " 'Lagu Didi & Friends S2 Ep10': 2148,\n",
              " 'Lagu Didi & Friends S3 Ep08': 2143,\n",
              " 'Lagu Didi & Friends S1 Ep25': 2135,\n",
              " 'Choice Husband': 2133,\n",
              " 'Lagu Didi & Friends S2 Ep15': 2133,\n",
              " '(L) TOUR Championship Day 3': 2129,\n",
              " 'Anbe Vaa': 2121,\n",
              " 'Lagu Didi & Friends S3 Ep11': 2106,\n",
              " 'Latest Hits': 2105,\n",
              " 'Mysterious Lotus Casebook': 2099,\n",
              " 'Lagu Didi & Friends S4 Ep07': 2098,\n",
              " 'News on the Hour': 2095,\n",
              " 'Upin & Ipin S16 Ep27': 2093,\n",
              " 'Lagu Didi & Friends S3 Ep12': 2090,\n",
              " 'Buletin Pagi': 2088,\n",
              " 'Lagu Didi & Friends S4 Ep08': 2082,\n",
              " 'Sepahtu Reunion Live S8 Ep05': 2080,\n",
              " 'Upin & Ipin S16 Ep29': 2068,\n",
              " '(L) MPL MY': 2063,\n",
              " 'Upin & Ipin S16 Ep28': 2058,\n",
              " 'Thavamai Thavamirundhu': 2054,\n",
              " 'Berita Terkini': 2054,\n",
              " 'Lagu Didi & Friends S3 Ep14': 2053,\n",
              " 'Lagu Didi & Friends S3 Ep17': 2052,\n",
              " 'Muzik - Muzik 38': 2048,\n",
              " 'Lagu Didi & Friends S3 Ep13': 2046,\n",
              " 'Tanah Kubur Fitnah Akhir Zaman': 2046,\n",
              " 'Lagu Didi & Friends S4 Ep10': 2043,\n",
              " 'Lagu Didi & Friends S3 Ep19': 2042,\n",
              " 'Upin & Ipin S16 Ep07': 2037,\n",
              " 'Lagu Didi & Friends S4 Ep11': 2035,\n",
              " 'Lagu Didi & Friends S3 Ep18': 2034,\n",
              " 'Aelay': 2032,\n",
              " 'Miss Hong Kong Pageant 2023': 2031,\n",
              " 'FBI: International': 2031,\n",
              " 'Upin & Ipin S16 Ep01': 2029,\n",
              " 'Lagu Didi & Friends S4 Ep01': 2027,\n",
              " 'Lagu Didi & Friends S3 Ep15': 2021,\n",
              " 'Koorman': 2020,\n",
              " 'Kulasami': 2016,\n",
              " 'Varma': 2016,\n",
              " '2023 US Open Tennis Championships': 2015,\n",
              " 'Maharaja Lawak Mega 2016': 2009,\n",
              " 'Upin & Ipin S16 Ep06': 2008,\n",
              " 'YO-KAI Academy Y Ep03': 2004,\n",
              " 'Upin & Ipin S16 Ep09': 1998,\n",
              " 'Fast X [Extended Preview]': 1998,\n",
              " 'Lagu Didi & Friends S4 Ep09': 1998,\n",
              " 'Lagu Didi & Friends S3 Ep32': 1995,\n",
              " 'Lagu Didi & Friends S3 Ep16': 1994,\n",
              " 'Lagu Didi & Friends S4 Ep04': 1991,\n",
              " 'Lagu Didi & Friends S3 Ep21': 1990,\n",
              " 'Upin & Ipin S16 Ep05': 1989,\n",
              " 'Sudirman... Abadi Di Hati': 1986,\n",
              " 'Tanah Kubur Siri 16': 1986,\n",
              " 'Upin & Ipin S16 Ep40': 1984,\n",
              " 'Upin & Ipin S16 Ep22': 1981,\n",
              " 'Lagu Didi & Friends S3 Ep20': 1969,\n",
              " 'Upin & Ipin S16 Ep04': 1969,\n",
              " 'Lagu Didi & Friends S3 Ep22': 1966,\n",
              " 'Lagu Didi & Friends S3 Ep29': 1962,\n",
              " 'Kadhalan': 1959,\n",
              " 'My One and Only': 1959,\n",
              " 'YO-KAI Academy Y Ep02': 1958,\n",
              " 'Cinta Amnesia': 1958,\n",
              " 'Lagu Didi & Friends S4 Ep14': 1957,\n",
              " 'Lagu Didi & Friends S4 Ep06': 1956,\n",
              " 'Lagu Didi & Friends S4 Ep17': 1955,\n",
              " 'Jay Jay': 1954,\n",
              " 'Lagu Didi & Friends S4 Ep12': 1954,\n",
              " 'Upin & Ipin S16 Ep03': 1952,\n",
              " 'Upin & Ipin S16 Ep08': 1948,\n",
              " 'Upin & Ipin S16 Ep41': 1947,\n",
              " 'Spider-Man: Homecoming': 1938,\n",
              " 'Upin & Ipin S16 Ep24': 1938,\n",
              " 'Upin & Ipin S16 Ep25': 1938,\n",
              " 'Lagu Didi & Friends S4 Ep02': 1937,\n",
              " 'Upin & Ipin S16 Ep31': 1936,\n",
              " 'Lagu Didi & Friends S3 Ep27': 1932,\n",
              " 'Lagu Didi & Friends S3 Ep23': 1932,\n",
              " 'Evening Show': 1931,\n",
              " 'Mbuzz': 1928,\n",
              " 'Scoop 2023': 1927,\n",
              " 'Lagu Didi & Friends S3 Ep33': 1924,\n",
              " 'Seetha Raman': 1924,\n",
              " 'Upin & Ipin S16 Ep21': 1922,\n",
              " 'Upin & Ipin S16 Ep19': 1917,\n",
              " 'Lagu Didi & Friends S3 Ep25': 1916,\n",
              " 'Lagu Didi & Friends S3 Ep36': 1910,\n",
              " 'Lagu Didi & Friends S3 Ep35': 1909,\n",
              " 'Narcotics Heroes Ep17': 1908,\n",
              " 'PL: Newcastle vs Liverpool': 1907,\n",
              " 'Upin & Ipin S16 Ep42': 1907,\n",
              " 'Indahnya Iman': 1906,\n",
              " 'Upin & Ipin S16 Ep10': 1906,\n",
              " 'Manchester City vs Arsenal': 1905,\n",
              " 'Lagu Didi & Friends S3 Ep24': 1904,\n",
              " 'Lagu Didi & Friends S3 Ep37': 1904,\n",
              " 'Lagu Didi & Friends S4 Ep15': 1902,\n",
              " 'Upin & Ipin S16 Ep26': 1902,\n",
              " 'Upin & Ipin S16 Ep12': 1895,\n",
              " 'The Guardians': 1894,\n",
              " 'Upin & Ipin S16 Ep39': 1893,\n",
              " 'Pasumpon': 1889,\n",
              " 'Upin & Ipin S16 Ep36': 1889,\n",
              " 'Upin & Ipin S16 Ep18': 1886,\n",
              " 'Lagu Didi & Friends S3 Ep28': 1885,\n",
              " 'Upin & Ipin S16 Ep38': 1881,\n",
              " 'Lagu Didi & Friends S3 Ep26': 1881,\n",
              " 'Upin & Ipin S16 Ep23': 1879,\n",
              " 'Upin & Ipin S4 Ep01': 1877,\n",
              " 'My Pet My Angel Ep20': 1875,\n",
              " 'Upin & Ipin S16 Ep13': 1874,\n",
              " 'Lagu Didi & Friends S3 Ep31': 1872,\n",
              " 'Lagu Didi & Friends S4 Ep22': 1872,\n",
              " 'Lagu Didi & Friends S3 Ep30': 1871,\n",
              " 'Upin & Ipin S16 Ep20': 1870,\n",
              " 'Lagu Didi & Friends S4 Ep16': 1869,\n",
              " 'The Rookie': 1868,\n",
              " 'Upin & Ipin S16 Ep34': 1867,\n",
              " 'Lagu Didi & Friends S4 Ep23': 1866,\n",
              " 'Lagu Didi & Friends S3 Ep34': 1865,\n",
              " 'Lagu Didi & Friends S4 Ep18': 1862,\n",
              " 'Thiruttu Raja': 1862,\n",
              " 'Wang Kelian - The Forgotten Valley': 1862,\n",
              " 'Lagu Didi & Friends S4 Ep19': 1861,\n",
              " 'Bekaaboo': 1860,\n",
              " 'Laabam': 1858,\n",
              " 'Upin & Ipin S16 Ep02': 1857,\n",
              " 'Upin & Ipin S16 Ep35': 1857,\n",
              " 'Upin & Ipin S16 Ep30': 1851,\n",
              " 'Upin & Ipin S16 Ep11': 1851,\n",
              " 'The Foreigner': 1851,\n",
              " 'Upin & Ipin S16 Ep32': 1847,\n",
              " 'Upin & Ipin S16 Ep14': 1845,\n",
              " 'Suri Hati': 1843,\n",
              " 'Upin & Ipin S16 Ep16': 1842,\n",
              " 'Lagu Didi & Friends S4 Ep13': 1842,\n",
              " 'Lagu Didi & Friends S4 Ep20': 1841,\n",
              " 'Lagu Didi & Friends S5 Ep02': 1835,\n",
              " 'Kondraal Paavam': 1834,\n",
              " 'Lagu Didi & Friends S4 Ep24': 1829,\n",
              " 'Upin & Ipin S16 Ep33': 1828,\n",
              " 'Priyamana Thozhi': 1827,\n",
              " '(L) PL: Man Utd vs Nottm Forest': 1827,\n",
              " 'Lagu Didi & Friends S5 Ep01': 1821,\n",
              " 'Lagu Didi & Friends S3 Ep39': 1820,\n",
              " 'The Delta Force': 1818,\n",
              " 'Upin & Ipin S16 Ep37': 1818,\n",
              " 'Lagu Didi & Friends S3 Ep38': 1818,\n",
              " 'YO-KAI Academy Y Ep01': 1811,\n",
              " 'Luxe Show': 1810,\n",
              " 'Lagu Didi & Friends S4 Ep21': 1807,\n",
              " 'Sepahtu Reunion Live S8 Ep01': 1803,\n",
              " 'Lagu Didi & Friends S4 Ep26': 1799,\n",
              " 'Snow Eagle Lord': 1794,\n",
              " 'Transformers': 1791,\n",
              " 'AWANI Ringkas': 1788,\n",
              " 'World Athletics Championships 2023': 1785,\n",
              " 'Cold Blooded Intern Ep05': 1779,\n",
              " 'Business Talk': 1779,\n",
              " 'Paandavar Illam': 1774,\n",
              " 'Ethir Neechal': 1771,\n",
              " 'Upin & Ipin S16 Ep17': 1769,\n",
              " 'Maari': 1763,\n",
              " 'Lagu Didi & Friends S5 Ep03': 1762,\n",
              " 'Lagu Didi & Friends S4 Ep31': 1758,\n",
              " 'Lagu Didi & Friends S4 Ep28': 1757,\n",
              " 'Lagu Didi & Friends S4 Ep30': 1750,\n",
              " 'Ultraman Z': 1739,\n",
              " 'Upin & Ipin S16 Ep15': 1734,\n",
              " 'Lagu Didi & Friends S4 Ep25': 1733,\n",
              " 'Lagu Didi & Friends S4 Ep29': 1732,\n",
              " 'Lagu Didi & Friends S5 Ep07': 1731,\n",
              " 'Gajen': 1728,\n",
              " 'MasterChef Australia S15 Ep40': 1722,\n",
              " 'Lagu Didi & Friends S4 Ep32': 1719,\n",
              " 'Lagu Didi & Friends S4 Ep35': 1719,\n",
              " 'Lagu Didi & Friends S4 Ep34': 1719,\n",
              " 'Lagu Didi & Friends S5 Ep05': 1717,\n",
              " 'Lagu Didi & Friends S4 Ep33': 1715,\n",
              " 'S.W.A.T.': 1710,\n",
              " 'Lagu Didi & Friends S4 Ep27': 1710,\n",
              " 'WWE Raw 2023 Episode 34': 1705,\n",
              " 'Lagu Didi & Friends S5 Ep06': 1703,\n",
              " '(L) AWANI 7:45/ Sinar AWANI': 1702,\n",
              " 'Lagu Didi & Friends S4 Ep37': 1702,\n",
              " 'Kannae Kalaimaanae': 1699,\n",
              " 'Naanum Single Thaan': 1694,\n",
              " \"Ocean's Twelve\": 1691,\n",
              " 'SpongeBob SquarePants Marathon': 1689,\n",
              " 'Lagu Didi & Friends S5 Ep04': 1687,\n",
              " 'Lagu Didi & Friends S4 Ep38': 1685,\n",
              " 'Happiness Giver': 1679,\n",
              " 'Pyaar Ke Saat Vachan Dharam Patni': 1679,\n",
              " 'Vaara Rasipalan': 1678,\n",
              " '2023 Sing! China': 1676,\n",
              " 'Real Men Malaysia: Wira Merah Ep04': 1673,\n",
              " 'Lagu Didi & Friends S5 Ep15': 1673,\n",
              " 'Lagu Didi & Friends S5 Ep08': 1669,\n",
              " 'Sepahtu Reunion Live S8 Ep04': 1662,\n",
              " 'Lagu Didi & Friends S4 Ep41': 1662,\n",
              " 'Lagu Didi & Friends S4 Ep39': 1660,\n",
              " \"Doraemon the Movie: Nobita's Chronicle of the Moon Exploration\": 1655,\n",
              " 'Lagu Didi & Friends S5 Ep16': 1647,\n",
              " 'Shiv Shakti': 1646,\n",
              " 'Lagu Didi & Friends S4 Ep40': 1646,\n",
              " 'Narcotics Heroes Ep16': 1643,\n",
              " 'Lagu Didi & Friends S5 Ep09': 1640,\n",
              " \"Doraemon the Movie: Nobita's new dinosaur\": 1640,\n",
              " 'Ratu Ten Pin': 1637,\n",
              " 'Lagu Didi & Friends S4 Ep36': 1636,\n",
              " 'WWE Smackdown 2023 Ep34': 1634,\n",
              " 'Lagu Didi & Friends S5 Ep14': 1631,\n",
              " 'Lagu Didi & Friends S5 Ep11': 1630,\n",
              " 'Lagu Didi & Friends S5 Ep10': 1625,\n",
              " 'Iblis Dalam Kandungan': 1619,\n",
              " 'Panas Talk Uncut: Gayathri Ep13': 1619,\n",
              " 'Lagu Didi & Friends S4 Ep45': 1619,\n",
              " 'Lagu Didi & Friends S5 Ep13': 1616,\n",
              " 'Superhit Iravukaatchi': 1616,\n",
              " 'Lagu Didi & Friends S4 Ep42': 1615,\n",
              " 'Scene Oda Pattu': 1605,\n",
              " 'Wira': 1597,\n",
              " 'Budak Hostel Otaknya Sewel Ep12': 1595,\n",
              " 'Omar & Hana S2 Ep01': 1593,\n",
              " 'Lagu Didi & Friends S5 Ep12': 1586,\n",
              " 'Midday Mandarin New': 1585,\n",
              " 'Non Stop Hits': 1584,\n",
              " 'Lagu Didi & Friends S4 Ep43': 1584,\n",
              " 'Moonfall': 1583,\n",
              " 'Lagu Didi & Friends S5 Ep19': 1581,\n",
              " 'Lagu Didi & Friends S5 Ep37': 1581,\n",
              " 'Lagu Didi & Friends S5 Ep17': 1579,\n",
              " 'DramaVaganza: Rindu Yang Terlarang': 1566,\n",
              " 'Vidiyatha Iravondru Vendum': 1563,\n",
              " 'Lagu Didi & Friends S5 Ep18': 1562,\n",
              " 'Lagu Didi & Friends S4 Ep46': 1556,\n",
              " 'Saamy Square': 1555,\n",
              " 'WWE Smackdown 2023': 1554,\n",
              " 'Cerita-cerita Didi & Friends': 1551,\n",
              " 'Hole In The Wall': 1543,\n",
              " 'Lagu Didi & Friends S4 Ep44': 1540,\n",
              " 'Anandha Ragam': 1538,\n",
              " 'The Eggies Ep01': 1536,\n",
              " 'Puss in Boots: the Last Wish': 1534,\n",
              " 'Lagu Didi & Friends S4 Ep47': 1533,\n",
              " 'Good Night': 1532,\n",
              " 'Lagu Didi & Friends S5 Ep20': 1530,\n",
              " 'Tayo The Little Bus': 1529,\n",
              " 'Lagu Didi & Friends S5 Ep24': 1526,\n",
              " 'Lagu Didi & Friends S5 Ep26': 1524,\n",
              " \"Lepak@Les'Copaque (Pada Zaman Dahulu\": 1523,\n",
              " 'Family Feud Tamil': 1515,\n",
              " 'Matinee Show': 1515,\n",
              " 'Lagu Didi & Friends S5 Ep21': 1513,\n",
              " 'Ruler (TG)': 1513,\n",
              " 'Lagu Didi & Friends S5 Ep29': 1510,\n",
              " 'Sepahtu Reunion LIVE 2020': 1505,\n",
              " 'Bharat': 1505,\n",
              " 'Budak Hostel Otaknya Sewel Ep02': 1504,\n",
              " 'New Doraemon Ep303': 1504,\n",
              " 'Lagu Didi & Friends S5 Ep25': 1503,\n",
              " 'Lagu Didi & Friends S5 Ep28': 1500,\n",
              " 'Budak Hostel Otaknya Sewel Ep11': 1498,\n",
              " 'China News': 1492,\n",
              " 'Lagu Didi & Friends S5 Ep27': 1491,\n",
              " 'Lagu Didi & Friends S5 Ep22': 1490,\n",
              " 'Lagu Didi & Friends S5 Ep23': 1489,\n",
              " 'Bukan Cinta Sempurna Ep19': 1488,\n",
              " 'Bisik Pada Langit': 1475,\n",
              " 'Lagu Didi & Friends S5 Ep35': 1474,\n",
              " 'Lagu Didi & Friends S5 Ep36': 1473,\n",
              " 'Pishachini': 1473,\n",
              " 'Lagu Didi & Friends S5 Ep30': 1473,\n",
              " 'Lagu Didi & Friends S5 Ep47': 1472,\n",
              " 'Lagu Didi & Friends S5 Ep31': 1472,\n",
              " 'Indira': 1469,\n",
              " 'Mysteries of the Mekong': 1463,\n",
              " 'Tayangan Perdana Rahsia': 1463,\n",
              " 'Kannodu Kanbathellam': 1460,\n",
              " 'New Doraemon Ep302': 1458,\n",
              " 'LS 21 2023: Kedah Darul Aman lwn JDT': 1452,\n",
              " 'Dharma Chakra': 1452,\n",
              " 'Lagu Didi & Friends S5 Ep38': 1448,\n",
              " 'Lagu Didi & Friends S5 Ep43': 1446,\n",
              " 'Sepahtu Reunion Live S8 Ep02': 1443,\n",
              " 'Upin & Ipin S4 Ep02': 1443,\n",
              " 'Mechamato': 1439,\n",
              " 'Lagu Didi & Friends S5 Ep33': 1438,\n",
              " 'Lagu Didi & Friends S5 Ep41': 1437,\n",
              " '(L) Go Shop': 1436,\n",
              " 'Nightline': 1435,\n",
              " '(L) FIBA: Greece vs United States': 1433,\n",
              " 'When The Night Falls-The Story of Wang Lei': 1431,\n",
              " 'Lagu Didi & Friends S5 Ep39': 1429,\n",
              " 'Cinta yang Tak Sederhana': 1427,\n",
              " 'Lagu Didi & Friends S5 Ep34': 1422,\n",
              " 'BBC News': 1421,\n",
              " 'Berita Perdana': 1420,\n",
              " 'Misteri Mona': 1417,\n",
              " 'Ola Bola': 1417,\n",
              " 'Meenakshi Ponnunga': 1414,\n",
              " 'Lagu Didi & Friends S5 Ep48': 1414,\n",
              " 'Peranbu': 1411,\n",
              " 'Lagu Didi & Friends S5 Ep42': 1407,\n",
              " 'Badanamu Kids Karaoke S1 Ep001': 1405,\n",
              " 'Lagu Didi & Friends S5 Ep44': 1403,\n",
              " 'Idhu Enna Maayam': 1402,\n",
              " 'Lagu Didi & Friends S5 Ep32': 1400,\n",
              " 'Lagu Didi & Friends S5 Ep45': 1394,\n",
              " 'Ilakkiya': 1391,\n",
              " 'Jalan Jalan Cari Makan': 1390,\n",
              " 'Perfect Match 2023': 1389,\n",
              " 'Lagu Didi & Friends S5 Ep46': 1389,\n",
              " 'Agenda Awani': 1386,\n",
              " 'Lagu Didi & Friends S5 Ep40': 1386,\n",
              " \"Back to 90's\": 1376,\n",
              " '(L) Cycling: La Vuelta 2023': 1374,\n",
              " 'The Flash S1 Ep01': 1374,\n",
              " 'Padayappa': 1371,\n",
              " 'Sampai Mati Kuala Lumpur': 1370,\n",
              " 'Kalathil Santhippom': 1370,\n",
              " 'Unnaipol Oruvan': 1369,\n",
              " 'The Losers': 1365,\n",
              " 'Asia Now': 1355,\n",
              " 'Upin & Ipin S15 Ep34': 1350,\n",
              " 'Omar & Hana S1 Ep01': 1344,\n",
              " 'Didi & Friends Rescue Squad': 1343,\n",
              " 'Didi & Friends S3(Eh Wau Bulan)': 1342,\n",
              " 'Budak Hostel Otaknya Sewel Ep10': 1341,\n",
              " 'MSL 2023: KDA lwn JDT': 1340,\n",
              " 'Omar & Hana S2 Ep03': 1337,\n",
              " 'All Together Now Malaysia Akhir': 1335,\n",
              " 'Tentang Ogos': 1334,\n",
              " 'Sandakozhi': 1332,\n",
              " 'MW3: Brighton & Hove Albion vs West Ham United': 1325,\n",
              " 'Bersamamu': 1322,\n",
              " 'Top 20 Funniest': 1318,\n",
              " 'Budak Hostel Otaknya Sewel Ep03': 1316,\n",
              " 'Peppa Pig': 1316,\n",
              " 'Bawah Blok': 1314,\n",
              " 'Omar & Hana S1 Ep02': 1313,\n",
              " 'Paw Patrol: The Movie': 1311,\n",
              " 'Udaariyaan': 1310,\n",
              " 'Gol & Gincu Vol. 2': 1309,\n",
              " 'CSI: Crime Scene Investigation': 1308,\n",
              " '(L) Nadi Arena': 1308,\n",
              " 'Omar & Hana S2 Ep02': 1307,\n",
              " 'Cold Blooded Intern Ep06': 1307,\n",
              " 'Upin & Ipin S4 Ep04': 1304,\n",
              " 'Citra Exclusive: Kampung Kuala Lambat': 1303,\n",
              " 'Omar & Hana S3 Ep02': 1302,\n",
              " 'PAW Patrol': 1300,\n",
              " 'Jumanji: Welcome to the Jungle': 1299,\n",
              " 'Upin & Ipin S15 Ep20': 1297,\n",
              " 'Omar & Hana S3 Ep01': 1293,\n",
              " 'CSI: Miami': 1288,\n",
              " 'Omar & Hana S1 Ep07': 1288,\n",
              " 'Papa Pipi Shorts Ep01': 1285,\n",
              " 'Omar & Hana S1 Ep10': 1283,\n",
              " 'Omar & Hana S1 Ep08': 1281,\n",
              " 'Upin & Ipin S4 Ep03': 1280,\n",
              " 'Project: High Council Ep01': 1279,\n",
              " 'Bukit Kepong': 1278,\n",
              " 'Queen': 1277,\n",
              " 'Teen Titans Go!': 1277,\n",
              " 'Upin & Ipin S15 Ep19': 1276,\n",
              " '(L) Selamat Pagi Malaysia': 1276,\n",
              " 'Omar & Hana S1 Ep06': 1275,\n",
              " 'Omar & Hana S1 Ep04': 1273,\n",
              " 'MW3: Manchester United vs Nottingham Forest (IVP Pinning)': 1272,\n",
              " 'Stand by Me Doraemon 2': 1271,\n",
              " 'Wanita Hari Ini': 1271,\n",
              " 'Warung Sepahtu': 1270,\n",
              " 'NCIS: Los Angeles': 1269,\n",
              " 'Upin & Ipin S15 Ep21': 1269,\n",
              " 'Malaysia Hari Ini': 1265,\n",
              " 'Omar & Hana S1 Ep14': 1265,\n",
              " 'Upin & Ipin S15 Ep36': 1265,\n",
              " 'Badanamu Kids Karaoke S1 Ep002': 1264,\n",
              " 'Bukan Cinta Sempurna Ep01': 1264,\n",
              " 'Omar & Hana S1 Ep05': 1261,\n",
              " 'Vaanathai Pola': 1259,\n",
              " 'Upin & Ipin S15 Ep28': 1256,\n",
              " 'Upin & Ipin S4 Ep05': 1255,\n",
              " 'Budak Hostel Otaknya Sewel Ep04': 1255,\n",
              " 'Yaathisai': 1255,\n",
              " 'Upin & Ipin S4 Ep10': 1253,\n",
              " 'Phoenix Weather Forecast': 1253,\n",
              " 'Omar & Hana S1 Ep09': 1252,\n",
              " 'Omar & Hana S3 Ep03': 1250,\n",
              " 'Budak Hostel Otaknya Sewel Ep09': 1248,\n",
              " 'Upin & Ipin S15 Ep27': 1244,\n",
              " 'MasterChef Australia S15 Ep39': 1244,\n",
              " 'Omar & Hana S3 Ep21': 1240,\n",
              " 'Special Show': 1239,\n",
              " 'Axian Small Town Foodcation': 1239,\n",
              " 'Mr. Manaivi': 1237,\n",
              " 'Sembilu 2005': 1233,\n",
              " 'Omar & Hana S3 Ep04': 1230,\n",
              " 'Omar & Hana S3 Ep05': 1229,\n",
              " 'Upin & Ipin S15 Ep35': 1228,\n",
              " 'Young Guns II': 1226,\n",
              " '(L)Miss Hong Kong Pageant 2023 AfterShow': 1225,\n",
              " 'Mr. Cinderella': 1224,\n",
              " \"Jason's Daily Eats\": 1223,\n",
              " '(L) Nindia': 1220,\n",
              " 'Omar & Hana S1 Ep16': 1219,\n",
              " 'Omar & Hana S1 Ep12': 1216,\n",
              " 'Buletin TV9': 1207,\n",
              " 'Upin & Ipin S15 Ep23': 1207,\n",
              " 'Panggilan Agung Maghrib': 1203,\n",
              " 'Pasta': 1202,\n",
              " 'Family Feud Malaysia Merdeka Special': 1198,\n",
              " 'Omar & Hana S3 Ep14': 1198,\n",
              " 'Omar & Hana S2 Ep11': 1197,\n",
              " 'Omar & Hana S1 Ep20': 1195,\n",
              " 'Upin & Ipin S15 Ep26': 1195,\n",
              " 'Omar & Hana S1 Ep13': 1194,\n",
              " 'Omar & Hana S3 Ep08': 1193,\n",
              " 'Omar & Hana S3 Ep07': 1192,\n",
              " 'Sepahtu Reunion Live S8 Ep03': 1192,\n",
              " 'Parineeti': 1190,\n",
              " 'Upin & Ipin S4 Ep06': 1189,\n",
              " '(L) 2023 US Open Tennis Championships': 1189,\n",
              " 'Omar & Hana S1 Ep11': 1186,\n",
              " 'Kaththi': 1186,\n",
              " 'Badanamu Kids Karaoke S1 Ep006': 1186,\n",
              " 'Upin & Ipin S15 Ep25': 1185,\n",
              " 'MeleTOP': 1184,\n",
              " 'Omar & Hana S2 Ep08': 1181,\n",
              " 'Upin & Ipin S15 Ep22': 1180,\n",
              " 'Her World': 1180,\n",
              " 'Spookiz': 1179,\n",
              " 'VENOM': 1178,\n",
              " 'Omar & Hana S2 Ep06': 1176,\n",
              " 'New Doraemon Ep079': 1176,\n",
              " 'Omar & Hana S3 Ep11': 1176,\n",
              " 'Aruvi': 1176,\n",
              " 'Upin & Ipin S15 Ep31': 1176,\n",
              " 'Upin & Ipin S4 Ep07': 1176,\n",
              " 'Omar & Hana S1 Ep17': 1175,\n",
              " 'Upin & Ipin S15 Ep16': 1174,\n",
              " 'Upin & Ipin S15 Ep33': 1173,\n",
              " 'Omar & Hana S3 Ep15': 1173,\n",
              " 'Helo Doktor': 1170,\n",
              " 'Upin & Ipin S15 Ep12': 1170,\n",
              " 'Narcotics Heroes Ep15': 1169,\n",
              " 'Omar & Hana S3 Ep06': 1169,\n",
              " 'Upin & Ipin S15 Ep24': 1168,\n",
              " 'Omar & Hana S3 Ep13': 1165,\n",
              " 'Omar & Hana S2 Ep05': 1165,\n",
              " 'Giant Snake Events in Yellow River': 1165,\n",
              " 'Shiddat': 1164,\n",
              " 'Budak Hostel Otaknya Sewel Ep07': 1164,\n",
              " 'Selfie': 1164,\n",
              " 'Budak Hostel Otaknya Sewel Ep05': 1164,\n",
              " 'Kanaa': 1163,\n",
              " 'Badanamu Kids Karaoke S1 Ep003': 1163,\n",
              " 'Upin & Ipin S4 Ep15': 1161,\n",
              " 'Maanbumigu Marumagan': 1159,\n",
              " 'American Ninja Warrior Junior': 1159,\n",
              " 'Click': 1159,\n",
              " 'Upin & Ipin S15 Ep29': 1157,\n",
              " 'Dabangg 3': 1155,\n",
              " 'Omar & Hana S1 Ep15': 1155,\n",
              " 'Project: High Council Ep08': 1154,\n",
              " 'Omar & Hana S1 Ep22': 1151,\n",
              " 'M4M4': 1150,\n",
              " 'Omar & Hana S1 Ep18': 1149,\n",
              " \"Where's Chicky? S2 Ep01\": 1149,\n",
              " 'Upin & Ipin S15 Ep17': 1148,\n",
              " 'BWF World Championships: Round of 64': 1148,\n",
              " 'A Guilty Conscience': 1147,\n",
              " 'Papa Pipi Ep24': 1147,\n",
              " 'Papa Pipi Ep17': 1147,\n",
              " 'American Made': 1146,\n",
              " 'Law & Order Special Victims Unit': 1146,\n",
              " 'The Return of Superman': 1145,\n",
              " 'Omar & Hana S1 Ep23': 1145,\n",
              " 'Aladin': 1144,\n",
              " 'Narcotics Heroes Ep01': 1143,\n",
              " 'Badanamu Kids Karaoke S1 Ep010': 1143,\n",
              " 'D3': 1142,\n",
              " 'Omar & Hana S2 Ep14': 1142,\n",
              " 'Upin & Ipin S4 Ep08': 1142,\n",
              " 'Omar & Hana S3 Ep16': 1141,\n",
              " 'The World Today': 1141,\n",
              " 'Gatta Kusti': 1140,\n",
              " 'Project: High Council Ep10': 1139,\n",
              " 'Omar & Hana S2 Ep04': 1139,\n",
              " 'Tournament of Champions': 1135,\n",
              " 'Berita Alhijrah (L)': 1134,\n",
              " 'Papa Pipi Ep22': 1134,\n",
              " 'Super Wings 6: World Guardians': 1134,\n",
              " 'Grown Ups': 1133,\n",
              " 'Papa Pipi Shorts Ep08': 1133,\n",
              " 'Berita Tengah Hari': 1133,\n",
              " 'Evening Edition 27/08/2023': 1132,\n",
              " 'Upin & Ipin S4 Ep09': 1130,\n",
              " 'Pada (ML)': 1129,\n",
              " 'Badanamu Kids Karaoke S1 Ep008': 1128,\n",
              " 'Omar & Hana S1 Ep19': 1128,\n",
              " 'Upin & Ipin S15 Ep18': 1127,\n",
              " 'Omar & Hana S3 Ep12': 1125,\n",
              " 'Despicable Me 2': 1125,\n",
              " 'Papa Pipi Ep18': 1125,\n",
              " 'Badanamu Kids Karaoke S1 Ep005': 1125,\n",
              " 'Papa Pipi Shorts Ep09': 1125,\n",
              " 'Omar & Hana S2 Ep10': 1123,\n",
              " 'Omar & Hana S3 Ep09': 1121,\n",
              " 'Omar & Hana S3 Ep20': 1120,\n",
              " 'Papa Pipi Ep19': 1120,\n",
              " 'Omar & Hana S2 Ep07': 1119,\n",
              " 'Omar & Hana S3 Ep10': 1119,\n",
              " 'Katuri': 1115,\n",
              " 'Omar & Hana S2 Ep09': 1115,\n",
              " 'Kuruthi Aattam': 1115,\n",
              " 'Sepahtu Reunion Live 2017': 1114,\n",
              " 'Papa Pipi Shorts Ep04': 1114,\n",
              " 'Upin & Ipin S15 Ep30': 1114,\n",
              " 'Omar & Hana S2 Ep15': 1113,\n",
              " 'Bukan Cinta Sempurna Ep18': 1113,\n",
              " 'Omar & Hana S3 Ep18': 1113,\n",
              " 'Running Man Ep643': 1113,\n",
              " 'Papa Pipi Shorts Ep07': 1113,\n",
              " '(L) FIBA: Japan vs Finland': 1113,\n",
              " 'Omar & Hana S2 Ep16': 1111,\n",
              " 'Papa Pipi Shorts Ep06': 1110,\n",
              " 'Upin & Ipin S15 Ep32': 1108,\n",
              " 'Omar & Hana S2 Ep13': 1108,\n",
              " 'Upin & Ipin S15 Ep10': 1108,\n",
              " 'Papa Pipi Ep23': 1107,\n",
              " 'Papa Pipi Shorts Ep05': 1106,\n",
              " 'Upin & Ipin S15 Ep15': 1105,\n",
              " 'Konnichiwa Superlawak Ep04': 1105,\n",
              " 'Badanamu Kids Karaoke S1 Ep013': 1105,\n",
              " 'Upin & Ipin S15 Ep13': 1104,\n",
              " 'Badanamu Kids Karaoke S1 Ep009': 1102,\n",
              " 'Upin & Ipin S4 Ep13': 1102,\n",
              " 'Papa Pipi Shorts Ep02': 1101,\n",
              " 'Bayang': 1100,\n",
              " 'Cinta Yang Tertangguh': 1099,\n",
              " 'Badanamu Kids Karaoke S1 Ep004': 1099,\n",
              " 'Sixth Sense 3': 1099,\n",
              " 'SpongeBob SquarePants': 1098,\n",
              " 'New Doraemon Ep301': 1098,\n",
              " 'Omar & Hana S3 Ep17': 1098,\n",
              " 'Longing for You': 1097,\n",
              " \"Where's Chicky? S2 Ep07\": 1095,\n",
              " 'Chuck Chicken': 1093,\n",
              " 'Badanamu Kids Karaoke S1 Ep014': 1092,\n",
              " 'Papa Pipi Ep16': 1091,\n",
              " 'Badanamu Kids Karaoke S1 Ep011': 1091,\n",
              " 'Sarbath': 1090,\n",
              " 'Master': 1090,\n",
              " 'Saudi League: Al Fateh Vs Al Nassr': 1089,\n",
              " 'Badanamu Kids Karaoke S1 Ep007': 1089,\n",
              " 'Omar & Hana S2 Ep12': 1089,\n",
              " 'Ultraman Decker Finale: Journey To Beyond': 1088,\n",
              " 'Papa Pipi Shorts Ep14': 1082,\n",
              " 'Narcotics Heroes Ep14': 1082,\n",
              " 'Papa Pipi Shorts Ep03': 1081,\n",
              " 'The Conjuring: The Devil Made Me Do It': 1078,\n",
              " 'Perempuan Paling Bahagia': 1078,\n",
              " 'Papa Pipi Shorts Ep15': 1077,\n",
              " 'Borneo Culinary Sarawak': 1076,\n",
              " 'La Diva Laressa': 1075,\n",
              " 'Papa Pipi Shorts Ep10': 1074,\n",
              " 'Upin & Ipin S4 Ep12': 1074,\n",
              " 'Papa Pipi Shorts Ep11': 1073,\n",
              " 'Upin & Ipin S4 Ep11': 1070,\n",
              " 'Kavan': 1067,\n",
              " 'Upin & Ipin S15 Ep09': 1066,\n",
              " 'Upin & Ipin S14 Ep11': 1066,\n",
              " 'Mission: Impossible': 1065,\n",
              " 'Upin & Ipin S4 Ep16': 1064,\n",
              " 'Songs': 1064,\n",
              " 'Papa Pipi Ep21': 1062,\n",
              " 'Goliyon Ki Rasleela Ram-Leela': 1062,\n",
              " 'Upin & Ipin S15 Ep11': 1061,\n",
              " 'Omar & Hana S1 Ep21': 1059,\n",
              " 'Malar': 1058,\n",
              " 'My Pet My Angel Ep19': 1057,\n",
              " 'Papa Pipi Shorts Ep12': 1056,\n",
              " 'Upin & Ipin S15 Ep14': 1055,\n",
              " 'Papa Pipi Ep20': 1055,\n",
              " \"Where's Chicky? S2 Ep05\": 1052,\n",
              " 'Badanamu Kids Karaoke S1 Ep015': 1049,\n",
              " 'Upin & Ipin S15 Ep04': 1049,\n",
              " 'Upin & Ipin S15 Ep07': 1047,\n",
              " 'Ultraman Blazar Ep01': 1047,\n",
              " 'Sun Music Super Morning': 1046,\n",
              " 'Papa Pipi Shorts Ep13': 1045,\n",
              " 'Upin & Ipin S14 Ep01': 1044,\n",
              " 'The Bond': 1044,\n",
              " 'Budak Hostel Otaknya Sewel Ep08': 1042,\n",
              " 'Poorana Chandhiran Kudumbathar': 1041,\n",
              " 'Berita Tamil': 1041,\n",
              " 'Aunty Reporting For Duty Teaser': 1040,\n",
              " \"Where's Chicky? S2 Ep03\": 1039,\n",
              " 'Sita Ramam': 1035,\n",
              " 'Omar & Hana S3 Ep19': 1034,\n",
              " 'Sesalan Terakhir': 1033,\n",
              " \"Where's Chicky? S2 Ep02\": 1031,\n",
              " \"Where's Chicky? S2 Ep06\": 1031,\n",
              " 'Upin & Ipin S15 Ep01': 1029,\n",
              " 'Budak Hostel Otaknya Sewel Ep06': 1029,\n",
              " 'Upin & Ipin S15 Ep08': 1027,\n",
              " 'Cyber Heist': 1025,\n",
              " 'Beyblade Burst': 1024,\n",
              " 'Nobody Knows': 1018,\n",
              " 'Morning Show': 1016,\n",
              " 'Upin & Ipin S14 Ep04': 1016,\n",
              " 'Narcotics Heroes Ep13': 1009,\n",
              " 'My Dearest Ep01': 1009,\n",
              " 'Swarnamukhi': 1007,\n",
              " 'Upin & Ipin S15 Ep06': 1004,\n",
              " 'Project: High Council Ep09': 1004,\n",
              " \"Where's Chicky? S2 Ep08\": 1003,\n",
              " 'Badanamu Kids Karaoke S1 Ep016': 1002,\n",
              " \"Where's Chicky? S2 Ep04\": 1001,\n",
              " 'Senario The Movie Episode 1': 1001,\n",
              " '(L)BWF World Championships:Quarterfinals': 997,\n",
              " 'Upin & Ipin S14 Ep05': 997,\n",
              " \"Where's Chicky? S2 Ep11\": 996,\n",
              " 'Nadi Weekend': 996,\n",
              " 'Matchday Live Extra 2023/24': 994,\n",
              " 'Badanamu Kids Karaoke S1 Ep012': 993,\n",
              " \"Where's Chicky? S2 Ep09\": 990,\n",
              " 'Ultraman\\xa0Trigger:\\xa0Episode\\xa0Z': 989,\n",
              " 'Mr.Peyii': 989,\n",
              " 'Upin & Ipin S14 Ep09': 988,\n",
              " 'Badanamu Kids Karaoke Ep019': 988,\n",
              " 'Narcotics Heroes Ep12': 987,\n",
              " 'Upin & Ipin S15 Ep03': 987,\n",
              " 'The Disappearance of Cari Farver': 986,\n",
              " 'Upin & Ipin S4 Ep18': 986,\n",
              " 'Ultra Galaxy Fight: The Absolute Conspiracy': 985,\n",
              " 'Pathu Thala': 985,\n",
              " \"The Hitman's Wife's Bodyguard\": 985,\n",
              " 'Beyblade Metal Masters (BM Dubbed)': 983,\n",
              " 'Ranjithame': 982,\n",
              " 'Cinta Suci': 982,\n",
              " 'Upin & Ipin S4 Ep17': 982,\n",
              " 'Project: High Council Ep02': 981,\n",
              " 'Amudhavum Annalakshmiyum': 980,\n",
              " 'Justice League': 979,\n",
              " 'Narcotics Heroes Ep11': 979,\n",
              " 'The Love You Give Me Ep13': 978,\n",
              " 'Upin & Ipin S15 Ep05': 976,\n",
              " 'Upin & Ipin S14 Ep25': 974,\n",
              " 'Puss In Boots (2011)': 973,\n",
              " 'SEAL Team': 972,\n",
              " 'The Elegant Empire': 970,\n",
              " 'Kapsul Inspirasi': 969,\n",
              " 'Upin & Ipin S12 Ep12': 969,\n",
              " 'Farhana': 969,\n",
              " 'Omar & Hana S3 Ep27': 968,\n",
              " 'Prince': 967,\n",
              " 'Nanban': 965,\n",
              " 'Badanamu Kids Karaoke Ep018': 965,\n",
              " '(L) MSL 2023: KDA lwn JDT': 964,\n",
              " 'Upin & Ipin S14 Ep12': 960,\n",
              " '(L) PL: Newcastle Utd vs Liverpool': 960,\n",
              " 'Upin & Ipin S14 Ep10': 958,\n",
              " \"Where's Chicky? S2 Ep12\": 958,\n",
              " 'Upin & Ipin S14 Ep06': 957,\n",
              " 'The Love You Give Me Ep15': 957,\n",
              " 'The Amazing World of Gumball': 956,\n",
              " 'Full Metal Jacket': 955,\n",
              " 'Omar & Hana S3 Ep26': 954,\n",
              " \"Where's Chicky? S2 Ep10\": 954,\n",
              " 'Upin & Ipin S14 Ep07': 953,\n",
              " 'Upin & Ipin S13 Ep01': 953,\n",
              " \"Where's Chicky? S2 Ep18\": 952,\n",
              " 'Upin & Ipin S4 Ep28': 949,\n",
              " 'Kampung Foodsteps S1 Ep06': 949,\n",
              " \"Where's Chicky? S2 Ep16\": 949,\n",
              " 'MasterChef Australia S15 Ep01': 948,\n",
              " 'Iru Thuruvam': 948,\n",
              " 'Upin & Ipin S14 Ep03': 946,\n",
              " 'Upin & Ipin S14 Ep30': 945,\n",
              " 'Ceria Popstar Xtra': 944,\n",
              " 'Upin & Ipin S14 Ep24': 944,\n",
              " 'Raja Raja Chozhan': 944,\n",
              " 'Despicable Me 3': 943,\n",
              " 'Senario The Movie Episod 2 Beach Boys': 942,\n",
              " 'Upin & Ipin S14 Ep08': 941,\n",
              " 'Badanamu Kids Karaoke Ep022': 939,\n",
              " 'Badanamu Kids Karaoke Ep017': 939,\n",
              " 'Upin & Ipin S14 Ep35': 937,\n",
              " 'Villain': 934,\n",
              " 'Omar & Hana S3 Ep25': 934,\n",
              " \"Where's Chicky? S2 Ep15\": 933,\n",
              " 'Syurga Yang Kedua': 931,\n",
              " 'Upin & Ipin S14 Ep27': 929,\n",
              " \"Where's Chicky? S2 Ep14\": 929,\n",
              " 'Upin & Ipin S13 Ep05': 929,\n",
              " 'Badanamu Kids Karaoke Ep024': 929,\n",
              " \"Where's Chicky? S2 Ep20\": 927,\n",
              " 'Project: High Council Ep05': 926,\n",
              " 'Upin & Ipin S14 Ep02': 925,\n",
              " 'Upin & Ipin S11 Ep03': 925,\n",
              " 'Upin & Ipin S14 Ep31': 925,\n",
              " 'Love You Seven Times': 924,\n",
              " \"Where's Chicky? S2 Ep23\": 924,\n",
              " 'Zero': 923,\n",
              " 'Upin & Ipin S14 Ep26': 921,\n",
              " 'Upin & Ipin S14 Ep39': 919,\n",
              " 'Project: High Council Ep03': 919,\n",
              " 'Nadi Arena': 919,\n",
              " 'The Love You Give Me Ep12': 918,\n",
              " 'Badanamu Kids Karaoke Ep020': 918,\n",
              " \"Where's Chicky? S2 Ep13\": 916,\n",
              " '(L) FIBA: Australia vs Germany': 913,\n",
              " 'Saravedi Night': 913,\n",
              " 'Upin & Ipin S14 Ep13': 911,\n",
              " 'Estate': 911,\n",
              " 'Upin & Ipin S14 Ep38': 910,\n",
              " 'Gunman': 909,\n",
              " 'Upin & Ipin S15 Ep02': 908,\n",
              " 'Upin & Ipin S12 Ep10': 908,\n",
              " 'Extreme Makeover Home Edition (usa)': 907,\n",
              " 'Badanamu Kids Karaoke Ep023': 907,\n",
              " 'Purnama': 907,\n",
              " 'The Love You Give Me Ep14': 906,\n",
              " 'Dolphin Tale': 905,\n",
              " 'Dendam Aurora': 905,\n",
              " 'Upin & Ipin S14 Ep42': 904,\n",
              " \"Where's Chicky? S2 Ep19\": 904,\n",
              " 'Narcotics Heroes Ep10': 903,\n",
              " 'Varisu': 902,\n",
              " 'Upin & Ipin S12 Ep13': 902,\n",
              " \"Where's Chicky? S2 Ep25\": 902,\n",
              " 'King Kong (2005)': 899,\n",
              " 'Upin & Ipin S5 Ep04': 899,\n",
              " 'Upin & Ipin S4 Ep37': 895,\n",
              " 'Upin & Ipin S14 Ep33': 895,\n",
              " 'Upin & Ipin S5 Ep01': 894,\n",
              " 'Upin & Ipin S13 Ep15': 894,\n",
              " 'Upin & Ipin S13 Ep04': 893,\n",
              " \"Where's Chicky? S2 Ep24\": 892,\n",
              " 'Upin & Ipin S12 Ep31': 891,\n",
              " \"Where's Chicky? S2 Ep26\": 890,\n",
              " 'Katuri S3 Ep01': 890,\n",
              " 'Upin & Ipin S12 Ep14': 888,\n",
              " 'Upin & Ipin S4 Ep30': 888,\n",
              " '(L) FIBA: Brazil vs Spain': 887,\n",
              " 'Upin & Ipin S14 Ep21': 887,\n",
              " 'Upin Ipin S13 Ep09': 886,\n",
              " 'MW3: Everton vs Wolverhampton': 886,\n",
              " '(L) AWANI 7:45': 885,\n",
              " ...}"
            ]
          },
          "metadata": {},
          "execution_count": 113
        }
      ]
    },
    {
      "cell_type": "code",
      "execution_count": null,
      "metadata": {
        "id": "LkJ_BA94b9DK"
      },
      "outputs": [],
      "source": [
        "# since the dictionary is too big lets only see the first few elements\n",
        "# first_few_elements = 10\n",
        "# for key, value in distinct_contents_dictionary.items():\n",
        "#   print(key, \":\", distinct_contents_dictionary[key])\n",
        "#   first_few_elements -= 1\n",
        "#   if first_few_elements == 0:\n",
        "#     break"
      ]
    },
    {
      "cell_type": "markdown",
      "metadata": {
        "id": "VI5wGTWvqV_i"
      },
      "source": [
        "# Total count of distinct TV shows i.e contents"
      ]
    },
    {
      "cell_type": "code",
      "execution_count": null,
      "metadata": {
        "id": "Wlr518qSqKoC"
      },
      "outputs": [],
      "source": [
        "len(distinct_contents_dictionary)"
      ]
    },
    {
      "cell_type": "markdown",
      "source": [
        "## Adding date, time, day columns"
      ],
      "metadata": {
        "id": "9LjNoq7A7ES8"
      }
    },
    {
      "cell_type": "code",
      "execution_count": null,
      "metadata": {
        "id": "Ok77A4WgXBwR"
      },
      "outputs": [],
      "source": [
        "datetime_format = \"%Y-%m-%d %H:%M:%S.%f %Z\"\n",
        "\n",
        "# Convert the column to datetime using the specified format\n",
        "nz_duartion_df['event_start_tz'] = pd.to_datetime(nz_duartion_df['event_start_tz'], format=datetime_format)\n",
        "\n",
        "# Check the data type of the 'event_start_tz' column\n",
        "print(nz_duartion_df['event_start_tz'].dtype)\n"
      ]
    },
    {
      "cell_type": "code",
      "execution_count": null,
      "metadata": {
        "id": "WzeD0XRKt32T"
      },
      "outputs": [],
      "source": [
        "nz_duartion_df['date'] = nz_duartion_df['event_start_tz'].dt.date\n",
        "nz_duartion_df['time'] = nz_duartion_df['event_start_tz'].dt.time\n",
        "nz_duartion_df['timezone'] = nz_duartion_df['event_start_tz'].dt.tz\n",
        "nz_duartion_df['end_time'] = nz_duartion_df['event_start_tz'] + pd.to_timedelta(nz_duartion_df['duration_seconds'], unit='s')\n",
        "nz_duartion_df['timestamp'] = nz_duartion_df['event_start_tz'].apply(lambda x: x.timestamp())\n",
        "# Assuming you have a DataFrame named 'sampled_df' with a 'date' column\n",
        "\n",
        "# Convert the 'date' column to a datetime format\n",
        "nz_duartion_df['date'] = pd.to_datetime(nz_duartion_df['date'])\n",
        "\n",
        "# Add a new 'day' column to represent the day of the week\n",
        "nz_duartion_df['day'] = nz_duartion_df['date'].dt.day_name()\n",
        "\n"
      ]
    },
    {
      "cell_type": "code",
      "execution_count": null,
      "metadata": {
        "id": "R9ajwHs2MCf9"
      },
      "outputs": [],
      "source": [
        "nz_duartion_df.shape"
      ]
    },
    {
      "cell_type": "code",
      "execution_count": null,
      "metadata": {
        "id": "Yrqse54_ygmH"
      },
      "outputs": [],
      "source": [
        "nz_duartion_df.info()"
      ]
    },
    {
      "cell_type": "code",
      "execution_count": null,
      "metadata": {
        "id": "3zwsziuHt1pq"
      },
      "outputs": [],
      "source": [
        "nz_duartion_df[\"event_start_tz\"][0]\n"
      ]
    },
    {
      "cell_type": "code",
      "execution_count": null,
      "metadata": {
        "id": "mZy0kBnFt5g6"
      },
      "outputs": [],
      "source": [
        "nz_duartion_df"
      ]
    },
    {
      "cell_type": "markdown",
      "metadata": {
        "id": "VycU43iRYVK3"
      },
      "source": [
        "## duration_seconds is the only numerical field hence lets see description of that field"
      ]
    },
    {
      "cell_type": "code",
      "execution_count": null,
      "metadata": {
        "id": "Ul6hY64dPGEj"
      },
      "outputs": [],
      "source": [
        "nz_duartion_df.describe()"
      ]
    },
    {
      "cell_type": "code",
      "execution_count": null,
      "metadata": {
        "id": "G5NsD16VXd6l"
      },
      "outputs": [],
      "source": [
        "nz_duartion_df.info()"
      ]
    },
    {
      "cell_type": "markdown",
      "metadata": {
        "id": "TpiSFnXkiS4X"
      },
      "source": [
        "### ***sampled dataframe  is what % of orignal dataframe ?***"
      ]
    },
    {
      "cell_type": "code",
      "execution_count": null,
      "metadata": {
        "id": "L9K7C30bh_FU"
      },
      "outputs": [],
      "source": [
        "(sampled_df.shape[0] / main_df.shape[0]) * 100"
      ]
    },
    {
      "cell_type": "markdown",
      "metadata": {
        "id": "VnOKmd5KkB55"
      },
      "source": [
        "## List of distinct content providers"
      ]
    },
    {
      "cell_type": "code",
      "execution_count": null,
      "metadata": {
        "id": "gLPm29dgg8SX"
      },
      "outputs": [],
      "source": [
        "provider_list = nz_duartion_df[\"content_source\"].value_counts()"
      ]
    },
    {
      "cell_type": "code",
      "execution_count": null,
      "metadata": {
        "id": "JS2qbT0DlHaL"
      },
      "outputs": [],
      "source": [
        "provider_list"
      ]
    },
    {
      "cell_type": "markdown",
      "metadata": {
        "id": "7j82ySb9mTQi"
      },
      "source": [
        "### top 20 content providers"
      ]
    },
    {
      "cell_type": "code",
      "execution_count": null,
      "metadata": {
        "id": "x7CvL6BkkQMM"
      },
      "outputs": [],
      "source": [
        "provider_list.head(20) # seeing top 20 content providers"
      ]
    },
    {
      "cell_type": "markdown",
      "source": [
        "### bottom 20 content providers"
      ],
      "metadata": {
        "id": "jB5gYp5cywCh"
      }
    },
    {
      "cell_type": "code",
      "source": [
        "provider_list.tail(20)"
      ],
      "metadata": {
        "id": "5S4kj3d_yvsc"
      },
      "execution_count": null,
      "outputs": []
    },
    {
      "cell_type": "code",
      "execution_count": null,
      "metadata": {
        "id": "jBaQPQQSmBAG"
      },
      "outputs": [],
      "source": [
        "! pip install pandas_profiling\n",
        "from pandas_profiling import ProfileReport\n",
        "sampled_df_profile = ProfileReport(sampled_df)\n",
        "sampled_df_profile.to_file(output_file = '/content/sampled_df_profile.html')"
      ]
    },
    {
      "cell_type": "code",
      "execution_count": null,
      "metadata": {
        "id": "S-rM00GKmpwR"
      },
      "outputs": [],
      "source": [
        "nz_duration_df_profile =  ProfileReport(nz_duration_df_profile)\n",
        "nz_duration_df_profile.to_file(output_file = '/content/nz_duration_df_profile.html')"
      ]
    }
  ],
  "metadata": {
    "colab": {
      "provenance": [],
      "authorship_tag": "ABX9TyPPuN1RqJzkxmcbWfjAaHp3",
      "include_colab_link": true
    },
    "kernelspec": {
      "display_name": "Python 3",
      "name": "python3"
    },
    "language_info": {
      "name": "python"
    }
  },
  "nbformat": 4,
  "nbformat_minor": 0
}