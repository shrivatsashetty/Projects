{
  "nbformat": 4,
  "nbformat_minor": 0,
  "metadata": {
    "colab": {
      "provenance": [],
      "authorship_tag": "ABX9TyOGrsGFoICcxbEciPHy7XtL",
      "include_colab_link": true
    },
    "kernelspec": {
      "name": "python3",
      "display_name": "Python 3"
    },
    "language_info": {
      "name": "python"
    }
  },
  "cells": [
    {
      "cell_type": "markdown",
      "metadata": {
        "id": "view-in-github",
        "colab_type": "text"
      },
      "source": [
        "<a href=\"https://colab.research.google.com/github/shrivatsashetty/Projects/blob/main/Synamedia_Project.ipynb\" target=\"_parent\"><img src=\"https://colab.research.google.com/assets/colab-badge.svg\" alt=\"Open In Colab\"/></a>"
      ]
    },
    {
      "cell_type": "markdown",
      "source": [
        "# **Import modules**"
      ],
      "metadata": {
        "id": "ozY28M-PC9n8"
      }
    },
    {
      "cell_type": "code",
      "execution_count": 1,
      "metadata": {
        "id": "e673eFsExghN"
      },
      "outputs": [],
      "source": [
        "import numpy as np\n",
        "import pandas as pd\n",
        "import matplotlib.pyplot as plt\n",
        "import seaborn as sns\n",
        "# %matplotlib notebook\n",
        "# !pip install pandas-profiling"
      ]
    },
    {
      "cell_type": "code",
      "source": [
        "from google.colab import drive\n",
        "drive.mount('/content/drive/')"
      ],
      "metadata": {
        "id": "GhwuV60X0Oc3",
        "colab": {
          "base_uri": "https://localhost:8080/"
        },
        "outputId": "1f158b53-a7f5-4e71-bffe-f9978ab9a86c"
      },
      "execution_count": 2,
      "outputs": [
        {
          "output_type": "stream",
          "name": "stdout",
          "text": [
            "Drive already mounted at /content/drive/; to attempt to forcibly remount, call drive.mount(\"/content/drive/\", force_remount=True).\n"
          ]
        }
      ]
    },
    {
      "cell_type": "code",
      "source": [
        "main_df = pd.read_csv(\"/content/drive/MyDrive/Data-Science/2DaysViewingSession.csv\")"
      ],
      "metadata": {
        "id": "b-hREszXxwTt"
      },
      "execution_count": 3,
      "outputs": []
    },
    {
      "cell_type": "markdown",
      "source": [
        "# **Tabular form**"
      ],
      "metadata": {
        "id": "m-rLWiFUCyd_"
      }
    },
    {
      "cell_type": "code",
      "source": [
        "main_df"
      ],
      "metadata": {
        "colab": {
          "base_uri": "https://localhost:8080/",
          "height": 423
        },
        "id": "SWZgvKt02pmp",
        "outputId": "bae49576-25fc-43df-b3b2-7c23ea239061"
      },
      "execution_count": 4,
      "outputs": [
        {
          "output_type": "execute_result",
          "data": {
            "text/plain": [
              "                 state                          event_start_tz  \\\n",
              "0             Selangor  2023-08-27 11:03:13.686 Asia/Singapore   \n",
              "1         Kuala Lumpur  2023-08-27 10:48:56.982 Asia/Singapore   \n",
              "2                Johor  2023-08-27 10:56:51.851 Asia/Singapore   \n",
              "3         Kuala Lumpur  2023-08-27 10:31:40.717 Asia/Singapore   \n",
              "4               Penang  2023-08-27 10:24:16.194 Asia/Singapore   \n",
              "...                ...                                     ...   \n",
              "26011962  Kuala Lumpur  2023-08-28 15:04:59.497 Asia/Singapore   \n",
              "26011963  Kuala Lumpur  2023-08-28 15:05:03.023 Asia/Singapore   \n",
              "26011964  Kuala Lumpur  2023-08-28 15:05:16.592 Asia/Singapore   \n",
              "26011965       Sarawak  2023-08-28 14:59:50.687 Asia/Singapore   \n",
              "26011966  Kuala Lumpur  2023-08-28 15:00:12.829 Asia/Singapore   \n",
              "\n",
              "          duration_seconds content_type                      content  \\\n",
              "0                       40          VOD                  Ombak Rindu   \n",
              "1                      424          VOD    Pada Zaman Dahulu S4 Ep08   \n",
              "2                      398          VOD         Upin & Ipin S16 Ep34   \n",
              "3                     1411          VOD         Tanah Kubur S13 Ep08   \n",
              "4                     2526          VOD        Narcotics Heroes Ep17   \n",
              "...                    ...          ...                          ...   \n",
              "26011962                 1         CDVR          Ghost of Relativity   \n",
              "26011963               906         CDVR          Ghost of Relativity   \n",
              "26011964               362          VOD         Upin & Ipin S15 Ep34   \n",
              "26011965              1241          VOD               Mechamato Ep01   \n",
              "26011966               672          VOD  Tayo The Little Bus S5 Ep13   \n",
              "\n",
              "          content_source  \n",
              "0               astro.2d  \n",
              "1               astro.7d  \n",
              "2              astro.30d  \n",
              "3              astro.30d  \n",
              "4              astro.30d  \n",
              "...                  ...  \n",
              "26011962  TVB CLASSIC HD  \n",
              "26011963  TVB CLASSIC HD  \n",
              "26011964       astro.30d  \n",
              "26011965       astro.30d  \n",
              "26011966        astro.7d  \n",
              "\n",
              "[26011967 rows x 6 columns]"
            ],
            "text/html": [
              "\n",
              "  <div id=\"df-3336de11-7e11-4346-8a1e-3c5ef5c39347\" class=\"colab-df-container\">\n",
              "    <div>\n",
              "<style scoped>\n",
              "    .dataframe tbody tr th:only-of-type {\n",
              "        vertical-align: middle;\n",
              "    }\n",
              "\n",
              "    .dataframe tbody tr th {\n",
              "        vertical-align: top;\n",
              "    }\n",
              "\n",
              "    .dataframe thead th {\n",
              "        text-align: right;\n",
              "    }\n",
              "</style>\n",
              "<table border=\"1\" class=\"dataframe\">\n",
              "  <thead>\n",
              "    <tr style=\"text-align: right;\">\n",
              "      <th></th>\n",
              "      <th>state</th>\n",
              "      <th>event_start_tz</th>\n",
              "      <th>duration_seconds</th>\n",
              "      <th>content_type</th>\n",
              "      <th>content</th>\n",
              "      <th>content_source</th>\n",
              "    </tr>\n",
              "  </thead>\n",
              "  <tbody>\n",
              "    <tr>\n",
              "      <th>0</th>\n",
              "      <td>Selangor</td>\n",
              "      <td>2023-08-27 11:03:13.686 Asia/Singapore</td>\n",
              "      <td>40</td>\n",
              "      <td>VOD</td>\n",
              "      <td>Ombak Rindu</td>\n",
              "      <td>astro.2d</td>\n",
              "    </tr>\n",
              "    <tr>\n",
              "      <th>1</th>\n",
              "      <td>Kuala Lumpur</td>\n",
              "      <td>2023-08-27 10:48:56.982 Asia/Singapore</td>\n",
              "      <td>424</td>\n",
              "      <td>VOD</td>\n",
              "      <td>Pada Zaman Dahulu S4 Ep08</td>\n",
              "      <td>astro.7d</td>\n",
              "    </tr>\n",
              "    <tr>\n",
              "      <th>2</th>\n",
              "      <td>Johor</td>\n",
              "      <td>2023-08-27 10:56:51.851 Asia/Singapore</td>\n",
              "      <td>398</td>\n",
              "      <td>VOD</td>\n",
              "      <td>Upin &amp; Ipin S16 Ep34</td>\n",
              "      <td>astro.30d</td>\n",
              "    </tr>\n",
              "    <tr>\n",
              "      <th>3</th>\n",
              "      <td>Kuala Lumpur</td>\n",
              "      <td>2023-08-27 10:31:40.717 Asia/Singapore</td>\n",
              "      <td>1411</td>\n",
              "      <td>VOD</td>\n",
              "      <td>Tanah Kubur S13 Ep08</td>\n",
              "      <td>astro.30d</td>\n",
              "    </tr>\n",
              "    <tr>\n",
              "      <th>4</th>\n",
              "      <td>Penang</td>\n",
              "      <td>2023-08-27 10:24:16.194 Asia/Singapore</td>\n",
              "      <td>2526</td>\n",
              "      <td>VOD</td>\n",
              "      <td>Narcotics Heroes Ep17</td>\n",
              "      <td>astro.30d</td>\n",
              "    </tr>\n",
              "    <tr>\n",
              "      <th>...</th>\n",
              "      <td>...</td>\n",
              "      <td>...</td>\n",
              "      <td>...</td>\n",
              "      <td>...</td>\n",
              "      <td>...</td>\n",
              "      <td>...</td>\n",
              "    </tr>\n",
              "    <tr>\n",
              "      <th>26011962</th>\n",
              "      <td>Kuala Lumpur</td>\n",
              "      <td>2023-08-28 15:04:59.497 Asia/Singapore</td>\n",
              "      <td>1</td>\n",
              "      <td>CDVR</td>\n",
              "      <td>Ghost of Relativity</td>\n",
              "      <td>TVB CLASSIC HD</td>\n",
              "    </tr>\n",
              "    <tr>\n",
              "      <th>26011963</th>\n",
              "      <td>Kuala Lumpur</td>\n",
              "      <td>2023-08-28 15:05:03.023 Asia/Singapore</td>\n",
              "      <td>906</td>\n",
              "      <td>CDVR</td>\n",
              "      <td>Ghost of Relativity</td>\n",
              "      <td>TVB CLASSIC HD</td>\n",
              "    </tr>\n",
              "    <tr>\n",
              "      <th>26011964</th>\n",
              "      <td>Kuala Lumpur</td>\n",
              "      <td>2023-08-28 15:05:16.592 Asia/Singapore</td>\n",
              "      <td>362</td>\n",
              "      <td>VOD</td>\n",
              "      <td>Upin &amp; Ipin S15 Ep34</td>\n",
              "      <td>astro.30d</td>\n",
              "    </tr>\n",
              "    <tr>\n",
              "      <th>26011965</th>\n",
              "      <td>Sarawak</td>\n",
              "      <td>2023-08-28 14:59:50.687 Asia/Singapore</td>\n",
              "      <td>1241</td>\n",
              "      <td>VOD</td>\n",
              "      <td>Mechamato Ep01</td>\n",
              "      <td>astro.30d</td>\n",
              "    </tr>\n",
              "    <tr>\n",
              "      <th>26011966</th>\n",
              "      <td>Kuala Lumpur</td>\n",
              "      <td>2023-08-28 15:00:12.829 Asia/Singapore</td>\n",
              "      <td>672</td>\n",
              "      <td>VOD</td>\n",
              "      <td>Tayo The Little Bus S5 Ep13</td>\n",
              "      <td>astro.7d</td>\n",
              "    </tr>\n",
              "  </tbody>\n",
              "</table>\n",
              "<p>26011967 rows × 6 columns</p>\n",
              "</div>\n",
              "    <div class=\"colab-df-buttons\">\n",
              "\n",
              "  <div class=\"colab-df-container\">\n",
              "    <button class=\"colab-df-convert\" onclick=\"convertToInteractive('df-3336de11-7e11-4346-8a1e-3c5ef5c39347')\"\n",
              "            title=\"Convert this dataframe to an interactive table.\"\n",
              "            style=\"display:none;\">\n",
              "\n",
              "  <svg xmlns=\"http://www.w3.org/2000/svg\" height=\"24px\" viewBox=\"0 -960 960 960\">\n",
              "    <path d=\"M120-120v-720h720v720H120Zm60-500h600v-160H180v160Zm220 220h160v-160H400v160Zm0 220h160v-160H400v160ZM180-400h160v-160H180v160Zm440 0h160v-160H620v160ZM180-180h160v-160H180v160Zm440 0h160v-160H620v160Z\"/>\n",
              "  </svg>\n",
              "    </button>\n",
              "\n",
              "  <style>\n",
              "    .colab-df-container {\n",
              "      display:flex;\n",
              "      gap: 12px;\n",
              "    }\n",
              "\n",
              "    .colab-df-convert {\n",
              "      background-color: #E8F0FE;\n",
              "      border: none;\n",
              "      border-radius: 50%;\n",
              "      cursor: pointer;\n",
              "      display: none;\n",
              "      fill: #1967D2;\n",
              "      height: 32px;\n",
              "      padding: 0 0 0 0;\n",
              "      width: 32px;\n",
              "    }\n",
              "\n",
              "    .colab-df-convert:hover {\n",
              "      background-color: #E2EBFA;\n",
              "      box-shadow: 0px 1px 2px rgba(60, 64, 67, 0.3), 0px 1px 3px 1px rgba(60, 64, 67, 0.15);\n",
              "      fill: #174EA6;\n",
              "    }\n",
              "\n",
              "    .colab-df-buttons div {\n",
              "      margin-bottom: 4px;\n",
              "    }\n",
              "\n",
              "    [theme=dark] .colab-df-convert {\n",
              "      background-color: #3B4455;\n",
              "      fill: #D2E3FC;\n",
              "    }\n",
              "\n",
              "    [theme=dark] .colab-df-convert:hover {\n",
              "      background-color: #434B5C;\n",
              "      box-shadow: 0px 1px 3px 1px rgba(0, 0, 0, 0.15);\n",
              "      filter: drop-shadow(0px 1px 2px rgba(0, 0, 0, 0.3));\n",
              "      fill: #FFFFFF;\n",
              "    }\n",
              "  </style>\n",
              "\n",
              "    <script>\n",
              "      const buttonEl =\n",
              "        document.querySelector('#df-3336de11-7e11-4346-8a1e-3c5ef5c39347 button.colab-df-convert');\n",
              "      buttonEl.style.display =\n",
              "        google.colab.kernel.accessAllowed ? 'block' : 'none';\n",
              "\n",
              "      async function convertToInteractive(key) {\n",
              "        const element = document.querySelector('#df-3336de11-7e11-4346-8a1e-3c5ef5c39347');\n",
              "        const dataTable =\n",
              "          await google.colab.kernel.invokeFunction('convertToInteractive',\n",
              "                                                    [key], {});\n",
              "        if (!dataTable) return;\n",
              "\n",
              "        const docLinkHtml = 'Like what you see? Visit the ' +\n",
              "          '<a target=\"_blank\" href=https://colab.research.google.com/notebooks/data_table.ipynb>data table notebook</a>'\n",
              "          + ' to learn more about interactive tables.';\n",
              "        element.innerHTML = '';\n",
              "        dataTable['output_type'] = 'display_data';\n",
              "        await google.colab.output.renderOutput(dataTable, element);\n",
              "        const docLink = document.createElement('div');\n",
              "        docLink.innerHTML = docLinkHtml;\n",
              "        element.appendChild(docLink);\n",
              "      }\n",
              "    </script>\n",
              "  </div>\n",
              "\n",
              "\n",
              "<div id=\"df-c5781c3e-14c5-4375-8197-2b7f01ed17e9\">\n",
              "  <button class=\"colab-df-quickchart\" onclick=\"quickchart('df-c5781c3e-14c5-4375-8197-2b7f01ed17e9')\"\n",
              "            title=\"Suggest charts.\"\n",
              "            style=\"display:none;\">\n",
              "\n",
              "<svg xmlns=\"http://www.w3.org/2000/svg\" height=\"24px\"viewBox=\"0 0 24 24\"\n",
              "     width=\"24px\">\n",
              "    <g>\n",
              "        <path d=\"M19 3H5c-1.1 0-2 .9-2 2v14c0 1.1.9 2 2 2h14c1.1 0 2-.9 2-2V5c0-1.1-.9-2-2-2zM9 17H7v-7h2v7zm4 0h-2V7h2v10zm4 0h-2v-4h2v4z\"/>\n",
              "    </g>\n",
              "</svg>\n",
              "  </button>\n",
              "\n",
              "<style>\n",
              "  .colab-df-quickchart {\n",
              "      --bg-color: #E8F0FE;\n",
              "      --fill-color: #1967D2;\n",
              "      --hover-bg-color: #E2EBFA;\n",
              "      --hover-fill-color: #174EA6;\n",
              "      --disabled-fill-color: #AAA;\n",
              "      --disabled-bg-color: #DDD;\n",
              "  }\n",
              "\n",
              "  [theme=dark] .colab-df-quickchart {\n",
              "      --bg-color: #3B4455;\n",
              "      --fill-color: #D2E3FC;\n",
              "      --hover-bg-color: #434B5C;\n",
              "      --hover-fill-color: #FFFFFF;\n",
              "      --disabled-bg-color: #3B4455;\n",
              "      --disabled-fill-color: #666;\n",
              "  }\n",
              "\n",
              "  .colab-df-quickchart {\n",
              "    background-color: var(--bg-color);\n",
              "    border: none;\n",
              "    border-radius: 50%;\n",
              "    cursor: pointer;\n",
              "    display: none;\n",
              "    fill: var(--fill-color);\n",
              "    height: 32px;\n",
              "    padding: 0;\n",
              "    width: 32px;\n",
              "  }\n",
              "\n",
              "  .colab-df-quickchart:hover {\n",
              "    background-color: var(--hover-bg-color);\n",
              "    box-shadow: 0 1px 2px rgba(60, 64, 67, 0.3), 0 1px 3px 1px rgba(60, 64, 67, 0.15);\n",
              "    fill: var(--button-hover-fill-color);\n",
              "  }\n",
              "\n",
              "  .colab-df-quickchart-complete:disabled,\n",
              "  .colab-df-quickchart-complete:disabled:hover {\n",
              "    background-color: var(--disabled-bg-color);\n",
              "    fill: var(--disabled-fill-color);\n",
              "    box-shadow: none;\n",
              "  }\n",
              "\n",
              "  .colab-df-spinner {\n",
              "    border: 2px solid var(--fill-color);\n",
              "    border-color: transparent;\n",
              "    border-bottom-color: var(--fill-color);\n",
              "    animation:\n",
              "      spin 1s steps(1) infinite;\n",
              "  }\n",
              "\n",
              "  @keyframes spin {\n",
              "    0% {\n",
              "      border-color: transparent;\n",
              "      border-bottom-color: var(--fill-color);\n",
              "      border-left-color: var(--fill-color);\n",
              "    }\n",
              "    20% {\n",
              "      border-color: transparent;\n",
              "      border-left-color: var(--fill-color);\n",
              "      border-top-color: var(--fill-color);\n",
              "    }\n",
              "    30% {\n",
              "      border-color: transparent;\n",
              "      border-left-color: var(--fill-color);\n",
              "      border-top-color: var(--fill-color);\n",
              "      border-right-color: var(--fill-color);\n",
              "    }\n",
              "    40% {\n",
              "      border-color: transparent;\n",
              "      border-right-color: var(--fill-color);\n",
              "      border-top-color: var(--fill-color);\n",
              "    }\n",
              "    60% {\n",
              "      border-color: transparent;\n",
              "      border-right-color: var(--fill-color);\n",
              "    }\n",
              "    80% {\n",
              "      border-color: transparent;\n",
              "      border-right-color: var(--fill-color);\n",
              "      border-bottom-color: var(--fill-color);\n",
              "    }\n",
              "    90% {\n",
              "      border-color: transparent;\n",
              "      border-bottom-color: var(--fill-color);\n",
              "    }\n",
              "  }\n",
              "</style>\n",
              "\n",
              "  <script>\n",
              "    async function quickchart(key) {\n",
              "      const quickchartButtonEl =\n",
              "        document.querySelector('#' + key + ' button');\n",
              "      quickchartButtonEl.disabled = true;  // To prevent multiple clicks.\n",
              "      quickchartButtonEl.classList.add('colab-df-spinner');\n",
              "      try {\n",
              "        const charts = await google.colab.kernel.invokeFunction(\n",
              "            'suggestCharts', [key], {});\n",
              "      } catch (error) {\n",
              "        console.error('Error during call to suggestCharts:', error);\n",
              "      }\n",
              "      quickchartButtonEl.classList.remove('colab-df-spinner');\n",
              "      quickchartButtonEl.classList.add('colab-df-quickchart-complete');\n",
              "    }\n",
              "    (() => {\n",
              "      let quickchartButtonEl =\n",
              "        document.querySelector('#df-c5781c3e-14c5-4375-8197-2b7f01ed17e9 button');\n",
              "      quickchartButtonEl.style.display =\n",
              "        google.colab.kernel.accessAllowed ? 'block' : 'none';\n",
              "    })();\n",
              "  </script>\n",
              "</div>\n",
              "    </div>\n",
              "  </div>\n"
            ]
          },
          "metadata": {},
          "execution_count": 4
        }
      ]
    },
    {
      "cell_type": "markdown",
      "source": [
        "# *main dataframe shape*"
      ],
      "metadata": {
        "id": "jBJooQ5fDVE3"
      }
    },
    {
      "cell_type": "code",
      "source": [
        "main_df.shape"
      ],
      "metadata": {
        "colab": {
          "base_uri": "https://localhost:8080/"
        },
        "id": "_Fa91j-642dw",
        "outputId": "8d2fb208-69e8-40a1-e08b-3a33cbc5c318"
      },
      "execution_count": 5,
      "outputs": [
        {
          "output_type": "execute_result",
          "data": {
            "text/plain": [
              "(26011967, 6)"
            ]
          },
          "metadata": {},
          "execution_count": 5
        }
      ]
    },
    {
      "cell_type": "markdown",
      "source": [
        "### ***the main dataframe contains 2,60,11,967 records***"
      ],
      "metadata": {
        "id": "rVBAbQMtTReH"
      }
    },
    {
      "cell_type": "markdown",
      "source": [
        "# main dataset columns"
      ],
      "metadata": {
        "id": "N9m3DFWDDk-V"
      }
    },
    {
      "cell_type": "code",
      "source": [
        "i = 1\n",
        "print(\"The dataset contains the following columns\")\n",
        "for column in main_df.columns:\n",
        "  print(i,\".\",column)\n",
        "  i+=1"
      ],
      "metadata": {
        "colab": {
          "base_uri": "https://localhost:8080/"
        },
        "id": "mAZC1VKz_S_z",
        "outputId": "8c1a00af-da9b-404c-eb2d-5117d889de01"
      },
      "execution_count": 6,
      "outputs": [
        {
          "output_type": "stream",
          "name": "stdout",
          "text": [
            "The dataset contains the following columns\n",
            "1 . state\n",
            "2 . event_start_tz\n",
            "3 . duration_seconds\n",
            "4 . content_type\n",
            "5 . content\n",
            "6 . content_source\n"
          ]
        }
      ]
    },
    {
      "cell_type": "code",
      "source": [
        "main_df.describe()"
      ],
      "metadata": {
        "colab": {
          "base_uri": "https://localhost:8080/",
          "height": 300
        },
        "id": "xAw9yGLK5Dpe",
        "outputId": "15d661f4-ca56-448a-b52e-163ca8c29264"
      },
      "execution_count": 7,
      "outputs": [
        {
          "output_type": "execute_result",
          "data": {
            "text/plain": [
              "       duration_seconds\n",
              "count      2.601197e+07\n",
              "mean       7.747659e+02\n",
              "std        1.274039e+03\n",
              "min        0.000000e+00\n",
              "25%        5.700000e+01\n",
              "50%        2.490000e+02\n",
              "75%        9.730000e+02\n",
              "max        3.239500e+04"
            ],
            "text/html": [
              "\n",
              "  <div id=\"df-4d57c2d7-22cc-443f-9ce2-5d3a9cbc687d\" class=\"colab-df-container\">\n",
              "    <div>\n",
              "<style scoped>\n",
              "    .dataframe tbody tr th:only-of-type {\n",
              "        vertical-align: middle;\n",
              "    }\n",
              "\n",
              "    .dataframe tbody tr th {\n",
              "        vertical-align: top;\n",
              "    }\n",
              "\n",
              "    .dataframe thead th {\n",
              "        text-align: right;\n",
              "    }\n",
              "</style>\n",
              "<table border=\"1\" class=\"dataframe\">\n",
              "  <thead>\n",
              "    <tr style=\"text-align: right;\">\n",
              "      <th></th>\n",
              "      <th>duration_seconds</th>\n",
              "    </tr>\n",
              "  </thead>\n",
              "  <tbody>\n",
              "    <tr>\n",
              "      <th>count</th>\n",
              "      <td>2.601197e+07</td>\n",
              "    </tr>\n",
              "    <tr>\n",
              "      <th>mean</th>\n",
              "      <td>7.747659e+02</td>\n",
              "    </tr>\n",
              "    <tr>\n",
              "      <th>std</th>\n",
              "      <td>1.274039e+03</td>\n",
              "    </tr>\n",
              "    <tr>\n",
              "      <th>min</th>\n",
              "      <td>0.000000e+00</td>\n",
              "    </tr>\n",
              "    <tr>\n",
              "      <th>25%</th>\n",
              "      <td>5.700000e+01</td>\n",
              "    </tr>\n",
              "    <tr>\n",
              "      <th>50%</th>\n",
              "      <td>2.490000e+02</td>\n",
              "    </tr>\n",
              "    <tr>\n",
              "      <th>75%</th>\n",
              "      <td>9.730000e+02</td>\n",
              "    </tr>\n",
              "    <tr>\n",
              "      <th>max</th>\n",
              "      <td>3.239500e+04</td>\n",
              "    </tr>\n",
              "  </tbody>\n",
              "</table>\n",
              "</div>\n",
              "    <div class=\"colab-df-buttons\">\n",
              "\n",
              "  <div class=\"colab-df-container\">\n",
              "    <button class=\"colab-df-convert\" onclick=\"convertToInteractive('df-4d57c2d7-22cc-443f-9ce2-5d3a9cbc687d')\"\n",
              "            title=\"Convert this dataframe to an interactive table.\"\n",
              "            style=\"display:none;\">\n",
              "\n",
              "  <svg xmlns=\"http://www.w3.org/2000/svg\" height=\"24px\" viewBox=\"0 -960 960 960\">\n",
              "    <path d=\"M120-120v-720h720v720H120Zm60-500h600v-160H180v160Zm220 220h160v-160H400v160Zm0 220h160v-160H400v160ZM180-400h160v-160H180v160Zm440 0h160v-160H620v160ZM180-180h160v-160H180v160Zm440 0h160v-160H620v160Z\"/>\n",
              "  </svg>\n",
              "    </button>\n",
              "\n",
              "  <style>\n",
              "    .colab-df-container {\n",
              "      display:flex;\n",
              "      gap: 12px;\n",
              "    }\n",
              "\n",
              "    .colab-df-convert {\n",
              "      background-color: #E8F0FE;\n",
              "      border: none;\n",
              "      border-radius: 50%;\n",
              "      cursor: pointer;\n",
              "      display: none;\n",
              "      fill: #1967D2;\n",
              "      height: 32px;\n",
              "      padding: 0 0 0 0;\n",
              "      width: 32px;\n",
              "    }\n",
              "\n",
              "    .colab-df-convert:hover {\n",
              "      background-color: #E2EBFA;\n",
              "      box-shadow: 0px 1px 2px rgba(60, 64, 67, 0.3), 0px 1px 3px 1px rgba(60, 64, 67, 0.15);\n",
              "      fill: #174EA6;\n",
              "    }\n",
              "\n",
              "    .colab-df-buttons div {\n",
              "      margin-bottom: 4px;\n",
              "    }\n",
              "\n",
              "    [theme=dark] .colab-df-convert {\n",
              "      background-color: #3B4455;\n",
              "      fill: #D2E3FC;\n",
              "    }\n",
              "\n",
              "    [theme=dark] .colab-df-convert:hover {\n",
              "      background-color: #434B5C;\n",
              "      box-shadow: 0px 1px 3px 1px rgba(0, 0, 0, 0.15);\n",
              "      filter: drop-shadow(0px 1px 2px rgba(0, 0, 0, 0.3));\n",
              "      fill: #FFFFFF;\n",
              "    }\n",
              "  </style>\n",
              "\n",
              "    <script>\n",
              "      const buttonEl =\n",
              "        document.querySelector('#df-4d57c2d7-22cc-443f-9ce2-5d3a9cbc687d button.colab-df-convert');\n",
              "      buttonEl.style.display =\n",
              "        google.colab.kernel.accessAllowed ? 'block' : 'none';\n",
              "\n",
              "      async function convertToInteractive(key) {\n",
              "        const element = document.querySelector('#df-4d57c2d7-22cc-443f-9ce2-5d3a9cbc687d');\n",
              "        const dataTable =\n",
              "          await google.colab.kernel.invokeFunction('convertToInteractive',\n",
              "                                                    [key], {});\n",
              "        if (!dataTable) return;\n",
              "\n",
              "        const docLinkHtml = 'Like what you see? Visit the ' +\n",
              "          '<a target=\"_blank\" href=https://colab.research.google.com/notebooks/data_table.ipynb>data table notebook</a>'\n",
              "          + ' to learn more about interactive tables.';\n",
              "        element.innerHTML = '';\n",
              "        dataTable['output_type'] = 'display_data';\n",
              "        await google.colab.output.renderOutput(dataTable, element);\n",
              "        const docLink = document.createElement('div');\n",
              "        docLink.innerHTML = docLinkHtml;\n",
              "        element.appendChild(docLink);\n",
              "      }\n",
              "    </script>\n",
              "  </div>\n",
              "\n",
              "\n",
              "<div id=\"df-c055848a-9e42-4c70-9db1-024ddf677e1c\">\n",
              "  <button class=\"colab-df-quickchart\" onclick=\"quickchart('df-c055848a-9e42-4c70-9db1-024ddf677e1c')\"\n",
              "            title=\"Suggest charts.\"\n",
              "            style=\"display:none;\">\n",
              "\n",
              "<svg xmlns=\"http://www.w3.org/2000/svg\" height=\"24px\"viewBox=\"0 0 24 24\"\n",
              "     width=\"24px\">\n",
              "    <g>\n",
              "        <path d=\"M19 3H5c-1.1 0-2 .9-2 2v14c0 1.1.9 2 2 2h14c1.1 0 2-.9 2-2V5c0-1.1-.9-2-2-2zM9 17H7v-7h2v7zm4 0h-2V7h2v10zm4 0h-2v-4h2v4z\"/>\n",
              "    </g>\n",
              "</svg>\n",
              "  </button>\n",
              "\n",
              "<style>\n",
              "  .colab-df-quickchart {\n",
              "      --bg-color: #E8F0FE;\n",
              "      --fill-color: #1967D2;\n",
              "      --hover-bg-color: #E2EBFA;\n",
              "      --hover-fill-color: #174EA6;\n",
              "      --disabled-fill-color: #AAA;\n",
              "      --disabled-bg-color: #DDD;\n",
              "  }\n",
              "\n",
              "  [theme=dark] .colab-df-quickchart {\n",
              "      --bg-color: #3B4455;\n",
              "      --fill-color: #D2E3FC;\n",
              "      --hover-bg-color: #434B5C;\n",
              "      --hover-fill-color: #FFFFFF;\n",
              "      --disabled-bg-color: #3B4455;\n",
              "      --disabled-fill-color: #666;\n",
              "  }\n",
              "\n",
              "  .colab-df-quickchart {\n",
              "    background-color: var(--bg-color);\n",
              "    border: none;\n",
              "    border-radius: 50%;\n",
              "    cursor: pointer;\n",
              "    display: none;\n",
              "    fill: var(--fill-color);\n",
              "    height: 32px;\n",
              "    padding: 0;\n",
              "    width: 32px;\n",
              "  }\n",
              "\n",
              "  .colab-df-quickchart:hover {\n",
              "    background-color: var(--hover-bg-color);\n",
              "    box-shadow: 0 1px 2px rgba(60, 64, 67, 0.3), 0 1px 3px 1px rgba(60, 64, 67, 0.15);\n",
              "    fill: var(--button-hover-fill-color);\n",
              "  }\n",
              "\n",
              "  .colab-df-quickchart-complete:disabled,\n",
              "  .colab-df-quickchart-complete:disabled:hover {\n",
              "    background-color: var(--disabled-bg-color);\n",
              "    fill: var(--disabled-fill-color);\n",
              "    box-shadow: none;\n",
              "  }\n",
              "\n",
              "  .colab-df-spinner {\n",
              "    border: 2px solid var(--fill-color);\n",
              "    border-color: transparent;\n",
              "    border-bottom-color: var(--fill-color);\n",
              "    animation:\n",
              "      spin 1s steps(1) infinite;\n",
              "  }\n",
              "\n",
              "  @keyframes spin {\n",
              "    0% {\n",
              "      border-color: transparent;\n",
              "      border-bottom-color: var(--fill-color);\n",
              "      border-left-color: var(--fill-color);\n",
              "    }\n",
              "    20% {\n",
              "      border-color: transparent;\n",
              "      border-left-color: var(--fill-color);\n",
              "      border-top-color: var(--fill-color);\n",
              "    }\n",
              "    30% {\n",
              "      border-color: transparent;\n",
              "      border-left-color: var(--fill-color);\n",
              "      border-top-color: var(--fill-color);\n",
              "      border-right-color: var(--fill-color);\n",
              "    }\n",
              "    40% {\n",
              "      border-color: transparent;\n",
              "      border-right-color: var(--fill-color);\n",
              "      border-top-color: var(--fill-color);\n",
              "    }\n",
              "    60% {\n",
              "      border-color: transparent;\n",
              "      border-right-color: var(--fill-color);\n",
              "    }\n",
              "    80% {\n",
              "      border-color: transparent;\n",
              "      border-right-color: var(--fill-color);\n",
              "      border-bottom-color: var(--fill-color);\n",
              "    }\n",
              "    90% {\n",
              "      border-color: transparent;\n",
              "      border-bottom-color: var(--fill-color);\n",
              "    }\n",
              "  }\n",
              "</style>\n",
              "\n",
              "  <script>\n",
              "    async function quickchart(key) {\n",
              "      const quickchartButtonEl =\n",
              "        document.querySelector('#' + key + ' button');\n",
              "      quickchartButtonEl.disabled = true;  // To prevent multiple clicks.\n",
              "      quickchartButtonEl.classList.add('colab-df-spinner');\n",
              "      try {\n",
              "        const charts = await google.colab.kernel.invokeFunction(\n",
              "            'suggestCharts', [key], {});\n",
              "      } catch (error) {\n",
              "        console.error('Error during call to suggestCharts:', error);\n",
              "      }\n",
              "      quickchartButtonEl.classList.remove('colab-df-spinner');\n",
              "      quickchartButtonEl.classList.add('colab-df-quickchart-complete');\n",
              "    }\n",
              "    (() => {\n",
              "      let quickchartButtonEl =\n",
              "        document.querySelector('#df-c055848a-9e42-4c70-9db1-024ddf677e1c button');\n",
              "      quickchartButtonEl.style.display =\n",
              "        google.colab.kernel.accessAllowed ? 'block' : 'none';\n",
              "    })();\n",
              "  </script>\n",
              "</div>\n",
              "    </div>\n",
              "  </div>\n"
            ]
          },
          "metadata": {},
          "execution_count": 7
        }
      ]
    },
    {
      "cell_type": "code",
      "source": [
        "main_df.isna().sum()"
      ],
      "metadata": {
        "colab": {
          "base_uri": "https://localhost:8080/"
        },
        "id": "HdzaMaJS21PO",
        "outputId": "2eca2021-e4c5-4add-bb64-4ec88471f8e0"
      },
      "execution_count": 8,
      "outputs": [
        {
          "output_type": "execute_result",
          "data": {
            "text/plain": [
              "state               13493121\n",
              "event_start_tz             0\n",
              "duration_seconds           0\n",
              "content_type               0\n",
              "content               110136\n",
              "content_source          3780\n",
              "dtype: int64"
            ]
          },
          "metadata": {},
          "execution_count": 8
        }
      ]
    },
    {
      "cell_type": "code",
      "source": [
        "cleaned_df = main_df.dropna()"
      ],
      "metadata": {
        "id": "M5-ByEFmJ3f5"
      },
      "execution_count": 9,
      "outputs": []
    },
    {
      "cell_type": "code",
      "source": [
        "cleaned_df.shape"
      ],
      "metadata": {
        "colab": {
          "base_uri": "https://localhost:8080/"
        },
        "id": "fIUhOgzFNOv4",
        "outputId": "b8b95762-be4b-4ae0-db53-8dec7b2b1421"
      },
      "execution_count": 10,
      "outputs": [
        {
          "output_type": "execute_result",
          "data": {
            "text/plain": [
              "(12466618, 6)"
            ]
          },
          "metadata": {},
          "execution_count": 10
        }
      ]
    },
    {
      "cell_type": "code",
      "source": [
        "type(cleaned_df.shape)"
      ],
      "metadata": {
        "colab": {
          "base_uri": "https://localhost:8080/"
        },
        "id": "fqramgLG6mf9",
        "outputId": "723c050c-496a-449e-c1dd-d95e87cb3e53"
      },
      "execution_count": 11,
      "outputs": [
        {
          "output_type": "execute_result",
          "data": {
            "text/plain": [
              "tuple"
            ]
          },
          "metadata": {},
          "execution_count": 11
        }
      ]
    },
    {
      "cell_type": "markdown",
      "source": [
        "# difference b/w new and orignal data frame"
      ],
      "metadata": {
        "id": "KItgXqDlGONx"
      }
    },
    {
      "cell_type": "code",
      "source": [
        "records_differenece = main_df.shape[0] - cleaned_df.shape[0]"
      ],
      "metadata": {
        "id": "qHiK2QXG6tYo"
      },
      "execution_count": 12,
      "outputs": []
    },
    {
      "cell_type": "code",
      "source": [
        "percent_record_difference = (records_differenece / main_df.shape[0]) * 100"
      ],
      "metadata": {
        "id": "blwJOlmm7FOk"
      },
      "execution_count": 13,
      "outputs": []
    },
    {
      "cell_type": "markdown",
      "source": [
        "### percentage difference in records after dropping rows"
      ],
      "metadata": {
        "id": "LPedBoPCFvtM"
      }
    },
    {
      "cell_type": "code",
      "source": [
        "percent_record_difference"
      ],
      "metadata": {
        "colab": {
          "base_uri": "https://localhost:8080/"
        },
        "id": "XdNNPTEx7soL",
        "outputId": "5f2f87c4-186d-48c6-99a9-2d321162598a"
      },
      "execution_count": 14,
      "outputs": [
        {
          "output_type": "execute_result",
          "data": {
            "text/plain": [
              "52.073528311027"
            ]
          },
          "metadata": {},
          "execution_count": 14
        }
      ]
    },
    {
      "cell_type": "code",
      "source": [
        "cleaned_df.describe()"
      ],
      "metadata": {
        "colab": {
          "base_uri": "https://localhost:8080/",
          "height": 300
        },
        "id": "Nj2ag5je5VP9",
        "outputId": "9b72821c-916a-496b-f114-551d4785a292"
      },
      "execution_count": 15,
      "outputs": [
        {
          "output_type": "execute_result",
          "data": {
            "text/plain": [
              "       duration_seconds\n",
              "count      1.246662e+07\n",
              "mean       5.246197e+02\n",
              "std        1.160204e+03\n",
              "min        0.000000e+00\n",
              "25%        1.000000e+01\n",
              "50%        1.250000e+02\n",
              "75%        4.280000e+02\n",
              "max        3.239500e+04"
            ],
            "text/html": [
              "\n",
              "  <div id=\"df-0a89b6a5-928c-4f5e-aa9d-46e6d8b9e877\" class=\"colab-df-container\">\n",
              "    <div>\n",
              "<style scoped>\n",
              "    .dataframe tbody tr th:only-of-type {\n",
              "        vertical-align: middle;\n",
              "    }\n",
              "\n",
              "    .dataframe tbody tr th {\n",
              "        vertical-align: top;\n",
              "    }\n",
              "\n",
              "    .dataframe thead th {\n",
              "        text-align: right;\n",
              "    }\n",
              "</style>\n",
              "<table border=\"1\" class=\"dataframe\">\n",
              "  <thead>\n",
              "    <tr style=\"text-align: right;\">\n",
              "      <th></th>\n",
              "      <th>duration_seconds</th>\n",
              "    </tr>\n",
              "  </thead>\n",
              "  <tbody>\n",
              "    <tr>\n",
              "      <th>count</th>\n",
              "      <td>1.246662e+07</td>\n",
              "    </tr>\n",
              "    <tr>\n",
              "      <th>mean</th>\n",
              "      <td>5.246197e+02</td>\n",
              "    </tr>\n",
              "    <tr>\n",
              "      <th>std</th>\n",
              "      <td>1.160204e+03</td>\n",
              "    </tr>\n",
              "    <tr>\n",
              "      <th>min</th>\n",
              "      <td>0.000000e+00</td>\n",
              "    </tr>\n",
              "    <tr>\n",
              "      <th>25%</th>\n",
              "      <td>1.000000e+01</td>\n",
              "    </tr>\n",
              "    <tr>\n",
              "      <th>50%</th>\n",
              "      <td>1.250000e+02</td>\n",
              "    </tr>\n",
              "    <tr>\n",
              "      <th>75%</th>\n",
              "      <td>4.280000e+02</td>\n",
              "    </tr>\n",
              "    <tr>\n",
              "      <th>max</th>\n",
              "      <td>3.239500e+04</td>\n",
              "    </tr>\n",
              "  </tbody>\n",
              "</table>\n",
              "</div>\n",
              "    <div class=\"colab-df-buttons\">\n",
              "\n",
              "  <div class=\"colab-df-container\">\n",
              "    <button class=\"colab-df-convert\" onclick=\"convertToInteractive('df-0a89b6a5-928c-4f5e-aa9d-46e6d8b9e877')\"\n",
              "            title=\"Convert this dataframe to an interactive table.\"\n",
              "            style=\"display:none;\">\n",
              "\n",
              "  <svg xmlns=\"http://www.w3.org/2000/svg\" height=\"24px\" viewBox=\"0 -960 960 960\">\n",
              "    <path d=\"M120-120v-720h720v720H120Zm60-500h600v-160H180v160Zm220 220h160v-160H400v160Zm0 220h160v-160H400v160ZM180-400h160v-160H180v160Zm440 0h160v-160H620v160ZM180-180h160v-160H180v160Zm440 0h160v-160H620v160Z\"/>\n",
              "  </svg>\n",
              "    </button>\n",
              "\n",
              "  <style>\n",
              "    .colab-df-container {\n",
              "      display:flex;\n",
              "      gap: 12px;\n",
              "    }\n",
              "\n",
              "    .colab-df-convert {\n",
              "      background-color: #E8F0FE;\n",
              "      border: none;\n",
              "      border-radius: 50%;\n",
              "      cursor: pointer;\n",
              "      display: none;\n",
              "      fill: #1967D2;\n",
              "      height: 32px;\n",
              "      padding: 0 0 0 0;\n",
              "      width: 32px;\n",
              "    }\n",
              "\n",
              "    .colab-df-convert:hover {\n",
              "      background-color: #E2EBFA;\n",
              "      box-shadow: 0px 1px 2px rgba(60, 64, 67, 0.3), 0px 1px 3px 1px rgba(60, 64, 67, 0.15);\n",
              "      fill: #174EA6;\n",
              "    }\n",
              "\n",
              "    .colab-df-buttons div {\n",
              "      margin-bottom: 4px;\n",
              "    }\n",
              "\n",
              "    [theme=dark] .colab-df-convert {\n",
              "      background-color: #3B4455;\n",
              "      fill: #D2E3FC;\n",
              "    }\n",
              "\n",
              "    [theme=dark] .colab-df-convert:hover {\n",
              "      background-color: #434B5C;\n",
              "      box-shadow: 0px 1px 3px 1px rgba(0, 0, 0, 0.15);\n",
              "      filter: drop-shadow(0px 1px 2px rgba(0, 0, 0, 0.3));\n",
              "      fill: #FFFFFF;\n",
              "    }\n",
              "  </style>\n",
              "\n",
              "    <script>\n",
              "      const buttonEl =\n",
              "        document.querySelector('#df-0a89b6a5-928c-4f5e-aa9d-46e6d8b9e877 button.colab-df-convert');\n",
              "      buttonEl.style.display =\n",
              "        google.colab.kernel.accessAllowed ? 'block' : 'none';\n",
              "\n",
              "      async function convertToInteractive(key) {\n",
              "        const element = document.querySelector('#df-0a89b6a5-928c-4f5e-aa9d-46e6d8b9e877');\n",
              "        const dataTable =\n",
              "          await google.colab.kernel.invokeFunction('convertToInteractive',\n",
              "                                                    [key], {});\n",
              "        if (!dataTable) return;\n",
              "\n",
              "        const docLinkHtml = 'Like what you see? Visit the ' +\n",
              "          '<a target=\"_blank\" href=https://colab.research.google.com/notebooks/data_table.ipynb>data table notebook</a>'\n",
              "          + ' to learn more about interactive tables.';\n",
              "        element.innerHTML = '';\n",
              "        dataTable['output_type'] = 'display_data';\n",
              "        await google.colab.output.renderOutput(dataTable, element);\n",
              "        const docLink = document.createElement('div');\n",
              "        docLink.innerHTML = docLinkHtml;\n",
              "        element.appendChild(docLink);\n",
              "      }\n",
              "    </script>\n",
              "  </div>\n",
              "\n",
              "\n",
              "<div id=\"df-59aa39b5-477f-407c-8c90-0c1fd9d768a4\">\n",
              "  <button class=\"colab-df-quickchart\" onclick=\"quickchart('df-59aa39b5-477f-407c-8c90-0c1fd9d768a4')\"\n",
              "            title=\"Suggest charts.\"\n",
              "            style=\"display:none;\">\n",
              "\n",
              "<svg xmlns=\"http://www.w3.org/2000/svg\" height=\"24px\"viewBox=\"0 0 24 24\"\n",
              "     width=\"24px\">\n",
              "    <g>\n",
              "        <path d=\"M19 3H5c-1.1 0-2 .9-2 2v14c0 1.1.9 2 2 2h14c1.1 0 2-.9 2-2V5c0-1.1-.9-2-2-2zM9 17H7v-7h2v7zm4 0h-2V7h2v10zm4 0h-2v-4h2v4z\"/>\n",
              "    </g>\n",
              "</svg>\n",
              "  </button>\n",
              "\n",
              "<style>\n",
              "  .colab-df-quickchart {\n",
              "      --bg-color: #E8F0FE;\n",
              "      --fill-color: #1967D2;\n",
              "      --hover-bg-color: #E2EBFA;\n",
              "      --hover-fill-color: #174EA6;\n",
              "      --disabled-fill-color: #AAA;\n",
              "      --disabled-bg-color: #DDD;\n",
              "  }\n",
              "\n",
              "  [theme=dark] .colab-df-quickchart {\n",
              "      --bg-color: #3B4455;\n",
              "      --fill-color: #D2E3FC;\n",
              "      --hover-bg-color: #434B5C;\n",
              "      --hover-fill-color: #FFFFFF;\n",
              "      --disabled-bg-color: #3B4455;\n",
              "      --disabled-fill-color: #666;\n",
              "  }\n",
              "\n",
              "  .colab-df-quickchart {\n",
              "    background-color: var(--bg-color);\n",
              "    border: none;\n",
              "    border-radius: 50%;\n",
              "    cursor: pointer;\n",
              "    display: none;\n",
              "    fill: var(--fill-color);\n",
              "    height: 32px;\n",
              "    padding: 0;\n",
              "    width: 32px;\n",
              "  }\n",
              "\n",
              "  .colab-df-quickchart:hover {\n",
              "    background-color: var(--hover-bg-color);\n",
              "    box-shadow: 0 1px 2px rgba(60, 64, 67, 0.3), 0 1px 3px 1px rgba(60, 64, 67, 0.15);\n",
              "    fill: var(--button-hover-fill-color);\n",
              "  }\n",
              "\n",
              "  .colab-df-quickchart-complete:disabled,\n",
              "  .colab-df-quickchart-complete:disabled:hover {\n",
              "    background-color: var(--disabled-bg-color);\n",
              "    fill: var(--disabled-fill-color);\n",
              "    box-shadow: none;\n",
              "  }\n",
              "\n",
              "  .colab-df-spinner {\n",
              "    border: 2px solid var(--fill-color);\n",
              "    border-color: transparent;\n",
              "    border-bottom-color: var(--fill-color);\n",
              "    animation:\n",
              "      spin 1s steps(1) infinite;\n",
              "  }\n",
              "\n",
              "  @keyframes spin {\n",
              "    0% {\n",
              "      border-color: transparent;\n",
              "      border-bottom-color: var(--fill-color);\n",
              "      border-left-color: var(--fill-color);\n",
              "    }\n",
              "    20% {\n",
              "      border-color: transparent;\n",
              "      border-left-color: var(--fill-color);\n",
              "      border-top-color: var(--fill-color);\n",
              "    }\n",
              "    30% {\n",
              "      border-color: transparent;\n",
              "      border-left-color: var(--fill-color);\n",
              "      border-top-color: var(--fill-color);\n",
              "      border-right-color: var(--fill-color);\n",
              "    }\n",
              "    40% {\n",
              "      border-color: transparent;\n",
              "      border-right-color: var(--fill-color);\n",
              "      border-top-color: var(--fill-color);\n",
              "    }\n",
              "    60% {\n",
              "      border-color: transparent;\n",
              "      border-right-color: var(--fill-color);\n",
              "    }\n",
              "    80% {\n",
              "      border-color: transparent;\n",
              "      border-right-color: var(--fill-color);\n",
              "      border-bottom-color: var(--fill-color);\n",
              "    }\n",
              "    90% {\n",
              "      border-color: transparent;\n",
              "      border-bottom-color: var(--fill-color);\n",
              "    }\n",
              "  }\n",
              "</style>\n",
              "\n",
              "  <script>\n",
              "    async function quickchart(key) {\n",
              "      const quickchartButtonEl =\n",
              "        document.querySelector('#' + key + ' button');\n",
              "      quickchartButtonEl.disabled = true;  // To prevent multiple clicks.\n",
              "      quickchartButtonEl.classList.add('colab-df-spinner');\n",
              "      try {\n",
              "        const charts = await google.colab.kernel.invokeFunction(\n",
              "            'suggestCharts', [key], {});\n",
              "      } catch (error) {\n",
              "        console.error('Error during call to suggestCharts:', error);\n",
              "      }\n",
              "      quickchartButtonEl.classList.remove('colab-df-spinner');\n",
              "      quickchartButtonEl.classList.add('colab-df-quickchart-complete');\n",
              "    }\n",
              "    (() => {\n",
              "      let quickchartButtonEl =\n",
              "        document.querySelector('#df-59aa39b5-477f-407c-8c90-0c1fd9d768a4 button');\n",
              "      quickchartButtonEl.style.display =\n",
              "        google.colab.kernel.accessAllowed ? 'block' : 'none';\n",
              "    })();\n",
              "  </script>\n",
              "</div>\n",
              "    </div>\n",
              "  </div>\n"
            ]
          },
          "metadata": {},
          "execution_count": 15
        }
      ]
    },
    {
      "cell_type": "code",
      "source": [
        "cleaned_df.info()"
      ],
      "metadata": {
        "colab": {
          "base_uri": "https://localhost:8080/"
        },
        "id": "NoN8H-6h5OPb",
        "outputId": "afd53331-5484-4476-d394-ebcfa6f90ef4"
      },
      "execution_count": 16,
      "outputs": [
        {
          "output_type": "stream",
          "name": "stdout",
          "text": [
            "<class 'pandas.core.frame.DataFrame'>\n",
            "Int64Index: 12466618 entries, 0 to 26011966\n",
            "Data columns (total 6 columns):\n",
            " #   Column            Dtype \n",
            "---  ------            ----- \n",
            " 0   state             object\n",
            " 1   event_start_tz    object\n",
            " 2   duration_seconds  int64 \n",
            " 3   content_type      object\n",
            " 4   content           object\n",
            " 5   content_source    object\n",
            "dtypes: int64(1), object(5)\n",
            "memory usage: 665.8+ MB\n"
          ]
        }
      ]
    },
    {
      "cell_type": "code",
      "source": [
        "uniq_states = cleaned_df['state'].value_counts()"
      ],
      "metadata": {
        "id": "4mLhRST5F8sg"
      },
      "execution_count": 17,
      "outputs": []
    },
    {
      "cell_type": "markdown",
      "source": [
        "### List of distinct states"
      ],
      "metadata": {
        "id": "jvJ1dLZlH1R9"
      }
    },
    {
      "cell_type": "code",
      "source": [
        "uniq_states\n"
      ],
      "metadata": {
        "colab": {
          "base_uri": "https://localhost:8080/"
        },
        "id": "-9q0_VrpHQPD",
        "outputId": "1c99a37d-fd8b-4377-8679-7a382891f88f"
      },
      "execution_count": 18,
      "outputs": [
        {
          "output_type": "execute_result",
          "data": {
            "text/plain": [
              "Kuala Lumpur                  6878719\n",
              "Selangor                      2634243\n",
              "Penang                         751319\n",
              "Johor                          722522\n",
              "Perak                          404518\n",
              "Sarawak                        228747\n",
              "Negeri Sembilan                219438\n",
              "Sabah                          208386\n",
              "Melaka                         119456\n",
              "Kedah                           94178\n",
              "Kelantan                        62062\n",
              "Pahang                          52238\n",
              "UNKNOWN                         48884\n",
              "Terengganu                      31681\n",
              "Putrajaya                        7271\n",
              "Perlis                           1869\n",
              "Karnataka                         379\n",
              "Labuan                            370\n",
              "ERROR                             169\n",
              "Maharashtra                       129\n",
              "Seoul                              10\n",
              "Uttar Pradesh                       6\n",
              "Occitanie                           5\n",
              "England                             5\n",
              "Victoria                            3\n",
              "Jerusalem                           3\n",
              "Tamil Nadu                          2\n",
              "Lesser Poland                       2\n",
              "Zurich                              2\n",
              "Taoyuan                             1\n",
              "Departamento de Cochabamba          1\n",
              "Name: state, dtype: int64"
            ]
          },
          "metadata": {},
          "execution_count": 18
        }
      ]
    },
    {
      "cell_type": "markdown",
      "source": [
        "# List of actual Malaysian states plus federal territories"
      ],
      "metadata": {
        "id": "wGdV3EHGRmSc"
      }
    },
    {
      "cell_type": "code",
      "source": [
        "states_list = [\"Perlis\", \"Kedah\", \"Penang\", \"Perak\", \"Selangor\", \"Negeri Sembilan\",\n",
        "               \"Melaka\", \"Johor\", \"Kelantan\", \"Terengganu\", \"Pahang\", \"Kuala Lumpur\", \"Putrajaya\", \"Sabah\", \"Sarawak\", \"Labuan\" ]"
      ],
      "metadata": {
        "id": "Ki29hypARk7h"
      },
      "execution_count": 19,
      "outputs": []
    },
    {
      "cell_type": "code",
      "source": [
        "len(states_list)"
      ],
      "metadata": {
        "colab": {
          "base_uri": "https://localhost:8080/"
        },
        "id": "ElYSPrhMSCXW",
        "outputId": "73eeba42-c107-4fd8-9789-0a9b5c080496"
      },
      "execution_count": 20,
      "outputs": [
        {
          "output_type": "execute_result",
          "data": {
            "text/plain": [
              "16"
            ]
          },
          "metadata": {},
          "execution_count": 20
        }
      ]
    },
    {
      "cell_type": "markdown",
      "source": [
        "# filtering duplicate state if any"
      ],
      "metadata": {
        "id": "k9-mOQ0cV8Ws"
      }
    },
    {
      "cell_type": "code",
      "source": [
        "uniq_states_list = list(set(states_list))"
      ],
      "metadata": {
        "id": "HJfNq2xhSLrz"
      },
      "execution_count": 21,
      "outputs": []
    },
    {
      "cell_type": "code",
      "source": [
        "for state in uniq_states_list:\n",
        "  print(state)"
      ],
      "metadata": {
        "colab": {
          "base_uri": "https://localhost:8080/"
        },
        "id": "MI7qOKReVrs2",
        "outputId": "84e8d86c-bbc6-4bef-f6b5-4fb5a1bb7db0"
      },
      "execution_count": 22,
      "outputs": [
        {
          "output_type": "stream",
          "name": "stdout",
          "text": [
            "Perlis\n",
            "Penang\n",
            "Sabah\n",
            "Kuala Lumpur\n",
            "Negeri Sembilan\n",
            "Pahang\n",
            "Kedah\n",
            "Johor\n",
            "Putrajaya\n",
            "Perak\n",
            "Terengganu\n",
            "Selangor\n",
            "Melaka\n",
            "Kelantan\n",
            "Sarawak\n",
            "Labuan\n"
          ]
        }
      ]
    },
    {
      "cell_type": "code",
      "source": [
        "len(uniq_states_list)"
      ],
      "metadata": {
        "colab": {
          "base_uri": "https://localhost:8080/"
        },
        "id": "2CauLjhYVyxe",
        "outputId": "c85d7e15-ba3e-4fb3-d89e-cca948a98dac"
      },
      "execution_count": 23,
      "outputs": [
        {
          "output_type": "execute_result",
          "data": {
            "text/plain": [
              "16"
            ]
          },
          "metadata": {},
          "execution_count": 23
        }
      ]
    },
    {
      "cell_type": "code",
      "source": [
        "print(\"Total distinct states:\",uniq_states.count())"
      ],
      "metadata": {
        "colab": {
          "base_uri": "https://localhost:8080/"
        },
        "id": "YCLcTCgCHS2C",
        "outputId": "1ea30a65-cb7a-416a-8740-cdcadf4a2c0a"
      },
      "execution_count": 24,
      "outputs": [
        {
          "output_type": "stream",
          "name": "stdout",
          "text": [
            "Total distinct states: 31\n"
          ]
        }
      ]
    },
    {
      "cell_type": "code",
      "source": [
        "org_distinct_states = main_df['state'].value_counts()"
      ],
      "metadata": {
        "id": "K9qEwpAyIWdm"
      },
      "execution_count": 25,
      "outputs": []
    },
    {
      "cell_type": "code",
      "source": [
        "org_distinct_states.count()"
      ],
      "metadata": {
        "colab": {
          "base_uri": "https://localhost:8080/"
        },
        "id": "KQQK69_8IZR5",
        "outputId": "f49487d0-4ec6-48ae-a918-bd8d5f74bc2f"
      },
      "execution_count": 26,
      "outputs": [
        {
          "output_type": "execute_result",
          "data": {
            "text/plain": [
              "31"
            ]
          },
          "metadata": {},
          "execution_count": 26
        }
      ]
    },
    {
      "cell_type": "markdown",
      "source": [
        "# Filtering  non Malaysian states"
      ],
      "metadata": {
        "id": "ev55vYNd4JvD"
      }
    },
    {
      "cell_type": "code",
      "source": [
        "cleaned_df = cleaned_df[cleaned_df['state'].isin(uniq_states_list)]"
      ],
      "metadata": {
        "id": "fKyLM5nH4I41"
      },
      "execution_count": 27,
      "outputs": []
    },
    {
      "cell_type": "code",
      "source": [
        "# type(cleaned_df['state'].isin(uniq_states_list))"
      ],
      "metadata": {
        "id": "u_fJiQhKc00l"
      },
      "execution_count": 28,
      "outputs": []
    },
    {
      "cell_type": "code",
      "source": [
        "cleaned_df_states = cleaned_df['state'].value_counts()"
      ],
      "metadata": {
        "id": "NGVf6l4JGMBz"
      },
      "execution_count": 29,
      "outputs": []
    },
    {
      "cell_type": "code",
      "source": [
        "cleaned_df_states"
      ],
      "metadata": {
        "colab": {
          "base_uri": "https://localhost:8080/"
        },
        "id": "zUFTlTuZPw9n",
        "outputId": "6cd4b030-06c7-41d0-d181-729782b63db1"
      },
      "execution_count": 30,
      "outputs": [
        {
          "output_type": "execute_result",
          "data": {
            "text/plain": [
              "Kuala Lumpur       6878719\n",
              "Selangor           2634243\n",
              "Penang              751319\n",
              "Johor               722522\n",
              "Perak               404518\n",
              "Sarawak             228747\n",
              "Negeri Sembilan     219438\n",
              "Sabah               208386\n",
              "Melaka              119456\n",
              "Kedah                94178\n",
              "Kelantan             62062\n",
              "Pahang               52238\n",
              "Terengganu           31681\n",
              "Putrajaya             7271\n",
              "Perlis                1869\n",
              "Labuan                 370\n",
              "Name: state, dtype: int64"
            ]
          },
          "metadata": {},
          "execution_count": 30
        }
      ]
    },
    {
      "cell_type": "code",
      "source": [
        "type(cleaned_df_states)"
      ],
      "metadata": {
        "colab": {
          "base_uri": "https://localhost:8080/"
        },
        "id": "RZAnyt9wKz3N",
        "outputId": "99bfe0e6-e587-49b1-f4b8-91ce3aeaa641"
      },
      "execution_count": 31,
      "outputs": [
        {
          "output_type": "execute_result",
          "data": {
            "text/plain": [
              "pandas.core.series.Series"
            ]
          },
          "metadata": {},
          "execution_count": 31
        }
      ]
    },
    {
      "cell_type": "code",
      "source": [
        "plt.figure(figsize=(10, 6))\n",
        "cleaned_df_states.plot(kind='bar')\n",
        "plt.title('View count state wise')\n",
        "plt.xlabel('State')\n",
        "plt.ylabel('Count')\n",
        "plt.xticks(rotation=45)\n",
        "plt.show()"
      ],
      "metadata": {
        "colab": {
          "base_uri": "https://localhost:8080/",
          "height": 641
        },
        "id": "XDwEv87WFD47",
        "outputId": "8d8f7f83-66c9-419e-ae22-93c8a6909f49"
      },
      "execution_count": 32,
      "outputs": [
        {
          "output_type": "display_data",
          "data": {
            "text/plain": [
              "<Figure size 1000x600 with 1 Axes>"
            ],
            "image/png": "[encoded data removed]"
          },
          "metadata": {}
        }
      ]
    },
    {
      "cell_type": "code",
      "source": [
        "plt.figure(figsize=(8, 8))\n",
        "cleaned_df_states.plot(kind='pie', autopct='%1.1f%%')\n",
        "plt.title('State Counts')\n",
        "plt.ylabel('')  # Remove the default ylabel\n",
        "plt.show()"
      ],
      "metadata": {
        "colab": {
          "base_uri": "https://localhost:8080/",
          "height": 675
        },
        "id": "C22TpBQHFXHa",
        "outputId": "8d9c4dd6-e1b0-4739-b3b4-707004cae6c8"
      },
      "execution_count": 33,
      "outputs": [
        {
          "output_type": "display_data",
          "data": {
            "text/plain": [
              "<Figure size 800x800 with 1 Axes>"
            ],
            "image/png": "[encoded data removed]"
          },
          "metadata": {}
        }
      ]
    },
    {
      "cell_type": "code",
      "source": [
        "cleaned_df_states.sum()"
      ],
      "metadata": {
        "colab": {
          "base_uri": "https://localhost:8080/"
        },
        "id": "zY_bpIYAP3R8",
        "outputId": "864c4801-0937-4f69-c939-8fc7b451807c"
      },
      "execution_count": 34,
      "outputs": [
        {
          "output_type": "execute_result",
          "data": {
            "text/plain": [
              "12417017"
            ]
          },
          "metadata": {},
          "execution_count": 34
        }
      ]
    },
    {
      "cell_type": "code",
      "source": [
        "cleaned_df_states.count()"
      ],
      "metadata": {
        "colab": {
          "base_uri": "https://localhost:8080/"
        },
        "id": "hGzaC8mMPTfD",
        "outputId": "2ed0d063-55e9-43d6-974f-33f88a64aae3"
      },
      "execution_count": 35,
      "outputs": [
        {
          "output_type": "execute_result",
          "data": {
            "text/plain": [
              "16"
            ]
          },
          "metadata": {},
          "execution_count": 35
        }
      ]
    },
    {
      "cell_type": "markdown",
      "source": [
        "### hence the **final version of cleaned_df** contains list of only 16 states which is actual no of states in malaysia"
      ],
      "metadata": {
        "id": "CSDs_8xmPc7x"
      }
    },
    {
      "cell_type": "code",
      "source": [
        "cleaned_df.shape"
      ],
      "metadata": {
        "colab": {
          "base_uri": "https://localhost:8080/"
        },
        "id": "vrFHO04G4QXJ",
        "outputId": "ef017a78-e5f7-4929-ac07-3193137d1652"
      },
      "execution_count": 36,
      "outputs": [
        {
          "output_type": "execute_result",
          "data": {
            "text/plain": [
              "(12417017, 6)"
            ]
          },
          "metadata": {},
          "execution_count": 36
        }
      ]
    },
    {
      "cell_type": "markdown",
      "source": [
        "# list of distinct content_type (content_category)\n"
      ],
      "metadata": {
        "id": "_Ae6BpwMZ8wJ"
      }
    },
    {
      "cell_type": "code",
      "source": [
        "content_categories = cleaned_df['content_type'].value_counts()"
      ],
      "metadata": {
        "id": "-gBJxON3aDeL"
      },
      "execution_count": 37,
      "outputs": []
    },
    {
      "cell_type": "code",
      "source": [
        "content_categories"
      ],
      "metadata": {
        "colab": {
          "base_uri": "https://localhost:8080/"
        },
        "id": "ADzCNuzSenPb",
        "outputId": "1779ff65-978d-400b-e058-812dff57d4d6"
      },
      "execution_count": 38,
      "outputs": [
        {
          "output_type": "execute_result",
          "data": {
            "text/plain": [
              "VOD                7331475\n",
              "LINEAR             2212712\n",
              "CDVR               1734805\n",
              "Live Pause          458556\n",
              "Play From Start     399777\n",
              "IP Switch           279692\n",
              "Name: content_type, dtype: int64"
            ]
          },
          "metadata": {},
          "execution_count": 38
        }
      ]
    },
    {
      "cell_type": "markdown",
      "source": [
        "# list of distinct content (T.V Shows)"
      ],
      "metadata": {
        "id": "d4afLOO5cNYG"
      }
    },
    {
      "cell_type": "code",
      "source": [
        "content_series = cleaned_df['content'].value_counts()"
      ],
      "metadata": {
        "id": "pCNAgqZ2aQXB"
      },
      "execution_count": 39,
      "outputs": []
    },
    {
      "cell_type": "markdown",
      "source": [
        " * ***the value_counts() method will always return a pandas series with unique indexes so no need to worry about the uniqueness of index names***"
      ],
      "metadata": {
        "id": "su98wJiOn1e0"
      }
    },
    {
      "cell_type": "code",
      "source": [
        "content_series"
      ],
      "metadata": {
        "colab": {
          "base_uri": "https://localhost:8080/"
        },
        "id": "8E9e8S84br-l",
        "outputId": "1d7a9288-d23e-4174-ca1a-14c571ac9b78"
      },
      "execution_count": 40,
      "outputs": [
        {
          "output_type": "execute_result",
          "data": {
            "text/plain": [
              "(L) BWF World Championships: Finals     178624\n",
              "(L) PL: Newcastle vs Liverpool          165336\n",
              "(L) PL: Sheffield vs Manchester City    112457\n",
              "The Flash [Fast Premiere]               105239\n",
              "Tiktok Awards Malaysia                   81360\n",
              "                                         ...  \n",
              "Thavamai Thavamirundhu Ep324                 1\n",
              "The Cleaner S2 Ep02                          1\n",
              "GG Bond : Undersea Journey S2 Ep26           1\n",
              "Buser Files Investigasi Ep12                 1\n",
              "NRI Hadsaa S1 Ep06                           1\n",
              "Name: content, Length: 63416, dtype: int64"
            ]
          },
          "metadata": {},
          "execution_count": 40
        }
      ]
    },
    {
      "cell_type": "code",
      "source": [
        "distinct_contents_dictionary = content_series.to_dict()"
      ],
      "metadata": {
        "id": "NbbDScixbuiu"
      },
      "execution_count": 41,
      "outputs": []
    },
    {
      "cell_type": "code",
      "source": [
        "# since the dictionary is too big lets only see the first 10 elements\n",
        "first_few_elements = 10\n",
        "for key, value in distinct_contents_dictionary.items():\n",
        "  print(key, \":\", distinct_contents_dictionary[key])\n",
        "  first_few_elements -= 1\n",
        "  if first_few_elements == 0:\n",
        "    break"
      ],
      "metadata": {
        "colab": {
          "base_uri": "https://localhost:8080/"
        },
        "id": "LkJ_BA94b9DK",
        "outputId": "33e543eb-c67d-44d2-905f-ad5c2a23fea9"
      },
      "execution_count": 42,
      "outputs": [
        {
          "output_type": "stream",
          "name": "stdout",
          "text": [
            "(L) BWF World Championships: Finals : 178624\n",
            "(L) PL: Newcastle vs Liverpool : 165336\n",
            "(L) PL: Sheffield vs Manchester City : 112457\n",
            "The Flash [Fast Premiere] : 105239\n",
            "Tiktok Awards Malaysia : 81360\n",
            "Super Singer Junior : 70777\n",
            "(L) Formula 1 Main Race 2023 : 61944\n",
            "FIBA: Latvia vs Lebanon : 54144\n",
            "Start Music : 49057\n",
            "(L) World Athletics Championships 2023 : 48220\n"
          ]
        }
      ]
    },
    {
      "cell_type": "code",
      "source": [],
      "metadata": {
        "id": "-MLCKCYySBpy"
      },
      "execution_count": 42,
      "outputs": []
    },
    {
      "cell_type": "markdown",
      "source": [
        "# Total count of distinct TV shows i.e contents"
      ],
      "metadata": {
        "id": "VI5wGTWvqV_i"
      }
    },
    {
      "cell_type": "code",
      "source": [
        "len(distinct_contents_dictionary)"
      ],
      "metadata": {
        "colab": {
          "base_uri": "https://localhost:8080/"
        },
        "id": "Wlr518qSqKoC",
        "outputId": "924f579a-3d3b-4847-b80f-96c521a91746"
      },
      "execution_count": 43,
      "outputs": [
        {
          "output_type": "execute_result",
          "data": {
            "text/plain": [
              "63416"
            ]
          },
          "metadata": {},
          "execution_count": 43
        }
      ]
    },
    {
      "cell_type": "code",
      "source": [
        "# from pandas_profiling import ProfileReport\n",
        "# prof = ProfileReport(main_df)\n",
        "# prof.to_file(output_file='output.html')"
      ],
      "metadata": {
        "id": "xB3dyjihV6XW"
      },
      "execution_count": 44,
      "outputs": []
    },
    {
      "cell_type": "markdown",
      "source": [
        "# Scaling down the dataset"
      ],
      "metadata": {
        "id": "FQUR2weZOOr1"
      }
    },
    {
      "cell_type": "code",
      "source": [
        "sample_size = int(cleaned_df.shape[0] * 0.5)"
      ],
      "metadata": {
        "id": "M14eHjDwOTBO"
      },
      "execution_count": 45,
      "outputs": []
    },
    {
      "cell_type": "code",
      "source": [
        "sample_size"
      ],
      "metadata": {
        "colab": {
          "base_uri": "https://localhost:8080/"
        },
        "id": "dE6l4g3NYzVS",
        "outputId": "44f93185-643c-4d46-bf17-1415a0d2de0e"
      },
      "execution_count": 46,
      "outputs": [
        {
          "output_type": "execute_result",
          "data": {
            "text/plain": [
              "6208508"
            ]
          },
          "metadata": {},
          "execution_count": 46
        }
      ]
    },
    {
      "cell_type": "code",
      "source": [
        "random_sampled_df = cleaned_df.sample(n=sample_size, random_state=42)"
      ],
      "metadata": {
        "id": "-TlM3buoY7ti"
      },
      "execution_count": 47,
      "outputs": []
    },
    {
      "cell_type": "code",
      "source": [
        "sampled_states_series = random_sampled_df[\"state\"].value_counts()"
      ],
      "metadata": {
        "id": "PG45pJEpZOyO"
      },
      "execution_count": 48,
      "outputs": []
    },
    {
      "cell_type": "code",
      "source": [
        "sampled_states_series"
      ],
      "metadata": {
        "colab": {
          "base_uri": "https://localhost:8080/"
        },
        "id": "V-yQy9h2aYI9",
        "outputId": "f6ea8825-db0c-4b20-840c-8f54bf4d0f7b"
      },
      "execution_count": 49,
      "outputs": [
        {
          "output_type": "execute_result",
          "data": {
            "text/plain": [
              "Kuala Lumpur       3439990\n",
              "Selangor           1316576\n",
              "Penang              376049\n",
              "Johor               361534\n",
              "Perak               201772\n",
              "Sarawak             114235\n",
              "Negeri Sembilan     109326\n",
              "Sabah               104207\n",
              "Melaka               59737\n",
              "Kedah                47263\n",
              "Kelantan             30892\n",
              "Pahang               26308\n",
              "Terengganu           15926\n",
              "Putrajaya             3593\n",
              "Perlis                 904\n",
              "Labuan                 196\n",
              "Name: state, dtype: int64"
            ]
          },
          "metadata": {},
          "execution_count": 49
        }
      ]
    },
    {
      "cell_type": "code",
      "source": [
        "\n",
        "\n",
        "plt.figure(figsize=(8, 8))\n",
        "\n",
        "# Plot a pie chart using Seaborn with the default color palette\n",
        "sns.set()  # Reset the color palette to default\n",
        "plt.pie(sampled_states_series, labels = sampled_states_series.index, autopct = '%1.1f%%', startangle=140)\n",
        "\n",
        "# Add a title\n",
        "plt.title('Distribution of States')\n",
        "\n",
        "# Display the pie chart\n",
        "plt.axis('equal')  # Equal aspect ratio ensures that the pie is drawn as a circle.\n",
        "plt.show()"
      ],
      "metadata": {
        "colab": {
          "base_uri": "https://localhost:8080/",
          "height": 675
        },
        "id": "8wDs-RSjaBgg",
        "outputId": "5ce379a3-9ca9-4b1e-8978-7e828b7c61e8"
      },
      "execution_count": 50,
      "outputs": [
        {
          "output_type": "display_data",
          "data": {
            "text/plain": [
              "<Figure size 800x800 with 1 Axes>"
            ],
            "image/png": "[encoded data removed]"
          },
          "metadata": {}
        }
      ]
    },
    {
      "cell_type": "code",
      "source": [
        "# datetime_format = \"%Y-%m-%d %H:%M:%S.%f %Z\"\n",
        "\n",
        "# # Convert the column to datetime using the specified format\n",
        "# cleaned_df['event_start_tz'] = pd.to_datetime(cleaned_df['event_start_tz'], format=datetime_format)\n"
      ],
      "metadata": {
        "id": "Ok77A4WgXBwR"
      },
      "execution_count": 51,
      "outputs": []
    },
    {
      "cell_type": "code",
      "source": [],
      "metadata": {
        "id": "R9ajwHs2MCf9"
      },
      "execution_count": 51,
      "outputs": []
    }
  ]
}