{
  "cells": [
    {
      "cell_type": "markdown",
      "metadata": {
        "id": "view-in-github",
        "colab_type": "text"
      },
      "source": [
        "<a href=\"https://colab.research.google.com/github/shrivatsashetty/Projects/blob/main/Synamedia_Project.ipynb\" target=\"_parent\"><img src=\"https://colab.research.google.com/assets/colab-badge.svg\" alt=\"Open In Colab\"/></a>"
      ]
    },
    {
      "cell_type": "markdown",
      "metadata": {
        "id": "ozY28M-PC9n8"
      },
      "source": [
        "# **Import modules**"
      ]
    },
    {
      "cell_type": "code",
      "execution_count": 1,
      "metadata": {
        "id": "e673eFsExghN"
      },
      "outputs": [],
      "source": [
        "import numpy as np\n",
        "import pandas as pd\n",
        "import matplotlib.pyplot as plt\n",
        "import seaborn as sns\n",
        "# %matplotlib notebook"
      ]
    },
    {
      "cell_type": "code",
      "execution_count": 2,
      "metadata": {
        "colab": {
          "base_uri": "https://localhost:8080/"
        },
        "id": "GhwuV60X0Oc3",
        "outputId": "73054265-3942-44ad-9739-7ef06c71486e"
      },
      "outputs": [
        {
          "output_type": "stream",
          "name": "stdout",
          "text": [
            "Mounted at /content/drive/\n"
          ]
        }
      ],
      "source": [
        "from google.colab import drive\n",
        "drive.mount('/content/drive/')"
      ]
    },
    {
      "cell_type": "code",
      "execution_count": 3,
      "metadata": {
        "id": "b-hREszXxwTt"
      },
      "outputs": [],
      "source": [
        "main_df = pd.read_csv(\"/content/drive/MyDrive/Data-Science/2DaysViewingSession.csv\")"
      ]
    },
    {
      "cell_type": "markdown",
      "metadata": {
        "id": "m-rLWiFUCyd_"
      },
      "source": [
        "# **Tabular form**"
      ]
    },
    {
      "cell_type": "code",
      "execution_count": 4,
      "metadata": {
        "colab": {
          "base_uri": "https://localhost:8080/",
          "height": 423
        },
        "id": "SWZgvKt02pmp",
        "outputId": "cde9e64a-93fd-4176-ab60-bc7da6efb179"
      },
      "outputs": [
        {
          "output_type": "execute_result",
          "data": {
            "text/plain": [
              "                 state                          event_start_tz  \\\n",
              "0             Selangor  2023-08-27 11:03:13.686 Asia/Singapore   \n",
              "1         Kuala Lumpur  2023-08-27 10:48:56.982 Asia/Singapore   \n",
              "2                Johor  2023-08-27 10:56:51.851 Asia/Singapore   \n",
              "3         Kuala Lumpur  2023-08-27 10:31:40.717 Asia/Singapore   \n",
              "4               Penang  2023-08-27 10:24:16.194 Asia/Singapore   \n",
              "...                ...                                     ...   \n",
              "26011962  Kuala Lumpur  2023-08-28 15:04:59.497 Asia/Singapore   \n",
              "26011963  Kuala Lumpur  2023-08-28 15:05:03.023 Asia/Singapore   \n",
              "26011964  Kuala Lumpur  2023-08-28 15:05:16.592 Asia/Singapore   \n",
              "26011965       Sarawak  2023-08-28 14:59:50.687 Asia/Singapore   \n",
              "26011966  Kuala Lumpur  2023-08-28 15:00:12.829 Asia/Singapore   \n",
              "\n",
              "          duration_seconds content_type                      content  \\\n",
              "0                       40          VOD                  Ombak Rindu   \n",
              "1                      424          VOD    Pada Zaman Dahulu S4 Ep08   \n",
              "2                      398          VOD         Upin & Ipin S16 Ep34   \n",
              "3                     1411          VOD         Tanah Kubur S13 Ep08   \n",
              "4                     2526          VOD        Narcotics Heroes Ep17   \n",
              "...                    ...          ...                          ...   \n",
              "26011962                 1         CDVR          Ghost of Relativity   \n",
              "26011963               906         CDVR          Ghost of Relativity   \n",
              "26011964               362          VOD         Upin & Ipin S15 Ep34   \n",
              "26011965              1241          VOD               Mechamato Ep01   \n",
              "26011966               672          VOD  Tayo The Little Bus S5 Ep13   \n",
              "\n",
              "          content_source  \n",
              "0               astro.2d  \n",
              "1               astro.7d  \n",
              "2              astro.30d  \n",
              "3              astro.30d  \n",
              "4              astro.30d  \n",
              "...                  ...  \n",
              "26011962  TVB CLASSIC HD  \n",
              "26011963  TVB CLASSIC HD  \n",
              "26011964       astro.30d  \n",
              "26011965       astro.30d  \n",
              "26011966        astro.7d  \n",
              "\n",
              "[26011967 rows x 6 columns]"
            ],
            "text/html": [
              "\n",
              "  <div id=\"df-3d3974cf-f73d-4796-89c9-35225bedc36c\" class=\"colab-df-container\">\n",
              "    <div>\n",
              "<style scoped>\n",
              "    .dataframe tbody tr th:only-of-type {\n",
              "        vertical-align: middle;\n",
              "    }\n",
              "\n",
              "    .dataframe tbody tr th {\n",
              "        vertical-align: top;\n",
              "    }\n",
              "\n",
              "    .dataframe thead th {\n",
              "        text-align: right;\n",
              "    }\n",
              "</style>\n",
              "<table border=\"1\" class=\"dataframe\">\n",
              "  <thead>\n",
              "    <tr style=\"text-align: right;\">\n",
              "      <th></th>\n",
              "      <th>state</th>\n",
              "      <th>event_start_tz</th>\n",
              "      <th>duration_seconds</th>\n",
              "      <th>content_type</th>\n",
              "      <th>content</th>\n",
              "      <th>content_source</th>\n",
              "    </tr>\n",
              "  </thead>\n",
              "  <tbody>\n",
              "    <tr>\n",
              "      <th>0</th>\n",
              "      <td>Selangor</td>\n",
              "      <td>2023-08-27 11:03:13.686 Asia/Singapore</td>\n",
              "      <td>40</td>\n",
              "      <td>VOD</td>\n",
              "      <td>Ombak Rindu</td>\n",
              "      <td>astro.2d</td>\n",
              "    </tr>\n",
              "    <tr>\n",
              "      <th>1</th>\n",
              "      <td>Kuala Lumpur</td>\n",
              "      <td>2023-08-27 10:48:56.982 Asia/Singapore</td>\n",
              "      <td>424</td>\n",
              "      <td>VOD</td>\n",
              "      <td>Pada Zaman Dahulu S4 Ep08</td>\n",
              "      <td>astro.7d</td>\n",
              "    </tr>\n",
              "    <tr>\n",
              "      <th>2</th>\n",
              "      <td>Johor</td>\n",
              "      <td>2023-08-27 10:56:51.851 Asia/Singapore</td>\n",
              "      <td>398</td>\n",
              "      <td>VOD</td>\n",
              "      <td>Upin &amp; Ipin S16 Ep34</td>\n",
              "      <td>astro.30d</td>\n",
              "    </tr>\n",
              "    <tr>\n",
              "      <th>3</th>\n",
              "      <td>Kuala Lumpur</td>\n",
              "      <td>2023-08-27 10:31:40.717 Asia/Singapore</td>\n",
              "      <td>1411</td>\n",
              "      <td>VOD</td>\n",
              "      <td>Tanah Kubur S13 Ep08</td>\n",
              "      <td>astro.30d</td>\n",
              "    </tr>\n",
              "    <tr>\n",
              "      <th>4</th>\n",
              "      <td>Penang</td>\n",
              "      <td>2023-08-27 10:24:16.194 Asia/Singapore</td>\n",
              "      <td>2526</td>\n",
              "      <td>VOD</td>\n",
              "      <td>Narcotics Heroes Ep17</td>\n",
              "      <td>astro.30d</td>\n",
              "    </tr>\n",
              "    <tr>\n",
              "      <th>...</th>\n",
              "      <td>...</td>\n",
              "      <td>...</td>\n",
              "      <td>...</td>\n",
              "      <td>...</td>\n",
              "      <td>...</td>\n",
              "      <td>...</td>\n",
              "    </tr>\n",
              "    <tr>\n",
              "      <th>26011962</th>\n",
              "      <td>Kuala Lumpur</td>\n",
              "      <td>2023-08-28 15:04:59.497 Asia/Singapore</td>\n",
              "      <td>1</td>\n",
              "      <td>CDVR</td>\n",
              "      <td>Ghost of Relativity</td>\n",
              "      <td>TVB CLASSIC HD</td>\n",
              "    </tr>\n",
              "    <tr>\n",
              "      <th>26011963</th>\n",
              "      <td>Kuala Lumpur</td>\n",
              "      <td>2023-08-28 15:05:03.023 Asia/Singapore</td>\n",
              "      <td>906</td>\n",
              "      <td>CDVR</td>\n",
              "      <td>Ghost of Relativity</td>\n",
              "      <td>TVB CLASSIC HD</td>\n",
              "    </tr>\n",
              "    <tr>\n",
              "      <th>26011964</th>\n",
              "      <td>Kuala Lumpur</td>\n",
              "      <td>2023-08-28 15:05:16.592 Asia/Singapore</td>\n",
              "      <td>362</td>\n",
              "      <td>VOD</td>\n",
              "      <td>Upin &amp; Ipin S15 Ep34</td>\n",
              "      <td>astro.30d</td>\n",
              "    </tr>\n",
              "    <tr>\n",
              "      <th>26011965</th>\n",
              "      <td>Sarawak</td>\n",
              "      <td>2023-08-28 14:59:50.687 Asia/Singapore</td>\n",
              "      <td>1241</td>\n",
              "      <td>VOD</td>\n",
              "      <td>Mechamato Ep01</td>\n",
              "      <td>astro.30d</td>\n",
              "    </tr>\n",
              "    <tr>\n",
              "      <th>26011966</th>\n",
              "      <td>Kuala Lumpur</td>\n",
              "      <td>2023-08-28 15:00:12.829 Asia/Singapore</td>\n",
              "      <td>672</td>\n",
              "      <td>VOD</td>\n",
              "      <td>Tayo The Little Bus S5 Ep13</td>\n",
              "      <td>astro.7d</td>\n",
              "    </tr>\n",
              "  </tbody>\n",
              "</table>\n",
              "<p>26011967 rows × 6 columns</p>\n",
              "</div>\n",
              "    <div class=\"colab-df-buttons\">\n",
              "\n",
              "  <div class=\"colab-df-container\">\n",
              "    <button class=\"colab-df-convert\" onclick=\"convertToInteractive('df-3d3974cf-f73d-4796-89c9-35225bedc36c')\"\n",
              "            title=\"Convert this dataframe to an interactive table.\"\n",
              "            style=\"display:none;\">\n",
              "\n",
              "  <svg xmlns=\"http://www.w3.org/2000/svg\" height=\"24px\" viewBox=\"0 -960 960 960\">\n",
              "    <path d=\"M120-120v-720h720v720H120Zm60-500h600v-160H180v160Zm220 220h160v-160H400v160Zm0 220h160v-160H400v160ZM180-400h160v-160H180v160Zm440 0h160v-160H620v160ZM180-180h160v-160H180v160Zm440 0h160v-160H620v160Z\"/>\n",
              "  </svg>\n",
              "    </button>\n",
              "\n",
              "  <style>\n",
              "    .colab-df-container {\n",
              "      display:flex;\n",
              "      gap: 12px;\n",
              "    }\n",
              "\n",
              "    .colab-df-convert {\n",
              "      background-color: #E8F0FE;\n",
              "      border: none;\n",
              "      border-radius: 50%;\n",
              "      cursor: pointer;\n",
              "      display: none;\n",
              "      fill: #1967D2;\n",
              "      height: 32px;\n",
              "      padding: 0 0 0 0;\n",
              "      width: 32px;\n",
              "    }\n",
              "\n",
              "    .colab-df-convert:hover {\n",
              "      background-color: #E2EBFA;\n",
              "      box-shadow: 0px 1px 2px rgba(60, 64, 67, 0.3), 0px 1px 3px 1px rgba(60, 64, 67, 0.15);\n",
              "      fill: #174EA6;\n",
              "    }\n",
              "\n",
              "    .colab-df-buttons div {\n",
              "      margin-bottom: 4px;\n",
              "    }\n",
              "\n",
              "    [theme=dark] .colab-df-convert {\n",
              "      background-color: #3B4455;\n",
              "      fill: #D2E3FC;\n",
              "    }\n",
              "\n",
              "    [theme=dark] .colab-df-convert:hover {\n",
              "      background-color: #434B5C;\n",
              "      box-shadow: 0px 1px 3px 1px rgba(0, 0, 0, 0.15);\n",
              "      filter: drop-shadow(0px 1px 2px rgba(0, 0, 0, 0.3));\n",
              "      fill: #FFFFFF;\n",
              "    }\n",
              "  </style>\n",
              "\n",
              "    <script>\n",
              "      const buttonEl =\n",
              "        document.querySelector('#df-3d3974cf-f73d-4796-89c9-35225bedc36c button.colab-df-convert');\n",
              "      buttonEl.style.display =\n",
              "        google.colab.kernel.accessAllowed ? 'block' : 'none';\n",
              "\n",
              "      async function convertToInteractive(key) {\n",
              "        const element = document.querySelector('#df-3d3974cf-f73d-4796-89c9-35225bedc36c');\n",
              "        const dataTable =\n",
              "          await google.colab.kernel.invokeFunction('convertToInteractive',\n",
              "                                                    [key], {});\n",
              "        if (!dataTable) return;\n",
              "\n",
              "        const docLinkHtml = 'Like what you see? Visit the ' +\n",
              "          '<a target=\"_blank\" href=https://colab.research.google.com/notebooks/data_table.ipynb>data table notebook</a>'\n",
              "          + ' to learn more about interactive tables.';\n",
              "        element.innerHTML = '';\n",
              "        dataTable['output_type'] = 'display_data';\n",
              "        await google.colab.output.renderOutput(dataTable, element);\n",
              "        const docLink = document.createElement('div');\n",
              "        docLink.innerHTML = docLinkHtml;\n",
              "        element.appendChild(docLink);\n",
              "      }\n",
              "    </script>\n",
              "  </div>\n",
              "\n",
              "\n",
              "<div id=\"df-2b20ce8a-58c2-4662-9574-be630dda8f2e\">\n",
              "  <button class=\"colab-df-quickchart\" onclick=\"quickchart('df-2b20ce8a-58c2-4662-9574-be630dda8f2e')\"\n",
              "            title=\"Suggest charts.\"\n",
              "            style=\"display:none;\">\n",
              "\n",
              "<svg xmlns=\"http://www.w3.org/2000/svg\" height=\"24px\"viewBox=\"0 0 24 24\"\n",
              "     width=\"24px\">\n",
              "    <g>\n",
              "        <path d=\"M19 3H5c-1.1 0-2 .9-2 2v14c0 1.1.9 2 2 2h14c1.1 0 2-.9 2-2V5c0-1.1-.9-2-2-2zM9 17H7v-7h2v7zm4 0h-2V7h2v10zm4 0h-2v-4h2v4z\"/>\n",
              "    </g>\n",
              "</svg>\n",
              "  </button>\n",
              "\n",
              "<style>\n",
              "  .colab-df-quickchart {\n",
              "      --bg-color: #E8F0FE;\n",
              "      --fill-color: #1967D2;\n",
              "      --hover-bg-color: #E2EBFA;\n",
              "      --hover-fill-color: #174EA6;\n",
              "      --disabled-fill-color: #AAA;\n",
              "      --disabled-bg-color: #DDD;\n",
              "  }\n",
              "\n",
              "  [theme=dark] .colab-df-quickchart {\n",
              "      --bg-color: #3B4455;\n",
              "      --fill-color: #D2E3FC;\n",
              "      --hover-bg-color: #434B5C;\n",
              "      --hover-fill-color: #FFFFFF;\n",
              "      --disabled-bg-color: #3B4455;\n",
              "      --disabled-fill-color: #666;\n",
              "  }\n",
              "\n",
              "  .colab-df-quickchart {\n",
              "    background-color: var(--bg-color);\n",
              "    border: none;\n",
              "    border-radius: 50%;\n",
              "    cursor: pointer;\n",
              "    display: none;\n",
              "    fill: var(--fill-color);\n",
              "    height: 32px;\n",
              "    padding: 0;\n",
              "    width: 32px;\n",
              "  }\n",
              "\n",
              "  .colab-df-quickchart:hover {\n",
              "    background-color: var(--hover-bg-color);\n",
              "    box-shadow: 0 1px 2px rgba(60, 64, 67, 0.3), 0 1px 3px 1px rgba(60, 64, 67, 0.15);\n",
              "    fill: var(--button-hover-fill-color);\n",
              "  }\n",
              "\n",
              "  .colab-df-quickchart-complete:disabled,\n",
              "  .colab-df-quickchart-complete:disabled:hover {\n",
              "    background-color: var(--disabled-bg-color);\n",
              "    fill: var(--disabled-fill-color);\n",
              "    box-shadow: none;\n",
              "  }\n",
              "\n",
              "  .colab-df-spinner {\n",
              "    border: 2px solid var(--fill-color);\n",
              "    border-color: transparent;\n",
              "    border-bottom-color: var(--fill-color);\n",
              "    animation:\n",
              "      spin 1s steps(1) infinite;\n",
              "  }\n",
              "\n",
              "  @keyframes spin {\n",
              "    0% {\n",
              "      border-color: transparent;\n",
              "      border-bottom-color: var(--fill-color);\n",
              "      border-left-color: var(--fill-color);\n",
              "    }\n",
              "    20% {\n",
              "      border-color: transparent;\n",
              "      border-left-color: var(--fill-color);\n",
              "      border-top-color: var(--fill-color);\n",
              "    }\n",
              "    30% {\n",
              "      border-color: transparent;\n",
              "      border-left-color: var(--fill-color);\n",
              "      border-top-color: var(--fill-color);\n",
              "      border-right-color: var(--fill-color);\n",
              "    }\n",
              "    40% {\n",
              "      border-color: transparent;\n",
              "      border-right-color: var(--fill-color);\n",
              "      border-top-color: var(--fill-color);\n",
              "    }\n",
              "    60% {\n",
              "      border-color: transparent;\n",
              "      border-right-color: var(--fill-color);\n",
              "    }\n",
              "    80% {\n",
              "      border-color: transparent;\n",
              "      border-right-color: var(--fill-color);\n",
              "      border-bottom-color: var(--fill-color);\n",
              "    }\n",
              "    90% {\n",
              "      border-color: transparent;\n",
              "      border-bottom-color: var(--fill-color);\n",
              "    }\n",
              "  }\n",
              "</style>\n",
              "\n",
              "  <script>\n",
              "    async function quickchart(key) {\n",
              "      const quickchartButtonEl =\n",
              "        document.querySelector('#' + key + ' button');\n",
              "      quickchartButtonEl.disabled = true;  // To prevent multiple clicks.\n",
              "      quickchartButtonEl.classList.add('colab-df-spinner');\n",
              "      try {\n",
              "        const charts = await google.colab.kernel.invokeFunction(\n",
              "            'suggestCharts', [key], {});\n",
              "      } catch (error) {\n",
              "        console.error('Error during call to suggestCharts:', error);\n",
              "      }\n",
              "      quickchartButtonEl.classList.remove('colab-df-spinner');\n",
              "      quickchartButtonEl.classList.add('colab-df-quickchart-complete');\n",
              "    }\n",
              "    (() => {\n",
              "      let quickchartButtonEl =\n",
              "        document.querySelector('#df-2b20ce8a-58c2-4662-9574-be630dda8f2e button');\n",
              "      quickchartButtonEl.style.display =\n",
              "        google.colab.kernel.accessAllowed ? 'block' : 'none';\n",
              "    })();\n",
              "  </script>\n",
              "</div>\n",
              "    </div>\n",
              "  </div>\n"
            ]
          },
          "metadata": {},
          "execution_count": 4
        }
      ],
      "source": [
        "main_df"
      ]
    },
    {
      "cell_type": "markdown",
      "metadata": {
        "id": "jBJooQ5fDVE3"
      },
      "source": [
        "# *main dataframe shape*"
      ]
    },
    {
      "cell_type": "code",
      "execution_count": 5,
      "metadata": {
        "colab": {
          "base_uri": "https://localhost:8080/"
        },
        "id": "_Fa91j-642dw",
        "outputId": "b6889455-bd94-45c9-f097-253d705975cf"
      },
      "outputs": [
        {
          "output_type": "execute_result",
          "data": {
            "text/plain": [
              "(26011967, 6)"
            ]
          },
          "metadata": {},
          "execution_count": 5
        }
      ],
      "source": [
        "main_df.shape"
      ]
    },
    {
      "cell_type": "code",
      "source": [
        "initial_record_count = main_df.shape[0]"
      ],
      "metadata": {
        "id": "rivskBRyp03D"
      },
      "execution_count": 6,
      "outputs": []
    },
    {
      "cell_type": "markdown",
      "metadata": {
        "id": "rVBAbQMtTReH"
      },
      "source": [
        "### ***the main dataframe contains 2,60,11,967 records***"
      ]
    },
    {
      "cell_type": "code",
      "source": [
        "main_df[\"state\"].value_counts()"
      ],
      "metadata": {
        "colab": {
          "base_uri": "https://localhost:8080/"
        },
        "id": "q69s9MR0_-Y9",
        "outputId": "c2f7f5f7-2405-48a0-a4c4-f9c1b7ae8365"
      },
      "execution_count": 7,
      "outputs": [
        {
          "output_type": "execute_result",
          "data": {
            "text/plain": [
              "Kuala Lumpur                  6907074\n",
              "Selangor                      2646489\n",
              "Penang                         754808\n",
              "Johor                          725571\n",
              "Perak                          406297\n",
              "Sarawak                        229300\n",
              "Negeri Sembilan                220280\n",
              "Sabah                          209076\n",
              "Melaka                         119882\n",
              "Kedah                           94362\n",
              "Kelantan                        62248\n",
              "Pahang                          52418\n",
              "UNKNOWN                         49041\n",
              "Terengganu                      31766\n",
              "Putrajaya                        7275\n",
              "Perlis                           1872\n",
              "Karnataka                         379\n",
              "Labuan                            370\n",
              "ERROR                             169\n",
              "Maharashtra                       129\n",
              "Seoul                              10\n",
              "Uttar Pradesh                       6\n",
              "Occitanie                           5\n",
              "England                             5\n",
              "Victoria                            3\n",
              "Jerusalem                           3\n",
              "Tamil Nadu                          2\n",
              "Lesser Poland                       2\n",
              "Zurich                              2\n",
              "Taoyuan                             1\n",
              "Departamento de Cochabamba          1\n",
              "Name: state, dtype: int64"
            ]
          },
          "metadata": {},
          "execution_count": 7
        }
      ]
    },
    {
      "cell_type": "markdown",
      "metadata": {
        "id": "N9m3DFWDDk-V"
      },
      "source": [
        "# main dataset columns"
      ]
    },
    {
      "cell_type": "code",
      "execution_count": 8,
      "metadata": {
        "colab": {
          "base_uri": "https://localhost:8080/"
        },
        "id": "mAZC1VKz_S_z",
        "outputId": "be0b3803-5d2e-49b8-9c1e-d3a50df6a957"
      },
      "outputs": [
        {
          "output_type": "stream",
          "name": "stdout",
          "text": [
            "The dataset contains the following columns\n",
            "1 . state\n",
            "2 . event_start_tz\n",
            "3 . duration_seconds\n",
            "4 . content_type\n",
            "5 . content\n",
            "6 . content_source\n"
          ]
        }
      ],
      "source": [
        "i = 1\n",
        "print(\"The dataset contains the following columns\")\n",
        "for column in main_df.columns:\n",
        "  print(i,\".\",column)\n",
        "  i+=1"
      ]
    },
    {
      "cell_type": "code",
      "execution_count": 9,
      "metadata": {
        "colab": {
          "base_uri": "https://localhost:8080/"
        },
        "id": "HdzaMaJS21PO",
        "outputId": "dc5e3f41-b7f8-4d93-f883-6af8e2e7c011"
      },
      "outputs": [
        {
          "output_type": "execute_result",
          "data": {
            "text/plain": [
              "state               13493121\n",
              "event_start_tz             0\n",
              "duration_seconds           0\n",
              "content_type               0\n",
              "content               110136\n",
              "content_source          3780\n",
              "dtype: int64"
            ]
          },
          "metadata": {},
          "execution_count": 9
        }
      ],
      "source": [
        "main_df.isna().sum()"
      ]
    },
    {
      "cell_type": "markdown",
      "source": [
        "# creating another data frame called cleaned_df by cleaning nulls"
      ],
      "metadata": {
        "id": "Ie7hV8ZLwHm8"
      }
    },
    {
      "cell_type": "code",
      "execution_count": 10,
      "metadata": {
        "id": "M5-ByEFmJ3f5"
      },
      "outputs": [],
      "source": [
        "cleaned_df = main_df.dropna()"
      ]
    },
    {
      "cell_type": "code",
      "execution_count": 11,
      "metadata": {
        "colab": {
          "base_uri": "https://localhost:8080/"
        },
        "id": "fIUhOgzFNOv4",
        "outputId": "633cc0c7-0073-4311-ef51-dec317e825b3"
      },
      "outputs": [
        {
          "output_type": "execute_result",
          "data": {
            "text/plain": [
              "(12466618, 6)"
            ]
          },
          "metadata": {},
          "execution_count": 11
        }
      ],
      "source": [
        "cleaned_df.shape"
      ]
    },
    {
      "cell_type": "code",
      "execution_count": 12,
      "metadata": {
        "colab": {
          "base_uri": "https://localhost:8080/"
        },
        "id": "fqramgLG6mf9",
        "outputId": "b80afe93-3f9a-4742-f2f9-a5acaf326c3e"
      },
      "outputs": [
        {
          "output_type": "execute_result",
          "data": {
            "text/plain": [
              "tuple"
            ]
          },
          "metadata": {},
          "execution_count": 12
        }
      ],
      "source": [
        "type(cleaned_df.shape)"
      ]
    },
    {
      "cell_type": "markdown",
      "metadata": {
        "id": "KItgXqDlGONx"
      },
      "source": [
        "# difference b/w new and orignal data frame"
      ]
    },
    {
      "cell_type": "code",
      "execution_count": 13,
      "metadata": {
        "id": "qHiK2QXG6tYo"
      },
      "outputs": [],
      "source": [
        "records_differenece = main_df.shape[0] - cleaned_df.shape[0]"
      ]
    },
    {
      "cell_type": "code",
      "execution_count": 14,
      "metadata": {
        "id": "blwJOlmm7FOk"
      },
      "outputs": [],
      "source": [
        "percent_record_difference = (records_differenece / main_df.shape[0]) * 100"
      ]
    },
    {
      "cell_type": "code",
      "source": [
        "del records_differenece\n"
      ],
      "metadata": {
        "id": "pTott2zhxO2v"
      },
      "execution_count": 15,
      "outputs": []
    },
    {
      "cell_type": "markdown",
      "metadata": {
        "id": "LPedBoPCFvtM"
      },
      "source": [
        "### percentage difference in records after dropping rows"
      ]
    },
    {
      "cell_type": "code",
      "execution_count": 16,
      "metadata": {
        "colab": {
          "base_uri": "https://localhost:8080/"
        },
        "id": "XdNNPTEx7soL",
        "outputId": "414b57f7-3ddd-4775-f369-d1f4ff283e4f"
      },
      "outputs": [
        {
          "output_type": "execute_result",
          "data": {
            "text/plain": [
              "52.073528311027"
            ]
          },
          "metadata": {},
          "execution_count": 16
        }
      ],
      "source": [
        "percent_record_difference"
      ]
    },
    {
      "cell_type": "code",
      "source": [
        "del percent_record_difference"
      ],
      "metadata": {
        "id": "trEDmTS8xYOW"
      },
      "execution_count": 17,
      "outputs": []
    },
    {
      "cell_type": "code",
      "execution_count": 18,
      "metadata": {
        "colab": {
          "base_uri": "https://localhost:8080/",
          "height": 300
        },
        "id": "Nj2ag5je5VP9",
        "outputId": "cb4703a3-44df-4536-cb20-60cfd03ae938"
      },
      "outputs": [
        {
          "output_type": "execute_result",
          "data": {
            "text/plain": [
              "       duration_seconds\n",
              "count      1.246662e+07\n",
              "mean       5.246197e+02\n",
              "std        1.160204e+03\n",
              "min        0.000000e+00\n",
              "25%        1.000000e+01\n",
              "50%        1.250000e+02\n",
              "75%        4.280000e+02\n",
              "max        3.239500e+04"
            ],
            "text/html": [
              "\n",
              "  <div id=\"df-284e4cdb-0f0c-4f00-b030-8117a9308f1b\" class=\"colab-df-container\">\n",
              "    <div>\n",
              "<style scoped>\n",
              "    .dataframe tbody tr th:only-of-type {\n",
              "        vertical-align: middle;\n",
              "    }\n",
              "\n",
              "    .dataframe tbody tr th {\n",
              "        vertical-align: top;\n",
              "    }\n",
              "\n",
              "    .dataframe thead th {\n",
              "        text-align: right;\n",
              "    }\n",
              "</style>\n",
              "<table border=\"1\" class=\"dataframe\">\n",
              "  <thead>\n",
              "    <tr style=\"text-align: right;\">\n",
              "      <th></th>\n",
              "      <th>duration_seconds</th>\n",
              "    </tr>\n",
              "  </thead>\n",
              "  <tbody>\n",
              "    <tr>\n",
              "      <th>count</th>\n",
              "      <td>1.246662e+07</td>\n",
              "    </tr>\n",
              "    <tr>\n",
              "      <th>mean</th>\n",
              "      <td>5.246197e+02</td>\n",
              "    </tr>\n",
              "    <tr>\n",
              "      <th>std</th>\n",
              "      <td>1.160204e+03</td>\n",
              "    </tr>\n",
              "    <tr>\n",
              "      <th>min</th>\n",
              "      <td>0.000000e+00</td>\n",
              "    </tr>\n",
              "    <tr>\n",
              "      <th>25%</th>\n",
              "      <td>1.000000e+01</td>\n",
              "    </tr>\n",
              "    <tr>\n",
              "      <th>50%</th>\n",
              "      <td>1.250000e+02</td>\n",
              "    </tr>\n",
              "    <tr>\n",
              "      <th>75%</th>\n",
              "      <td>4.280000e+02</td>\n",
              "    </tr>\n",
              "    <tr>\n",
              "      <th>max</th>\n",
              "      <td>3.239500e+04</td>\n",
              "    </tr>\n",
              "  </tbody>\n",
              "</table>\n",
              "</div>\n",
              "    <div class=\"colab-df-buttons\">\n",
              "\n",
              "  <div class=\"colab-df-container\">\n",
              "    <button class=\"colab-df-convert\" onclick=\"convertToInteractive('df-284e4cdb-0f0c-4f00-b030-8117a9308f1b')\"\n",
              "            title=\"Convert this dataframe to an interactive table.\"\n",
              "            style=\"display:none;\">\n",
              "\n",
              "  <svg xmlns=\"http://www.w3.org/2000/svg\" height=\"24px\" viewBox=\"0 -960 960 960\">\n",
              "    <path d=\"M120-120v-720h720v720H120Zm60-500h600v-160H180v160Zm220 220h160v-160H400v160Zm0 220h160v-160H400v160ZM180-400h160v-160H180v160Zm440 0h160v-160H620v160ZM180-180h160v-160H180v160Zm440 0h160v-160H620v160Z\"/>\n",
              "  </svg>\n",
              "    </button>\n",
              "\n",
              "  <style>\n",
              "    .colab-df-container {\n",
              "      display:flex;\n",
              "      gap: 12px;\n",
              "    }\n",
              "\n",
              "    .colab-df-convert {\n",
              "      background-color: #E8F0FE;\n",
              "      border: none;\n",
              "      border-radius: 50%;\n",
              "      cursor: pointer;\n",
              "      display: none;\n",
              "      fill: #1967D2;\n",
              "      height: 32px;\n",
              "      padding: 0 0 0 0;\n",
              "      width: 32px;\n",
              "    }\n",
              "\n",
              "    .colab-df-convert:hover {\n",
              "      background-color: #E2EBFA;\n",
              "      box-shadow: 0px 1px 2px rgba(60, 64, 67, 0.3), 0px 1px 3px 1px rgba(60, 64, 67, 0.15);\n",
              "      fill: #174EA6;\n",
              "    }\n",
              "\n",
              "    .colab-df-buttons div {\n",
              "      margin-bottom: 4px;\n",
              "    }\n",
              "\n",
              "    [theme=dark] .colab-df-convert {\n",
              "      background-color: #3B4455;\n",
              "      fill: #D2E3FC;\n",
              "    }\n",
              "\n",
              "    [theme=dark] .colab-df-convert:hover {\n",
              "      background-color: #434B5C;\n",
              "      box-shadow: 0px 1px 3px 1px rgba(0, 0, 0, 0.15);\n",
              "      filter: drop-shadow(0px 1px 2px rgba(0, 0, 0, 0.3));\n",
              "      fill: #FFFFFF;\n",
              "    }\n",
              "  </style>\n",
              "\n",
              "    <script>\n",
              "      const buttonEl =\n",
              "        document.querySelector('#df-284e4cdb-0f0c-4f00-b030-8117a9308f1b button.colab-df-convert');\n",
              "      buttonEl.style.display =\n",
              "        google.colab.kernel.accessAllowed ? 'block' : 'none';\n",
              "\n",
              "      async function convertToInteractive(key) {\n",
              "        const element = document.querySelector('#df-284e4cdb-0f0c-4f00-b030-8117a9308f1b');\n",
              "        const dataTable =\n",
              "          await google.colab.kernel.invokeFunction('convertToInteractive',\n",
              "                                                    [key], {});\n",
              "        if (!dataTable) return;\n",
              "\n",
              "        const docLinkHtml = 'Like what you see? Visit the ' +\n",
              "          '<a target=\"_blank\" href=https://colab.research.google.com/notebooks/data_table.ipynb>data table notebook</a>'\n",
              "          + ' to learn more about interactive tables.';\n",
              "        element.innerHTML = '';\n",
              "        dataTable['output_type'] = 'display_data';\n",
              "        await google.colab.output.renderOutput(dataTable, element);\n",
              "        const docLink = document.createElement('div');\n",
              "        docLink.innerHTML = docLinkHtml;\n",
              "        element.appendChild(docLink);\n",
              "      }\n",
              "    </script>\n",
              "  </div>\n",
              "\n",
              "\n",
              "<div id=\"df-e5947c65-bf4d-4041-a318-e14097251862\">\n",
              "  <button class=\"colab-df-quickchart\" onclick=\"quickchart('df-e5947c65-bf4d-4041-a318-e14097251862')\"\n",
              "            title=\"Suggest charts.\"\n",
              "            style=\"display:none;\">\n",
              "\n",
              "<svg xmlns=\"http://www.w3.org/2000/svg\" height=\"24px\"viewBox=\"0 0 24 24\"\n",
              "     width=\"24px\">\n",
              "    <g>\n",
              "        <path d=\"M19 3H5c-1.1 0-2 .9-2 2v14c0 1.1.9 2 2 2h14c1.1 0 2-.9 2-2V5c0-1.1-.9-2-2-2zM9 17H7v-7h2v7zm4 0h-2V7h2v10zm4 0h-2v-4h2v4z\"/>\n",
              "    </g>\n",
              "</svg>\n",
              "  </button>\n",
              "\n",
              "<style>\n",
              "  .colab-df-quickchart {\n",
              "      --bg-color: #E8F0FE;\n",
              "      --fill-color: #1967D2;\n",
              "      --hover-bg-color: #E2EBFA;\n",
              "      --hover-fill-color: #174EA6;\n",
              "      --disabled-fill-color: #AAA;\n",
              "      --disabled-bg-color: #DDD;\n",
              "  }\n",
              "\n",
              "  [theme=dark] .colab-df-quickchart {\n",
              "      --bg-color: #3B4455;\n",
              "      --fill-color: #D2E3FC;\n",
              "      --hover-bg-color: #434B5C;\n",
              "      --hover-fill-color: #FFFFFF;\n",
              "      --disabled-bg-color: #3B4455;\n",
              "      --disabled-fill-color: #666;\n",
              "  }\n",
              "\n",
              "  .colab-df-quickchart {\n",
              "    background-color: var(--bg-color);\n",
              "    border: none;\n",
              "    border-radius: 50%;\n",
              "    cursor: pointer;\n",
              "    display: none;\n",
              "    fill: var(--fill-color);\n",
              "    height: 32px;\n",
              "    padding: 0;\n",
              "    width: 32px;\n",
              "  }\n",
              "\n",
              "  .colab-df-quickchart:hover {\n",
              "    background-color: var(--hover-bg-color);\n",
              "    box-shadow: 0 1px 2px rgba(60, 64, 67, 0.3), 0 1px 3px 1px rgba(60, 64, 67, 0.15);\n",
              "    fill: var(--button-hover-fill-color);\n",
              "  }\n",
              "\n",
              "  .colab-df-quickchart-complete:disabled,\n",
              "  .colab-df-quickchart-complete:disabled:hover {\n",
              "    background-color: var(--disabled-bg-color);\n",
              "    fill: var(--disabled-fill-color);\n",
              "    box-shadow: none;\n",
              "  }\n",
              "\n",
              "  .colab-df-spinner {\n",
              "    border: 2px solid var(--fill-color);\n",
              "    border-color: transparent;\n",
              "    border-bottom-color: var(--fill-color);\n",
              "    animation:\n",
              "      spin 1s steps(1) infinite;\n",
              "  }\n",
              "\n",
              "  @keyframes spin {\n",
              "    0% {\n",
              "      border-color: transparent;\n",
              "      border-bottom-color: var(--fill-color);\n",
              "      border-left-color: var(--fill-color);\n",
              "    }\n",
              "    20% {\n",
              "      border-color: transparent;\n",
              "      border-left-color: var(--fill-color);\n",
              "      border-top-color: var(--fill-color);\n",
              "    }\n",
              "    30% {\n",
              "      border-color: transparent;\n",
              "      border-left-color: var(--fill-color);\n",
              "      border-top-color: var(--fill-color);\n",
              "      border-right-color: var(--fill-color);\n",
              "    }\n",
              "    40% {\n",
              "      border-color: transparent;\n",
              "      border-right-color: var(--fill-color);\n",
              "      border-top-color: var(--fill-color);\n",
              "    }\n",
              "    60% {\n",
              "      border-color: transparent;\n",
              "      border-right-color: var(--fill-color);\n",
              "    }\n",
              "    80% {\n",
              "      border-color: transparent;\n",
              "      border-right-color: var(--fill-color);\n",
              "      border-bottom-color: var(--fill-color);\n",
              "    }\n",
              "    90% {\n",
              "      border-color: transparent;\n",
              "      border-bottom-color: var(--fill-color);\n",
              "    }\n",
              "  }\n",
              "</style>\n",
              "\n",
              "  <script>\n",
              "    async function quickchart(key) {\n",
              "      const quickchartButtonEl =\n",
              "        document.querySelector('#' + key + ' button');\n",
              "      quickchartButtonEl.disabled = true;  // To prevent multiple clicks.\n",
              "      quickchartButtonEl.classList.add('colab-df-spinner');\n",
              "      try {\n",
              "        const charts = await google.colab.kernel.invokeFunction(\n",
              "            'suggestCharts', [key], {});\n",
              "      } catch (error) {\n",
              "        console.error('Error during call to suggestCharts:', error);\n",
              "      }\n",
              "      quickchartButtonEl.classList.remove('colab-df-spinner');\n",
              "      quickchartButtonEl.classList.add('colab-df-quickchart-complete');\n",
              "    }\n",
              "    (() => {\n",
              "      let quickchartButtonEl =\n",
              "        document.querySelector('#df-e5947c65-bf4d-4041-a318-e14097251862 button');\n",
              "      quickchartButtonEl.style.display =\n",
              "        google.colab.kernel.accessAllowed ? 'block' : 'none';\n",
              "    })();\n",
              "  </script>\n",
              "</div>\n",
              "    </div>\n",
              "  </div>\n"
            ]
          },
          "metadata": {},
          "execution_count": 18
        }
      ],
      "source": [
        "cleaned_df.describe()"
      ]
    },
    {
      "cell_type": "code",
      "execution_count": 19,
      "metadata": {
        "colab": {
          "base_uri": "https://localhost:8080/"
        },
        "id": "NoN8H-6h5OPb",
        "outputId": "247bff82-47b1-44f4-e245-ea88a75590b4"
      },
      "outputs": [
        {
          "output_type": "stream",
          "name": "stdout",
          "text": [
            "<class 'pandas.core.frame.DataFrame'>\n",
            "Int64Index: 12466618 entries, 0 to 26011966\n",
            "Data columns (total 6 columns):\n",
            " #   Column            Dtype \n",
            "---  ------            ----- \n",
            " 0   state             object\n",
            " 1   event_start_tz    object\n",
            " 2   duration_seconds  int64 \n",
            " 3   content_type      object\n",
            " 4   content           object\n",
            " 5   content_source    object\n",
            "dtypes: int64(1), object(5)\n",
            "memory usage: 665.8+ MB\n"
          ]
        }
      ],
      "source": [
        "cleaned_df.info()"
      ]
    },
    {
      "cell_type": "code",
      "execution_count": 20,
      "metadata": {
        "id": "4mLhRST5F8sg"
      },
      "outputs": [],
      "source": [
        "uniq_states = cleaned_df['state'].value_counts()"
      ]
    },
    {
      "cell_type": "markdown",
      "metadata": {
        "id": "jvJ1dLZlH1R9"
      },
      "source": [
        "### List of distinct states"
      ]
    },
    {
      "cell_type": "code",
      "execution_count": 21,
      "metadata": {
        "colab": {
          "base_uri": "https://localhost:8080/"
        },
        "id": "-9q0_VrpHQPD",
        "outputId": "54637d95-13ff-4ca4-df29-c55f538adb43"
      },
      "outputs": [
        {
          "output_type": "execute_result",
          "data": {
            "text/plain": [
              "Kuala Lumpur                  6878719\n",
              "Selangor                      2634243\n",
              "Penang                         751319\n",
              "Johor                          722522\n",
              "Perak                          404518\n",
              "Sarawak                        228747\n",
              "Negeri Sembilan                219438\n",
              "Sabah                          208386\n",
              "Melaka                         119456\n",
              "Kedah                           94178\n",
              "Kelantan                        62062\n",
              "Pahang                          52238\n",
              "UNKNOWN                         48884\n",
              "Terengganu                      31681\n",
              "Putrajaya                        7271\n",
              "Perlis                           1869\n",
              "Karnataka                         379\n",
              "Labuan                            370\n",
              "ERROR                             169\n",
              "Maharashtra                       129\n",
              "Seoul                              10\n",
              "Uttar Pradesh                       6\n",
              "Occitanie                           5\n",
              "England                             5\n",
              "Victoria                            3\n",
              "Jerusalem                           3\n",
              "Tamil Nadu                          2\n",
              "Lesser Poland                       2\n",
              "Zurich                              2\n",
              "Taoyuan                             1\n",
              "Departamento de Cochabamba          1\n",
              "Name: state, dtype: int64"
            ]
          },
          "metadata": {},
          "execution_count": 21
        }
      ],
      "source": [
        "uniq_states\n"
      ]
    },
    {
      "cell_type": "code",
      "source": [
        "del uniq_states"
      ],
      "metadata": {
        "id": "-EpeZGatxhwq"
      },
      "execution_count": 22,
      "outputs": []
    },
    {
      "cell_type": "markdown",
      "metadata": {
        "id": "wGdV3EHGRmSc"
      },
      "source": [
        "# List of actual Malaysian states plus federal territories"
      ]
    },
    {
      "cell_type": "code",
      "execution_count": 23,
      "metadata": {
        "id": "Ki29hypARk7h"
      },
      "outputs": [],
      "source": [
        "states_list = np.array([\"Perlis\", \"Kedah\", \"Penang\", \"Perak\", \"Selangor\", \"Negeri Sembilan\",\n",
        "               \"Melaka\", \"Johor\", \"Kelantan\", \"Terengganu\", \"Pahang\", \"Kuala Lumpur\", \"Putrajaya\", \"Sabah\", \"Sarawak\", \"Labuan\" ])"
      ]
    },
    {
      "cell_type": "code",
      "execution_count": 24,
      "metadata": {
        "colab": {
          "base_uri": "https://localhost:8080/"
        },
        "id": "ElYSPrhMSCXW",
        "outputId": "0dfc9e5a-d1ae-4af0-b7e5-e2c64937f3f3"
      },
      "outputs": [
        {
          "output_type": "execute_result",
          "data": {
            "text/plain": [
              "16"
            ]
          },
          "metadata": {},
          "execution_count": 24
        }
      ],
      "source": [
        "len(states_list)"
      ]
    },
    {
      "cell_type": "markdown",
      "metadata": {
        "id": "k9-mOQ0cV8Ws"
      },
      "source": [
        "# filtering duplicate state if any"
      ]
    },
    {
      "cell_type": "code",
      "execution_count": 25,
      "metadata": {
        "id": "HJfNq2xhSLrz"
      },
      "outputs": [],
      "source": [
        "states_list = np.array(list(set(states_list)))"
      ]
    },
    {
      "cell_type": "code",
      "execution_count": 26,
      "metadata": {
        "colab": {
          "base_uri": "https://localhost:8080/"
        },
        "id": "MI7qOKReVrs2",
        "outputId": "8ba37473-decf-4a03-8a55-45047e79b295"
      },
      "outputs": [
        {
          "output_type": "stream",
          "name": "stdout",
          "text": [
            "Melaka\n",
            "Sabah\n",
            "Perlis\n",
            "Johor\n",
            "Labuan\n",
            "Penang\n",
            "Putrajaya\n",
            "Kelantan\n",
            "Perak\n",
            "Pahang\n",
            "Kuala Lumpur\n",
            "Selangor\n",
            "Kedah\n",
            "Negeri Sembilan\n",
            "Sarawak\n",
            "Terengganu\n"
          ]
        }
      ],
      "source": [
        "for state in states_list:\n",
        "  print(state)"
      ]
    },
    {
      "cell_type": "code",
      "execution_count": 27,
      "metadata": {
        "colab": {
          "base_uri": "https://localhost:8080/"
        },
        "id": "2CauLjhYVyxe",
        "outputId": "1b443c42-7d9b-457f-80c4-0f63f7d241a1"
      },
      "outputs": [
        {
          "output_type": "execute_result",
          "data": {
            "text/plain": [
              "16"
            ]
          },
          "metadata": {},
          "execution_count": 27
        }
      ],
      "source": [
        "len(states_list)"
      ]
    },
    {
      "cell_type": "markdown",
      "metadata": {
        "id": "ev55vYNd4JvD"
      },
      "source": [
        "# Filtering  non Malaysian states"
      ]
    },
    {
      "cell_type": "code",
      "execution_count": 28,
      "metadata": {
        "id": "fKyLM5nH4I41"
      },
      "outputs": [],
      "source": [
        "cleaned_df = cleaned_df[cleaned_df['state'].isin(states_list)]"
      ]
    },
    {
      "cell_type": "code",
      "execution_count": 29,
      "metadata": {
        "colab": {
          "base_uri": "https://localhost:8080/"
        },
        "id": "u_fJiQhKc00l",
        "outputId": "a6bfe606-2e92-4146-ea45-25af08d7e5b7"
      },
      "outputs": [
        {
          "output_type": "execute_result",
          "data": {
            "text/plain": [
              "pandas.core.series.Series"
            ]
          },
          "metadata": {},
          "execution_count": 29
        }
      ],
      "source": [
        "type(cleaned_df['state'].isin(states_list))"
      ]
    },
    {
      "cell_type": "code",
      "execution_count": 30,
      "metadata": {
        "id": "NGVf6l4JGMBz"
      },
      "outputs": [],
      "source": [
        "cleaned_df_states = cleaned_df['state'].value_counts()"
      ]
    },
    {
      "cell_type": "code",
      "execution_count": 31,
      "metadata": {
        "colab": {
          "base_uri": "https://localhost:8080/"
        },
        "id": "zUFTlTuZPw9n",
        "outputId": "a597f394-1909-4cae-be13-c2d31e236ac9"
      },
      "outputs": [
        {
          "output_type": "execute_result",
          "data": {
            "text/plain": [
              "Kuala Lumpur       6878719\n",
              "Selangor           2634243\n",
              "Penang              751319\n",
              "Johor               722522\n",
              "Perak               404518\n",
              "Sarawak             228747\n",
              "Negeri Sembilan     219438\n",
              "Sabah               208386\n",
              "Melaka              119456\n",
              "Kedah                94178\n",
              "Kelantan             62062\n",
              "Pahang               52238\n",
              "Terengganu           31681\n",
              "Putrajaya             7271\n",
              "Perlis                1869\n",
              "Labuan                 370\n",
              "Name: state, dtype: int64"
            ]
          },
          "metadata": {},
          "execution_count": 31
        }
      ],
      "source": [
        "cleaned_df_states"
      ]
    },
    {
      "cell_type": "code",
      "execution_count": 32,
      "metadata": {
        "colab": {
          "base_uri": "https://localhost:8080/"
        },
        "id": "RZAnyt9wKz3N",
        "outputId": "531bc7ce-4a8d-42ac-849c-d8d3d6763ba4"
      },
      "outputs": [
        {
          "output_type": "execute_result",
          "data": {
            "text/plain": [
              "pandas.core.series.Series"
            ]
          },
          "metadata": {},
          "execution_count": 32
        }
      ],
      "source": [
        "type(cleaned_df_states)"
      ]
    },
    {
      "cell_type": "code",
      "execution_count": 33,
      "metadata": {
        "colab": {
          "base_uri": "https://localhost:8080/"
        },
        "id": "zY_bpIYAP3R8",
        "outputId": "cd255d46-65a8-43f0-c0e5-14e8cb59a0a0"
      },
      "outputs": [
        {
          "output_type": "execute_result",
          "data": {
            "text/plain": [
              "12417017"
            ]
          },
          "metadata": {},
          "execution_count": 33
        }
      ],
      "source": [
        "cleaned_df_states.sum()"
      ]
    },
    {
      "cell_type": "code",
      "execution_count": 34,
      "metadata": {
        "colab": {
          "base_uri": "https://localhost:8080/"
        },
        "id": "hGzaC8mMPTfD",
        "outputId": "1353ebce-a629-4ab2-dae8-7ef8a1945b14"
      },
      "outputs": [
        {
          "output_type": "execute_result",
          "data": {
            "text/plain": [
              "16"
            ]
          },
          "metadata": {},
          "execution_count": 34
        }
      ],
      "source": [
        "cleaned_df_states.count()"
      ]
    },
    {
      "cell_type": "markdown",
      "metadata": {
        "id": "CSDs_8xmPc7x"
      },
      "source": [
        "### hence the **final version of cleaned_df** contains list of only 16 states which is actual no of states in malaysia"
      ]
    },
    {
      "cell_type": "code",
      "execution_count": 35,
      "metadata": {
        "colab": {
          "base_uri": "https://localhost:8080/"
        },
        "id": "vrFHO04G4QXJ",
        "outputId": "8c2b6c53-3f42-46f8-ec81-628b6725c2de"
      },
      "outputs": [
        {
          "output_type": "execute_result",
          "data": {
            "text/plain": [
              "(12417017, 6)"
            ]
          },
          "metadata": {},
          "execution_count": 35
        }
      ],
      "source": [
        "cleaned_df.shape"
      ]
    },
    {
      "cell_type": "code",
      "source": [
        "del cleaned_df_states # to free up memory"
      ],
      "metadata": {
        "id": "1q0EBY5avcY0"
      },
      "execution_count": 36,
      "outputs": []
    },
    {
      "cell_type": "markdown",
      "metadata": {
        "id": "cpLGB6LM7pPt"
      },
      "source": [
        "## Till here we have a final version of cleaned dataframe"
      ]
    },
    {
      "cell_type": "markdown",
      "metadata": {
        "id": "FQUR2weZOOr1"
      },
      "source": [
        "# Now scaling down the dataset using Random sampling technique\n",
        "\n"
      ]
    },
    {
      "cell_type": "code",
      "execution_count": 37,
      "metadata": {
        "id": "M14eHjDwOTBO"
      },
      "outputs": [],
      "source": [
        "sample_size = int(cleaned_df.shape[0] * 0.4)"
      ]
    },
    {
      "cell_type": "code",
      "execution_count": 38,
      "metadata": {
        "colab": {
          "base_uri": "https://localhost:8080/"
        },
        "id": "dE6l4g3NYzVS",
        "outputId": "2d7cfcf6-300c-48ba-c8f7-0762303f6577"
      },
      "outputs": [
        {
          "output_type": "execute_result",
          "data": {
            "text/plain": [
              "4966806"
            ]
          },
          "metadata": {},
          "execution_count": 38
        }
      ],
      "source": [
        "sample_size"
      ]
    },
    {
      "cell_type": "code",
      "execution_count": 39,
      "metadata": {
        "id": "-TlM3buoY7ti"
      },
      "outputs": [],
      "source": [
        "sampled_df = cleaned_df.sample(n=sample_size, random_state=42)"
      ]
    },
    {
      "cell_type": "markdown",
      "metadata": {
        "id": "WsHdJGXzbgQs"
      },
      "source": [
        "# Now we consider only those records whose watch duration is non-zero"
      ]
    },
    {
      "cell_type": "code",
      "execution_count": 40,
      "metadata": {
        "id": "5axUoPVXZijV"
      },
      "outputs": [],
      "source": [
        "nz_duration_df = sampled_df[sampled_df[\"duration_seconds\"] !=0]"
      ]
    },
    {
      "cell_type": "code",
      "execution_count": 41,
      "metadata": {
        "colab": {
          "base_uri": "https://localhost:8080/",
          "height": 423
        },
        "id": "w69Jmx9qdEct",
        "outputId": "adf7338d-8780-4c4c-e662-5f560b26ae5f"
      },
      "outputs": [
        {
          "output_type": "execute_result",
          "data": {
            "text/plain": [
              "                 state                          event_start_tz  \\\n",
              "14622656      Selangor  2023-08-28 19:37:11.438 Asia/Singapore   \n",
              "24953294  Kuala Lumpur  2023-08-29 00:54:11.028 Asia/Singapore   \n",
              "12353742      Selangor  2023-08-28 00:55:21.046 Asia/Singapore   \n",
              "4993584       Selangor  2023-08-27 14:08:21.937 Asia/Singapore   \n",
              "20949672         Johor  2023-08-28 13:51:03.669 Asia/Singapore   \n",
              "...                ...                                     ...   \n",
              "21510289      Selangor  2023-08-28 21:41:16.559 Asia/Singapore   \n",
              "13690390  Kuala Lumpur  2023-08-28 01:48:37.945 Asia/Singapore   \n",
              "19056004  Kuala Lumpur  2023-08-28 17:35:44.997 Asia/Singapore   \n",
              "20244015      Selangor  2023-08-28 22:16:24.330 Asia/Singapore   \n",
              "21151475      Selangor  2023-08-28 12:07:07.003 Asia/Singapore   \n",
              "\n",
              "          duration_seconds     content_type                         content  \\\n",
              "14622656               119              VOD     Lagu Didi & Friends S3 Ep31   \n",
              "24953294               378              VOD             Upin & Ipin S5 Ep06   \n",
              "12353742              1949           LINEAR  (L) PL: Newcastle vs Liverpool   \n",
              "4993584                 87           LINEAR        A Pillow Case of Mystery   \n",
              "20949672               128              VOD     Lagu Didi & Friends S2 Ep08   \n",
              "...                    ...              ...                             ...   \n",
              "21510289                 4  Play From Start                       Majalah 3   \n",
              "13690390              2216              VOD      Jangan Menangis Cinta Ep18   \n",
              "19056004                49           LINEAR  Arsenal TV : Arsenal Vs Fulham   \n",
              "20244015                66              VOD         Where's Chicky? S2 Ep14   \n",
              "21151475                 3       Live Pause                     Berita 7:57   \n",
              "\n",
              "          content_source  \n",
              "14622656       astro.30d  \n",
              "24953294       astro.30d  \n",
              "12353742        ASSP3 HD  \n",
              "4993584   TVB CLASSIC HD  \n",
              "20949672       astro.30d  \n",
              "...                  ...  \n",
              "21510289             TV3  \n",
              "13690390       astro.30d  \n",
              "19056004     beIN SPORTS  \n",
              "20244015        astro.7d  \n",
              "21151475      Awesome TV  \n",
              "\n",
              "[4378496 rows x 6 columns]"
            ],
            "text/html": [
              "\n",
              "  <div id=\"df-3c1dc79a-f193-4913-8f4c-502aaaa3dd76\" class=\"colab-df-container\">\n",
              "    <div>\n",
              "<style scoped>\n",
              "    .dataframe tbody tr th:only-of-type {\n",
              "        vertical-align: middle;\n",
              "    }\n",
              "\n",
              "    .dataframe tbody tr th {\n",
              "        vertical-align: top;\n",
              "    }\n",
              "\n",
              "    .dataframe thead th {\n",
              "        text-align: right;\n",
              "    }\n",
              "</style>\n",
              "<table border=\"1\" class=\"dataframe\">\n",
              "  <thead>\n",
              "    <tr style=\"text-align: right;\">\n",
              "      <th></th>\n",
              "      <th>state</th>\n",
              "      <th>event_start_tz</th>\n",
              "      <th>duration_seconds</th>\n",
              "      <th>content_type</th>\n",
              "      <th>content</th>\n",
              "      <th>content_source</th>\n",
              "    </tr>\n",
              "  </thead>\n",
              "  <tbody>\n",
              "    <tr>\n",
              "      <th>14622656</th>\n",
              "      <td>Selangor</td>\n",
              "      <td>2023-08-28 19:37:11.438 Asia/Singapore</td>\n",
              "      <td>119</td>\n",
              "      <td>VOD</td>\n",
              "      <td>Lagu Didi &amp; Friends S3 Ep31</td>\n",
              "      <td>astro.30d</td>\n",
              "    </tr>\n",
              "    <tr>\n",
              "      <th>24953294</th>\n",
              "      <td>Kuala Lumpur</td>\n",
              "      <td>2023-08-29 00:54:11.028 Asia/Singapore</td>\n",
              "      <td>378</td>\n",
              "      <td>VOD</td>\n",
              "      <td>Upin &amp; Ipin S5 Ep06</td>\n",
              "      <td>astro.30d</td>\n",
              "    </tr>\n",
              "    <tr>\n",
              "      <th>12353742</th>\n",
              "      <td>Selangor</td>\n",
              "      <td>2023-08-28 00:55:21.046 Asia/Singapore</td>\n",
              "      <td>1949</td>\n",
              "      <td>LINEAR</td>\n",
              "      <td>(L) PL: Newcastle vs Liverpool</td>\n",
              "      <td>ASSP3 HD</td>\n",
              "    </tr>\n",
              "    <tr>\n",
              "      <th>4993584</th>\n",
              "      <td>Selangor</td>\n",
              "      <td>2023-08-27 14:08:21.937 Asia/Singapore</td>\n",
              "      <td>87</td>\n",
              "      <td>LINEAR</td>\n",
              "      <td>A Pillow Case of Mystery</td>\n",
              "      <td>TVB CLASSIC HD</td>\n",
              "    </tr>\n",
              "    <tr>\n",
              "      <th>20949672</th>\n",
              "      <td>Johor</td>\n",
              "      <td>2023-08-28 13:51:03.669 Asia/Singapore</td>\n",
              "      <td>128</td>\n",
              "      <td>VOD</td>\n",
              "      <td>Lagu Didi &amp; Friends S2 Ep08</td>\n",
              "      <td>astro.30d</td>\n",
              "    </tr>\n",
              "    <tr>\n",
              "      <th>...</th>\n",
              "      <td>...</td>\n",
              "      <td>...</td>\n",
              "      <td>...</td>\n",
              "      <td>...</td>\n",
              "      <td>...</td>\n",
              "      <td>...</td>\n",
              "    </tr>\n",
              "    <tr>\n",
              "      <th>21510289</th>\n",
              "      <td>Selangor</td>\n",
              "      <td>2023-08-28 21:41:16.559 Asia/Singapore</td>\n",
              "      <td>4</td>\n",
              "      <td>Play From Start</td>\n",
              "      <td>Majalah 3</td>\n",
              "      <td>TV3</td>\n",
              "    </tr>\n",
              "    <tr>\n",
              "      <th>13690390</th>\n",
              "      <td>Kuala Lumpur</td>\n",
              "      <td>2023-08-28 01:48:37.945 Asia/Singapore</td>\n",
              "      <td>2216</td>\n",
              "      <td>VOD</td>\n",
              "      <td>Jangan Menangis Cinta Ep18</td>\n",
              "      <td>astro.30d</td>\n",
              "    </tr>\n",
              "    <tr>\n",
              "      <th>19056004</th>\n",
              "      <td>Kuala Lumpur</td>\n",
              "      <td>2023-08-28 17:35:44.997 Asia/Singapore</td>\n",
              "      <td>49</td>\n",
              "      <td>LINEAR</td>\n",
              "      <td>Arsenal TV : Arsenal Vs Fulham</td>\n",
              "      <td>beIN SPORTS</td>\n",
              "    </tr>\n",
              "    <tr>\n",
              "      <th>20244015</th>\n",
              "      <td>Selangor</td>\n",
              "      <td>2023-08-28 22:16:24.330 Asia/Singapore</td>\n",
              "      <td>66</td>\n",
              "      <td>VOD</td>\n",
              "      <td>Where's Chicky? S2 Ep14</td>\n",
              "      <td>astro.7d</td>\n",
              "    </tr>\n",
              "    <tr>\n",
              "      <th>21151475</th>\n",
              "      <td>Selangor</td>\n",
              "      <td>2023-08-28 12:07:07.003 Asia/Singapore</td>\n",
              "      <td>3</td>\n",
              "      <td>Live Pause</td>\n",
              "      <td>Berita 7:57</td>\n",
              "      <td>Awesome TV</td>\n",
              "    </tr>\n",
              "  </tbody>\n",
              "</table>\n",
              "<p>4378496 rows × 6 columns</p>\n",
              "</div>\n",
              "    <div class=\"colab-df-buttons\">\n",
              "\n",
              "  <div class=\"colab-df-container\">\n",
              "    <button class=\"colab-df-convert\" onclick=\"convertToInteractive('df-3c1dc79a-f193-4913-8f4c-502aaaa3dd76')\"\n",
              "            title=\"Convert this dataframe to an interactive table.\"\n",
              "            style=\"display:none;\">\n",
              "\n",
              "  <svg xmlns=\"http://www.w3.org/2000/svg\" height=\"24px\" viewBox=\"0 -960 960 960\">\n",
              "    <path d=\"M120-120v-720h720v720H120Zm60-500h600v-160H180v160Zm220 220h160v-160H400v160Zm0 220h160v-160H400v160ZM180-400h160v-160H180v160Zm440 0h160v-160H620v160ZM180-180h160v-160H180v160Zm440 0h160v-160H620v160Z\"/>\n",
              "  </svg>\n",
              "    </button>\n",
              "\n",
              "  <style>\n",
              "    .colab-df-container {\n",
              "      display:flex;\n",
              "      gap: 12px;\n",
              "    }\n",
              "\n",
              "    .colab-df-convert {\n",
              "      background-color: #E8F0FE;\n",
              "      border: none;\n",
              "      border-radius: 50%;\n",
              "      cursor: pointer;\n",
              "      display: none;\n",
              "      fill: #1967D2;\n",
              "      height: 32px;\n",
              "      padding: 0 0 0 0;\n",
              "      width: 32px;\n",
              "    }\n",
              "\n",
              "    .colab-df-convert:hover {\n",
              "      background-color: #E2EBFA;\n",
              "      box-shadow: 0px 1px 2px rgba(60, 64, 67, 0.3), 0px 1px 3px 1px rgba(60, 64, 67, 0.15);\n",
              "      fill: #174EA6;\n",
              "    }\n",
              "\n",
              "    .colab-df-buttons div {\n",
              "      margin-bottom: 4px;\n",
              "    }\n",
              "\n",
              "    [theme=dark] .colab-df-convert {\n",
              "      background-color: #3B4455;\n",
              "      fill: #D2E3FC;\n",
              "    }\n",
              "\n",
              "    [theme=dark] .colab-df-convert:hover {\n",
              "      background-color: #434B5C;\n",
              "      box-shadow: 0px 1px 3px 1px rgba(0, 0, 0, 0.15);\n",
              "      filter: drop-shadow(0px 1px 2px rgba(0, 0, 0, 0.3));\n",
              "      fill: #FFFFFF;\n",
              "    }\n",
              "  </style>\n",
              "\n",
              "    <script>\n",
              "      const buttonEl =\n",
              "        document.querySelector('#df-3c1dc79a-f193-4913-8f4c-502aaaa3dd76 button.colab-df-convert');\n",
              "      buttonEl.style.display =\n",
              "        google.colab.kernel.accessAllowed ? 'block' : 'none';\n",
              "\n",
              "      async function convertToInteractive(key) {\n",
              "        const element = document.querySelector('#df-3c1dc79a-f193-4913-8f4c-502aaaa3dd76');\n",
              "        const dataTable =\n",
              "          await google.colab.kernel.invokeFunction('convertToInteractive',\n",
              "                                                    [key], {});\n",
              "        if (!dataTable) return;\n",
              "\n",
              "        const docLinkHtml = 'Like what you see? Visit the ' +\n",
              "          '<a target=\"_blank\" href=https://colab.research.google.com/notebooks/data_table.ipynb>data table notebook</a>'\n",
              "          + ' to learn more about interactive tables.';\n",
              "        element.innerHTML = '';\n",
              "        dataTable['output_type'] = 'display_data';\n",
              "        await google.colab.output.renderOutput(dataTable, element);\n",
              "        const docLink = document.createElement('div');\n",
              "        docLink.innerHTML = docLinkHtml;\n",
              "        element.appendChild(docLink);\n",
              "      }\n",
              "    </script>\n",
              "  </div>\n",
              "\n",
              "\n",
              "<div id=\"df-1b8b4982-bc3e-419e-9b8e-0682a99af8c3\">\n",
              "  <button class=\"colab-df-quickchart\" onclick=\"quickchart('df-1b8b4982-bc3e-419e-9b8e-0682a99af8c3')\"\n",
              "            title=\"Suggest charts.\"\n",
              "            style=\"display:none;\">\n",
              "\n",
              "<svg xmlns=\"http://www.w3.org/2000/svg\" height=\"24px\"viewBox=\"0 0 24 24\"\n",
              "     width=\"24px\">\n",
              "    <g>\n",
              "        <path d=\"M19 3H5c-1.1 0-2 .9-2 2v14c0 1.1.9 2 2 2h14c1.1 0 2-.9 2-2V5c0-1.1-.9-2-2-2zM9 17H7v-7h2v7zm4 0h-2V7h2v10zm4 0h-2v-4h2v4z\"/>\n",
              "    </g>\n",
              "</svg>\n",
              "  </button>\n",
              "\n",
              "<style>\n",
              "  .colab-df-quickchart {\n",
              "      --bg-color: #E8F0FE;\n",
              "      --fill-color: #1967D2;\n",
              "      --hover-bg-color: #E2EBFA;\n",
              "      --hover-fill-color: #174EA6;\n",
              "      --disabled-fill-color: #AAA;\n",
              "      --disabled-bg-color: #DDD;\n",
              "  }\n",
              "\n",
              "  [theme=dark] .colab-df-quickchart {\n",
              "      --bg-color: #3B4455;\n",
              "      --fill-color: #D2E3FC;\n",
              "      --hover-bg-color: #434B5C;\n",
              "      --hover-fill-color: #FFFFFF;\n",
              "      --disabled-bg-color: #3B4455;\n",
              "      --disabled-fill-color: #666;\n",
              "  }\n",
              "\n",
              "  .colab-df-quickchart {\n",
              "    background-color: var(--bg-color);\n",
              "    border: none;\n",
              "    border-radius: 50%;\n",
              "    cursor: pointer;\n",
              "    display: none;\n",
              "    fill: var(--fill-color);\n",
              "    height: 32px;\n",
              "    padding: 0;\n",
              "    width: 32px;\n",
              "  }\n",
              "\n",
              "  .colab-df-quickchart:hover {\n",
              "    background-color: var(--hover-bg-color);\n",
              "    box-shadow: 0 1px 2px rgba(60, 64, 67, 0.3), 0 1px 3px 1px rgba(60, 64, 67, 0.15);\n",
              "    fill: var(--button-hover-fill-color);\n",
              "  }\n",
              "\n",
              "  .colab-df-quickchart-complete:disabled,\n",
              "  .colab-df-quickchart-complete:disabled:hover {\n",
              "    background-color: var(--disabled-bg-color);\n",
              "    fill: var(--disabled-fill-color);\n",
              "    box-shadow: none;\n",
              "  }\n",
              "\n",
              "  .colab-df-spinner {\n",
              "    border: 2px solid var(--fill-color);\n",
              "    border-color: transparent;\n",
              "    border-bottom-color: var(--fill-color);\n",
              "    animation:\n",
              "      spin 1s steps(1) infinite;\n",
              "  }\n",
              "\n",
              "  @keyframes spin {\n",
              "    0% {\n",
              "      border-color: transparent;\n",
              "      border-bottom-color: var(--fill-color);\n",
              "      border-left-color: var(--fill-color);\n",
              "    }\n",
              "    20% {\n",
              "      border-color: transparent;\n",
              "      border-left-color: var(--fill-color);\n",
              "      border-top-color: var(--fill-color);\n",
              "    }\n",
              "    30% {\n",
              "      border-color: transparent;\n",
              "      border-left-color: var(--fill-color);\n",
              "      border-top-color: var(--fill-color);\n",
              "      border-right-color: var(--fill-color);\n",
              "    }\n",
              "    40% {\n",
              "      border-color: transparent;\n",
              "      border-right-color: var(--fill-color);\n",
              "      border-top-color: var(--fill-color);\n",
              "    }\n",
              "    60% {\n",
              "      border-color: transparent;\n",
              "      border-right-color: var(--fill-color);\n",
              "    }\n",
              "    80% {\n",
              "      border-color: transparent;\n",
              "      border-right-color: var(--fill-color);\n",
              "      border-bottom-color: var(--fill-color);\n",
              "    }\n",
              "    90% {\n",
              "      border-color: transparent;\n",
              "      border-bottom-color: var(--fill-color);\n",
              "    }\n",
              "  }\n",
              "</style>\n",
              "\n",
              "  <script>\n",
              "    async function quickchart(key) {\n",
              "      const quickchartButtonEl =\n",
              "        document.querySelector('#' + key + ' button');\n",
              "      quickchartButtonEl.disabled = true;  // To prevent multiple clicks.\n",
              "      quickchartButtonEl.classList.add('colab-df-spinner');\n",
              "      try {\n",
              "        const charts = await google.colab.kernel.invokeFunction(\n",
              "            'suggestCharts', [key], {});\n",
              "      } catch (error) {\n",
              "        console.error('Error during call to suggestCharts:', error);\n",
              "      }\n",
              "      quickchartButtonEl.classList.remove('colab-df-spinner');\n",
              "      quickchartButtonEl.classList.add('colab-df-quickchart-complete');\n",
              "    }\n",
              "    (() => {\n",
              "      let quickchartButtonEl =\n",
              "        document.querySelector('#df-1b8b4982-bc3e-419e-9b8e-0682a99af8c3 button');\n",
              "      quickchartButtonEl.style.display =\n",
              "        google.colab.kernel.accessAllowed ? 'block' : 'none';\n",
              "    })();\n",
              "  </script>\n",
              "</div>\n",
              "    </div>\n",
              "  </div>\n"
            ]
          },
          "metadata": {},
          "execution_count": 41
        }
      ],
      "source": [
        "nz_duration_df"
      ]
    },
    {
      "cell_type": "code",
      "execution_count": 42,
      "metadata": {
        "colab": {
          "base_uri": "https://localhost:8080/"
        },
        "id": "2tLoFjX-hXqj",
        "outputId": "dd8df9d2-32d0-42ea-af64-9b732f926834"
      },
      "outputs": [
        {
          "output_type": "execute_result",
          "data": {
            "text/plain": [
              "(4378496, 6)"
            ]
          },
          "metadata": {},
          "execution_count": 42
        }
      ],
      "source": [
        "nz_duration_df.shape"
      ]
    },
    {
      "cell_type": "code",
      "execution_count": 43,
      "metadata": {
        "colab": {
          "base_uri": "https://localhost:8080/"
        },
        "id": "xFnWSaI9hh71",
        "outputId": "40bc890e-1011-4d26-d360-31384cc6333e"
      },
      "outputs": [
        {
          "output_type": "execute_result",
          "data": {
            "text/plain": [
              "16.832621692930797"
            ]
          },
          "metadata": {},
          "execution_count": 43
        }
      ],
      "source": [
        "(nz_duration_df.shape[0] / main_df.shape[0]) * 100"
      ]
    },
    {
      "cell_type": "markdown",
      "source": [
        "# Delete main data frame to free up memory"
      ],
      "metadata": {
        "id": "JjP7jV-aqJWF"
      }
    },
    {
      "cell_type": "code",
      "source": [
        "del main_df"
      ],
      "metadata": {
        "id": "3fVdP9-LqN8v"
      },
      "execution_count": 44,
      "outputs": []
    },
    {
      "cell_type": "markdown",
      "source": [
        "# Feature Engineering & Extraction\n",
        "* Adding date, time, day some extra columns"
      ],
      "metadata": {
        "id": "9LjNoq7A7ES8"
      }
    },
    {
      "cell_type": "code",
      "execution_count": 45,
      "metadata": {
        "id": "Ok77A4WgXBwR",
        "colab": {
          "base_uri": "https://localhost:8080/"
        },
        "outputId": "d11cd158-3a81-4087-8e62-49629ba53dce"
      },
      "outputs": [
        {
          "output_type": "stream",
          "name": "stdout",
          "text": [
            "datetime64[ns, Asia/Singapore]\n"
          ]
        },
        {
          "output_type": "stream",
          "name": "stderr",
          "text": [
            "<ipython-input-45-3c5a96f529eb>:4: SettingWithCopyWarning: \n",
            "A value is trying to be set on a copy of a slice from a DataFrame.\n",
            "Try using .loc[row_indexer,col_indexer] = value instead\n",
            "\n",
            "See the caveats in the documentation: https://pandas.pydata.org/pandas-docs/stable/user_guide/indexing.html#returning-a-view-versus-a-copy\n",
            "  nz_duration_df['event_start_tz'] = pd.to_datetime(nz_duration_df['event_start_tz'], format=datetime_format)\n"
          ]
        }
      ],
      "source": [
        "datetime_format = \"%Y-%m-%d %H:%M:%S.%f %Z\"\n",
        "\n",
        "# Converting the column to datetime using the specified format\n",
        "nz_duration_df['event_start_tz'] = pd.to_datetime(nz_duration_df['event_start_tz'], format=datetime_format)\n",
        "\n",
        "# Checking the data type of the 'event_start_tz' column\n",
        "print(nz_duration_df['event_start_tz'].dtype)\n"
      ]
    },
    {
      "cell_type": "code",
      "execution_count": 46,
      "metadata": {
        "id": "WzeD0XRKt32T",
        "colab": {
          "base_uri": "https://localhost:8080/"
        },
        "outputId": "9ca69474-630c-4b09-c2b3-0f0a272d8d3f"
      },
      "outputs": [
        {
          "output_type": "stream",
          "name": "stderr",
          "text": [
            "<ipython-input-46-0930089d3fde>:1: SettingWithCopyWarning: \n",
            "A value is trying to be set on a copy of a slice from a DataFrame.\n",
            "Try using .loc[row_indexer,col_indexer] = value instead\n",
            "\n",
            "See the caveats in the documentation: https://pandas.pydata.org/pandas-docs/stable/user_guide/indexing.html#returning-a-view-versus-a-copy\n",
            "  nz_duration_df['date'] = nz_duration_df['event_start_tz'].dt.date\n",
            "<ipython-input-46-0930089d3fde>:2: SettingWithCopyWarning: \n",
            "A value is trying to be set on a copy of a slice from a DataFrame.\n",
            "Try using .loc[row_indexer,col_indexer] = value instead\n",
            "\n",
            "See the caveats in the documentation: https://pandas.pydata.org/pandas-docs/stable/user_guide/indexing.html#returning-a-view-versus-a-copy\n",
            "  nz_duration_df['time'] = nz_duration_df['event_start_tz'].dt.time\n",
            "<ipython-input-46-0930089d3fde>:3: SettingWithCopyWarning: \n",
            "A value is trying to be set on a copy of a slice from a DataFrame.\n",
            "Try using .loc[row_indexer,col_indexer] = value instead\n",
            "\n",
            "See the caveats in the documentation: https://pandas.pydata.org/pandas-docs/stable/user_guide/indexing.html#returning-a-view-versus-a-copy\n",
            "  nz_duration_df['timezone'] = nz_duration_df['event_start_tz'].dt.tz\n",
            "<ipython-input-46-0930089d3fde>:4: SettingWithCopyWarning: \n",
            "A value is trying to be set on a copy of a slice from a DataFrame.\n",
            "Try using .loc[row_indexer,col_indexer] = value instead\n",
            "\n",
            "See the caveats in the documentation: https://pandas.pydata.org/pandas-docs/stable/user_guide/indexing.html#returning-a-view-versus-a-copy\n",
            "  nz_duration_df['end_time'] = nz_duration_df['event_start_tz'] + pd.to_timedelta(nz_duration_df['duration_seconds'], unit='s')\n",
            "<ipython-input-46-0930089d3fde>:5: SettingWithCopyWarning: \n",
            "A value is trying to be set on a copy of a slice from a DataFrame.\n",
            "Try using .loc[row_indexer,col_indexer] = value instead\n",
            "\n",
            "See the caveats in the documentation: https://pandas.pydata.org/pandas-docs/stable/user_guide/indexing.html#returning-a-view-versus-a-copy\n",
            "  nz_duration_df['timestamp'] = nz_duration_df['event_start_tz'].apply(lambda x: x.timestamp())\n",
            "<ipython-input-46-0930089d3fde>:8: SettingWithCopyWarning: \n",
            "A value is trying to be set on a copy of a slice from a DataFrame.\n",
            "Try using .loc[row_indexer,col_indexer] = value instead\n",
            "\n",
            "See the caveats in the documentation: https://pandas.pydata.org/pandas-docs/stable/user_guide/indexing.html#returning-a-view-versus-a-copy\n",
            "  nz_duration_df['date'] = pd.to_datetime(nz_duration_df['date'])\n",
            "<ipython-input-46-0930089d3fde>:11: SettingWithCopyWarning: \n",
            "A value is trying to be set on a copy of a slice from a DataFrame.\n",
            "Try using .loc[row_indexer,col_indexer] = value instead\n",
            "\n",
            "See the caveats in the documentation: https://pandas.pydata.org/pandas-docs/stable/user_guide/indexing.html#returning-a-view-versus-a-copy\n",
            "  nz_duration_df['day'] = nz_duration_df['date'].dt.day_name()\n"
          ]
        }
      ],
      "source": [
        "nz_duration_df['date'] = nz_duration_df['event_start_tz'].dt.date\n",
        "nz_duration_df['time'] = nz_duration_df['event_start_tz'].dt.time\n",
        "nz_duration_df['timezone'] = nz_duration_df['event_start_tz'].dt.tz\n",
        "nz_duration_df['end_time'] = nz_duration_df['event_start_tz'] + pd.to_timedelta(nz_duration_df['duration_seconds'], unit='s')\n",
        "nz_duration_df['timestamp'] = nz_duration_df['event_start_tz'].apply(lambda x: x.timestamp())\n",
        "\n",
        "# Converting the 'date' column to a datetime format\n",
        "nz_duration_df['date'] = pd.to_datetime(nz_duration_df['date'])\n",
        "\n",
        "# Adding a new 'day' column to represent the day of the week\n",
        "nz_duration_df['day'] = nz_duration_df['date'].dt.day_name()\n",
        "\n"
      ]
    },
    {
      "cell_type": "code",
      "source": [
        "nz_duration_df[\"day\"].value_counts()"
      ],
      "metadata": {
        "colab": {
          "base_uri": "https://localhost:8080/"
        },
        "id": "6NLvoMChydU0",
        "outputId": "bbb9a562-6573-4d64-b7cf-fae423ef9886"
      },
      "execution_count": 47,
      "outputs": [
        {
          "output_type": "execute_result",
          "data": {
            "text/plain": [
              "Monday      2214728\n",
              "Sunday      2002188\n",
              "Tuesday      161559\n",
              "Saturday         21\n",
              "Name: day, dtype: int64"
            ]
          },
          "metadata": {},
          "execution_count": 47
        }
      ]
    },
    {
      "cell_type": "code",
      "source": [
        "nz_duration_df = nz_duration_df[nz_duration_df['day'].isin(['Sunday', 'Monday'])]\n"
      ],
      "metadata": {
        "id": "xnDJiNli2ATP"
      },
      "execution_count": 48,
      "outputs": []
    },
    {
      "cell_type": "code",
      "execution_count": 49,
      "metadata": {
        "id": "R9ajwHs2MCf9",
        "colab": {
          "base_uri": "https://localhost:8080/"
        },
        "outputId": "37a66473-48cb-488a-fc71-8148ebf4004b"
      },
      "outputs": [
        {
          "output_type": "execute_result",
          "data": {
            "text/plain": [
              "(4216916, 12)"
            ]
          },
          "metadata": {},
          "execution_count": 49
        }
      ],
      "source": [
        "nz_duration_df.shape"
      ]
    },
    {
      "cell_type": "code",
      "execution_count": 50,
      "metadata": {
        "id": "Yrqse54_ygmH",
        "colab": {
          "base_uri": "https://localhost:8080/"
        },
        "outputId": "a0a6463d-2346-49aa-d1a2-a1a146cf65a2"
      },
      "outputs": [
        {
          "output_type": "stream",
          "name": "stdout",
          "text": [
            "<class 'pandas.core.frame.DataFrame'>\n",
            "Int64Index: 4216916 entries, 14622656 to 21151475\n",
            "Data columns (total 12 columns):\n",
            " #   Column            Dtype                         \n",
            "---  ------            -----                         \n",
            " 0   state             object                        \n",
            " 1   event_start_tz    datetime64[ns, Asia/Singapore]\n",
            " 2   duration_seconds  int64                         \n",
            " 3   content_type      object                        \n",
            " 4   content           object                        \n",
            " 5   content_source    object                        \n",
            " 6   date              datetime64[ns]                \n",
            " 7   time              object                        \n",
            " 8   timezone          object                        \n",
            " 9   end_time          datetime64[ns, Asia/Singapore]\n",
            " 10  timestamp         float64                       \n",
            " 11  day               object                        \n",
            "dtypes: datetime64[ns, Asia/Singapore](2), datetime64[ns](1), float64(1), int64(1), object(7)\n",
            "memory usage: 418.2+ MB\n"
          ]
        }
      ],
      "source": [
        "nz_duration_df.info()"
      ]
    },
    {
      "cell_type": "code",
      "execution_count": 51,
      "metadata": {
        "id": "3zwsziuHt1pq",
        "colab": {
          "base_uri": "https://localhost:8080/"
        },
        "outputId": "da701e9d-ce35-4fcc-9016-819eafa0ecc8"
      },
      "outputs": [
        {
          "output_type": "execute_result",
          "data": {
            "text/plain": [
              "Timestamp('2023-08-27 11:03:13.686000+0800', tz='Asia/Singapore')"
            ]
          },
          "metadata": {},
          "execution_count": 51
        }
      ],
      "source": [
        "nz_duration_df[\"event_start_tz\"][0]\n"
      ]
    },
    {
      "cell_type": "code",
      "execution_count": 52,
      "metadata": {
        "id": "mZy0kBnFt5g6",
        "colab": {
          "base_uri": "https://localhost:8080/",
          "height": 788
        },
        "outputId": "a452114c-1804-4593-8239-1c43f6be791e"
      },
      "outputs": [
        {
          "output_type": "execute_result",
          "data": {
            "text/plain": [
              "                 state                   event_start_tz  duration_seconds  \\\n",
              "14622656      Selangor 2023-08-28 19:37:11.438000+08:00               119   \n",
              "12353742      Selangor 2023-08-28 00:55:21.046000+08:00              1949   \n",
              "4993584       Selangor 2023-08-27 14:08:21.937000+08:00                87   \n",
              "20949672         Johor 2023-08-28 13:51:03.669000+08:00               128   \n",
              "14326197         Johor 2023-08-28 11:05:34.015000+08:00               391   \n",
              "...                ...                              ...               ...   \n",
              "21510289      Selangor 2023-08-28 21:41:16.559000+08:00                 4   \n",
              "13690390  Kuala Lumpur 2023-08-28 01:48:37.945000+08:00              2216   \n",
              "19056004  Kuala Lumpur 2023-08-28 17:35:44.997000+08:00                49   \n",
              "20244015      Selangor 2023-08-28 22:16:24.330000+08:00                66   \n",
              "21151475      Selangor 2023-08-28 12:07:07.003000+08:00                 3   \n",
              "\n",
              "             content_type                         content  content_source  \\\n",
              "14622656              VOD     Lagu Didi & Friends S3 Ep31       astro.30d   \n",
              "12353742           LINEAR  (L) PL: Newcastle vs Liverpool        ASSP3 HD   \n",
              "4993584            LINEAR        A Pillow Case of Mystery  TVB CLASSIC HD   \n",
              "20949672              VOD     Lagu Didi & Friends S2 Ep08       astro.30d   \n",
              "14326197              VOD            Upin & Ipin S12 Ep26       astro.30d   \n",
              "...                   ...                             ...             ...   \n",
              "21510289  Play From Start                       Majalah 3             TV3   \n",
              "13690390              VOD      Jangan Menangis Cinta Ep18       astro.30d   \n",
              "19056004           LINEAR  Arsenal TV : Arsenal Vs Fulham     beIN SPORTS   \n",
              "20244015              VOD         Where's Chicky? S2 Ep14        astro.7d   \n",
              "21151475       Live Pause                     Berita 7:57      Awesome TV   \n",
              "\n",
              "               date             time        timezone  \\\n",
              "14622656 2023-08-28  19:37:11.438000  Asia/Singapore   \n",
              "12353742 2023-08-28  00:55:21.046000  Asia/Singapore   \n",
              "4993584  2023-08-27  14:08:21.937000  Asia/Singapore   \n",
              "20949672 2023-08-28  13:51:03.669000  Asia/Singapore   \n",
              "14326197 2023-08-28  11:05:34.015000  Asia/Singapore   \n",
              "...             ...              ...             ...   \n",
              "21510289 2023-08-28  21:41:16.559000  Asia/Singapore   \n",
              "13690390 2023-08-28  01:48:37.945000  Asia/Singapore   \n",
              "19056004 2023-08-28  17:35:44.997000  Asia/Singapore   \n",
              "20244015 2023-08-28  22:16:24.330000  Asia/Singapore   \n",
              "21151475 2023-08-28  12:07:07.003000  Asia/Singapore   \n",
              "\n",
              "                                 end_time     timestamp     day  \n",
              "14622656 2023-08-28 19:39:10.438000+08:00  1.693223e+09  Monday  \n",
              "12353742 2023-08-28 01:27:50.046000+08:00  1.693155e+09  Monday  \n",
              "4993584  2023-08-27 14:09:48.937000+08:00  1.693117e+09  Sunday  \n",
              "20949672 2023-08-28 13:53:11.669000+08:00  1.693202e+09  Monday  \n",
              "14326197 2023-08-28 11:12:05.015000+08:00  1.693192e+09  Monday  \n",
              "...                                   ...           ...     ...  \n",
              "21510289 2023-08-28 21:41:20.559000+08:00  1.693230e+09  Monday  \n",
              "13690390 2023-08-28 02:25:33.945000+08:00  1.693159e+09  Monday  \n",
              "19056004 2023-08-28 17:36:33.997000+08:00  1.693215e+09  Monday  \n",
              "20244015 2023-08-28 22:17:30.330000+08:00  1.693232e+09  Monday  \n",
              "21151475 2023-08-28 12:07:10.003000+08:00  1.693196e+09  Monday  \n",
              "\n",
              "[4216916 rows x 12 columns]"
            ],
            "text/html": [
              "\n",
              "  <div id=\"df-e43b7613-04d6-4ba8-8fff-9051f18daa56\" class=\"colab-df-container\">\n",
              "    <div>\n",
              "<style scoped>\n",
              "    .dataframe tbody tr th:only-of-type {\n",
              "        vertical-align: middle;\n",
              "    }\n",
              "\n",
              "    .dataframe tbody tr th {\n",
              "        vertical-align: top;\n",
              "    }\n",
              "\n",
              "    .dataframe thead th {\n",
              "        text-align: right;\n",
              "    }\n",
              "</style>\n",
              "<table border=\"1\" class=\"dataframe\">\n",
              "  <thead>\n",
              "    <tr style=\"text-align: right;\">\n",
              "      <th></th>\n",
              "      <th>state</th>\n",
              "      <th>event_start_tz</th>\n",
              "      <th>duration_seconds</th>\n",
              "      <th>content_type</th>\n",
              "      <th>content</th>\n",
              "      <th>content_source</th>\n",
              "      <th>date</th>\n",
              "      <th>time</th>\n",
              "      <th>timezone</th>\n",
              "      <th>end_time</th>\n",
              "      <th>timestamp</th>\n",
              "      <th>day</th>\n",
              "    </tr>\n",
              "  </thead>\n",
              "  <tbody>\n",
              "    <tr>\n",
              "      <th>14622656</th>\n",
              "      <td>Selangor</td>\n",
              "      <td>2023-08-28 19:37:11.438000+08:00</td>\n",
              "      <td>119</td>\n",
              "      <td>VOD</td>\n",
              "      <td>Lagu Didi &amp; Friends S3 Ep31</td>\n",
              "      <td>astro.30d</td>\n",
              "      <td>2023-08-28</td>\n",
              "      <td>19:37:11.438000</td>\n",
              "      <td>Asia/Singapore</td>\n",
              "      <td>2023-08-28 19:39:10.438000+08:00</td>\n",
              "      <td>1.693223e+09</td>\n",
              "      <td>Monday</td>\n",
              "    </tr>\n",
              "    <tr>\n",
              "      <th>12353742</th>\n",
              "      <td>Selangor</td>\n",
              "      <td>2023-08-28 00:55:21.046000+08:00</td>\n",
              "      <td>1949</td>\n",
              "      <td>LINEAR</td>\n",
              "      <td>(L) PL: Newcastle vs Liverpool</td>\n",
              "      <td>ASSP3 HD</td>\n",
              "      <td>2023-08-28</td>\n",
              "      <td>00:55:21.046000</td>\n",
              "      <td>Asia/Singapore</td>\n",
              "      <td>2023-08-28 01:27:50.046000+08:00</td>\n",
              "      <td>1.693155e+09</td>\n",
              "      <td>Monday</td>\n",
              "    </tr>\n",
              "    <tr>\n",
              "      <th>4993584</th>\n",
              "      <td>Selangor</td>\n",
              "      <td>2023-08-27 14:08:21.937000+08:00</td>\n",
              "      <td>87</td>\n",
              "      <td>LINEAR</td>\n",
              "      <td>A Pillow Case of Mystery</td>\n",
              "      <td>TVB CLASSIC HD</td>\n",
              "      <td>2023-08-27</td>\n",
              "      <td>14:08:21.937000</td>\n",
              "      <td>Asia/Singapore</td>\n",
              "      <td>2023-08-27 14:09:48.937000+08:00</td>\n",
              "      <td>1.693117e+09</td>\n",
              "      <td>Sunday</td>\n",
              "    </tr>\n",
              "    <tr>\n",
              "      <th>20949672</th>\n",
              "      <td>Johor</td>\n",
              "      <td>2023-08-28 13:51:03.669000+08:00</td>\n",
              "      <td>128</td>\n",
              "      <td>VOD</td>\n",
              "      <td>Lagu Didi &amp; Friends S2 Ep08</td>\n",
              "      <td>astro.30d</td>\n",
              "      <td>2023-08-28</td>\n",
              "      <td>13:51:03.669000</td>\n",
              "      <td>Asia/Singapore</td>\n",
              "      <td>2023-08-28 13:53:11.669000+08:00</td>\n",
              "      <td>1.693202e+09</td>\n",
              "      <td>Monday</td>\n",
              "    </tr>\n",
              "    <tr>\n",
              "      <th>14326197</th>\n",
              "      <td>Johor</td>\n",
              "      <td>2023-08-28 11:05:34.015000+08:00</td>\n",
              "      <td>391</td>\n",
              "      <td>VOD</td>\n",
              "      <td>Upin &amp; Ipin S12 Ep26</td>\n",
              "      <td>astro.30d</td>\n",
              "      <td>2023-08-28</td>\n",
              "      <td>11:05:34.015000</td>\n",
              "      <td>Asia/Singapore</td>\n",
              "      <td>2023-08-28 11:12:05.015000+08:00</td>\n",
              "      <td>1.693192e+09</td>\n",
              "      <td>Monday</td>\n",
              "    </tr>\n",
              "    <tr>\n",
              "      <th>...</th>\n",
              "      <td>...</td>\n",
              "      <td>...</td>\n",
              "      <td>...</td>\n",
              "      <td>...</td>\n",
              "      <td>...</td>\n",
              "      <td>...</td>\n",
              "      <td>...</td>\n",
              "      <td>...</td>\n",
              "      <td>...</td>\n",
              "      <td>...</td>\n",
              "      <td>...</td>\n",
              "      <td>...</td>\n",
              "    </tr>\n",
              "    <tr>\n",
              "      <th>21510289</th>\n",
              "      <td>Selangor</td>\n",
              "      <td>2023-08-28 21:41:16.559000+08:00</td>\n",
              "      <td>4</td>\n",
              "      <td>Play From Start</td>\n",
              "      <td>Majalah 3</td>\n",
              "      <td>TV3</td>\n",
              "      <td>2023-08-28</td>\n",
              "      <td>21:41:16.559000</td>\n",
              "      <td>Asia/Singapore</td>\n",
              "      <td>2023-08-28 21:41:20.559000+08:00</td>\n",
              "      <td>1.693230e+09</td>\n",
              "      <td>Monday</td>\n",
              "    </tr>\n",
              "    <tr>\n",
              "      <th>13690390</th>\n",
              "      <td>Kuala Lumpur</td>\n",
              "      <td>2023-08-28 01:48:37.945000+08:00</td>\n",
              "      <td>2216</td>\n",
              "      <td>VOD</td>\n",
              "      <td>Jangan Menangis Cinta Ep18</td>\n",
              "      <td>astro.30d</td>\n",
              "      <td>2023-08-28</td>\n",
              "      <td>01:48:37.945000</td>\n",
              "      <td>Asia/Singapore</td>\n",
              "      <td>2023-08-28 02:25:33.945000+08:00</td>\n",
              "      <td>1.693159e+09</td>\n",
              "      <td>Monday</td>\n",
              "    </tr>\n",
              "    <tr>\n",
              "      <th>19056004</th>\n",
              "      <td>Kuala Lumpur</td>\n",
              "      <td>2023-08-28 17:35:44.997000+08:00</td>\n",
              "      <td>49</td>\n",
              "      <td>LINEAR</td>\n",
              "      <td>Arsenal TV : Arsenal Vs Fulham</td>\n",
              "      <td>beIN SPORTS</td>\n",
              "      <td>2023-08-28</td>\n",
              "      <td>17:35:44.997000</td>\n",
              "      <td>Asia/Singapore</td>\n",
              "      <td>2023-08-28 17:36:33.997000+08:00</td>\n",
              "      <td>1.693215e+09</td>\n",
              "      <td>Monday</td>\n",
              "    </tr>\n",
              "    <tr>\n",
              "      <th>20244015</th>\n",
              "      <td>Selangor</td>\n",
              "      <td>2023-08-28 22:16:24.330000+08:00</td>\n",
              "      <td>66</td>\n",
              "      <td>VOD</td>\n",
              "      <td>Where's Chicky? S2 Ep14</td>\n",
              "      <td>astro.7d</td>\n",
              "      <td>2023-08-28</td>\n",
              "      <td>22:16:24.330000</td>\n",
              "      <td>Asia/Singapore</td>\n",
              "      <td>2023-08-28 22:17:30.330000+08:00</td>\n",
              "      <td>1.693232e+09</td>\n",
              "      <td>Monday</td>\n",
              "    </tr>\n",
              "    <tr>\n",
              "      <th>21151475</th>\n",
              "      <td>Selangor</td>\n",
              "      <td>2023-08-28 12:07:07.003000+08:00</td>\n",
              "      <td>3</td>\n",
              "      <td>Live Pause</td>\n",
              "      <td>Berita 7:57</td>\n",
              "      <td>Awesome TV</td>\n",
              "      <td>2023-08-28</td>\n",
              "      <td>12:07:07.003000</td>\n",
              "      <td>Asia/Singapore</td>\n",
              "      <td>2023-08-28 12:07:10.003000+08:00</td>\n",
              "      <td>1.693196e+09</td>\n",
              "      <td>Monday</td>\n",
              "    </tr>\n",
              "  </tbody>\n",
              "</table>\n",
              "<p>4216916 rows × 12 columns</p>\n",
              "</div>\n",
              "    <div class=\"colab-df-buttons\">\n",
              "\n",
              "  <div class=\"colab-df-container\">\n",
              "    <button class=\"colab-df-convert\" onclick=\"convertToInteractive('df-e43b7613-04d6-4ba8-8fff-9051f18daa56')\"\n",
              "            title=\"Convert this dataframe to an interactive table.\"\n",
              "            style=\"display:none;\">\n",
              "\n",
              "  <svg xmlns=\"http://www.w3.org/2000/svg\" height=\"24px\" viewBox=\"0 -960 960 960\">\n",
              "    <path d=\"M120-120v-720h720v720H120Zm60-500h600v-160H180v160Zm220 220h160v-160H400v160Zm0 220h160v-160H400v160ZM180-400h160v-160H180v160Zm440 0h160v-160H620v160ZM180-180h160v-160H180v160Zm440 0h160v-160H620v160Z\"/>\n",
              "  </svg>\n",
              "    </button>\n",
              "\n",
              "  <style>\n",
              "    .colab-df-container {\n",
              "      display:flex;\n",
              "      gap: 12px;\n",
              "    }\n",
              "\n",
              "    .colab-df-convert {\n",
              "      background-color: #E8F0FE;\n",
              "      border: none;\n",
              "      border-radius: 50%;\n",
              "      cursor: pointer;\n",
              "      display: none;\n",
              "      fill: #1967D2;\n",
              "      height: 32px;\n",
              "      padding: 0 0 0 0;\n",
              "      width: 32px;\n",
              "    }\n",
              "\n",
              "    .colab-df-convert:hover {\n",
              "      background-color: #E2EBFA;\n",
              "      box-shadow: 0px 1px 2px rgba(60, 64, 67, 0.3), 0px 1px 3px 1px rgba(60, 64, 67, 0.15);\n",
              "      fill: #174EA6;\n",
              "    }\n",
              "\n",
              "    .colab-df-buttons div {\n",
              "      margin-bottom: 4px;\n",
              "    }\n",
              "\n",
              "    [theme=dark] .colab-df-convert {\n",
              "      background-color: #3B4455;\n",
              "      fill: #D2E3FC;\n",
              "    }\n",
              "\n",
              "    [theme=dark] .colab-df-convert:hover {\n",
              "      background-color: #434B5C;\n",
              "      box-shadow: 0px 1px 3px 1px rgba(0, 0, 0, 0.15);\n",
              "      filter: drop-shadow(0px 1px 2px rgba(0, 0, 0, 0.3));\n",
              "      fill: #FFFFFF;\n",
              "    }\n",
              "  </style>\n",
              "\n",
              "    <script>\n",
              "      const buttonEl =\n",
              "        document.querySelector('#df-e43b7613-04d6-4ba8-8fff-9051f18daa56 button.colab-df-convert');\n",
              "      buttonEl.style.display =\n",
              "        google.colab.kernel.accessAllowed ? 'block' : 'none';\n",
              "\n",
              "      async function convertToInteractive(key) {\n",
              "        const element = document.querySelector('#df-e43b7613-04d6-4ba8-8fff-9051f18daa56');\n",
              "        const dataTable =\n",
              "          await google.colab.kernel.invokeFunction('convertToInteractive',\n",
              "                                                    [key], {});\n",
              "        if (!dataTable) return;\n",
              "\n",
              "        const docLinkHtml = 'Like what you see? Visit the ' +\n",
              "          '<a target=\"_blank\" href=https://colab.research.google.com/notebooks/data_table.ipynb>data table notebook</a>'\n",
              "          + ' to learn more about interactive tables.';\n",
              "        element.innerHTML = '';\n",
              "        dataTable['output_type'] = 'display_data';\n",
              "        await google.colab.output.renderOutput(dataTable, element);\n",
              "        const docLink = document.createElement('div');\n",
              "        docLink.innerHTML = docLinkHtml;\n",
              "        element.appendChild(docLink);\n",
              "      }\n",
              "    </script>\n",
              "  </div>\n",
              "\n",
              "\n",
              "<div id=\"df-65da58b8-bd1a-4051-a3ff-d92bcd2c3906\">\n",
              "  <button class=\"colab-df-quickchart\" onclick=\"quickchart('df-65da58b8-bd1a-4051-a3ff-d92bcd2c3906')\"\n",
              "            title=\"Suggest charts.\"\n",
              "            style=\"display:none;\">\n",
              "\n",
              "<svg xmlns=\"http://www.w3.org/2000/svg\" height=\"24px\"viewBox=\"0 0 24 24\"\n",
              "     width=\"24px\">\n",
              "    <g>\n",
              "        <path d=\"M19 3H5c-1.1 0-2 .9-2 2v14c0 1.1.9 2 2 2h14c1.1 0 2-.9 2-2V5c0-1.1-.9-2-2-2zM9 17H7v-7h2v7zm4 0h-2V7h2v10zm4 0h-2v-4h2v4z\"/>\n",
              "    </g>\n",
              "</svg>\n",
              "  </button>\n",
              "\n",
              "<style>\n",
              "  .colab-df-quickchart {\n",
              "      --bg-color: #E8F0FE;\n",
              "      --fill-color: #1967D2;\n",
              "      --hover-bg-color: #E2EBFA;\n",
              "      --hover-fill-color: #174EA6;\n",
              "      --disabled-fill-color: #AAA;\n",
              "      --disabled-bg-color: #DDD;\n",
              "  }\n",
              "\n",
              "  [theme=dark] .colab-df-quickchart {\n",
              "      --bg-color: #3B4455;\n",
              "      --fill-color: #D2E3FC;\n",
              "      --hover-bg-color: #434B5C;\n",
              "      --hover-fill-color: #FFFFFF;\n",
              "      --disabled-bg-color: #3B4455;\n",
              "      --disabled-fill-color: #666;\n",
              "  }\n",
              "\n",
              "  .colab-df-quickchart {\n",
              "    background-color: var(--bg-color);\n",
              "    border: none;\n",
              "    border-radius: 50%;\n",
              "    cursor: pointer;\n",
              "    display: none;\n",
              "    fill: var(--fill-color);\n",
              "    height: 32px;\n",
              "    padding: 0;\n",
              "    width: 32px;\n",
              "  }\n",
              "\n",
              "  .colab-df-quickchart:hover {\n",
              "    background-color: var(--hover-bg-color);\n",
              "    box-shadow: 0 1px 2px rgba(60, 64, 67, 0.3), 0 1px 3px 1px rgba(60, 64, 67, 0.15);\n",
              "    fill: var(--button-hover-fill-color);\n",
              "  }\n",
              "\n",
              "  .colab-df-quickchart-complete:disabled,\n",
              "  .colab-df-quickchart-complete:disabled:hover {\n",
              "    background-color: var(--disabled-bg-color);\n",
              "    fill: var(--disabled-fill-color);\n",
              "    box-shadow: none;\n",
              "  }\n",
              "\n",
              "  .colab-df-spinner {\n",
              "    border: 2px solid var(--fill-color);\n",
              "    border-color: transparent;\n",
              "    border-bottom-color: var(--fill-color);\n",
              "    animation:\n",
              "      spin 1s steps(1) infinite;\n",
              "  }\n",
              "\n",
              "  @keyframes spin {\n",
              "    0% {\n",
              "      border-color: transparent;\n",
              "      border-bottom-color: var(--fill-color);\n",
              "      border-left-color: var(--fill-color);\n",
              "    }\n",
              "    20% {\n",
              "      border-color: transparent;\n",
              "      border-left-color: var(--fill-color);\n",
              "      border-top-color: var(--fill-color);\n",
              "    }\n",
              "    30% {\n",
              "      border-color: transparent;\n",
              "      border-left-color: var(--fill-color);\n",
              "      border-top-color: var(--fill-color);\n",
              "      border-right-color: var(--fill-color);\n",
              "    }\n",
              "    40% {\n",
              "      border-color: transparent;\n",
              "      border-right-color: var(--fill-color);\n",
              "      border-top-color: var(--fill-color);\n",
              "    }\n",
              "    60% {\n",
              "      border-color: transparent;\n",
              "      border-right-color: var(--fill-color);\n",
              "    }\n",
              "    80% {\n",
              "      border-color: transparent;\n",
              "      border-right-color: var(--fill-color);\n",
              "      border-bottom-color: var(--fill-color);\n",
              "    }\n",
              "    90% {\n",
              "      border-color: transparent;\n",
              "      border-bottom-color: var(--fill-color);\n",
              "    }\n",
              "  }\n",
              "</style>\n",
              "\n",
              "  <script>\n",
              "    async function quickchart(key) {\n",
              "      const quickchartButtonEl =\n",
              "        document.querySelector('#' + key + ' button');\n",
              "      quickchartButtonEl.disabled = true;  // To prevent multiple clicks.\n",
              "      quickchartButtonEl.classList.add('colab-df-spinner');\n",
              "      try {\n",
              "        const charts = await google.colab.kernel.invokeFunction(\n",
              "            'suggestCharts', [key], {});\n",
              "      } catch (error) {\n",
              "        console.error('Error during call to suggestCharts:', error);\n",
              "      }\n",
              "      quickchartButtonEl.classList.remove('colab-df-spinner');\n",
              "      quickchartButtonEl.classList.add('colab-df-quickchart-complete');\n",
              "    }\n",
              "    (() => {\n",
              "      let quickchartButtonEl =\n",
              "        document.querySelector('#df-65da58b8-bd1a-4051-a3ff-d92bcd2c3906 button');\n",
              "      quickchartButtonEl.style.display =\n",
              "        google.colab.kernel.accessAllowed ? 'block' : 'none';\n",
              "    })();\n",
              "  </script>\n",
              "</div>\n",
              "    </div>\n",
              "  </div>\n"
            ]
          },
          "metadata": {},
          "execution_count": 52
        }
      ],
      "source": [
        "nz_duration_df"
      ]
    },
    {
      "cell_type": "markdown",
      "metadata": {
        "id": "VycU43iRYVK3"
      },
      "source": [
        "## description of the numerical fields"
      ]
    },
    {
      "cell_type": "code",
      "execution_count": 53,
      "metadata": {
        "id": "Ul6hY64dPGEj",
        "colab": {
          "base_uri": "https://localhost:8080/",
          "height": 300
        },
        "outputId": "f75617db-f2b8-46f8-a1ed-fb198a840818"
      },
      "outputs": [
        {
          "output_type": "execute_result",
          "data": {
            "text/plain": [
              "       duration_seconds     timestamp\n",
              "count      4.216916e+06  4.216916e+06\n",
              "mean       5.968352e+02  1.693169e+09\n",
              "std        1.219382e+03  4.458567e+04\n",
              "min        1.000000e+00  1.693066e+09\n",
              "25%        4.900000e+01  1.693130e+09\n",
              "50%        1.710000e+02  1.693156e+09\n",
              "75%        5.490000e+02  1.693212e+09\n",
              "max        3.239500e+04  1.693238e+09"
            ],
            "text/html": [
              "\n",
              "  <div id=\"df-9ffe37c8-d2b8-4f67-9fc9-a15742a58a3b\" class=\"colab-df-container\">\n",
              "    <div>\n",
              "<style scoped>\n",
              "    .dataframe tbody tr th:only-of-type {\n",
              "        vertical-align: middle;\n",
              "    }\n",
              "\n",
              "    .dataframe tbody tr th {\n",
              "        vertical-align: top;\n",
              "    }\n",
              "\n",
              "    .dataframe thead th {\n",
              "        text-align: right;\n",
              "    }\n",
              "</style>\n",
              "<table border=\"1\" class=\"dataframe\">\n",
              "  <thead>\n",
              "    <tr style=\"text-align: right;\">\n",
              "      <th></th>\n",
              "      <th>duration_seconds</th>\n",
              "      <th>timestamp</th>\n",
              "    </tr>\n",
              "  </thead>\n",
              "  <tbody>\n",
              "    <tr>\n",
              "      <th>count</th>\n",
              "      <td>4.216916e+06</td>\n",
              "      <td>4.216916e+06</td>\n",
              "    </tr>\n",
              "    <tr>\n",
              "      <th>mean</th>\n",
              "      <td>5.968352e+02</td>\n",
              "      <td>1.693169e+09</td>\n",
              "    </tr>\n",
              "    <tr>\n",
              "      <th>std</th>\n",
              "      <td>1.219382e+03</td>\n",
              "      <td>4.458567e+04</td>\n",
              "    </tr>\n",
              "    <tr>\n",
              "      <th>min</th>\n",
              "      <td>1.000000e+00</td>\n",
              "      <td>1.693066e+09</td>\n",
              "    </tr>\n",
              "    <tr>\n",
              "      <th>25%</th>\n",
              "      <td>4.900000e+01</td>\n",
              "      <td>1.693130e+09</td>\n",
              "    </tr>\n",
              "    <tr>\n",
              "      <th>50%</th>\n",
              "      <td>1.710000e+02</td>\n",
              "      <td>1.693156e+09</td>\n",
              "    </tr>\n",
              "    <tr>\n",
              "      <th>75%</th>\n",
              "      <td>5.490000e+02</td>\n",
              "      <td>1.693212e+09</td>\n",
              "    </tr>\n",
              "    <tr>\n",
              "      <th>max</th>\n",
              "      <td>3.239500e+04</td>\n",
              "      <td>1.693238e+09</td>\n",
              "    </tr>\n",
              "  </tbody>\n",
              "</table>\n",
              "</div>\n",
              "    <div class=\"colab-df-buttons\">\n",
              "\n",
              "  <div class=\"colab-df-container\">\n",
              "    <button class=\"colab-df-convert\" onclick=\"convertToInteractive('df-9ffe37c8-d2b8-4f67-9fc9-a15742a58a3b')\"\n",
              "            title=\"Convert this dataframe to an interactive table.\"\n",
              "            style=\"display:none;\">\n",
              "\n",
              "  <svg xmlns=\"http://www.w3.org/2000/svg\" height=\"24px\" viewBox=\"0 -960 960 960\">\n",
              "    <path d=\"M120-120v-720h720v720H120Zm60-500h600v-160H180v160Zm220 220h160v-160H400v160Zm0 220h160v-160H400v160ZM180-400h160v-160H180v160Zm440 0h160v-160H620v160ZM180-180h160v-160H180v160Zm440 0h160v-160H620v160Z\"/>\n",
              "  </svg>\n",
              "    </button>\n",
              "\n",
              "  <style>\n",
              "    .colab-df-container {\n",
              "      display:flex;\n",
              "      gap: 12px;\n",
              "    }\n",
              "\n",
              "    .colab-df-convert {\n",
              "      background-color: #E8F0FE;\n",
              "      border: none;\n",
              "      border-radius: 50%;\n",
              "      cursor: pointer;\n",
              "      display: none;\n",
              "      fill: #1967D2;\n",
              "      height: 32px;\n",
              "      padding: 0 0 0 0;\n",
              "      width: 32px;\n",
              "    }\n",
              "\n",
              "    .colab-df-convert:hover {\n",
              "      background-color: #E2EBFA;\n",
              "      box-shadow: 0px 1px 2px rgba(60, 64, 67, 0.3), 0px 1px 3px 1px rgba(60, 64, 67, 0.15);\n",
              "      fill: #174EA6;\n",
              "    }\n",
              "\n",
              "    .colab-df-buttons div {\n",
              "      margin-bottom: 4px;\n",
              "    }\n",
              "\n",
              "    [theme=dark] .colab-df-convert {\n",
              "      background-color: #3B4455;\n",
              "      fill: #D2E3FC;\n",
              "    }\n",
              "\n",
              "    [theme=dark] .colab-df-convert:hover {\n",
              "      background-color: #434B5C;\n",
              "      box-shadow: 0px 1px 3px 1px rgba(0, 0, 0, 0.15);\n",
              "      filter: drop-shadow(0px 1px 2px rgba(0, 0, 0, 0.3));\n",
              "      fill: #FFFFFF;\n",
              "    }\n",
              "  </style>\n",
              "\n",
              "    <script>\n",
              "      const buttonEl =\n",
              "        document.querySelector('#df-9ffe37c8-d2b8-4f67-9fc9-a15742a58a3b button.colab-df-convert');\n",
              "      buttonEl.style.display =\n",
              "        google.colab.kernel.accessAllowed ? 'block' : 'none';\n",
              "\n",
              "      async function convertToInteractive(key) {\n",
              "        const element = document.querySelector('#df-9ffe37c8-d2b8-4f67-9fc9-a15742a58a3b');\n",
              "        const dataTable =\n",
              "          await google.colab.kernel.invokeFunction('convertToInteractive',\n",
              "                                                    [key], {});\n",
              "        if (!dataTable) return;\n",
              "\n",
              "        const docLinkHtml = 'Like what you see? Visit the ' +\n",
              "          '<a target=\"_blank\" href=https://colab.research.google.com/notebooks/data_table.ipynb>data table notebook</a>'\n",
              "          + ' to learn more about interactive tables.';\n",
              "        element.innerHTML = '';\n",
              "        dataTable['output_type'] = 'display_data';\n",
              "        await google.colab.output.renderOutput(dataTable, element);\n",
              "        const docLink = document.createElement('div');\n",
              "        docLink.innerHTML = docLinkHtml;\n",
              "        element.appendChild(docLink);\n",
              "      }\n",
              "    </script>\n",
              "  </div>\n",
              "\n",
              "\n",
              "<div id=\"df-a4a92255-2ccc-40ff-9967-6cf7468001f0\">\n",
              "  <button class=\"colab-df-quickchart\" onclick=\"quickchart('df-a4a92255-2ccc-40ff-9967-6cf7468001f0')\"\n",
              "            title=\"Suggest charts.\"\n",
              "            style=\"display:none;\">\n",
              "\n",
              "<svg xmlns=\"http://www.w3.org/2000/svg\" height=\"24px\"viewBox=\"0 0 24 24\"\n",
              "     width=\"24px\">\n",
              "    <g>\n",
              "        <path d=\"M19 3H5c-1.1 0-2 .9-2 2v14c0 1.1.9 2 2 2h14c1.1 0 2-.9 2-2V5c0-1.1-.9-2-2-2zM9 17H7v-7h2v7zm4 0h-2V7h2v10zm4 0h-2v-4h2v4z\"/>\n",
              "    </g>\n",
              "</svg>\n",
              "  </button>\n",
              "\n",
              "<style>\n",
              "  .colab-df-quickchart {\n",
              "      --bg-color: #E8F0FE;\n",
              "      --fill-color: #1967D2;\n",
              "      --hover-bg-color: #E2EBFA;\n",
              "      --hover-fill-color: #174EA6;\n",
              "      --disabled-fill-color: #AAA;\n",
              "      --disabled-bg-color: #DDD;\n",
              "  }\n",
              "\n",
              "  [theme=dark] .colab-df-quickchart {\n",
              "      --bg-color: #3B4455;\n",
              "      --fill-color: #D2E3FC;\n",
              "      --hover-bg-color: #434B5C;\n",
              "      --hover-fill-color: #FFFFFF;\n",
              "      --disabled-bg-color: #3B4455;\n",
              "      --disabled-fill-color: #666;\n",
              "  }\n",
              "\n",
              "  .colab-df-quickchart {\n",
              "    background-color: var(--bg-color);\n",
              "    border: none;\n",
              "    border-radius: 50%;\n",
              "    cursor: pointer;\n",
              "    display: none;\n",
              "    fill: var(--fill-color);\n",
              "    height: 32px;\n",
              "    padding: 0;\n",
              "    width: 32px;\n",
              "  }\n",
              "\n",
              "  .colab-df-quickchart:hover {\n",
              "    background-color: var(--hover-bg-color);\n",
              "    box-shadow: 0 1px 2px rgba(60, 64, 67, 0.3), 0 1px 3px 1px rgba(60, 64, 67, 0.15);\n",
              "    fill: var(--button-hover-fill-color);\n",
              "  }\n",
              "\n",
              "  .colab-df-quickchart-complete:disabled,\n",
              "  .colab-df-quickchart-complete:disabled:hover {\n",
              "    background-color: var(--disabled-bg-color);\n",
              "    fill: var(--disabled-fill-color);\n",
              "    box-shadow: none;\n",
              "  }\n",
              "\n",
              "  .colab-df-spinner {\n",
              "    border: 2px solid var(--fill-color);\n",
              "    border-color: transparent;\n",
              "    border-bottom-color: var(--fill-color);\n",
              "    animation:\n",
              "      spin 1s steps(1) infinite;\n",
              "  }\n",
              "\n",
              "  @keyframes spin {\n",
              "    0% {\n",
              "      border-color: transparent;\n",
              "      border-bottom-color: var(--fill-color);\n",
              "      border-left-color: var(--fill-color);\n",
              "    }\n",
              "    20% {\n",
              "      border-color: transparent;\n",
              "      border-left-color: var(--fill-color);\n",
              "      border-top-color: var(--fill-color);\n",
              "    }\n",
              "    30% {\n",
              "      border-color: transparent;\n",
              "      border-left-color: var(--fill-color);\n",
              "      border-top-color: var(--fill-color);\n",
              "      border-right-color: var(--fill-color);\n",
              "    }\n",
              "    40% {\n",
              "      border-color: transparent;\n",
              "      border-right-color: var(--fill-color);\n",
              "      border-top-color: var(--fill-color);\n",
              "    }\n",
              "    60% {\n",
              "      border-color: transparent;\n",
              "      border-right-color: var(--fill-color);\n",
              "    }\n",
              "    80% {\n",
              "      border-color: transparent;\n",
              "      border-right-color: var(--fill-color);\n",
              "      border-bottom-color: var(--fill-color);\n",
              "    }\n",
              "    90% {\n",
              "      border-color: transparent;\n",
              "      border-bottom-color: var(--fill-color);\n",
              "    }\n",
              "  }\n",
              "</style>\n",
              "\n",
              "  <script>\n",
              "    async function quickchart(key) {\n",
              "      const quickchartButtonEl =\n",
              "        document.querySelector('#' + key + ' button');\n",
              "      quickchartButtonEl.disabled = true;  // To prevent multiple clicks.\n",
              "      quickchartButtonEl.classList.add('colab-df-spinner');\n",
              "      try {\n",
              "        const charts = await google.colab.kernel.invokeFunction(\n",
              "            'suggestCharts', [key], {});\n",
              "      } catch (error) {\n",
              "        console.error('Error during call to suggestCharts:', error);\n",
              "      }\n",
              "      quickchartButtonEl.classList.remove('colab-df-spinner');\n",
              "      quickchartButtonEl.classList.add('colab-df-quickchart-complete');\n",
              "    }\n",
              "    (() => {\n",
              "      let quickchartButtonEl =\n",
              "        document.querySelector('#df-a4a92255-2ccc-40ff-9967-6cf7468001f0 button');\n",
              "      quickchartButtonEl.style.display =\n",
              "        google.colab.kernel.accessAllowed ? 'block' : 'none';\n",
              "    })();\n",
              "  </script>\n",
              "</div>\n",
              "    </div>\n",
              "  </div>\n"
            ]
          },
          "metadata": {},
          "execution_count": 53
        }
      ],
      "source": [
        "nz_duration_df.describe()"
      ]
    },
    {
      "cell_type": "code",
      "execution_count": 54,
      "metadata": {
        "id": "G5NsD16VXd6l",
        "colab": {
          "base_uri": "https://localhost:8080/"
        },
        "outputId": "5a2f6379-2296-4f81-976c-bca63e63ca12"
      },
      "outputs": [
        {
          "output_type": "stream",
          "name": "stdout",
          "text": [
            "<class 'pandas.core.frame.DataFrame'>\n",
            "Int64Index: 4216916 entries, 14622656 to 21151475\n",
            "Data columns (total 12 columns):\n",
            " #   Column            Dtype                         \n",
            "---  ------            -----                         \n",
            " 0   state             object                        \n",
            " 1   event_start_tz    datetime64[ns, Asia/Singapore]\n",
            " 2   duration_seconds  int64                         \n",
            " 3   content_type      object                        \n",
            " 4   content           object                        \n",
            " 5   content_source    object                        \n",
            " 6   date              datetime64[ns]                \n",
            " 7   time              object                        \n",
            " 8   timezone          object                        \n",
            " 9   end_time          datetime64[ns, Asia/Singapore]\n",
            " 10  timestamp         float64                       \n",
            " 11  day               object                        \n",
            "dtypes: datetime64[ns, Asia/Singapore](2), datetime64[ns](1), float64(1), int64(1), object(7)\n",
            "memory usage: 547.2+ MB\n"
          ]
        }
      ],
      "source": [
        "nz_duration_df.info()"
      ]
    },
    {
      "cell_type": "markdown",
      "source": [
        "# states frequency & statistics analysis"
      ],
      "metadata": {
        "id": "hQ3R3VwAjkfo"
      }
    },
    {
      "cell_type": "code",
      "execution_count": 55,
      "metadata": {
        "colab": {
          "base_uri": "https://localhost:8080/"
        },
        "id": "tv9MvjJHgxzZ",
        "outputId": "30ac114c-e4ee-4756-da95-3a0a004dcdcb"
      },
      "outputs": [
        {
          "output_type": "execute_result",
          "data": {
            "text/plain": [
              "Kuala Lumpur       2752122\n",
              "Selangor           1052497\n",
              "Penang              301065\n",
              "Johor               289287\n",
              "Perak               161315\n",
              "Sarawak              91277\n",
              "Negeri Sembilan      87627\n",
              "Sabah                83336\n",
              "Melaka               47890\n",
              "Kedah                37831\n",
              "Kelantan             24785\n",
              "Pahang               21128\n",
              "Terengganu           12850\n",
              "Putrajaya             2883\n",
              "Perlis                 755\n",
              "Labuan                 158\n",
              "Name: state, dtype: int64"
            ]
          },
          "metadata": {},
          "execution_count": 55
        }
      ],
      "source": [
        "sampled_df[\"state\"].value_counts()"
      ]
    },
    {
      "cell_type": "code",
      "execution_count": 56,
      "metadata": {
        "colab": {
          "base_uri": "https://localhost:8080/"
        },
        "id": "YsHu-6RCbIQ-",
        "outputId": "73e603a5-bcc6-4f95-aab7-dbe10aa9b9e6"
      },
      "outputs": [
        {
          "output_type": "execute_result",
          "data": {
            "text/plain": [
              "Kuala Lumpur       2350063\n",
              "Selangor            892139\n",
              "Penang              253079\n",
              "Johor               244473\n",
              "Perak               133713\n",
              "Sarawak              78899\n",
              "Negeri Sembilan      73099\n",
              "Sabah                70325\n",
              "Melaka               39363\n",
              "Kedah                29873\n",
              "Kelantan             20758\n",
              "Pahang               17535\n",
              "Terengganu           10342\n",
              "Putrajaya             2445\n",
              "Perlis                 691\n",
              "Labuan                 119\n",
              "Name: state, dtype: int64"
            ]
          },
          "metadata": {},
          "execution_count": 56
        }
      ],
      "source": [
        "nz_duration_df[\"state\"].value_counts()"
      ]
    },
    {
      "cell_type": "code",
      "execution_count": 57,
      "metadata": {
        "id": "PG45pJEpZOyO"
      },
      "outputs": [],
      "source": [
        "states_series = nz_duration_df[\"state\"].value_counts()"
      ]
    },
    {
      "cell_type": "code",
      "execution_count": 58,
      "metadata": {
        "colab": {
          "base_uri": "https://localhost:8080/"
        },
        "id": "V-yQy9h2aYI9",
        "outputId": "1f884bf0-2f46-414c-d0ac-9b47c7041512"
      },
      "outputs": [
        {
          "output_type": "execute_result",
          "data": {
            "text/plain": [
              "Kuala Lumpur       2350063\n",
              "Selangor            892139\n",
              "Penang              253079\n",
              "Johor               244473\n",
              "Perak               133713\n",
              "Sarawak              78899\n",
              "Negeri Sembilan      73099\n",
              "Sabah                70325\n",
              "Melaka               39363\n",
              "Kedah                29873\n",
              "Kelantan             20758\n",
              "Pahang               17535\n",
              "Terengganu           10342\n",
              "Putrajaya             2445\n",
              "Perlis                 691\n",
              "Labuan                 119\n",
              "Name: state, dtype: int64"
            ]
          },
          "metadata": {},
          "execution_count": 58
        }
      ],
      "source": [
        "states_series"
      ]
    },
    {
      "cell_type": "code",
      "source": [
        "print(len(states_series))"
      ],
      "metadata": {
        "colab": {
          "base_uri": "https://localhost:8080/"
        },
        "id": "mA8xb_45RCiD",
        "outputId": "6ff17106-afd9-46f4-8224-b64aa405b8e9"
      },
      "execution_count": 59,
      "outputs": [
        {
          "output_type": "stream",
          "name": "stdout",
          "text": [
            "16\n"
          ]
        }
      ]
    },
    {
      "cell_type": "code",
      "source": [
        "print(states_series.nunique())"
      ],
      "metadata": {
        "colab": {
          "base_uri": "https://localhost:8080/"
        },
        "id": "Xa-z7IMERIR6",
        "outputId": "9ec1a8d9-e92a-4e6f-9db0-5a2b557efb82"
      },
      "execution_count": 60,
      "outputs": [
        {
          "output_type": "stream",
          "name": "stdout",
          "text": [
            "16\n"
          ]
        }
      ]
    },
    {
      "cell_type": "code",
      "execution_count": 61,
      "metadata": {
        "id": "qQwkNg49o_n0"
      },
      "outputs": [],
      "source": [
        "cumilative_frequency_of_states = states_series.sum()"
      ]
    },
    {
      "cell_type": "code",
      "execution_count": 62,
      "metadata": {
        "colab": {
          "base_uri": "https://localhost:8080/"
        },
        "id": "Xrzq6MQjp2Dn",
        "outputId": "8d44059c-a42d-43c7-a000-6312d5bacf69"
      },
      "outputs": [
        {
          "output_type": "execute_result",
          "data": {
            "text/plain": [
              "4216916"
            ]
          },
          "metadata": {},
          "execution_count": 62
        }
      ],
      "source": [
        "cumilative_frequency_of_states"
      ]
    },
    {
      "cell_type": "code",
      "execution_count": 63,
      "metadata": {
        "id": "WWYQBDd9ocaU"
      },
      "outputs": [],
      "source": [
        "statewise_frequency_percentages = {}\n",
        "for state in states_series.index:\n",
        "  statewise_frequency_percentages[state] = (states_series[state] / cumilative_frequency_of_states) * 100"
      ]
    },
    {
      "cell_type": "code",
      "execution_count": 64,
      "metadata": {
        "colab": {
          "base_uri": "https://localhost:8080/"
        },
        "id": "9i1yHsoxo6ZZ",
        "outputId": "dc23bca0-d721-49bc-b8d1-fdd3e489e23d"
      },
      "outputs": [
        {
          "output_type": "execute_result",
          "data": {
            "text/plain": [
              "{'Kuala Lumpur': 55.729424062513935,\n",
              " 'Selangor': 21.15619566526817,\n",
              " 'Penang': 6.001518645379704,\n",
              " 'Johor': 5.797435851223975,\n",
              " 'Perak': 3.1708717935097592,\n",
              " 'Sarawak': 1.8710118958973807,\n",
              " 'Negeri Sembilan': 1.7334706216581026,\n",
              " 'Sabah': 1.667687950151248,\n",
              " 'Melaka': 0.9334546858415012,\n",
              " 'Kedah': 0.7084087043706823,\n",
              " 'Kelantan': 0.49225547769981665,\n",
              " 'Pahang': 0.41582521444581777,\n",
              " 'Terengganu': 0.24525032037631292,\n",
              " 'Putrajaya': 0.057980761295695724,\n",
              " 'Perlis': 0.016386382844714,\n",
              " 'Labuan': 0.0028219675231851904}"
            ]
          },
          "metadata": {},
          "execution_count": 64
        }
      ],
      "source": [
        "statewise_frequency_percentages"
      ]
    },
    {
      "cell_type": "code",
      "source": [
        "sum = 0\n",
        "i=4\n",
        "for key in statewise_frequency_percentages:\n",
        "  print(key)\n",
        "  sum += statewise_frequency_percentages[key]\n",
        "  i -= 1\n",
        "  if i == 0:\n",
        "    break"
      ],
      "metadata": {
        "colab": {
          "base_uri": "https://localhost:8080/"
        },
        "id": "GJfwc0eMGbjd",
        "outputId": "e0d7f9a0-0f40-42b8-82b6-8846f360556b"
      },
      "execution_count": 65,
      "outputs": [
        {
          "output_type": "stream",
          "name": "stdout",
          "text": [
            "Kuala Lumpur\n",
            "Selangor\n",
            "Penang\n",
            "Johor\n"
          ]
        }
      ]
    },
    {
      "cell_type": "code",
      "source": [
        "sum"
      ],
      "metadata": {
        "colab": {
          "base_uri": "https://localhost:8080/"
        },
        "id": "UNRxQ4kyHQv8",
        "outputId": "0d72e1af-173d-4c39-a358-a3e8cc8c3960"
      },
      "execution_count": 66,
      "outputs": [
        {
          "output_type": "execute_result",
          "data": {
            "text/plain": [
              "88.6845742243858"
            ]
          },
          "metadata": {},
          "execution_count": 66
        }
      ]
    },
    {
      "cell_type": "markdown",
      "metadata": {
        "id": "_Ae6BpwMZ8wJ"
      },
      "source": [
        "# list of distinct content_type (content_category)\n"
      ]
    },
    {
      "cell_type": "code",
      "execution_count": 67,
      "metadata": {
        "id": "-gBJxON3aDeL"
      },
      "outputs": [],
      "source": [
        "content_categories = nz_duration_df['content_type'].value_counts()"
      ]
    },
    {
      "cell_type": "code",
      "execution_count": 68,
      "metadata": {
        "colab": {
          "base_uri": "https://localhost:8080/"
        },
        "id": "ADzCNuzSenPb",
        "outputId": "741fce9b-2091-479e-b559-93228bb6a40e"
      },
      "outputs": [
        {
          "output_type": "execute_result",
          "data": {
            "text/plain": [
              "VOD                2356309\n",
              "LINEAR              848751\n",
              "CDVR                602912\n",
              "Live Pause          158746\n",
              "Play From Start     142659\n",
              "IP Switch           107539\n",
              "Name: content_type, dtype: int64"
            ]
          },
          "metadata": {},
          "execution_count": 68
        }
      ],
      "source": [
        "content_categories"
      ]
    },
    {
      "cell_type": "code",
      "source": [
        "len(content_categories)"
      ],
      "metadata": {
        "colab": {
          "base_uri": "https://localhost:8080/"
        },
        "id": "o7mSARctQaXa",
        "outputId": "88ea0ef3-f57b-4f30-ead8-1c34f11ace24"
      },
      "execution_count": 69,
      "outputs": [
        {
          "output_type": "execute_result",
          "data": {
            "text/plain": [
              "6"
            ]
          },
          "metadata": {},
          "execution_count": 69
        }
      ]
    },
    {
      "cell_type": "code",
      "source": [
        "content_categorywise_percentages = {}\n",
        "for category in content_categories.index:\n",
        "  content_categorywise_percentages[category] = (content_categories[category] / content_categories.sum()) * 100"
      ],
      "metadata": {
        "id": "EloHGoLo_OOq"
      },
      "execution_count": 70,
      "outputs": []
    },
    {
      "cell_type": "code",
      "source": [
        "content_categorywise_percentages"
      ],
      "metadata": {
        "colab": {
          "base_uri": "https://localhost:8080/"
        },
        "id": "MJSL12Y0A_sn",
        "outputId": "693e0189-20af-4208-a3b8-4faa4e736a54"
      },
      "execution_count": 71,
      "outputs": [
        {
          "output_type": "execute_result",
          "data": {
            "text/plain": [
              "{'VOD': 55.87754178646196,\n",
              " 'LINEAR': 20.12729207790717,\n",
              " 'CDVR': 14.297462885198566,\n",
              " 'Live Pause': 3.764504675929044,\n",
              " 'Play From Start': 3.3830173520174456,\n",
              " 'IP Switch': 2.5501812224858167}"
            ]
          },
          "metadata": {},
          "execution_count": 71
        }
      ]
    },
    {
      "cell_type": "code",
      "source": [
        "labels = content_categorywise_percentages.keys()\n",
        "values = content_categorywise_percentages.values()\n",
        "\n",
        "# Create a pie chart\n",
        "plt.figure(figsize=(8, 6))\n",
        "plt.pie(values, labels=labels, autopct='%1.1f%%', startangle=140)\n",
        "\n",
        "# Add a legend to the left of the pie chart with percentage weightage\n",
        "plt.legend(loc='center left', bbox_to_anchor=(0.85, 0.5), labels=[f'{label}: {value:.1f}%' for label, value in content_categorywise_percentages.items()])\n",
        "\n",
        "# Add a title\n",
        "plt.title(\"Content Category Preference\")\n",
        "\n",
        "# Display the plot\n",
        "plt.show()"
      ],
      "metadata": {
        "colab": {
          "base_uri": "https://localhost:8080/",
          "height": 521
        },
        "id": "KjZRh-6GEVUL",
        "outputId": "8e1a9909-1cba-422a-f232-1af90fc0e5f3"
      },
      "execution_count": 127,
      "outputs": [
        {
          "output_type": "display_data",
          "data": {
            "text/plain": [
              "<Figure size 800x600 with 1 Axes>"
            ],
            "image/png": "[encoded data removed]"
          },
          "metadata": {}
        }
      ]
    },
    {
      "cell_type": "markdown",
      "metadata": {
        "id": "d4afLOO5cNYG"
      },
      "source": [
        "# list of distinct content (T.V Shows)"
      ]
    },
    {
      "cell_type": "code",
      "execution_count": 73,
      "metadata": {
        "id": "pCNAgqZ2aQXB"
      },
      "outputs": [],
      "source": [
        "content_series = nz_duration_df['content'].value_counts()"
      ]
    },
    {
      "cell_type": "markdown",
      "metadata": {
        "id": "su98wJiOn1e0"
      },
      "source": [
        " * ***the value_counts() method will always return a pandas series with unique indexes so no need to worry about the uniqueness of index names***"
      ]
    },
    {
      "cell_type": "code",
      "execution_count": 74,
      "metadata": {
        "colab": {
          "base_uri": "https://localhost:8080/"
        },
        "id": "8E9e8S84br-l",
        "outputId": "68142c6b-3ee9-4db6-cebc-df59db0934d2"
      },
      "outputs": [
        {
          "output_type": "execute_result",
          "data": {
            "text/plain": [
              "(L) BWF World Championships: Finals     67383\n",
              "(L) PL: Newcastle vs Liverpool          64652\n",
              "(L) PL: Sheffield vs Manchester City    44269\n",
              "Tiktok Awards Malaysia                  30181\n",
              "The Flash [Fast Premiere]               29244\n",
              "                                        ...  \n",
              "Semakin Cinta, Shuib                        1\n",
              "Mosaic S1 Ep01                              1\n",
              "Ceria Megastar 2020 Eksklusif Ep14          1\n",
              "Key Witness Ep11                            1\n",
              "Tong Tong's Wonderland S3 Ep10              1\n",
              "Name: content, Length: 52835, dtype: int64"
            ]
          },
          "metadata": {},
          "execution_count": 74
        }
      ],
      "source": [
        "content_series"
      ]
    },
    {
      "cell_type": "code",
      "source": [
        "nz_duration_df.shape[0]"
      ],
      "metadata": {
        "colab": {
          "base_uri": "https://localhost:8080/"
        },
        "id": "OMAtenICZw3g",
        "outputId": "fac97440-4989-4589-9330-c1e4da265f3f"
      },
      "execution_count": 75,
      "outputs": [
        {
          "output_type": "execute_result",
          "data": {
            "text/plain": [
              "4216916"
            ]
          },
          "metadata": {},
          "execution_count": 75
        }
      ]
    },
    {
      "cell_type": "code",
      "execution_count": 76,
      "metadata": {
        "colab": {
          "base_uri": "https://localhost:8080/"
        },
        "id": "DlchwzqtL4vp",
        "outputId": "594446bf-9de2-4ab0-8529-ee78bfb9dcfd"
      },
      "outputs": [
        {
          "output_type": "execute_result",
          "data": {
            "text/plain": [
              "52835"
            ]
          },
          "metadata": {},
          "execution_count": 76
        }
      ],
      "source": [
        "len(content_series)"
      ]
    },
    {
      "cell_type": "code",
      "source": [
        "print(content_series.index.nunique()) # using nunique() method"
      ],
      "metadata": {
        "colab": {
          "base_uri": "https://localhost:8080/"
        },
        "id": "TUA1WLlkRWgN",
        "outputId": "78f6f8d4-9694-4109-af17-e51c24e8bd52"
      },
      "execution_count": 77,
      "outputs": [
        {
          "output_type": "stream",
          "name": "stdout",
          "text": [
            "52835\n"
          ]
        }
      ]
    },
    {
      "cell_type": "code",
      "source": [
        "no_of_shows = content_series.index.nunique()"
      ],
      "metadata": {
        "id": "HVu6nzStei_j"
      },
      "execution_count": 78,
      "outputs": []
    },
    {
      "cell_type": "code",
      "source": [
        "sampled_df.shape[0]"
      ],
      "metadata": {
        "colab": {
          "base_uri": "https://localhost:8080/"
        },
        "id": "bBblZASvgwnG",
        "outputId": "7550c6ea-121a-466f-9cfd-3633647cf514"
      },
      "execution_count": 79,
      "outputs": [
        {
          "output_type": "execute_result",
          "data": {
            "text/plain": [
              "4966806"
            ]
          },
          "metadata": {},
          "execution_count": 79
        }
      ]
    },
    {
      "cell_type": "markdown",
      "metadata": {
        "id": "DooUYautMFl7"
      },
      "source": [
        "## There are almost 4966806 distinct shows. Below is top 20\n"
      ]
    },
    {
      "cell_type": "code",
      "execution_count": 80,
      "metadata": {
        "colab": {
          "base_uri": "https://localhost:8080/"
        },
        "id": "IElQpkrKKZgi",
        "outputId": "e5a3d2a5-c7a5-41d7-d72f-dbc09fe14c73"
      },
      "outputs": [
        {
          "output_type": "execute_result",
          "data": {
            "text/plain": [
              "(L) BWF World Championships: Finals     67383\n",
              "(L) PL: Newcastle vs Liverpool          64652\n",
              "(L) PL: Sheffield vs Manchester City    44269\n",
              "Tiktok Awards Malaysia                  30181\n",
              "The Flash [Fast Premiere]               29244\n",
              "Super Singer Junior                     26015\n",
              "(L) Formula 1 Main Race 2023            23054\n",
              "FIBA: Latvia vs Lebanon                 20731\n",
              "Start Music                             17960\n",
              "Buletin Utama                           17656\n",
              "Name: content, dtype: int64"
            ]
          },
          "metadata": {},
          "execution_count": 80
        }
      ],
      "source": [
        "content_series.head(10)"
      ]
    },
    {
      "cell_type": "markdown",
      "source": [
        "### bottom 20 TV shows"
      ],
      "metadata": {
        "id": "LRXnhBmu5wQD"
      }
    },
    {
      "cell_type": "code",
      "execution_count": 81,
      "metadata": {
        "colab": {
          "base_uri": "https://localhost:8080/"
        },
        "id": "4fhXqb_uL2-G",
        "outputId": "9f29571e-f9c8-4fa8-ae2a-40efdfb30631"
      },
      "outputs": [
        {
          "output_type": "execute_result",
          "data": {
            "text/plain": [
              "Sleep Right, Sleep Tight S1 Ep05      1\n",
              "Mounaragam 2 Ep108                    1\n",
              "Perfect Partner Ep14                  1\n",
              "A Time to Remember Ep19               1\n",
              "Mind Blowing Breakthroughs S3 Ep11    1\n",
              "Mountain Men S11 Ep151                1\n",
              "Lara Aishah Ep33                      1\n",
              "New World Ep19                        1\n",
              "7 Aam Uyir Ep006                      1\n",
              "Pick Me Up to Malaysia Ep14           1\n",
              "Kollaikkaran                          1\n",
              "Crime Patrol Dial 100 Ep284           1\n",
              "The Kitchen S22 Ep07                  1\n",
              "Hunting Ep34                          1\n",
              "Dia Tetap Ayah Ep12                   1\n",
              "Semakin Cinta, Shuib                  1\n",
              "Mosaic S1 Ep01                        1\n",
              "Ceria Megastar 2020 Eksklusif Ep14    1\n",
              "Key Witness Ep11                      1\n",
              "Tong Tong's Wonderland S3 Ep10        1\n",
              "Name: content, dtype: int64"
            ]
          },
          "metadata": {},
          "execution_count": 81
        }
      ],
      "source": [
        "content_series.tail(20)"
      ]
    },
    {
      "cell_type": "markdown",
      "metadata": {
        "id": "ZZJMTnTW-ojh"
      },
      "source": [
        "## sports shows are most watched"
      ]
    },
    {
      "cell_type": "code",
      "execution_count": 82,
      "metadata": {
        "id": "NbbDScixbuiu"
      },
      "outputs": [],
      "source": [
        "distinct_contents_dictionary = content_series.to_dict()"
      ]
    },
    {
      "cell_type": "code",
      "source": [
        "len(distinct_contents_dictionary)"
      ],
      "metadata": {
        "colab": {
          "base_uri": "https://localhost:8080/"
        },
        "id": "6uk-9O0EFVKd",
        "outputId": "92638e60-b6d9-427b-ac1c-a256617d0913"
      },
      "execution_count": 83,
      "outputs": [
        {
          "output_type": "execute_result",
          "data": {
            "text/plain": [
              "52835"
            ]
          },
          "metadata": {},
          "execution_count": 83
        }
      ]
    },
    {
      "cell_type": "code",
      "source": [
        "distinct_contents_dictionary"
      ],
      "metadata": {
        "id": "PLhKlph9Oh6y",
        "outputId": "0dc9e418-0382-4c7a-af5b-9619007bf0bb",
        "colab": {
          "base_uri": "https://localhost:8080/"
        }
      },
      "execution_count": 84,
      "outputs": [
        {
          "output_type": "execute_result",
          "data": {
            "text/plain": [
              "{'(L) BWF World Championships: Finals': 67383,\n",
              " '(L) PL: Newcastle vs Liverpool': 64652,\n",
              " '(L) PL: Sheffield vs Manchester City': 44269,\n",
              " 'Tiktok Awards Malaysia': 30181,\n",
              " 'The Flash [Fast Premiere]': 29244,\n",
              " 'Super Singer Junior': 26015,\n",
              " '(L) Formula 1 Main Race 2023': 23054,\n",
              " 'FIBA: Latvia vs Lebanon': 20731,\n",
              " 'Start Music': 17960,\n",
              " 'Buletin Utama': 17656,\n",
              " '(L) World Athletics Championships 2023': 17342,\n",
              " 'Pathaan': 16100,\n",
              " '2000 Prime Talk': 15090,\n",
              " 'Rajuk Karina': 14302,\n",
              " 'Saregamapa Little Champs': 13965,\n",
              " 'Evening Edition': 13173,\n",
              " 'Sepahtu Reunion Live S8 Ep07': 12289,\n",
              " '(L) Miss Hong Kong Pageant 2023': 12237,\n",
              " 'Varalaru': 12086,\n",
              " 'Narcotics Heroes': 11740,\n",
              " 'Baagyaletchumi Illatharisiyin Kadhai': 10761,\n",
              " '(L) MSL 2023: PRK lwn KLC': 10709,\n",
              " 'Running Man': 10502,\n",
              " 'MasterChef Australia': 10338,\n",
              " 'Pandian Stores': 10243,\n",
              " 'Thamizhum Saraswathiyum': 9755,\n",
              " 'Super Nabil Ep01': 9684,\n",
              " '(L) PL: Burnley vs Aston Villa': 8886,\n",
              " 'MW3: Newcastle United vs Liverpool': 8601,\n",
              " 'Siragadikka Aasai': 8437,\n",
              " 'Puss In Boots: The Last Wish': 8224,\n",
              " '(L) BWF World Championships: Semi Finals': 8099,\n",
              " 'Ethirneechal': 7955,\n",
              " 'Aku Yang Kau Sakiti': 7680,\n",
              " 'Malbatt: Misi Bakara [The Making Of]': 7390,\n",
              " 'Tiara: Bukan Cinta Sempurna': 6857,\n",
              " 'Kaatrukkenna Veli': 6857,\n",
              " '(L) BOLA SEPAK LIGA SUPER 2023': 6767,\n",
              " 'Go Shop': 6691,\n",
              " 'Aha Kalyanam': 6549,\n",
              " 'Ready Steady Po Vachi Seivome': 6325,\n",
              " 'MW3: Arsenal vs Fulham': 6281,\n",
              " '(L) Chequered Flag 2023': 6225,\n",
              " 'Ejen Ali The Movie': 6178,\n",
              " 'Running Man Ep645': 6150,\n",
              " '(L) Postshow': 5969,\n",
              " '(L) Dutch League: PSV vs Go Ahead Eagles': 5681,\n",
              " 'Majalah 3': 5539,\n",
              " 'MW3: Manchester United vs Nottingham Forest': 5506,\n",
              " 'Upin & Ipin': 5494,\n",
              " 'Budak Hostel Otaknya Sewel Ep16': 5457,\n",
              " 'Kathaanaayagi': 5324,\n",
              " 'Melodi': 5294,\n",
              " 'Real Men Malaysia: Wira Merah Ep05': 5274,\n",
              " 'Hello Pinkfong Songs': 5270,\n",
              " 'A Pillow Case of Mystery': 5258,\n",
              " 'Adanga Maru': 5226,\n",
              " 'Mothalum Kaadhalum': 4985,\n",
              " 'Baasha': 4970,\n",
              " 'Mandarin News': 4871,\n",
              " 'Real Men Malaysia: Wira Merah': 4870,\n",
              " 'Narcotics Heroes Ep20': 4817,\n",
              " 'Lo and Behold': 4810,\n",
              " 'Sundari': 4785,\n",
              " 'Panggung P.Ramlee: Sergeant Hassan': 4785,\n",
              " '(L) Preshow': 4620,\n",
              " 'Narcotics Heroes Ep21': 4546,\n",
              " 'Eeramana Rojavey 2': 4538,\n",
              " 'Darbar': 4521,\n",
              " 'Kodiyil Oruvan': 4493,\n",
              " 'Robocar POLI S5 Ep01': 4460,\n",
              " 'Thendral Vandhu Ennai Thodum': 4441,\n",
              " 'Buletin 130': 4351,\n",
              " '(D) FIBA: United States vs New Zealand': 4268,\n",
              " 'My Dearest': 4249,\n",
              " 'Meant to Be': 4195,\n",
              " 'The Meg': 4149,\n",
              " 'No information available': 4133,\n",
              " 'Semua Salahku': 4129,\n",
              " 'Hudson & Rex': 4004,\n",
              " 'O2': 4002,\n",
              " 'One Million Dollar Voice Mashup': 3953,\n",
              " 'My Pet My Angel': 3944,\n",
              " 'Mahanadhi': 3920,\n",
              " 'Takdir Yang Ditakdirkan': 3893,\n",
              " '(L) Buletin Awani': 3845,\n",
              " 'The Real Has Come!': 3829,\n",
              " 'Ka Pae Ranasingam': 3792,\n",
              " 'Takkar': 3763,\n",
              " 'Sepahtu Reunion Live S8 Ep06': 3757,\n",
              " 'Chellamma': 3751,\n",
              " 'Kampung Foodsteps': 3701,\n",
              " 'Vinayagar Agaval': 3669,\n",
              " 'Budak Hostel Otaknya Sewel Ep15': 3647,\n",
              " 'MW3: Sheffield United vs Manchester City': 3642,\n",
              " 'Keluarga Iskandar The Movie': 3584,\n",
              " 'Ponni': 3504,\n",
              " 'Curse of the Royal Harem': 3503,\n",
              " 'Bornean Elephant': 3485,\n",
              " 'Neeya Naana': 3443,\n",
              " 'FBI: Most Wanted': 3439,\n",
              " 'Nona': 3436,\n",
              " 'Love Story The Series Season 2': 3366,\n",
              " '(L)UFC 23: Holloway vs The Korean Zombie': 3356,\n",
              " 'Billionaire Story': 3323,\n",
              " 'Smurfs 2, the': 3314,\n",
              " 'Buletin Awani': 3294,\n",
              " 'Chandramukhi': 3270,\n",
              " 'New Doraemon': 3256,\n",
              " 'The Angry Birds Movie': 3250,\n",
              " 'Hotel Transylvania 3: Summer Vacation': 3191,\n",
              " 'Kaaki Sattai': 3178,\n",
              " 'BoBoiBoy Movie 2': 3170,\n",
              " 'Golden City': 3159,\n",
              " 'Fight For Justice': 3109,\n",
              " 'Married at First Sight Australia': 3082,\n",
              " 'Ultra Galaxy Fight: The Destined Crossroad': 3079,\n",
              " 'Astro Seithigal': 3018,\n",
              " 'Kizhaku Vasal': 3008,\n",
              " 'INNOVATHON': 2989,\n",
              " '(L) TOUR Championship Day 4': 2980,\n",
              " 'Anna': 2979,\n",
              " 'Transformers: Rise of the Beasts': 2955,\n",
              " 'MW3: AFC Bournemouth vs Tottenham': 2947,\n",
              " 'The Mysteries of Love': 2908,\n",
              " 'Tucker Tucker': 2907,\n",
              " 'Wow Shop': 2900,\n",
              " 'Muthazhagu': 2897,\n",
              " 'Narcotics Heroes Ep19': 2896,\n",
              " 'Anniyan': 2894,\n",
              " 'BARISTA: Misi Terpaling Sulit Ep01': 2893,\n",
              " 'Bukan Cinta Sempurna Ep20': 2891,\n",
              " 'Iravin Nizhal': 2879,\n",
              " 'Munafik': 2873,\n",
              " 'Shivalinga': 2762,\n",
              " 'My Name Is Lola Xtra': 2754,\n",
              " 'Robocar POLI S5 Ep02': 2745,\n",
              " 'Running Man Ep644': 2745,\n",
              " '(L) Debaran Separuh Akhir Bintang Kecil': 2720,\n",
              " 'Saat Kau Takluk Cinta Ini': 2716,\n",
              " 'Survivor': 2711,\n",
              " 'The Ultimate Crime Fighter': 2704,\n",
              " 'Die Die Also Must Serve': 2685,\n",
              " 'Law & Order: Special Victims Unit': 2674,\n",
              " 'Sarvam Thala Mayam': 2671,\n",
              " 'Sepahtu Reunion Live 2023': 2645,\n",
              " 'Friends': 2640,\n",
              " 'Bukan Cinta Sempurna Ep21': 2626,\n",
              " 'Lagu Didi & Friends S1 Ep03': 2624,\n",
              " 'Khatron Ke Khiladi': 2605,\n",
              " 'Lagu Merdeka Didi & Friends': 2591,\n",
              " '(L) Grand Prix Sunday 2023': 2587,\n",
              " 'Suyamvaram': 2583,\n",
              " 'Lagu Didi & Friends S1 Ep07': 2574,\n",
              " 'Budak Hostel Otaknya Sewel Ep14': 2572,\n",
              " \"Lepak@Les'Copaque: Upin & Ipin\": 2570,\n",
              " 'Tsurupika Hagemaru': 2560,\n",
              " 'Life is Beautiful': 2556,\n",
              " 'Lagu Didi & Friends S1 Ep04': 2554,\n",
              " 'MegaDrama: One Million Dollar Voice': 2531,\n",
              " 'Lagu Didi & Friends S1 Ep06': 2518,\n",
              " 'Lagu Didi & Friends S1 Ep08': 2514,\n",
              " 'Minsara Kanna': 2508,\n",
              " 'Lagu Didi & Friends S1 Ep09': 2475,\n",
              " 'Lagu Didi & Friends S1 Ep02': 2468,\n",
              " 'Naam Shabana': 2467,\n",
              " 'Lagu Didi & Friends S1 Ep11': 2455,\n",
              " 'Lagu Didi & Friends S1 Ep05': 2454,\n",
              " 'Lagu Didi & Friends S1 Ep01': 2452,\n",
              " 'Polis Evo 3': 2451,\n",
              " 'News': 2437,\n",
              " 'Karthigai Deepam': 2429,\n",
              " 'Lagu Didi & Friends S1 Ep13': 2414,\n",
              " 'Lagu Didi & Friends S1 Ep12': 2412,\n",
              " 'The Love You Give Me': 2402,\n",
              " 'Minions': 2396,\n",
              " 'Lagu Didi & Friends S1 Ep10': 2396,\n",
              " 'Outbound Love': 2391,\n",
              " 'FBI': 2382,\n",
              " 'Lagu Didi & Friends S2 Ep02': 2378,\n",
              " 'Lagu Didi & Friends S2 Ep03': 2377,\n",
              " 'Damayanthi': 2374,\n",
              " '(L) Bundesliga : Bayern Vs Augsburg': 2362,\n",
              " 'Lagu Didi & Friends S1 Ep15': 2359,\n",
              " 'MW3: Chelsea vs Luton Town': 2348,\n",
              " 'Lagu Didi & Friends S1 Ep14': 2340,\n",
              " 'Tamizha Tamizha': 2337,\n",
              " 'Lagu Didi & Friends S1 Ep16': 2327,\n",
              " 'Berita Mandarin': 2326,\n",
              " 'Ghost of Relativity': 2323,\n",
              " 'Ultraman Zero: The Chronicle': 2318,\n",
              " 'BoBoiBoy Movie': 2304,\n",
              " 'Lagu Didi & Friends S1 Ep17': 2299,\n",
              " 'Lagu Didi & Friends S2 Ep04': 2295,\n",
              " 'Lagu Didi & Friends S2 Ep05': 2295,\n",
              " 'Leftenan Adnan': 2294,\n",
              " 'Lagu Didi & Friends S2 Ep12': 2277,\n",
              " 'Budak Hostel Otaknya Sewel': 2271,\n",
              " 'Lagu Didi & Friends S1 Ep23': 2269,\n",
              " 'Lagu Didi & Friends S2 Ep08': 2268,\n",
              " 'Lagu Didi & Friends S2 Ep07': 2264,\n",
              " 'Pendekar Bujang Lapok': 2260,\n",
              " 'Lagu Didi & Friends S2 Ep09': 2257,\n",
              " 'Lagu Didi & Friends S2 Ep01': 2248,\n",
              " 'Lagu Didi & Friends S1 Ep21': 2231,\n",
              " 'Entertainment News': 2223,\n",
              " 'Lagu Didi & Friends S2 Ep06': 2221,\n",
              " 'Lagu Didi & Friends S1 Ep18': 2220,\n",
              " 'Lagu Didi & Friends S1 Ep24': 2218,\n",
              " 'Lagu Didi & Friends S1 Ep19': 2218,\n",
              " 'Lagu Didi & Friends S3 Ep01': 2217,\n",
              " 'Lagu Didi & Friends S1 Ep20': 2213,\n",
              " 'Lagu Didi & Friends S3 Ep02': 2207,\n",
              " 'Lagu Didi & Friends S1 Ep22': 2206,\n",
              " 'Two Days and One Night': 2199,\n",
              " 'Sabhaapathy': 2188,\n",
              " 'Narcotics Heroes Ep18': 2185,\n",
              " 'Lagu Didi & Friends S3 Ep05': 2185,\n",
              " 'Budak Hostel Otaknya Sewel Ep01': 2182,\n",
              " 'PL: Man Utd vs Nottm Forest': 2177,\n",
              " 'Kayal': 2176,\n",
              " 'Ultraman Blazar Ep08': 2168,\n",
              " 'Goyang Upin & Ipin': 2167,\n",
              " 'Lagu Didi & Friends S3 Ep07': 2165,\n",
              " 'Berita Wilayah': 2165,\n",
              " 'Lagu Didi & Friends S2 Ep13': 2161,\n",
              " 'Lagu Didi & Friends S2 Ep11': 2160,\n",
              " 'Top Gun: Maverick': 2160,\n",
              " 'Lagu Didi & Friends S3 Ep03': 2156,\n",
              " 'Gods of Honour': 2155,\n",
              " 'Lagu Didi & Friends S2 Ep14': 2150,\n",
              " 'Lagu Didi & Friends S3 Ep06': 2142,\n",
              " 'Lagu Didi & Friends S3 Ep04': 2142,\n",
              " 'Lagu Didi & Friends S2 Ep16': 2142,\n",
              " 'Lagu Didi & Friends S2 Ep19': 2130,\n",
              " 'Lagu Didi & Friends S2 Ep17': 2129,\n",
              " 'Unforgettable': 2121,\n",
              " '(L) TOUR Championship Day 3': 2114,\n",
              " 'Lagu Didi & Friends S3 Ep09': 2114,\n",
              " 'Lagu Didi & Friends S2 Ep18': 2113,\n",
              " 'Lagu Didi & Friends S3 Ep10': 2107,\n",
              " 'Budak Hostel Otaknya Sewel Ep13': 2107,\n",
              " 'Latest Hits': 2096,\n",
              " 'Lagu Didi & Friends S2 Ep10': 2091,\n",
              " 'Buletin Pagi': 2088,\n",
              " 'Lagu Didi & Friends S2 Ep20': 2085,\n",
              " 'Lagu Didi & Friends S2 Ep15': 2075,\n",
              " 'Anbe Vaa': 2074,\n",
              " 'Lagu Didi & Friends S1 Ep25': 2073,\n",
              " 'Lagu Didi & Friends S3 Ep08': 2071,\n",
              " 'Iniya': 2071,\n",
              " 'Overachievers': 2050,\n",
              " '(L) MPL MY': 2049,\n",
              " 'Muzik - Muzik 38': 2048,\n",
              " 'Lagu Didi & Friends S3 Ep11': 2028,\n",
              " 'Lagu Didi & Friends S4 Ep07': 2022,\n",
              " 'Berita Terkini': 2020,\n",
              " 'Koorman': 2019,\n",
              " 'Upin & Ipin S16 Ep27': 2015,\n",
              " 'Lagu Didi & Friends S3 Ep12': 2015,\n",
              " '2023 US Open Tennis Championships': 2015,\n",
              " 'Aelay': 2014,\n",
              " 'Tanah Kubur Fitnah Akhir Zaman': 2004,\n",
              " 'Lagu Didi & Friends S4 Ep08': 2002,\n",
              " 'FBI: International': 2001,\n",
              " 'News on the Hour': 1999,\n",
              " 'Upin & Ipin S16 Ep28': 1997,\n",
              " 'Varma': 1994,\n",
              " 'Upin & Ipin S16 Ep29': 1990,\n",
              " 'Lagu Didi & Friends S3 Ep14': 1989,\n",
              " 'Sepahtu Reunion Live S8 Ep05': 1981,\n",
              " 'Tanah Kubur Siri 16': 1978,\n",
              " 'Upin & Ipin S16 Ep07': 1977,\n",
              " 'Lagu Didi & Friends S3 Ep17': 1974,\n",
              " 'Upin & Ipin S16 Ep01': 1974,\n",
              " 'Lagu Didi & Friends S3 Ep19': 1971,\n",
              " 'Lagu Didi & Friends S3 Ep18': 1971,\n",
              " 'YO-KAI Academy Y Ep03': 1970,\n",
              " 'Mysterious Lotus Casebook': 1970,\n",
              " 'Lagu Didi & Friends S3 Ep13': 1968,\n",
              " 'Rookie Blue': 1964,\n",
              " 'Lagu Didi & Friends S4 Ep10': 1964,\n",
              " 'Lagu Didi & Friends S4 Ep11': 1962,\n",
              " 'Lagu Didi & Friends S4 Ep01': 1958,\n",
              " 'Kadhalan': 1958,\n",
              " 'Kulasami': 1957,\n",
              " 'Lagu Didi & Friends S3 Ep15': 1956,\n",
              " 'My One and Only': 1952,\n",
              " 'Upin & Ipin S16 Ep06': 1951,\n",
              " 'Jay Jay': 1945,\n",
              " 'Cinta Amnesia': 1945,\n",
              " 'Tanyalah Ustaz': 1942,\n",
              " 'Upin & Ipin S16 Ep09': 1938,\n",
              " 'Lagu Didi & Friends S3 Ep21': 1934,\n",
              " 'Thavamai Thavamirundhu': 1932,\n",
              " 'Upin & Ipin S16 Ep05': 1928,\n",
              " 'Mbuzz': 1925,\n",
              " 'Evening Show': 1924,\n",
              " 'Lagu Didi & Friends S3 Ep16': 1923,\n",
              " 'Upin & Ipin S16 Ep40': 1921,\n",
              " 'Lagu Didi & Friends S3 Ep32': 1919,\n",
              " 'Lagu Didi & Friends S4 Ep09': 1916,\n",
              " 'Lagu Didi & Friends S3 Ep22': 1914,\n",
              " 'Lagu Didi & Friends S3 Ep20': 1910,\n",
              " 'Fast X [Extended Preview]': 1907,\n",
              " 'Manchester City vs Arsenal': 1905,\n",
              " 'Miss Hong Kong Pageant 2023': 1902,\n",
              " 'Upin & Ipin S16 Ep22': 1902,\n",
              " 'YO-KAI Academy Y Ep02': 1902,\n",
              " 'Lagu Didi & Friends S4 Ep04': 1900,\n",
              " 'Upin & Ipin S16 Ep08': 1897,\n",
              " 'Upin & Ipin S16 Ep04': 1893,\n",
              " 'Lagu Didi & Friends S4 Ep14': 1893,\n",
              " 'Spider-Man: Homecoming': 1892,\n",
              " 'Upin & Ipin S16 Ep03': 1889,\n",
              " 'Lagu Didi & Friends S4 Ep12': 1888,\n",
              " 'The Guardians': 1887,\n",
              " 'Lagu Didi & Friends S4 Ep17': 1881,\n",
              " 'Lagu Didi & Friends S4 Ep06': 1880,\n",
              " 'Pasumpon': 1878,\n",
              " 'Lagu Didi & Friends S3 Ep29': 1876,\n",
              " 'PL: Newcastle vs Liverpool': 1876,\n",
              " 'Sudirman... Abadi Di Hati': 1875,\n",
              " 'Upin & Ipin S16 Ep24': 1874,\n",
              " 'Lagu Didi & Friends S3 Ep27': 1872,\n",
              " 'Lagu Didi & Friends S3 Ep23': 1864,\n",
              " 'Upin & Ipin S16 Ep41': 1862,\n",
              " 'Choice Husband': 1861,\n",
              " 'Lagu Didi & Friends S4 Ep02': 1860,\n",
              " 'Maharaja Lawak Mega 2016': 1860,\n",
              " 'Lagu Didi & Friends S3 Ep33': 1860,\n",
              " 'Upin & Ipin S16 Ep25': 1859,\n",
              " 'Upin & Ipin S16 Ep21': 1858,\n",
              " 'Upin & Ipin S16 Ep31': 1858,\n",
              " 'Lagu Didi & Friends S3 Ep25': 1849,\n",
              " 'Upin & Ipin S16 Ep10': 1848,\n",
              " 'Lagu Didi & Friends S3 Ep37': 1848,\n",
              " 'Upin & Ipin S16 Ep19': 1846,\n",
              " 'Scoop 2023': 1842,\n",
              " 'Lagu Didi & Friends S3 Ep35': 1839,\n",
              " 'Thiruttu Raja': 1836,\n",
              " 'Upin & Ipin S16 Ep26': 1836,\n",
              " 'Lagu Didi & Friends S4 Ep15': 1836,\n",
              " 'Lagu Didi & Friends S3 Ep24': 1835,\n",
              " 'Laabam': 1834,\n",
              " 'Lagu Didi & Friends S3 Ep36': 1832,\n",
              " 'Upin & Ipin S16 Ep36': 1827,\n",
              " 'Indahnya Iman': 1827,\n",
              " 'Upin & Ipin S16 Ep12': 1825,\n",
              " 'Upin & Ipin S16 Ep39': 1823,\n",
              " 'Upin & Ipin S16 Ep42': 1822,\n",
              " 'Lagu Didi & Friends S3 Ep26': 1818,\n",
              " 'Upin & Ipin S16 Ep18': 1818,\n",
              " 'Kondraal Paavam': 1818,\n",
              " 'Bekaaboo': 1817,\n",
              " '(L) PL: Man Utd vs Nottm Forest': 1816,\n",
              " 'Narcotics Heroes Ep17': 1815,\n",
              " 'Lagu Didi & Friends S3 Ep28': 1813,\n",
              " 'Upin & Ipin S16 Ep38': 1813,\n",
              " 'Upin & Ipin S16 Ep23': 1812,\n",
              " 'Upin & Ipin S4 Ep01': 1811,\n",
              " 'Lagu Didi & Friends S3 Ep30': 1809,\n",
              " 'Upin & Ipin S16 Ep13': 1806,\n",
              " 'Lagu Didi & Friends S3 Ep31': 1804,\n",
              " 'Upin & Ipin S16 Ep20': 1803,\n",
              " 'Lagu Didi & Friends S4 Ep16': 1799,\n",
              " 'Upin & Ipin S16 Ep34': 1799,\n",
              " 'Lagu Didi & Friends S4 Ep18': 1798,\n",
              " 'Lagu Didi & Friends S4 Ep22': 1797,\n",
              " 'Suri Hati': 1797,\n",
              " 'Lagu Didi & Friends S3 Ep34': 1797,\n",
              " 'Priyamana Thozhi': 1795,\n",
              " 'Upin & Ipin S16 Ep11': 1794,\n",
              " 'Lagu Didi & Friends S4 Ep23': 1793,\n",
              " 'Upin & Ipin S16 Ep30': 1792,\n",
              " 'Wang Kelian - The Forgotten Valley': 1790,\n",
              " 'Upin & Ipin S16 Ep32': 1787,\n",
              " 'Lagu Didi & Friends S4 Ep19': 1787,\n",
              " 'Upin & Ipin S16 Ep35': 1785,\n",
              " 'Upin & Ipin S16 Ep02': 1784,\n",
              " 'Lagu Didi & Friends S4 Ep13': 1777,\n",
              " 'Transformers': 1777,\n",
              " 'Luxe Show': 1777,\n",
              " 'Lagu Didi & Friends S4 Ep20': 1772,\n",
              " 'My Pet My Angel Ep20': 1771,\n",
              " 'Upin & Ipin S16 Ep33': 1770,\n",
              " 'Lagu Didi & Friends S5 Ep02': 1770,\n",
              " 'Upin & Ipin S16 Ep14': 1769,\n",
              " 'YO-KAI Academy Y Ep01': 1767,\n",
              " 'Lagu Didi & Friends S4 Ep24': 1765,\n",
              " 'Upin & Ipin S16 Ep16': 1762,\n",
              " 'Snow Eagle Lord': 1762,\n",
              " 'Business Talk': 1761,\n",
              " 'Lagu Didi & Friends S3 Ep39': 1753,\n",
              " 'AWANI Ringkas': 1752,\n",
              " 'Upin & Ipin S16 Ep37': 1750,\n",
              " 'Lagu Didi & Friends S5 Ep01': 1748,\n",
              " 'Lagu Didi & Friends S3 Ep38': 1743,\n",
              " 'Lagu Didi & Friends S4 Ep21': 1736,\n",
              " 'The Foreigner': 1732,\n",
              " 'Sepahtu Reunion Live S8 Ep01': 1729,\n",
              " 'Cold Blooded Intern Ep05': 1728,\n",
              " 'Seetha Raman': 1726,\n",
              " 'Lagu Didi & Friends S4 Ep26': 1723,\n",
              " 'Gajen': 1703,\n",
              " 'Lagu Didi & Friends S5 Ep03': 1698,\n",
              " 'Lagu Didi & Friends S4 Ep31': 1696,\n",
              " 'Lagu Didi & Friends S4 Ep28': 1693,\n",
              " 'Upin & Ipin S16 Ep17': 1692,\n",
              " \"Ocean's Twelve\": 1690,\n",
              " 'Ethir Neechal': 1686,\n",
              " 'Naanum Single Thaan': 1685,\n",
              " 'Lagu Didi & Friends S4 Ep30': 1682,\n",
              " '(L) AWANI 7:45/ Sinar AWANI': 1678,\n",
              " 'Paandavar Illam': 1676,\n",
              " 'Vaara Rasipalan': 1675,\n",
              " 'World Athletics Championships 2023': 1672,\n",
              " 'Lagu Didi & Friends S4 Ep29': 1668,\n",
              " 'Lagu Didi & Friends S5 Ep07': 1666,\n",
              " 'Upin & Ipin S16 Ep15': 1665,\n",
              " 'Lagu Didi & Friends S4 Ep25': 1664,\n",
              " 'Lagu Didi & Friends S4 Ep32': 1663,\n",
              " 'Lagu Didi & Friends S4 Ep35': 1660,\n",
              " 'Maari': 1659,\n",
              " 'WWE Raw 2023 Episode 34': 1659,\n",
              " 'Lagu Didi & Friends S4 Ep34': 1658,\n",
              " '2023 Sing! China': 1654,\n",
              " 'Lagu Didi & Friends S4 Ep33': 1654,\n",
              " 'Lagu Didi & Friends S5 Ep05': 1651,\n",
              " 'SpongeBob SquarePants Marathon': 1649,\n",
              " 'Lagu Didi & Friends S4 Ep27': 1645,\n",
              " 'Kannae Kalaimaanae': 1644,\n",
              " 'Lagu Didi & Friends S5 Ep04': 1638,\n",
              " 'The Delta Force': 1637,\n",
              " 'Lagu Didi & Friends S4 Ep37': 1636,\n",
              " 'Ratu Ten Pin': 1636,\n",
              " 'Lagu Didi & Friends S4 Ep38': 1635,\n",
              " 'Lagu Didi & Friends S5 Ep06': 1632,\n",
              " 'Real Men Malaysia: Wira Merah Ep04': 1631,\n",
              " \"Doraemon the Movie: Nobita's Chronicle of the Moon Exploration\": 1629,\n",
              " 'S.W.A.T.': 1616,\n",
              " 'Lagu Didi & Friends S5 Ep15': 1609,\n",
              " 'MasterChef Australia S15 Ep40': 1608,\n",
              " 'Lagu Didi & Friends S5 Ep08': 1606,\n",
              " 'Lagu Didi & Friends S4 Ep41': 1604,\n",
              " 'Scene Oda Pattu': 1602,\n",
              " 'Lagu Didi & Friends S4 Ep39': 1601,\n",
              " 'Lagu Didi & Friends S4 Ep40': 1598,\n",
              " \"Doraemon the Movie: Nobita's new dinosaur\": 1597,\n",
              " 'Iblis Dalam Kandungan': 1596,\n",
              " 'The Rookie': 1595,\n",
              " 'Lagu Didi & Friends S5 Ep16': 1588,\n",
              " 'Happiness Giver': 1588,\n",
              " 'Midday Mandarin New': 1584,\n",
              " 'Lagu Didi & Friends S5 Ep09': 1583,\n",
              " 'Sepahtu Reunion Live S8 Ep04': 1583,\n",
              " 'Lagu Didi & Friends S4 Ep36': 1577,\n",
              " 'Lagu Didi & Friends S5 Ep11': 1576,\n",
              " 'Moonfall': 1575,\n",
              " 'Lagu Didi & Friends S5 Ep14': 1569,\n",
              " 'Lagu Didi & Friends S5 Ep13': 1565,\n",
              " 'Lagu Didi & Friends S5 Ep10': 1562,\n",
              " 'Lagu Didi & Friends S4 Ep42': 1561,\n",
              " 'Lagu Didi & Friends S4 Ep45': 1560,\n",
              " 'Vidiyatha Iravondru Vendum': 1560,\n",
              " 'Narcotics Heroes Ep16': 1559,\n",
              " 'Pyaar Ke Saat Vachan Dharam Patni': 1557,\n",
              " 'Ultraman Z': 1553,\n",
              " 'Omar & Hana S2 Ep01': 1548,\n",
              " 'Panas Talk Uncut: Gayathri Ep13': 1545,\n",
              " 'DramaVaganza: Rindu Yang Terlarang': 1543,\n",
              " 'Lagu Didi & Friends S5 Ep37': 1540,\n",
              " 'Hole In The Wall': 1539,\n",
              " 'Lagu Didi & Friends S4 Ep43': 1536,\n",
              " 'Wira': 1535,\n",
              " 'Puss in Boots: the Last Wish': 1534,\n",
              " 'WWE Smackdown 2023 Ep34': 1532,\n",
              " 'Lagu Didi & Friends S5 Ep19': 1531,\n",
              " 'Tayo The Little Bus': 1529,\n",
              " 'Shiv Shakti': 1527,\n",
              " 'WWE Smackdown 2023': 1524,\n",
              " \"Lepak@Les'Copaque (Pada Zaman Dahulu\": 1523,\n",
              " 'Budak Hostel Otaknya Sewel Ep12': 1523,\n",
              " 'Lagu Didi & Friends S5 Ep12': 1521,\n",
              " 'Lagu Didi & Friends S5 Ep17': 1519,\n",
              " 'Lagu Didi & Friends S5 Ep18': 1508,\n",
              " 'Matinee Show': 1506,\n",
              " 'Anandha Ragam': 1499,\n",
              " 'Bharat': 1499,\n",
              " 'Lagu Didi & Friends S4 Ep46': 1499,\n",
              " 'Family Feud Tamil': 1489,\n",
              " 'Saamy Square': 1480,\n",
              " 'Lagu Didi & Friends S4 Ep47': 1476,\n",
              " 'Lagu Didi & Friends S4 Ep44': 1476,\n",
              " 'Bisik Pada Langit': 1473,\n",
              " 'Lagu Didi & Friends S5 Ep26': 1471,\n",
              " 'Lagu Didi & Friends S5 Ep20': 1470,\n",
              " 'Lagu Didi & Friends S5 Ep24': 1469,\n",
              " 'Lagu Didi & Friends S5 Ep21': 1463,\n",
              " 'Lagu Didi & Friends S5 Ep25': 1463,\n",
              " 'Mysteries of the Mekong': 1458,\n",
              " 'Pishachini': 1458,\n",
              " 'Good Night': 1458,\n",
              " 'Lagu Didi & Friends S5 Ep29': 1456,\n",
              " 'China News': 1455,\n",
              " 'The Eggies Ep01': 1454,\n",
              " 'Lagu Didi & Friends S5 Ep28': 1453,\n",
              " 'Lagu Didi & Friends S5 Ep27': 1445,\n",
              " 'Lagu Didi & Friends S5 Ep23': 1443,\n",
              " 'Budak Hostel Otaknya Sewel Ep02': 1439,\n",
              " 'Lagu Didi & Friends S5 Ep35': 1437,\n",
              " 'Dharma Chakra': 1437,\n",
              " 'Lagu Didi & Friends S5 Ep22': 1436,\n",
              " '(L) Go Shop': 1436,\n",
              " 'Tayangan Perdana Rahsia': 1435,\n",
              " 'Mechamato': 1434,\n",
              " 'Kannodu Kanbathellam': 1434,\n",
              " 'Non Stop Hits': 1432,\n",
              " 'Lagu Didi & Friends S5 Ep36': 1429,\n",
              " 'Budak Hostel Otaknya Sewel Ep11': 1429,\n",
              " 'Lagu Didi & Friends S5 Ep47': 1428,\n",
              " 'Lagu Didi & Friends S5 Ep30': 1424,\n",
              " 'Bukan Cinta Sempurna Ep19': 1422,\n",
              " 'BBC News': 1421,\n",
              " 'Lagu Didi & Friends S5 Ep31': 1419,\n",
              " 'Berita Perdana': 1416,\n",
              " 'Cinta yang Tak Sederhana': 1413,\n",
              " 'Indira': 1410,\n",
              " 'When The Night Falls-The Story of Wang Lei': 1409,\n",
              " 'Lagu Didi & Friends S5 Ep43': 1406,\n",
              " 'New Doraemon Ep302': 1405,\n",
              " 'Lagu Didi & Friends S5 Ep41': 1403,\n",
              " 'LS 21 2023: Kedah Darul Aman lwn JDT': 1403,\n",
              " 'Lagu Didi & Friends S5 Ep38': 1402,\n",
              " 'Sepahtu Reunion LIVE 2020': 1401,\n",
              " 'Idhu Enna Maayam': 1400,\n",
              " '(L) FIBA: Greece vs United States': 1397,\n",
              " 'Lagu Didi & Friends S5 Ep33': 1396,\n",
              " 'Misteri Mona': 1393,\n",
              " 'Jalan Jalan Cari Makan': 1390,\n",
              " 'Upin & Ipin S4 Ep02': 1387,\n",
              " 'Lagu Didi & Friends S5 Ep39': 1386,\n",
              " 'Sepahtu Reunion Live S8 Ep02': 1375,\n",
              " 'Lagu Didi & Friends S5 Ep34': 1374,\n",
              " 'Lagu Didi & Friends S5 Ep48': 1374,\n",
              " 'Perfect Match 2023': 1373,\n",
              " \"Back to 90's\": 1373,\n",
              " 'Kalathil Santhippom': 1370,\n",
              " 'New Doraemon Ep303': 1369,\n",
              " 'Unnaipol Oruvan': 1368,\n",
              " 'Lagu Didi & Friends S5 Ep42': 1366,\n",
              " 'The Losers': 1364,\n",
              " 'Badanamu Kids Karaoke S1 Ep001': 1363,\n",
              " 'Ilakkiya': 1362,\n",
              " 'Lagu Didi & Friends S5 Ep32': 1358,\n",
              " 'Lagu Didi & Friends S5 Ep44': 1357,\n",
              " 'Lagu Didi & Friends S5 Ep45': 1354,\n",
              " 'Asia Now': 1353,\n",
              " 'Ola Bola': 1350,\n",
              " '(L) Cycling: La Vuelta 2023': 1349,\n",
              " 'Lagu Didi & Friends S5 Ep40': 1347,\n",
              " 'Lagu Didi & Friends S5 Ep46': 1344,\n",
              " 'Didi & Friends Rescue Squad': 1343,\n",
              " 'Didi & Friends S3(Eh Wau Bulan)': 1342,\n",
              " 'MSL 2023: KDA lwn JDT': 1337,\n",
              " 'All Together Now Malaysia Akhir': 1335,\n",
              " 'Sampai Mati Kuala Lumpur': 1335,\n",
              " 'Padayappa': 1331,\n",
              " 'Agenda Awani': 1324,\n",
              " 'Bersamamu': 1319,\n",
              " 'Top 20 Funniest': 1318,\n",
              " 'The Flash S1 Ep01': 1313,\n",
              " 'Peranbu': 1310,\n",
              " 'Omar & Hana S2 Ep03': 1310,\n",
              " 'Bawah Blok': 1310,\n",
              " 'Tentang Ogos': 1308,\n",
              " 'Gol & Gincu Vol. 2': 1307,\n",
              " 'Sandakozhi': 1307,\n",
              " 'Upin & Ipin S15 Ep34': 1305,\n",
              " 'Citra Exclusive: Kampung Kuala Lambat': 1303,\n",
              " '(L) Nadi Arena': 1301,\n",
              " 'Cerita-cerita Didi & Friends': 1296,\n",
              " 'MW3: Brighton & Hove Albion vs West Ham United': 1294,\n",
              " 'Peppa Pig': 1292,\n",
              " 'Omar & Hana S1 Ep01': 1291,\n",
              " 'Paw Patrol: The Movie': 1291,\n",
              " 'Meenakshi Ponnunga': 1287,\n",
              " 'Budak Hostel Otaknya Sewel Ep10': 1284,\n",
              " 'CSI: Miami': 1280,\n",
              " 'Ruler (TG)': 1279,\n",
              " 'CSI: Crime Scene Investigation': 1273,\n",
              " 'MW3: Manchester United vs Nottingham Forest (IVP Pinning)': 1272,\n",
              " 'Budak Hostel Otaknya Sewel Ep03': 1271,\n",
              " '(L) Selamat Pagi Malaysia': 1271,\n",
              " 'Omar & Hana S2 Ep02': 1271,\n",
              " 'Teen Titans Go!': 1270,\n",
              " 'Warung Sepahtu': 1269,\n",
              " 'Bukit Kepong': 1268,\n",
              " 'Malaysia Hari Ini': 1262,\n",
              " 'Cold Blooded Intern Ep06': 1261,\n",
              " 'Wanita Hari Ini': 1261,\n",
              " 'Omar & Hana S1 Ep02': 1259,\n",
              " 'NCIS: Los Angeles': 1259,\n",
              " 'Upin & Ipin S15 Ep20': 1253,\n",
              " 'Upin & Ipin S4 Ep04': 1251,\n",
              " 'PAW Patrol': 1251,\n",
              " 'Omar & Hana S3 Ep01': 1249,\n",
              " 'Stand by Me Doraemon 2': 1249,\n",
              " 'Omar & Hana S3 Ep02': 1248,\n",
              " 'Papa Pipi Shorts Ep01': 1244,\n",
              " 'Omar & Hana S1 Ep10': 1244,\n",
              " 'Omar & Hana S1 Ep07': 1241,\n",
              " 'Project: High Council Ep01': 1240,\n",
              " 'Special Show': 1239,\n",
              " 'Omar & Hana S1 Ep08': 1238,\n",
              " 'Upin & Ipin S4 Ep03': 1237,\n",
              " 'Omar & Hana S1 Ep06': 1234,\n",
              " 'Axian Small Town Foodcation': 1233,\n",
              " 'Omar & Hana S1 Ep04': 1232,\n",
              " 'Sembilu 2005': 1232,\n",
              " 'Jumanji: Welcome to the Jungle': 1230,\n",
              " 'Queen': 1229,\n",
              " 'Badanamu Kids Karaoke S1 Ep002': 1229,\n",
              " 'Upin & Ipin S15 Ep21': 1226,\n",
              " 'Upin & Ipin S15 Ep36': 1223,\n",
              " 'Young Guns II': 1223,\n",
              " 'Upin & Ipin S15 Ep19': 1222,\n",
              " 'Mr. Cinderella': 1221,\n",
              " 'Omar & Hana S1 Ep05': 1218,\n",
              " 'Vaanathai Pola': 1215,\n",
              " '(L)Miss Hong Kong Pageant 2023 AfterShow': 1215,\n",
              " 'Upin & Ipin S4 Ep10': 1213,\n",
              " 'Omar & Hana S1 Ep14': 1211,\n",
              " 'Upin & Ipin S15 Ep28': 1209,\n",
              " 'Omar & Hana S1 Ep09': 1209,\n",
              " 'Bukan Cinta Sempurna Ep01': 1206,\n",
              " 'Mr. Manaivi': 1205,\n",
              " 'Upin & Ipin S4 Ep05': 1204,\n",
              " 'Panggilan Agung Maghrib': 1203,\n",
              " 'Budak Hostel Otaknya Sewel Ep04': 1203,\n",
              " 'Omar & Hana S3 Ep21': 1202,\n",
              " 'Omar & Hana S3 Ep03': 1200,\n",
              " 'Buletin TV9': 1198,\n",
              " 'Phoenix Weather Forecast': 1193,\n",
              " 'Omar & Hana S3 Ep04': 1193,\n",
              " 'Upin & Ipin S15 Ep27': 1192,\n",
              " 'Omar & Hana S3 Ep05': 1191,\n",
              " 'Udaariyaan': 1190,\n",
              " 'MasterChef Australia S15 Ep39': 1188,\n",
              " 'Pasta': 1187,\n",
              " 'Budak Hostel Otaknya Sewel Ep09': 1187,\n",
              " 'MeleTOP': 1180,\n",
              " 'Omar & Hana S1 Ep12': 1179,\n",
              " 'Upin & Ipin S15 Ep35': 1178,\n",
              " 'Omar & Hana S1 Ep16': 1174,\n",
              " '(L) Nindia': 1173,\n",
              " 'VENOM': 1172,\n",
              " 'Upin & Ipin S15 Ep23': 1170,\n",
              " 'Helo Doktor': 1169,\n",
              " 'Omar & Hana S2 Ep11': 1169,\n",
              " 'Omar & Hana S1 Ep20': 1161,\n",
              " 'Her World': 1161,\n",
              " 'Shiddat': 1161,\n",
              " 'Selfie': 1159,\n",
              " 'Omar & Hana S1 Ep13': 1156,\n",
              " 'Badanamu Kids Karaoke S1 Ep006': 1156,\n",
              " 'Omar & Hana S3 Ep07': 1155,\n",
              " 'American Ninja Warrior Junior': 1152,\n",
              " 'Family Feud Malaysia Merdeka Special': 1150,\n",
              " 'Upin & Ipin S15 Ep26': 1150,\n",
              " 'Omar & Hana S3 Ep08': 1148,\n",
              " 'Omar & Hana S2 Ep08': 1147,\n",
              " 'Upin & Ipin S4 Ep06': 1147,\n",
              " 'BWF World Championships: Round of 64': 1146,\n",
              " 'American Made': 1145,\n",
              " 'Omar & Hana S3 Ep14': 1143,\n",
              " 'Omar & Hana S2 Ep06': 1141,\n",
              " 'Maanbumigu Marumagan': 1140,\n",
              " 'M4M4': 1140,\n",
              " 'Upin & Ipin S15 Ep22': 1139,\n",
              " 'Upin & Ipin S15 Ep25': 1139,\n",
              " 'Omar & Hana S1 Ep11': 1139,\n",
              " 'Dabangg 3': 1138,\n",
              " 'Aruvi': 1138,\n",
              " 'Upin & Ipin S4 Ep15': 1137,\n",
              " 'New Doraemon Ep079': 1137,\n",
              " \"Jason's Daily Eats\": 1135,\n",
              " 'Kanaa': 1135,\n",
              " 'Omar & Hana S2 Ep05': 1135,\n",
              " 'Berita Alhijrah (L)': 1134,\n",
              " 'Super Wings 6: World Guardians': 1134,\n",
              " 'Upin & Ipin S15 Ep12': 1134,\n",
              " 'Aladin': 1133,\n",
              " 'Berita Tengah Hari': 1133,\n",
              " 'Omar & Hana S3 Ep15': 1132,\n",
              " 'Upin & Ipin S15 Ep31': 1131,\n",
              " 'Omar & Hana S1 Ep17': 1131,\n",
              " 'Gatta Kusti': 1130,\n",
              " 'Omar & Hana S3 Ep06': 1130,\n",
              " 'Omar & Hana S3 Ep13': 1129,\n",
              " 'Upin & Ipin S15 Ep33': 1129,\n",
              " 'Sepahtu Reunion Live S8 Ep03': 1128,\n",
              " 'Upin & Ipin S15 Ep16': 1127,\n",
              " 'Upin & Ipin S15 Ep24': 1126,\n",
              " 'Omar & Hana S3 Ep11': 1126,\n",
              " 'Parineeti': 1125,\n",
              " 'Pada (ML)': 1125,\n",
              " 'A Guilty Conscience': 1125,\n",
              " 'Superhit Iravukaatchi': 1124,\n",
              " 'Upin & Ipin S4 Ep07': 1122,\n",
              " 'Badanamu Kids Karaoke S1 Ep003': 1122,\n",
              " 'D3': 1122,\n",
              " 'Omar & Hana S2 Ep04': 1120,\n",
              " \"Where's Chicky? S2 Ep01\": 1118,\n",
              " 'Papa Pipi Ep17': 1116,\n",
              " 'Omar & Hana S1 Ep15': 1116,\n",
              " 'Tournament of Champions': 1115,\n",
              " 'Giant Snake Events in Yellow River': 1115,\n",
              " 'Upin & Ipin S15 Ep29': 1113,\n",
              " 'Badanamu Kids Karaoke S1 Ep010': 1113,\n",
              " 'Click': 1113,\n",
              " 'The World Today': 1113,\n",
              " 'Budak Hostel Otaknya Sewel Ep07': 1113,\n",
              " '(L) FIBA: Japan vs Finland': 1112,\n",
              " 'Katuri': 1111,\n",
              " 'Omar & Hana S1 Ep18': 1110,\n",
              " 'Narcotics Heroes Ep15': 1109,\n",
              " 'Sepahtu Reunion Live 2017': 1108,\n",
              " 'Omar & Hana S1 Ep22': 1108,\n",
              " 'Omar & Hana S1 Ep23': 1108,\n",
              " 'Papa Pipi Ep24': 1108,\n",
              " 'Law & Order Special Victims Unit': 1106,\n",
              " 'Despicable Me 2': 1106,\n",
              " 'Kuruthi Aattam': 1105,\n",
              " 'Upin & Ipin S15 Ep17': 1105,\n",
              " 'Upin & Ipin S4 Ep08': 1104,\n",
              " 'Papa Pipi Shorts Ep08': 1103,\n",
              " 'Grown Ups': 1103,\n",
              " 'Papa Pipi Ep22': 1102,\n",
              " 'Budak Hostel Otaknya Sewel Ep05': 1102,\n",
              " 'Papa Pipi Shorts Ep09': 1101,\n",
              " 'Bayang': 1100,\n",
              " 'Omar & Hana S2 Ep14': 1099,\n",
              " 'The Return of Superman': 1099,\n",
              " 'Badanamu Kids Karaoke S1 Ep005': 1099,\n",
              " 'Omar & Hana S1 Ep19': 1099,\n",
              " 'Kaththi': 1097,\n",
              " 'Yaathisai': 1097,\n",
              " 'Papa Pipi Ep19': 1096,\n",
              " 'Badanamu Kids Karaoke S1 Ep008': 1093,\n",
              " 'SpongeBob SquarePants': 1093,\n",
              " 'Omar & Hana S3 Ep16': 1093,\n",
              " 'Papa Pipi Ep18': 1093,\n",
              " 'Upin & Ipin S4 Ep09': 1092,\n",
              " 'Evening Edition 27/08/2023': 1088,\n",
              " 'Papa Pipi Shorts Ep04': 1088,\n",
              " 'Narcotics Heroes Ep01': 1088,\n",
              " 'Upin & Ipin S15 Ep18': 1087,\n",
              " 'Omar & Hana S2 Ep09': 1086,\n",
              " 'Sixth Sense 3': 1086,\n",
              " 'Papa Pipi Shorts Ep07': 1086,\n",
              " 'Omar & Hana S3 Ep09': 1085,\n",
              " 'Omar & Hana S2 Ep10': 1085,\n",
              " 'Omar & Hana S3 Ep12': 1082,\n",
              " 'Papa Pipi Ep23': 1081,\n",
              " 'Saudi League: Al Fateh Vs Al Nassr': 1080,\n",
              " 'Omar & Hana S2 Ep07': 1080,\n",
              " 'Perempuan Paling Bahagia': 1078,\n",
              " 'Papa Pipi Shorts Ep06': 1078,\n",
              " 'Upin & Ipin S15 Ep30': 1077,\n",
              " 'Omar & Hana S3 Ep10': 1075,\n",
              " 'Papa Pipi Shorts Ep05': 1075,\n",
              " 'La Diva Laressa': 1075,\n",
              " 'Omar & Hana S2 Ep15': 1074,\n",
              " 'Papa Pipi Shorts Ep02': 1074,\n",
              " 'Cinta Yang Tertangguh': 1072,\n",
              " 'Longing for You': 1071,\n",
              " 'Upin & Ipin S4 Ep13': 1070,\n",
              " 'Papa Pipi Ep16': 1069,\n",
              " 'Upin & Ipin S15 Ep15': 1069,\n",
              " 'Omar & Hana S3 Ep18': 1069,\n",
              " 'Omar & Hana S2 Ep16': 1068,\n",
              " 'Badanamu Kids Karaoke S1 Ep009': 1068,\n",
              " 'Running Man Ep643': 1068,\n",
              " 'Project: High Council Ep10': 1067,\n",
              " 'Omar & Hana S3 Ep20': 1066,\n",
              " 'Project: High Council Ep08': 1065,\n",
              " 'Badanamu Kids Karaoke S1 Ep013': 1065,\n",
              " 'Omar & Hana S2 Ep13': 1065,\n",
              " 'Songs': 1064,\n",
              " 'Badanamu Kids Karaoke S1 Ep004': 1064,\n",
              " 'New Doraemon Ep301': 1064,\n",
              " 'Upin & Ipin S15 Ep10': 1062,\n",
              " 'Omar & Hana S3 Ep17': 1062,\n",
              " 'Upin & Ipin S15 Ep13': 1060,\n",
              " 'Bukan Cinta Sempurna Ep18': 1060,\n",
              " 'Upin & Ipin S15 Ep32': 1059,\n",
              " 'Badanamu Kids Karaoke S1 Ep007': 1058,\n",
              " 'Papa Pipi Shorts Ep14': 1057,\n",
              " 'Sarbath': 1056,\n",
              " 'Badanamu Kids Karaoke S1 Ep014': 1056,\n",
              " 'Omar & Hana S2 Ep12': 1054,\n",
              " 'Ultraman Decker Finale: Journey To Beyond': 1054,\n",
              " 'Papa Pipi Shorts Ep10': 1053,\n",
              " \"Where's Chicky? S2 Ep07\": 1053,\n",
              " 'Goliyon Ki Rasleela Ram-Leela': 1053,\n",
              " 'Papa Pipi Shorts Ep15': 1052,\n",
              " 'Papa Pipi Shorts Ep11': 1051,\n",
              " 'Konnichiwa Superlawak Ep04': 1050,\n",
              " 'Borneo Culinary Sarawak': 1049,\n",
              " 'Papa Pipi Shorts Ep03': 1048,\n",
              " 'Badanamu Kids Karaoke S1 Ep011': 1048,\n",
              " 'Chuck Chicken': 1048,\n",
              " 'Sun Music Super Morning': 1042,\n",
              " 'Upin & Ipin S4 Ep12': 1042,\n",
              " 'Spookiz': 1041,\n",
              " 'Berita Tamil': 1041,\n",
              " 'Aunty Reporting For Duty Teaser': 1040,\n",
              " 'Master': 1038,\n",
              " 'The Bond': 1038,\n",
              " 'Papa Pipi Ep21': 1035,\n",
              " 'Upin & Ipin S4 Ep11': 1034,\n",
              " 'Malar': 1031,\n",
              " 'Papa Pipi Ep20': 1031,\n",
              " 'Upin & Ipin S4 Ep16': 1031,\n",
              " 'Upin & Ipin S15 Ep11': 1028,\n",
              " 'Sesalan Terakhir': 1025,\n",
              " 'Omar & Hana S1 Ep21': 1024,\n",
              " 'Papa Pipi Shorts Ep12': 1023,\n",
              " 'Upin & Ipin S15 Ep09': 1020,\n",
              " 'Papa Pipi Shorts Ep13': 1020,\n",
              " 'Ultraman Blazar Ep01': 1018,\n",
              " 'Poorana Chandhiran Kudumbathar': 1017,\n",
              " 'Badanamu Kids Karaoke S1 Ep015': 1017,\n",
              " 'Upin & Ipin S15 Ep14': 1013,\n",
              " \"Where's Chicky? S2 Ep05\": 1013,\n",
              " 'Upin & Ipin S14 Ep11': 1013,\n",
              " 'Nobody Knows': 1012,\n",
              " 'Kavan': 1012,\n",
              " 'The Conjuring: The Devil Made Me Do It': 1011,\n",
              " 'Upin & Ipin S15 Ep07': 1010,\n",
              " 'Narcotics Heroes Ep14': 1010,\n",
              " 'Upin & Ipin S15 Ep04': 1009,\n",
              " 'My Pet My Angel Ep19': 1007,\n",
              " 'Swarnamukhi': 1007,\n",
              " \"Where's Chicky? S2 Ep03\": 1006,\n",
              " 'Upin & Ipin S14 Ep01': 1005,\n",
              " \"Where's Chicky? S2 Ep02\": 1001,\n",
              " 'Sita Ramam': 1001,\n",
              " 'Senario The Movie Episode 1': 998,\n",
              " 'Omar & Hana S3 Ep19': 998,\n",
              " 'Cyber Heist': 997,\n",
              " 'Nadi Weekend': 996,\n",
              " 'Budak Hostel Otaknya Sewel Ep06': 996,\n",
              " \"Where's Chicky? S2 Ep06\": 994,\n",
              " 'Morning Show': 993,\n",
              " 'Upin & Ipin S15 Ep08': 988,\n",
              " 'Budak Hostel Otaknya Sewel Ep08': 987,\n",
              " 'Matchday Live Extra 2023/24': 986,\n",
              " 'Upin & Ipin S15 Ep01': 984,\n",
              " 'The Disappearance of Cari Farver': 983,\n",
              " 'Mission: Impossible': 981,\n",
              " 'Beyblade Metal Masters (BM Dubbed)': 978,\n",
              " 'Badanamu Kids Karaoke S1 Ep016': 978,\n",
              " 'Ranjithame': 976,\n",
              " \"Where's Chicky? S2 Ep08\": 976,\n",
              " 'Mr.Peyii': 975,\n",
              " \"Where's Chicky? S2 Ep04\": 973,\n",
              " 'Ultraman\\xa0Trigger:\\xa0Episode\\xa0Z': 972,\n",
              " 'Upin & Ipin S14 Ep04': 971,\n",
              " 'Kapsul Inspirasi': 969,\n",
              " \"Where's Chicky? S2 Ep11\": 968,\n",
              " 'Badanamu Kids Karaoke S1 Ep012': 966,\n",
              " 'Ultra Galaxy Fight: The Absolute Conspiracy': 965,\n",
              " 'Badanamu Kids Karaoke Ep019': 962,\n",
              " 'Upin & Ipin S15 Ep06': 961,\n",
              " \"Where's Chicky? S2 Ep09\": 961,\n",
              " 'Nightline': 961,\n",
              " '(L) PL: Newcastle Utd vs Liverpool': 960,\n",
              " '(L)BWF World Championships:Quarterfinals': 959,\n",
              " 'Puss In Boots (2011)': 958,\n",
              " 'My Dearest Ep01': 958,\n",
              " 'Beyblade Burst': 956,\n",
              " 'Upin & Ipin S14 Ep05': 954,\n",
              " 'The Love You Give Me Ep13': 953,\n",
              " '(L) MSL 2023: KDA lwn JDT': 950,\n",
              " 'Upin & Ipin S4 Ep18': 950,\n",
              " 'Upin & Ipin S4 Ep17': 950,\n",
              " 'Narcotics Heroes Ep13': 948,\n",
              " 'Iru Thuruvam': 945,\n",
              " 'Upin & Ipin S14 Ep09': 944,\n",
              " 'Pathu Thala': 943,\n",
              " 'Senario The Movie Episod 2 Beach Boys': 942,\n",
              " 'Raja Raja Chozhan': 941,\n",
              " 'Omar & Hana S3 Ep27': 940,\n",
              " 'Project: High Council Ep09': 939,\n",
              " 'Project: High Council Ep02': 938,\n",
              " 'Upin & Ipin S12 Ep12': 936,\n",
              " 'Prince': 936,\n",
              " 'The Amazing World of Gumball': 936,\n",
              " 'Badanamu Kids Karaoke Ep018': 936,\n",
              " \"Where's Chicky? S2 Ep18\": 935,\n",
              " 'Upin & Ipin S15 Ep03': 935,\n",
              " 'Upin & Ipin S15 Ep05': 932,\n",
              " \"Where's Chicky? S2 Ep12\": 931,\n",
              " \"Where's Chicky? S2 Ep10\": 930,\n",
              " 'Upin & Ipin S14 Ep25': 929,\n",
              " 'Full Metal Jacket': 927,\n",
              " 'Despicable Me 3': 927,\n",
              " 'Narcotics Heroes Ep12': 926,\n",
              " 'Omar & Hana S3 Ep26': 926,\n",
              " 'Upin & Ipin S14 Ep12': 926,\n",
              " 'Farhana': 925,\n",
              " 'Ceria Popstar Xtra': 924,\n",
              " 'The Elegant Empire': 924,\n",
              " \"Where's Chicky? S2 Ep16\": 924,\n",
              " 'Upin & Ipin S13 Ep01': 923,\n",
              " 'Narcotics Heroes Ep11': 921,\n",
              " 'Justice League': 921,\n",
              " 'Upin & Ipin S4 Ep28': 914,\n",
              " 'Upin & Ipin S14 Ep10': 913,\n",
              " \"Where's Chicky? S2 Ep15\": 913,\n",
              " 'Badanamu Kids Karaoke Ep022': 913,\n",
              " 'Nanban': 912,\n",
              " 'Upin & Ipin S14 Ep06': 912,\n",
              " '(L) FIBA: Australia vs Germany': 912,\n",
              " 'Kampung Foodsteps S1 Ep06': 911,\n",
              " 'Upin & Ipin S14 Ep03': 911,\n",
              " 'Love You Seven Times': 911,\n",
              " 'Zero': 911,\n",
              " 'Badanamu Kids Karaoke Ep017': 911,\n",
              " 'Omar & Hana S3 Ep25': 909,\n",
              " 'Upin & Ipin S14 Ep24': 909,\n",
              " 'Extreme Makeover Home Edition (usa)': 907,\n",
              " \"Where's Chicky? S2 Ep14\": 907,\n",
              " 'Upin & Ipin S14 Ep30': 905,\n",
              " 'Dendam Aurora': 905,\n",
              " 'Upin & Ipin S14 Ep07': 904,\n",
              " 'Saravedi Night': 904,\n",
              " 'SEAL Team': 904,\n",
              " \"Where's Chicky? S2 Ep23\": 902,\n",
              " 'MasterChef Australia S15 Ep01': 902,\n",
              " 'Badanamu Kids Karaoke Ep024': 902,\n",
              " 'Upin & Ipin S14 Ep35': 901,\n",
              " 'Amudhavum Annalakshmiyum': 901,\n",
              " \"Where's Chicky? S2 Ep20\": 900,\n",
              " 'Syurga Yang Kedua': 900,\n",
              " 'Purnama': 900,\n",
              " 'Upin & Ipin S14 Ep08': 897,\n",
              " 'Badanamu Kids Karaoke Ep020': 894,\n",
              " 'King Kong (2005)': 893,\n",
              " 'Upin & Ipin S11 Ep03': 892,\n",
              " 'Villain': 892,\n",
              " 'The Love You Give Me Ep15': 891,\n",
              " 'Upin & Ipin S14 Ep02': 890,\n",
              " 'Upin & Ipin S14 Ep39': 889,\n",
              " 'Upin & Ipin S13 Ep05': 887,\n",
              " 'Upin & Ipin S14 Ep27': 886,\n",
              " \"Where's Chicky? S2 Ep13\": 886,\n",
              " 'The Love You Give Me Ep12': 885,\n",
              " '(L) FIBA: Brazil vs Spain': 885,\n",
              " '(L) AWANI 7:45': 884,\n",
              " 'Upin & Ipin S15 Ep02': 883,\n",
              " 'Project: High Council Ep05': 883,\n",
              " \"Where's Chicky? S2 Ep25\": 883,\n",
              " \"Where's Chicky? S2 Ep19\": 881,\n",
              " 'In Search of Heat': 880,\n",
              " 'Badanamu Kids Karaoke Ep023': 879,\n",
              " 'Upin & Ipin S14 Ep38': 879,\n",
              " 'Upin & Ipin S14 Ep31': 878,\n",
              " 'Upin & Ipin S14 Ep26': 876,\n",
              " 'Project: High Council Ep03': 874,\n",
              " 'Cinta Suci': 874,\n",
              " 'Didi & Friends S5 (Epal)': 874,\n",
              " 'Upin & Ipin S14 Ep42': 874,\n",
              " 'The Love You Give Me Ep14': 872,\n",
              " 'Varisu': 872,\n",
              " 'Upin & Ipin S12 Ep13': 872,\n",
              " 'Estate': 871,\n",
              " 'Upin & Ipin S12 Ep10': 869,\n",
              " 'Panas Talk': 868,\n",
              " \"Where's Chicky? S2 Ep24\": 867,\n",
              " 'Hutuo Ernu': 866,\n",
              " 'MW3: Everton vs Wolverhampton': 865,\n",
              " 'Upin & Ipin S14 Ep13': 865,\n",
              " \"Where's Chicky? S2 Ep26\": 865,\n",
              " 'Upin & Ipin S4 Ep37': 864,\n",
              " 'Upin & Ipin S5 Ep04': 862,\n",
              " 'China Salesman - Colors Tamil HD': 862,\n",
              " 'Upin & Ipin S5 Ep01': 861,\n",
              " 'Malaysia Tonight': 861,\n",
              " 'Sevvanthi': 861,\n",
              " \"Where's Chicky? S2 Ep21\": 859,\n",
              " 'Upin & Ipin S14 Ep33': 859,\n",
              " \"Where's Chicky? S2 Ep17\": 859,\n",
              " 'Upin & Ipin S13 Ep04': 858,\n",
              " 'Puthu Vasantham': 858,\n",
              " \"Where's Chicky? S2 Ep22\": 857,\n",
              " 'Upin & Ipin S4 Ep30': 856,\n",
              " 'Upin & Ipin S13 Ep15': 856,\n",
              " ...}"
            ]
          },
          "metadata": {},
          "execution_count": 84
        }
      ]
    },
    {
      "cell_type": "code",
      "execution_count": 85,
      "metadata": {
        "id": "LkJ_BA94b9DK"
      },
      "outputs": [],
      "source": [
        "# since the dictionary is too big lets only see the first few elements\n",
        "# first_few_elements = 10\n",
        "# for key, value in distinct_contents_dictionary.items():\n",
        "#   print(key, \":\", distinct_contents_dictionary[key])\n",
        "#   first_few_elements -= 1\n",
        "#   if first_few_elements == 0:\n",
        "#     break"
      ]
    },
    {
      "cell_type": "code",
      "execution_count": 86,
      "metadata": {
        "id": "Wlr518qSqKoC",
        "colab": {
          "base_uri": "https://localhost:8080/"
        },
        "outputId": "4006c0ae-e063-4cc9-9ba3-86ddca8a9262"
      },
      "outputs": [
        {
          "output_type": "execute_result",
          "data": {
            "text/plain": [
              "52835"
            ]
          },
          "metadata": {},
          "execution_count": 86
        }
      ],
      "source": [
        "len(distinct_contents_dictionary)"
      ]
    },
    {
      "cell_type": "markdown",
      "metadata": {
        "id": "TpiSFnXkiS4X"
      },
      "source": [
        "### ***non zero duration dataframe  is what % of orignal dataframe ?***"
      ]
    },
    {
      "cell_type": "code",
      "execution_count": 87,
      "metadata": {
        "id": "L9K7C30bh_FU",
        "colab": {
          "base_uri": "https://localhost:8080/"
        },
        "outputId": "b9eb3314-abe4-4378-a999-95cb299792bc"
      },
      "outputs": [
        {
          "output_type": "execute_result",
          "data": {
            "text/plain": [
              "16.21144606249885"
            ]
          },
          "metadata": {},
          "execution_count": 87
        }
      ],
      "source": [
        "(nz_duration_df.shape[0] / initial_record_count) * 100"
      ]
    },
    {
      "cell_type": "markdown",
      "metadata": {
        "id": "VnOKmd5KkB55"
      },
      "source": [
        "## List of distinct content providers"
      ]
    },
    {
      "cell_type": "code",
      "execution_count": 88,
      "metadata": {
        "id": "gLPm29dgg8SX"
      },
      "outputs": [],
      "source": [
        "provider_list = nz_duration_df[\"content_source\"].value_counts()"
      ]
    },
    {
      "cell_type": "code",
      "execution_count": 89,
      "metadata": {
        "id": "JS2qbT0DlHaL",
        "colab": {
          "base_uri": "https://localhost:8080/"
        },
        "outputId": "96435918-d27b-4c2d-eb0b-36829087dcb0"
      },
      "outputs": [
        {
          "output_type": "execute_result",
          "data": {
            "text/plain": [
              "astro.30d        1367688\n",
              "astro.7d          551369\n",
              "astro.com.my      307342\n",
              "STAR VIJAY HD     169692\n",
              "TV3               139673\n",
              "                  ...   \n",
              "CHUTTI TV              6\n",
              "beIN SPORTS 4          3\n",
              "astro.7d.ads           2\n",
              "ARENA BOLA 3           2\n",
              "Too FUN!               1\n",
              "Name: content_source, Length: 183, dtype: int64"
            ]
          },
          "metadata": {},
          "execution_count": 89
        }
      ],
      "source": [
        "provider_list"
      ]
    },
    {
      "cell_type": "code",
      "source": [
        "provider_list.index.nunique()"
      ],
      "metadata": {
        "colab": {
          "base_uri": "https://localhost:8080/"
        },
        "id": "JtVyBgKx8wOk",
        "outputId": "9736a6a6-acbd-4bb8-c874-7a607e53819a"
      },
      "execution_count": 90,
      "outputs": [
        {
          "output_type": "execute_result",
          "data": {
            "text/plain": [
              "183"
            ]
          },
          "metadata": {},
          "execution_count": 90
        }
      ]
    },
    {
      "cell_type": "markdown",
      "metadata": {
        "id": "7j82ySb9mTQi"
      },
      "source": [
        "### top 20 content providers"
      ]
    },
    {
      "cell_type": "code",
      "execution_count": 91,
      "metadata": {
        "id": "x7CvL6BkkQMM",
        "colab": {
          "base_uri": "https://localhost:8080/"
        },
        "outputId": "1f224c7c-1e70-4a91-a7e8-262bafbde7ad"
      },
      "outputs": [
        {
          "output_type": "execute_result",
          "data": {
            "text/plain": [
              "astro.30d         1367688\n",
              "astro.7d           551369\n",
              "astro.com.my       307342\n",
              "STAR VIJAY HD      169692\n",
              "TV3                139673\n",
              "astro.2d           128850\n",
              "ASSP4 HD           111034\n",
              "ASSP3 HD            89233\n",
              "ASSP HD             77139\n",
              "SUN TV HD           57421\n",
              "ZEE TAMIL HD        55825\n",
              "AEC HD              54605\n",
              "RIA HD              43427\n",
              "beIN SPORTS         37966\n",
              "CERIA HD            35980\n",
              "Vellithirai HD      35060\n",
              "VINMEEN HD          34009\n",
              "TVBJ                31056\n",
              "AXN HD              30400\n",
              "ONE HD              28626\n",
              "Name: content_source, dtype: int64"
            ]
          },
          "metadata": {},
          "execution_count": 91
        }
      ],
      "source": [
        "provider_list.head(20) # seeing top 20 content providers"
      ]
    },
    {
      "cell_type": "markdown",
      "source": [
        "### bottom 20 content providers"
      ],
      "metadata": {
        "id": "jB5gYp5cywCh"
      }
    },
    {
      "cell_type": "code",
      "source": [
        "provider_list.tail(20)"
      ],
      "metadata": {
        "id": "5S4kj3d_yvsc",
        "colab": {
          "base_uri": "https://localhost:8080/"
        },
        "outputId": "5a5928ff-c2f3-4aaa-8990-57c22cf661de"
      },
      "execution_count": 92,
      "outputs": [
        {
          "output_type": "execute_result",
          "data": {
            "text/plain": [
              "DW HD                 64\n",
              "TA-DAA!               51\n",
              "Boomerang             47\n",
              "WAI FM                35\n",
              "NAS FM                31\n",
              "ProjectHighCouncil    26\n",
              "OPUS                  26\n",
              "V FM                  25\n",
              "JAZZ                  24\n",
              "ASYIK FM              23\n",
              "astro.5d              20\n",
              "CLASSIC ROCK          18\n",
              "eGG Network           15\n",
              "BAYU                  14\n",
              "KENYALANG             14\n",
              "CHUTTI TV              6\n",
              "beIN SPORTS 4          3\n",
              "astro.7d.ads           2\n",
              "ARENA BOLA 3           2\n",
              "Too FUN!               1\n",
              "Name: content_source, dtype: int64"
            ]
          },
          "metadata": {},
          "execution_count": 92
        }
      ]
    },
    {
      "cell_type": "code",
      "execution_count": 93,
      "metadata": {
        "id": "jBaQPQQSmBAG"
      },
      "outputs": [],
      "source": [
        "# ! pip install pandas_profiling\n",
        "# from pandas_profiling import ProfileReport\n"
      ]
    },
    {
      "cell_type": "code",
      "execution_count": 94,
      "metadata": {
        "id": "S-rM00GKmpwR"
      },
      "outputs": [],
      "source": [
        "# nz_duration_df_profile =  ProfileReport(nz_duration_df)\n",
        "# nz_duration_df_profile.to_file(output_file = '/content/nz_duration_df_profile.html')"
      ]
    },
    {
      "cell_type": "code",
      "source": [
        "nz_duration_df.info()"
      ],
      "metadata": {
        "colab": {
          "base_uri": "https://localhost:8080/"
        },
        "id": "9xQ6Q1N2pxKh",
        "outputId": "e0d5c5e8-48f4-4439-bd6b-acf8740929f0"
      },
      "execution_count": 95,
      "outputs": [
        {
          "output_type": "stream",
          "name": "stdout",
          "text": [
            "<class 'pandas.core.frame.DataFrame'>\n",
            "Int64Index: 4216916 entries, 14622656 to 21151475\n",
            "Data columns (total 12 columns):\n",
            " #   Column            Dtype                         \n",
            "---  ------            -----                         \n",
            " 0   state             object                        \n",
            " 1   event_start_tz    datetime64[ns, Asia/Singapore]\n",
            " 2   duration_seconds  int64                         \n",
            " 3   content_type      object                        \n",
            " 4   content           object                        \n",
            " 5   content_source    object                        \n",
            " 6   date              datetime64[ns]                \n",
            " 7   time              object                        \n",
            " 8   timezone          object                        \n",
            " 9   end_time          datetime64[ns, Asia/Singapore]\n",
            " 10  timestamp         float64                       \n",
            " 11  day               object                        \n",
            "dtypes: datetime64[ns, Asia/Singapore](2), datetime64[ns](1), float64(1), int64(1), object(7)\n",
            "memory usage: 547.2+ MB\n"
          ]
        }
      ]
    },
    {
      "cell_type": "markdown",
      "source": [
        "# Converting show names to lowercase"
      ],
      "metadata": {
        "id": "cKr8xTRpC0Xn"
      }
    },
    {
      "cell_type": "code",
      "source": [
        "# Assuming you have a DataFrame named 'df' and you want to convert the 'content' column to lowercase\n",
        "nz_duration_df['content'] = nz_duration_df['content'].str.lower()\n",
        "nz_duration_df['content_source'] = nz_duration_df['content_source'].str.lower()\n"
      ],
      "metadata": {
        "colab": {
          "base_uri": "https://localhost:8080/"
        },
        "id": "O1MLPz2G1vE2",
        "outputId": "1ae7539a-6184-49fe-c30e-2c0163f7edf6"
      },
      "execution_count": 96,
      "outputs": [
        {
          "output_type": "stream",
          "name": "stderr",
          "text": [
            "<ipython-input-96-e1850d734dd9>:2: SettingWithCopyWarning: \n",
            "A value is trying to be set on a copy of a slice from a DataFrame.\n",
            "Try using .loc[row_indexer,col_indexer] = value instead\n",
            "\n",
            "See the caveats in the documentation: https://pandas.pydata.org/pandas-docs/stable/user_guide/indexing.html#returning-a-view-versus-a-copy\n",
            "  nz_duration_df['content'] = nz_duration_df['content'].str.lower()\n",
            "<ipython-input-96-e1850d734dd9>:3: SettingWithCopyWarning: \n",
            "A value is trying to be set on a copy of a slice from a DataFrame.\n",
            "Try using .loc[row_indexer,col_indexer] = value instead\n",
            "\n",
            "See the caveats in the documentation: https://pandas.pydata.org/pandas-docs/stable/user_guide/indexing.html#returning-a-view-versus-a-copy\n",
            "  nz_duration_df['content_source'] = nz_duration_df['content_source'].str.lower()\n"
          ]
        }
      ]
    },
    {
      "cell_type": "markdown",
      "source": [
        "# ***Pre processing done!***"
      ],
      "metadata": {
        "id": "wbWdo7L1zqgQ"
      }
    },
    {
      "cell_type": "markdown",
      "source": [
        "# ***Now the actual insight gaining starts***"
      ],
      "metadata": {
        "id": "8jGjlbt5zjcn"
      }
    },
    {
      "cell_type": "code",
      "source": [
        "nz_duration_df.info()"
      ],
      "metadata": {
        "colab": {
          "base_uri": "https://localhost:8080/"
        },
        "id": "16xucqCjLorY",
        "outputId": "eb85ddb2-e797-4ed8-96dd-6df9ee2bd2d0"
      },
      "execution_count": 97,
      "outputs": [
        {
          "output_type": "stream",
          "name": "stdout",
          "text": [
            "<class 'pandas.core.frame.DataFrame'>\n",
            "Int64Index: 4216916 entries, 14622656 to 21151475\n",
            "Data columns (total 12 columns):\n",
            " #   Column            Dtype                         \n",
            "---  ------            -----                         \n",
            " 0   state             object                        \n",
            " 1   event_start_tz    datetime64[ns, Asia/Singapore]\n",
            " 2   duration_seconds  int64                         \n",
            " 3   content_type      object                        \n",
            " 4   content           object                        \n",
            " 5   content_source    object                        \n",
            " 6   date              datetime64[ns]                \n",
            " 7   time              object                        \n",
            " 8   timezone          object                        \n",
            " 9   end_time          datetime64[ns, Asia/Singapore]\n",
            " 10  timestamp         float64                       \n",
            " 11  day               object                        \n",
            "dtypes: datetime64[ns, Asia/Singapore](2), datetime64[ns](1), float64(1), int64(1), object(7)\n",
            "memory usage: 547.2+ MB\n"
          ]
        }
      ]
    },
    {
      "cell_type": "code",
      "source": [
        "nz_duration_df['state'].value_counts()"
      ],
      "metadata": {
        "colab": {
          "base_uri": "https://localhost:8080/"
        },
        "id": "IuWao3bJ1AJr",
        "outputId": "0dc7723f-d9f2-4e04-8fb8-f81e8188ad0b"
      },
      "execution_count": 98,
      "outputs": [
        {
          "output_type": "execute_result",
          "data": {
            "text/plain": [
              "Kuala Lumpur       2350063\n",
              "Selangor            892139\n",
              "Penang              253079\n",
              "Johor               244473\n",
              "Perak               133713\n",
              "Sarawak              78899\n",
              "Negeri Sembilan      73099\n",
              "Sabah                70325\n",
              "Melaka               39363\n",
              "Kedah                29873\n",
              "Kelantan             20758\n",
              "Pahang               17535\n",
              "Terengganu           10342\n",
              "Putrajaya             2445\n",
              "Perlis                 691\n",
              "Labuan                 119\n",
              "Name: state, dtype: int64"
            ]
          },
          "metadata": {},
          "execution_count": 98
        }
      ]
    },
    {
      "cell_type": "code",
      "source": [
        "\n",
        "data = {\n",
        "    'state': ['Kuala Lumpur', 'Selangor', 'Penang', 'Johor', 'Perak', 'Sarawak', 'Negeri Sembilan', 'Sabah', 'Melaka', 'Kedah', 'Kelantan', 'Pahang', 'Terengganu', 'Putrajaya', 'Perlis', 'Labuan'],\n",
        "    'population': [2350063, 892139, 253079, 244473, 133713, 78899, 73099, 70325, 39363, 29873, 20758, 17535, 10342, 2445, 691, 119]\n",
        "}\n",
        "\n",
        "df = pd.DataFrame(data)\n",
        "\n",
        "# Create the bar chart\n",
        "plt.figure(figsize=(12, 6))  # Adjust the figure size if needed\n",
        "\n",
        "plt.bar(df['state'], df['population'])\n",
        "plt.xlabel('State')\n",
        "plt.ylabel('Population')\n",
        "plt.title('Views by State in Malaysia')\n",
        "plt.xticks(rotation=90)  # Rotate the x-axis labels for better readability\n",
        "\n",
        "plt.tight_layout()\n",
        "plt.show()\n"
      ],
      "metadata": {
        "colab": {
          "base_uri": "https://localhost:8080/",
          "height": 607
        },
        "id": "hju1xDAFwi9L",
        "outputId": "1b27ad72-b52d-4f83-89a3-99a443b1914e"
      },
      "execution_count": 126,
      "outputs": [
        {
          "output_type": "display_data",
          "data": {
            "text/plain": [
              "<Figure size 1200x600 with 1 Axes>"
            ],
            "image/png": "[encoded data removed]"
          },
          "metadata": {}
        }
      ]
    },
    {
      "cell_type": "code",
      "source": [
        "nz_duration_df['content_type'].value_counts()"
      ],
      "metadata": {
        "colab": {
          "base_uri": "https://localhost:8080/"
        },
        "id": "dgvVcOU9DW7B",
        "outputId": "44b081bf-dcc6-4151-eaa1-4e5bbd169cb9"
      },
      "execution_count": 99,
      "outputs": [
        {
          "output_type": "execute_result",
          "data": {
            "text/plain": [
              "VOD                2356309\n",
              "LINEAR              848751\n",
              "CDVR                602912\n",
              "Live Pause          158746\n",
              "Play From Start     142659\n",
              "IP Switch           107539\n",
              "Name: content_type, dtype: int64"
            ]
          },
          "metadata": {},
          "execution_count": 99
        }
      ]
    },
    {
      "cell_type": "code",
      "source": [
        "nz_duration_df['day'].value_counts()"
      ],
      "metadata": {
        "colab": {
          "base_uri": "https://localhost:8080/"
        },
        "id": "RWbDNeVrLCT4",
        "outputId": "dca043bd-a5dc-4897-8ba5-a03e4a58211c"
      },
      "execution_count": 100,
      "outputs": [
        {
          "output_type": "execute_result",
          "data": {
            "text/plain": [
              "Monday    2214728\n",
              "Sunday    2002188\n",
              "Name: day, dtype: int64"
            ]
          },
          "metadata": {},
          "execution_count": 100
        }
      ]
    },
    {
      "cell_type": "markdown",
      "source": [
        "## Avg  TV watching time per state"
      ],
      "metadata": {
        "id": "U698RoASNUdn"
      }
    },
    {
      "cell_type": "code",
      "source": [
        "\n",
        "avg_watchtime_per_state_in_min = nz_duration_df.groupby('state')['duration_seconds'].mean() / 60\n",
        "\n",
        "# Print the average TV watching time for each state in hours\n",
        "print(avg_watchtime_per_state_in_min)"
      ],
      "metadata": {
        "colab": {
          "base_uri": "https://localhost:8080/"
        },
        "id": "Xjppq972LLNQ",
        "outputId": "1778f9b7-59f5-4b15-b04f-eb556b0adc32"
      },
      "execution_count": 101,
      "outputs": [
        {
          "output_type": "stream",
          "name": "stdout",
          "text": [
            "state\n",
            "Johor               9.534678\n",
            "Kedah               9.224768\n",
            "Kelantan            9.336180\n",
            "Kuala Lumpur        9.907666\n",
            "Labuan             14.923950\n",
            "Melaka              9.025246\n",
            "Negeri Sembilan     9.518626\n",
            "Pahang              9.851809\n",
            "Penang              9.783338\n",
            "Perak               9.354600\n",
            "Perlis              6.338833\n",
            "Putrajaya          11.232277\n",
            "Sabah              10.100921\n",
            "Sarawak            10.471232\n",
            "Selangor           10.371892\n",
            "Terengganu          8.590290\n",
            "Name: duration_seconds, dtype: float64\n"
          ]
        }
      ]
    },
    {
      "cell_type": "markdown",
      "source": [
        "# Bar graph of avg TV watch duration statewise"
      ],
      "metadata": {
        "id": "JCpx01FzRedP"
      }
    },
    {
      "cell_type": "code",
      "source": [
        "plt.figure(figsize=(12, 6))  # Adjust the figure size as needed\n",
        "plt.bar(avg_watchtime_per_state_in_min.index, avg_watchtime_per_state_in_min)\n",
        "\n",
        "# Rotate the X-axis labels by 75 degrees\n",
        "plt.xticks(rotation=75)\n",
        "\n",
        "# Add labels and title\n",
        "plt.xlabel('State')\n",
        "plt.ylabel('Average Watch Time (minutes)')\n",
        "plt.title('Average TV Watch Time per State')\n",
        "\n",
        "# Show the plot\n",
        "plt.tight_layout()  # Ensures labels and title are visible\n",
        "plt.show()"
      ],
      "metadata": {
        "colab": {
          "base_uri": "https://localhost:8080/",
          "height": 607
        },
        "id": "1dLJnwUwPOgz",
        "outputId": "8ab47754-b4b9-4b47-da60-7b0670b08f00"
      },
      "execution_count": 102,
      "outputs": [
        {
          "output_type": "display_data",
          "data": {
            "text/plain": [
              "<Figure size 1200x600 with 1 Axes>"
            ],
            "image/png": "[encoded data removed]"
          },
          "metadata": {}
        }
      ]
    },
    {
      "cell_type": "markdown",
      "source": [
        "> ## ***People of Labuan spends more time watching TV***"
      ],
      "metadata": {
        "id": "M1NPiacYz4xf"
      }
    },
    {
      "cell_type": "markdown",
      "source": [
        "# No of people watching TV on Sunday Vs Monday"
      ],
      "metadata": {
        "id": "06XCufZ0NiY-"
      }
    },
    {
      "cell_type": "code",
      "source": [
        "number_of_people_watching_tv_per_day = nz_duration_df['day'].value_counts()\n",
        "\n",
        "# Print the number of people watching TV on each day of the week\n",
        "number_of_people_watching_tv_per_day"
      ],
      "metadata": {
        "colab": {
          "base_uri": "https://localhost:8080/"
        },
        "id": "RakEpd_xNH-i",
        "outputId": "cdb93de3-ba56-4029-8b82-adc932def9de"
      },
      "execution_count": 103,
      "outputs": [
        {
          "output_type": "execute_result",
          "data": {
            "text/plain": [
              "Monday    2214728\n",
              "Sunday    2002188\n",
              "Name: day, dtype: int64"
            ]
          },
          "metadata": {},
          "execution_count": 103
        }
      ]
    },
    {
      "cell_type": "code",
      "source": [
        "plt.figure(figsize=(8, 8))  # Adjust the figure size as needed\n",
        "plt.pie(number_of_people_watching_tv_per_day, labels=number_of_people_watching_tv_per_day.index, autopct='%1.1f%%', startangle=270)\n",
        "\n",
        "# Add a title\n",
        "plt.title('No of people watching TV on Sunday Vs Monday')\n",
        "\n",
        "# Show the plot\n",
        "plt.axis('equal')  # Equal aspect ratio ensures that pie is drawn as a circle\n",
        "plt.show()"
      ],
      "metadata": {
        "colab": {
          "base_uri": "https://localhost:8080/",
          "height": 675
        },
        "id": "TOR0bs_KNpY_",
        "outputId": "d2dd7612-fc29-482a-e1f1-edb73bc0ce90"
      },
      "execution_count": 104,
      "outputs": [
        {
          "output_type": "display_data",
          "data": {
            "text/plain": [
              "<Figure size 800x800 with 1 Axes>"
            ],
            "image/png": "[encoded data removed]"
          },
          "metadata": {}
        }
      ]
    },
    {
      "cell_type": "markdown",
      "source": [
        "> ## Almost same though slightly more people watch TV on Monday than sunday"
      ],
      "metadata": {
        "id": "ZaEZgpH_0Uzp"
      }
    },
    {
      "cell_type": "markdown",
      "source": [
        "# Dividing the watch time zones"
      ],
      "metadata": {
        "id": "CDc1L1P2oLGN"
      }
    },
    {
      "cell_type": "code",
      "source": [
        "# import pandas as pd\n",
        "\n",
        "# Filter data for Sunday and Monday\n",
        "sunday_data = nz_duration_df[nz_duration_df['day'] == 'Sunday']\n",
        "monday_data = nz_duration_df[nz_duration_df['day'] == 'Monday']\n",
        "\n",
        "# Define time period bins\n",
        "time_bins = [\n",
        "    '12:00 AM to 3:00 AM',\n",
        "    '3:00 AM to 6:00 AM',\n",
        "    '6:00 AM to 9:00 AM',\n",
        "    '9:00 AM to 12:00 PM',\n",
        "    '12:00 PM to 3:00 PM',\n",
        "    '3:00 PM to 6:00 PM',\n",
        "    '6:00 PM to 9:00 PM',\n",
        "    '9:00 PM to 12:00 AM'\n",
        "]\n",
        "\n",
        "# Create a function to categorize times into bins\n",
        "def categorize_time(time):\n",
        "    hour = time.hour\n",
        "    if hour < 3:\n",
        "        return time_bins[0]\n",
        "    elif hour < 6:\n",
        "        return time_bins[1]\n",
        "    elif hour < 9:\n",
        "        return time_bins[2]\n",
        "    elif hour < 12:\n",
        "        return time_bins[3]\n",
        "    elif hour < 15:\n",
        "        return time_bins[4]\n",
        "    elif hour < 18:\n",
        "        return time_bins[5]\n",
        "    elif hour < 21:\n",
        "        return time_bins[6]\n",
        "    else:\n",
        "        return time_bins[7]\n",
        "\n",
        "# Apply the categorization function to create a new column 'time_period'\n",
        "sunday_data['time_period'] = sunday_data['event_start_tz'].apply(categorize_time)\n",
        "monday_data['time_period'] = monday_data['event_start_tz'].apply(categorize_time)\n",
        "\n",
        "# Get the counts for each time period for Sunday and Monday separately\n",
        "sunday_time_counts = sunday_data['time_period'].value_counts()\n",
        "monday_time_counts = monday_data['time_period'].value_counts()\n"
      ],
      "metadata": {
        "colab": {
          "base_uri": "https://localhost:8080/"
        },
        "id": "gqE-CLsoShC1",
        "outputId": "8184abe0-675d-47bd-b1a6-42899f022ffe"
      },
      "execution_count": 105,
      "outputs": [
        {
          "output_type": "stream",
          "name": "stderr",
          "text": [
            "<ipython-input-105-7f17fd0986e8>:40: SettingWithCopyWarning: \n",
            "A value is trying to be set on a copy of a slice from a DataFrame.\n",
            "Try using .loc[row_indexer,col_indexer] = value instead\n",
            "\n",
            "See the caveats in the documentation: https://pandas.pydata.org/pandas-docs/stable/user_guide/indexing.html#returning-a-view-versus-a-copy\n",
            "  sunday_data['time_period'] = sunday_data['event_start_tz'].apply(categorize_time)\n",
            "<ipython-input-105-7f17fd0986e8>:41: SettingWithCopyWarning: \n",
            "A value is trying to be set on a copy of a slice from a DataFrame.\n",
            "Try using .loc[row_indexer,col_indexer] = value instead\n",
            "\n",
            "See the caveats in the documentation: https://pandas.pydata.org/pandas-docs/stable/user_guide/indexing.html#returning-a-view-versus-a-copy\n",
            "  monday_data['time_period'] = monday_data['event_start_tz'].apply(categorize_time)\n"
          ]
        }
      ]
    },
    {
      "cell_type": "markdown",
      "source": [
        "# ***Sunday time period counts***"
      ],
      "metadata": {
        "id": "d7OwKegJi-Mc"
      }
    },
    {
      "cell_type": "code",
      "source": [
        "# Display the counts for Sunday and Monday\n",
        "sunday_time_counts\n"
      ],
      "metadata": {
        "colab": {
          "base_uri": "https://localhost:8080/"
        },
        "id": "nftNJAxoifRR",
        "outputId": "242fcb9f-8452-4d05-d321-eb891bab6f79"
      },
      "execution_count": 106,
      "outputs": [
        {
          "output_type": "execute_result",
          "data": {
            "text/plain": [
              "9:00 PM to 12:00 AM    502722\n",
              "6:00 PM to 9:00 PM     419100\n",
              "12:00 PM to 3:00 PM    351645\n",
              "3:00 PM to 6:00 PM     345842\n",
              "9:00 AM to 12:00 PM    315729\n",
              "6:00 AM to 9:00 AM      66750\n",
              "12:00 AM to 3:00 AM       215\n",
              "3:00 AM to 6:00 AM        185\n",
              "Name: time_period, dtype: int64"
            ]
          },
          "metadata": {},
          "execution_count": 106
        }
      ]
    },
    {
      "cell_type": "code",
      "source": [
        "sunday_time_counts.sum()"
      ],
      "metadata": {
        "colab": {
          "base_uri": "https://localhost:8080/"
        },
        "id": "WXBXKLR5RhTB",
        "outputId": "14c3f938-d03a-4716-e6ff-05a1acce0787"
      },
      "execution_count": 107,
      "outputs": [
        {
          "output_type": "execute_result",
          "data": {
            "text/plain": [
              "2002188"
            ]
          },
          "metadata": {},
          "execution_count": 107
        }
      ]
    },
    {
      "cell_type": "code",
      "source": [
        "sunday_time_slot_dict = sunday_time_counts.to_dict()"
      ],
      "metadata": {
        "id": "0uN-kWj7F5zj"
      },
      "execution_count": 108,
      "outputs": []
    },
    {
      "cell_type": "code",
      "source": [
        "sunday_time_slot_percentages = {}\n",
        "for slot in sunday_time_slot_dict:\n",
        "  sunday_time_slot_percentages[slot] = (sunday_time_slot_dict[slot] / sunday_time_counts.sum()) * 100"
      ],
      "metadata": {
        "id": "gHNcjlHRRf58"
      },
      "execution_count": 109,
      "outputs": []
    },
    {
      "cell_type": "markdown",
      "source": [
        "# Most engaged time periods"
      ],
      "metadata": {
        "id": "7QCodOVXTXAY"
      }
    },
    {
      "cell_type": "code",
      "source": [
        "sunday_time_slot_percentages"
      ],
      "metadata": {
        "colab": {
          "base_uri": "https://localhost:8080/"
        },
        "id": "pb6Msri9SfK_",
        "outputId": "997ac223-d9c1-4fe7-d843-7d84ed9561e2"
      },
      "execution_count": 110,
      "outputs": [
        {
          "output_type": "execute_result",
          "data": {
            "text/plain": [
              "{'9:00 PM to 12:00 AM': 25.108631157513678,\n",
              " '6:00 PM to 9:00 PM': 20.932100282291174,\n",
              " '12:00 PM to 3:00 PM': 17.563036038573802,\n",
              " '3:00 PM to 6:00 PM': 17.273203115791326,\n",
              " '9:00 AM to 12:00 PM': 15.769198496844453,\n",
              " '6:00 AM to 9:00 AM': 3.333852765075008,\n",
              " '12:00 AM to 3:00 AM': 0.010738252351926993,\n",
              " '3:00 AM to 6:00 AM': 0.009239891558634854}"
            ]
          },
          "metadata": {},
          "execution_count": 110
        }
      ]
    },
    {
      "cell_type": "code",
      "source": [
        "sunday_time_counts = sunday_time_counts.sort_index()\n",
        "sunday_time_counts.plot(kind='bar')\n",
        "plt.title('Sunday Time Counts')\n",
        "plt.xlabel('Time Period')\n",
        "plt.ylabel('Count')\n",
        "plt.xticks(rotation=90)\n",
        "plt.show()"
      ],
      "metadata": {
        "id": "TWCRpP64aNo7",
        "colab": {
          "base_uri": "https://localhost:8080/",
          "height": 603
        },
        "outputId": "44b35e78-5c3c-49a4-e419-ad0fc3738bae"
      },
      "execution_count": 111,
      "outputs": [
        {
          "output_type": "display_data",
          "data": {
            "text/plain": [
              "<Figure size 640x480 with 1 Axes>"
            ],
            "image/png": "[encoded data removed]"
          },
          "metadata": {}
        }
      ]
    },
    {
      "cell_type": "code",
      "source": [
        "import matplotlib.pyplot as plt\n",
        "\n",
        "# Given dictionary\n",
        "data = sunday_time_slot_percentages\n",
        "\n",
        "# Extract labels and percentages\n",
        "labels = data.keys()\n",
        "percentages = data.values()\n",
        "\n",
        "# Create a pie chart using Matplotlib\n",
        "plt.figure(figsize=(8, 8))\n",
        "plt.pie(percentages, labels=labels, autopct='%1.1f%%', startangle=140)\n",
        "\n",
        "# Add a title\n",
        "plt.title(\"Sunday time slots\")\n",
        "\n",
        "# Create a legend with labels and percentages\n",
        "legend_labels = [f'{label}: {percentage:.1f}%' for label, percentage in data.items()]\n",
        "plt.legend(legend_labels, loc='center left', bbox_to_anchor=(1, 0, 0.5, 1))\n",
        "\n",
        "# Display the plot\n",
        "plt.show()\n"
      ],
      "metadata": {
        "colab": {
          "base_uri": "https://localhost:8080/",
          "height": 675
        },
        "id": "V_ejfrKtz66G",
        "outputId": "b27b1422-7ef0-4ab7-babc-45cfd4ed37a0"
      },
      "execution_count": 112,
      "outputs": [
        {
          "output_type": "display_data",
          "data": {
            "text/plain": [
              "<Figure size 800x800 with 1 Axes>"
            ],
            "image/png": "[encoded data removed]"
          },
          "metadata": {}
        }
      ]
    },
    {
      "cell_type": "markdown",
      "source": [
        "# Monday time period counts"
      ],
      "metadata": {
        "id": "u03vM9CEjCVY"
      }
    },
    {
      "cell_type": "code",
      "source": [
        "monday_time_counts"
      ],
      "metadata": {
        "colab": {
          "base_uri": "https://localhost:8080/"
        },
        "id": "bio3SxH_iv08",
        "outputId": "600c1033-d82f-4bc3-c61d-7c7c96606033"
      },
      "execution_count": 113,
      "outputs": [
        {
          "output_type": "execute_result",
          "data": {
            "text/plain": [
              "6:00 PM to 9:00 PM     449931\n",
              "9:00 PM to 12:00 AM    428783\n",
              "12:00 PM to 3:00 PM    366673\n",
              "3:00 PM to 6:00 PM     359916\n",
              "9:00 AM to 12:00 PM    315089\n",
              "12:00 AM to 3:00 AM    159760\n",
              "6:00 AM to 9:00 AM     109758\n",
              "3:00 AM to 6:00 AM      24818\n",
              "Name: time_period, dtype: int64"
            ]
          },
          "metadata": {},
          "execution_count": 113
        }
      ]
    },
    {
      "cell_type": "code",
      "source": [
        "monday_time_counts = monday_time_counts.sort_index()\n",
        "\n",
        "monday_time_counts.plot(kind='bar')\n",
        "plt.title('Monday Time Counts')\n",
        "plt.xlabel('Time Period')\n",
        "plt.ylabel('Count')\n",
        "plt.show()"
      ],
      "metadata": {
        "colab": {
          "base_uri": "https://localhost:8080/",
          "height": 603
        },
        "id": "CnuPkaFj3YOE",
        "outputId": "86d08968-eda0-4028-c9e9-b4585980f36c"
      },
      "execution_count": 114,
      "outputs": [
        {
          "output_type": "display_data",
          "data": {
            "text/plain": [
              "<Figure size 640x480 with 1 Axes>"
            ],
            "image/png": "[encoded data removed]"
          },
          "metadata": {}
        }
      ]
    },
    {
      "cell_type": "code",
      "source": [
        "monday_time_slot_dict = monday_time_counts.to_dict()"
      ],
      "metadata": {
        "id": "7qr8AoevS3LR"
      },
      "execution_count": 115,
      "outputs": []
    },
    {
      "cell_type": "code",
      "source": [
        "monday_time_slot_percentages = {}\n",
        "for slot in monday_time_slot_dict:\n",
        "  monday_time_slot_percentages[slot] = (monday_time_slot_dict[slot] / monday_time_counts.sum()) * 100"
      ],
      "metadata": {
        "id": "Jz15anx-S3LS"
      },
      "execution_count": 116,
      "outputs": []
    },
    {
      "cell_type": "markdown",
      "source": [
        "# most engaged watching slots on monday"
      ],
      "metadata": {
        "id": "9G1Y0dAKTvw8"
      }
    },
    {
      "cell_type": "code",
      "source": [
        "monday_time_slot_percentages"
      ],
      "metadata": {
        "colab": {
          "base_uri": "https://localhost:8080/"
        },
        "outputId": "818c7bcc-de27-45e0-c845-9b141555b259",
        "id": "bcAYjKEiS3LT"
      },
      "execution_count": 117,
      "outputs": [
        {
          "output_type": "execute_result",
          "data": {
            "text/plain": [
              "{'12:00 AM to 3:00 AM': 7.213526898111191,\n",
              " '12:00 PM to 3:00 PM': 16.55611885522737,\n",
              " '3:00 AM to 6:00 AM': 1.1205890745951648,\n",
              " '3:00 PM to 6:00 PM': 16.251024956563516,\n",
              " '6:00 AM to 9:00 AM': 4.9558230175443665,\n",
              " '6:00 PM to 9:00 PM': 20.31540667747913,\n",
              " '9:00 AM to 12:00 PM': 14.226984081115152,\n",
              " '9:00 PM to 12:00 AM': 19.36052643936411}"
            ]
          },
          "metadata": {},
          "execution_count": 117
        }
      ]
    },
    {
      "cell_type": "code",
      "source": [
        "import matplotlib.pyplot as plt\n",
        "\n",
        "# Given dictionary\n",
        "data = monday_time_slot_percentages\n",
        "\n",
        "# Extract labels and percentages\n",
        "labels = data.keys()\n",
        "percentages = data.values()\n",
        "\n",
        "# Create a pie chart using Matplotlib\n",
        "plt.figure(figsize=(8, 8))\n",
        "plt.pie(percentages, labels=labels, autopct='%1.1f%%', startangle=140)\n",
        "\n",
        "# Add a title\n",
        "plt.title(\"Monday Time Slot Percentages\")\n",
        "\n",
        "# Create a legend with labels and percentages\n",
        "legend_labels = [f'{label}: {percentage:.1f}%' for label, percentage in data.items()]\n",
        "plt.legend(legend_labels, loc='center left', bbox_to_anchor=(1, 0, 0.5, 1))\n",
        "\n",
        "# Display the plot\n",
        "plt.show()\n"
      ],
      "metadata": {
        "colab": {
          "base_uri": "https://localhost:8080/",
          "height": 675
        },
        "id": "CuUGikEe0eOl",
        "outputId": "0b004f79-c1d9-4319-865b-3859c7a4ab59"
      },
      "execution_count": 118,
      "outputs": [
        {
          "output_type": "display_data",
          "data": {
            "text/plain": [
              "<Figure size 800x800 with 1 Axes>"
            ],
            "image/png": "[encoded data removed]"
          },
          "metadata": {}
        }
      ]
    },
    {
      "cell_type": "markdown",
      "source": [
        "# Categorize based on duration watched\n",
        "> less than 7 sec"
      ],
      "metadata": {
        "id": "JFKZbhjXV53m"
      }
    },
    {
      "cell_type": "code",
      "source": [
        "print(\"Percentage of shows watched less than 7 sec: \",len(nz_duration_df[nz_duration_df['duration_seconds'] < 7]) / len(nz_duration_df) *100, \"%\")\n"
      ],
      "metadata": {
        "colab": {
          "base_uri": "https://localhost:8080/"
        },
        "id": "Awj5KEJzYGfK",
        "outputId": "37051f1b-3ede-4bcd-a869-cb0b6837002a"
      },
      "execution_count": 119,
      "outputs": [
        {
          "output_type": "stream",
          "name": "stdout",
          "text": [
            "Percentage of shows watched less than 7 sec:  12.569588770561236 %\n"
          ]
        }
      ]
    },
    {
      "cell_type": "markdown",
      "source": [
        "> less than 120 sec"
      ],
      "metadata": {
        "id": "prTFYy_ZYQy9"
      }
    },
    {
      "cell_type": "code",
      "source": [
        "# Define the DataFrame 'nz_duration_df'\n",
        "# Assuming you have a DataFrame named 'nz_duration_df'\n",
        "\n",
        "# Define the duration ranges in seconds\n",
        "ranges = [\n",
        "    (0, 60),    # Less than 1 minute\n",
        "    (60, 120),  # 1-2 minutes\n",
        "    (120, 300), # 2-5 minutes\n",
        "    (300, 600), # 5-10 minutes\n",
        "    (600, 900), # 10-15 minutes\n",
        "    (900, 1800), # 15-30 minutes\n",
        "    (1800, 2700), # 30-45 minutes\n",
        "    (2700, 3600), # 45-60 minutes\n",
        "    (3600, 7200), # 1-2 hours\n",
        "    (7200, 10800), # 2-3 hours\n",
        "    (10800, 14400), # 3-4 hours\n",
        "    (14400, 18000), # 4-5 hours\n",
        "    (18000, 21600), # 5-6 hours\n",
        "    (21600, 25200), # 6-7 hours\n",
        "    (25200, 28800), # 7-8 hours\n",
        "    (28800, 32400)  # 8-9 hours\n",
        "]\n",
        "\n",
        "# Initialize counters for each range\n",
        "counters = [0] * len(ranges)\n",
        "\n",
        "# Count the number of records in each range\n",
        "for i, (start, end) in enumerate(ranges):\n",
        "    counters[i] = ((nz_duration_df['duration_seconds'] > start) & (nz_duration_df['duration_seconds'] <= end)).sum()\n",
        "\n",
        "# Calculate the total number of records\n",
        "total_records = len(nz_duration_df)\n",
        "\n",
        "# Calculate the percentages and print the results\n",
        "for i, (start, end) in enumerate(ranges):\n",
        "    percentage = (counters[i] / total_records) * 100\n",
        "    if end < 60:\n",
        "        print(f\"Less than {end} seconds: {percentage:.2f}%\")\n",
        "    elif end < 3600:\n",
        "        print(f\"{start // 60} - {end // 60} minutes: {percentage:.2f}%\")\n",
        "    else:\n",
        "        print(f\"{start // 3600} - {end // 3600} hours: {percentage:.2f}%\")\n"
      ],
      "metadata": {
        "colab": {
          "base_uri": "https://localhost:8080/"
        },
        "id": "ohL-e6S_bHfZ",
        "outputId": "68074be8-3a9d-4f46-d906-06611b7f6682"
      },
      "execution_count": 120,
      "outputs": [
        {
          "output_type": "stream",
          "name": "stdout",
          "text": [
            "0 - 1 minutes: 27.42%\n",
            "1 - 2 minutes: 12.57%\n",
            "2 - 5 minutes: 17.33%\n",
            "5 - 10 minutes: 18.95%\n",
            "10 - 15 minutes: 5.68%\n",
            "15 - 30 minutes: 9.84%\n",
            "30 - 45 minutes: 3.47%\n",
            "0 - 1 hours: 2.24%\n",
            "1 - 2 hours: 2.25%\n",
            "2 - 3 hours: 0.16%\n",
            "3 - 4 hours: 0.02%\n",
            "4 - 5 hours: 0.02%\n",
            "5 - 6 hours: 0.02%\n",
            "6 - 7 hours: 0.01%\n",
            "7 - 8 hours: 0.01%\n",
            "8 - 9 hours: 0.01%\n"
          ]
        }
      ]
    },
    {
      "cell_type": "markdown",
      "source": [
        "# shows with least watched and most watched duration"
      ],
      "metadata": {
        "id": "ZpKOyE-EeT6U"
      }
    },
    {
      "cell_type": "code",
      "source": [
        "\n",
        "# Calculate the average watch duration for each show (content)\n",
        "average_watch_duration = nz_duration_df.groupby('content')['duration_seconds'].mean()\n",
        "\n",
        "# Sort the shows by average watch duration in descending order\n",
        "sorted_shows = average_watch_duration.sort_values(ascending=False)\n",
        "\n",
        "# Get the top 50 shows with the highest average watch duration\n",
        "top_100_shows = sorted_shows.head(100)\n",
        "\n",
        "# Print the top 50 shows and their average watch duration in hours\n",
        "for rank, (content, duration) in enumerate(top_100_shows.iteritems(), start=1):\n",
        "    # Convert duration to hours\n",
        "    duration_hours = duration / 3600\n",
        "\n",
        "    # Print the rank, content, and duration in hours\n",
        "    print(f\"{content}:\\n{duration_hours:.2f}\")\n"
      ],
      "metadata": {
        "colab": {
          "base_uri": "https://localhost:8080/"
        },
        "id": "s2MvrCfgeTRD",
        "outputId": "0e764bef-d81a-4415-9800-0adad08c88ed"
      },
      "execution_count": 121,
      "outputs": [
        {
          "output_type": "stream",
          "name": "stdout",
          "text": [
            "komedi unplugged ep12:\n",
            "8.69\n",
            "naagin s5 ep047:\n",
            "8.61\n",
            "the dance of the storm ep40:\n",
            "8.35\n",
            "badminton unlimited 2020 ep09:\n",
            "7.71\n",
            "pat the dog s2 ep36:\n",
            "7.39\n",
            "the staircase s1 ep05:\n",
            "7.38\n",
            "chef terjun ep06:\n",
            "7.07\n",
            "vettai s4 ep48:\n",
            "7.01\n",
            "nasihat ep10:\n",
            "5.97\n",
            "storage hunters s1 ep20:\n",
            "5.67\n",
            "billionaire story ep114:\n",
            "5.66\n",
            "super singer junior s8 ep03:\n",
            "5.39\n",
            "power players s2 ep18:\n",
            "5.24\n",
            "batwoman s1 ep13:\n",
            "4.92\n",
            "impiana s3 ep02:\n",
            "4.55\n",
            "dark angel ep09:\n",
            "4.42\n",
            "wwe raw 2023 ep17:\n",
            "4.31\n",
            "wrestlemania 11:\n",
            "4.23\n",
            "drakula cantik ep07:\n",
            "3.97\n",
            "crazy 15 seconds s1 ep15:\n",
            "3.90\n",
            "insecure s5 ep08:\n",
            "3.82\n",
            "vidhya no 1 ep482:\n",
            "3.67\n",
            "astro cgm 2017 ep16:\n",
            "3.66\n",
            "take us home ep15:\n",
            "3.60\n",
            "aku bukan bimbo ep07:\n",
            "3.59\n",
            "pyaar ke saat vachan dharam patni ep126:\n",
            "3.49\n",
            "long weekend getaways s2 ep02:\n",
            "3.34\n",
            "pop aye:\n",
            "3.31\n",
            "1,2,3 freeze s1 ep48:\n",
            "3.23\n",
            "dawn of the croods s2 ep32:\n",
            "3.17\n",
            "mush-mush and the mushables s1 ep22:\n",
            "3.06\n",
            "tokyo vice s1 ep08:\n",
            "3.00\n",
            "winning time: the rise of the lakers dynasty s1 ep09:\n",
            "2.96\n",
            "insectibles s1 ep09:\n",
            "2.95\n",
            "tong tong's wonderland s1 ep11:\n",
            "2.95\n",
            "happy friends: hero returns ep46:\n",
            "2.90\n",
            "our taste of taiwan s1 ep11:\n",
            "2.88\n",
            "punchline dac ep05:\n",
            "2.85\n",
            "kung fu licious s2 ep04:\n",
            "2.71\n",
            "cinta ibadah ep010:\n",
            "2.70\n",
            "siapa takut jatuh cinta ep110:\n",
            "2.66\n",
            "happy friends: crisis is coming ep47:\n",
            "2.62\n",
            "muthazhagu ep13:\n",
            "2.62\n",
            "bitter money:\n",
            "2.61\n",
            "i've got the power ep14:\n",
            "2.60\n",
            "supergirl s1 ep05:\n",
            "2.57\n",
            "panggung karoot ep05:\n",
            "2.56\n",
            "new tong tong's wonderland s3 ep02:\n",
            "2.50\n",
            "2022 sing! china ep03:\n",
            "2.49\n",
            "keluarga baha don s1 ep10:\n",
            "2.48\n",
            "wrestlemania 21:\n",
            "2.48\n",
            "dai pai dong ep05:\n",
            "2.44\n",
            "kisah tok kadi s2 ep01:\n",
            "2.43\n",
            "pat the dog s2 ep18:\n",
            "2.40\n",
            "cinema paithiyam:\n",
            "2.36\n",
            "beyond evil ep04:\n",
            "2.35\n",
            "marmam ep03:\n",
            "2.34\n",
            "suri katriana ep09:\n",
            "2.31\n",
            "great blue wild s2 ep05:\n",
            "2.30\n",
            "a-squad s1 ep23:\n",
            "2.30\n",
            "baagyaletchumi illatharisiyin kadhai ep892:\n",
            "2.23\n",
            "memori cinta suraya ep056:\n",
            "2.22\n",
            "my boss my love ep05:\n",
            "2.21\n",
            "lara oh lara! ep12:\n",
            "2.16\n",
            "the batman:\n",
            "2.14\n",
            "malawi wildlife rescue s2 ep05:\n",
            "2.14\n",
            "the best of wwe:\n",
            "2.14\n",
            "rick and morty s5 ep10:\n",
            "2.13\n",
            "udaariyaan ep016:\n",
            "2.12\n",
            "silicon valley s1 ep06:\n",
            "2.12\n",
            "filmfare award 2023:\n",
            "2.11\n",
            "transit terakhir:\n",
            "2.11\n",
            "power of love 2 : hayya:\n",
            "2.11\n",
            "pencuri cinta kelas satu ep05:\n",
            "2.10\n",
            "kalut nak raya:\n",
            "2.10\n",
            "the perfect storm:\n",
            "2.09\n",
            "cik diva balik kampung:\n",
            "2.07\n",
            "sex and the city s3 ep06:\n",
            "2.06\n",
            "panggung p.ramlee: pendekar bujang lapok:\n",
            "2.04\n",
            "citra exclusive: kau roadblock hatiku:\n",
            "2.02\n",
            "7am arivu:\n",
            "2.00\n",
            "speed racer:\n",
            "2.00\n",
            "konsert gegar vaganza s9 minggu 5:\n",
            "2.00\n",
            "suryavamsam:\n",
            "2.00\n",
            "the mummy returns:\n",
            "2.00\n",
            "(l) pl 2023/24: everton vs fulham:\n",
            "2.00\n",
            "muzikal lawak superstar 3 semi final:\n",
            "2.00\n",
            "jaan-e-mann:\n",
            "2.00\n",
            "panggung hitam putih: yatim mustapha:\n",
            "2.00\n",
            "superstar 2018 - grand final:\n",
            "2.00\n",
            "(l) ufc: fight night: emmett vs topuria:\n",
            "2.00\n",
            "my nigeria: basketmouth:\n",
            "2.00\n",
            "citra exclusive: jula juli bintang putus cinta:\n",
            "2.00\n",
            "the sharksons - sing together:\n",
            "2.00\n",
            "stl 2022/23: pen lwn mel:\n",
            "2.00\n",
            "(l) msl 2023: sab lwn srp:\n",
            "2.00\n",
            "sesame street s52 ep30:\n",
            "1.98\n",
            "family reunion ep237:\n",
            "1.97\n",
            "menantu mek:\n",
            "1.97\n",
            "girls s2 ep04:\n",
            "1.96\n"
          ]
        },
        {
          "output_type": "stream",
          "name": "stderr",
          "text": [
            "<ipython-input-121-0777d68c028f>:11: FutureWarning: iteritems is deprecated and will be removed in a future version. Use .items instead.\n",
            "  for rank, (content, duration) in enumerate(top_100_shows.iteritems(), start=1):\n"
          ]
        }
      ]
    },
    {
      "cell_type": "code",
      "source": [],
      "metadata": {
        "id": "5EQDfm0Zrbzy"
      },
      "execution_count": 121,
      "outputs": []
    }
  ],
  "metadata": {
    "colab": {
      "provenance": [],
      "authorship_tag": "ABX9TyPYBVcjyD3ju4Hk121iMqA4",
      "include_colab_link": true
    },
    "kernelspec": {
      "display_name": "Python 3",
      "name": "python3"
    },
    "language_info": {
      "name": "python"
    }
  },
  "nbformat": 4,
  "nbformat_minor": 0
}