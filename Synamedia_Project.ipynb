{
  "cells": [
    {
      "cell_type": "markdown",
      "metadata": {
        "id": "view-in-github",
        "colab_type": "text"
      },
      "source": [
        "<a href=\"https://colab.research.google.com/github/shrivatsashetty/Projects/blob/main/Synamedia_Project.ipynb\" target=\"_parent\"><img src=\"https://colab.research.google.com/assets/colab-badge.svg\" alt=\"Open In Colab\"/></a>"
      ]
    },
    {
      "cell_type": "markdown",
      "metadata": {
        "id": "ozY28M-PC9n8"
      },
      "source": [
        "# **Import modules**"
      ]
    },
    {
      "cell_type": "code",
      "execution_count": 1,
      "metadata": {
        "id": "e673eFsExghN"
      },
      "outputs": [],
      "source": [
        "import numpy as np\n",
        "import pandas as pd\n",
        "import matplotlib.pyplot as plt\n",
        "import seaborn as sns\n",
        "# %matplotlib notebook"
      ]
    },
    {
      "cell_type": "code",
      "execution_count": 2,
      "metadata": {
        "colab": {
          "base_uri": "https://localhost:8080/"
        },
        "id": "GhwuV60X0Oc3",
        "outputId": "dc6576a1-88ee-4acc-e89c-5391ba566e48"
      },
      "outputs": [
        {
          "output_type": "stream",
          "name": "stdout",
          "text": [
            "Drive already mounted at /content/drive/; to attempt to forcibly remount, call drive.mount(\"/content/drive/\", force_remount=True).\n"
          ]
        }
      ],
      "source": [
        "from google.colab import drive\n",
        "drive.mount('/content/drive/')"
      ]
    },
    {
      "cell_type": "code",
      "execution_count": null,
      "metadata": {
        "id": "b-hREszXxwTt"
      },
      "outputs": [],
      "source": [
        "main_df = pd.read_csv(\"/content/drive/MyDrive/Data-Science/2DaysViewingSession.csv\")"
      ]
    },
    {
      "cell_type": "markdown",
      "metadata": {
        "id": "m-rLWiFUCyd_"
      },
      "source": [
        "# **Tabular form**"
      ]
    },
    {
      "cell_type": "code",
      "execution_count": null,
      "metadata": {
        "id": "SWZgvKt02pmp"
      },
      "outputs": [],
      "source": [
        "main_df"
      ]
    },
    {
      "cell_type": "markdown",
      "metadata": {
        "id": "jBJooQ5fDVE3"
      },
      "source": [
        "# *main dataframe shape*"
      ]
    },
    {
      "cell_type": "code",
      "execution_count": null,
      "metadata": {
        "id": "_Fa91j-642dw"
      },
      "outputs": [],
      "source": [
        "main_df.shape"
      ]
    },
    {
      "cell_type": "markdown",
      "metadata": {
        "id": "rVBAbQMtTReH"
      },
      "source": [
        "### ***the main dataframe contains 2,60,11,967 records***"
      ]
    },
    {
      "cell_type": "markdown",
      "metadata": {
        "id": "N9m3DFWDDk-V"
      },
      "source": [
        "# main dataset columns"
      ]
    },
    {
      "cell_type": "code",
      "execution_count": null,
      "metadata": {
        "id": "mAZC1VKz_S_z"
      },
      "outputs": [],
      "source": [
        "i = 1\n",
        "print(\"The dataset contains the following columns\")\n",
        "for column in main_df.columns:\n",
        "  print(i,\".\",column)\n",
        "  i+=1"
      ]
    },
    {
      "cell_type": "code",
      "execution_count": null,
      "metadata": {
        "id": "xAw9yGLK5Dpe"
      },
      "outputs": [],
      "source": [
        "main_df.describe()"
      ]
    },
    {
      "cell_type": "code",
      "execution_count": null,
      "metadata": {
        "id": "HdzaMaJS21PO"
      },
      "outputs": [],
      "source": [
        "main_df.isna().sum()"
      ]
    },
    {
      "cell_type": "code",
      "execution_count": null,
      "metadata": {
        "id": "M5-ByEFmJ3f5"
      },
      "outputs": [],
      "source": [
        "cleaned_df = main_df.dropna()"
      ]
    },
    {
      "cell_type": "code",
      "execution_count": null,
      "metadata": {
        "id": "fIUhOgzFNOv4"
      },
      "outputs": [],
      "source": [
        "cleaned_df.shape"
      ]
    },
    {
      "cell_type": "code",
      "execution_count": null,
      "metadata": {
        "id": "fqramgLG6mf9"
      },
      "outputs": [],
      "source": [
        "type(cleaned_df.shape)"
      ]
    },
    {
      "cell_type": "markdown",
      "metadata": {
        "id": "KItgXqDlGONx"
      },
      "source": [
        "# difference b/w new and orignal data frame"
      ]
    },
    {
      "cell_type": "code",
      "execution_count": null,
      "metadata": {
        "id": "qHiK2QXG6tYo"
      },
      "outputs": [],
      "source": [
        "records_differenece = main_df.shape[0] - cleaned_df.shape[0]"
      ]
    },
    {
      "cell_type": "code",
      "execution_count": null,
      "metadata": {
        "id": "blwJOlmm7FOk"
      },
      "outputs": [],
      "source": [
        "percent_record_difference = (records_differenece / main_df.shape[0]) * 100"
      ]
    },
    {
      "cell_type": "markdown",
      "metadata": {
        "id": "LPedBoPCFvtM"
      },
      "source": [
        "### percentage difference in records after dropping rows"
      ]
    },
    {
      "cell_type": "code",
      "execution_count": null,
      "metadata": {
        "id": "XdNNPTEx7soL"
      },
      "outputs": [],
      "source": [
        "percent_record_difference"
      ]
    },
    {
      "cell_type": "code",
      "execution_count": null,
      "metadata": {
        "id": "Nj2ag5je5VP9"
      },
      "outputs": [],
      "source": [
        "cleaned_df.describe()"
      ]
    },
    {
      "cell_type": "code",
      "execution_count": null,
      "metadata": {
        "id": "NoN8H-6h5OPb"
      },
      "outputs": [],
      "source": [
        "cleaned_df.info()"
      ]
    },
    {
      "cell_type": "code",
      "execution_count": null,
      "metadata": {
        "id": "4mLhRST5F8sg"
      },
      "outputs": [],
      "source": [
        "uniq_states = cleaned_df['state'].value_counts()"
      ]
    },
    {
      "cell_type": "markdown",
      "metadata": {
        "id": "jvJ1dLZlH1R9"
      },
      "source": [
        "### List of distinct states"
      ]
    },
    {
      "cell_type": "code",
      "execution_count": null,
      "metadata": {
        "id": "-9q0_VrpHQPD"
      },
      "outputs": [],
      "source": [
        "uniq_states\n"
      ]
    },
    {
      "cell_type": "markdown",
      "metadata": {
        "id": "wGdV3EHGRmSc"
      },
      "source": [
        "# List of actual Malaysian states plus federal territories"
      ]
    },
    {
      "cell_type": "code",
      "execution_count": null,
      "metadata": {
        "id": "Ki29hypARk7h"
      },
      "outputs": [],
      "source": [
        "states_list = [\"Perlis\", \"Kedah\", \"Penang\", \"Perak\", \"Selangor\", \"Negeri Sembilan\",\n",
        "               \"Melaka\", \"Johor\", \"Kelantan\", \"Terengganu\", \"Pahang\", \"Kuala Lumpur\", \"Putrajaya\", \"Sabah\", \"Sarawak\", \"Labuan\" ]"
      ]
    },
    {
      "cell_type": "code",
      "execution_count": null,
      "metadata": {
        "id": "ElYSPrhMSCXW"
      },
      "outputs": [],
      "source": [
        "len(states_list)"
      ]
    },
    {
      "cell_type": "markdown",
      "metadata": {
        "id": "k9-mOQ0cV8Ws"
      },
      "source": [
        "# filtering duplicate state if any"
      ]
    },
    {
      "cell_type": "code",
      "execution_count": null,
      "metadata": {
        "id": "HJfNq2xhSLrz"
      },
      "outputs": [],
      "source": [
        "states_list = list(set(states_list))"
      ]
    },
    {
      "cell_type": "code",
      "execution_count": null,
      "metadata": {
        "id": "MI7qOKReVrs2"
      },
      "outputs": [],
      "source": [
        "for state in states_list:\n",
        "  print(state)"
      ]
    },
    {
      "cell_type": "code",
      "execution_count": null,
      "metadata": {
        "id": "2CauLjhYVyxe"
      },
      "outputs": [],
      "source": [
        "len(states_list)"
      ]
    },
    {
      "cell_type": "code",
      "execution_count": null,
      "metadata": {
        "id": "K9qEwpAyIWdm"
      },
      "outputs": [],
      "source": [
        "org_distinct_states = main_df['state'].value_counts()"
      ]
    },
    {
      "cell_type": "code",
      "execution_count": null,
      "metadata": {
        "id": "KQQK69_8IZR5"
      },
      "outputs": [],
      "source": [
        "org_distinct_states.count()"
      ]
    },
    {
      "cell_type": "markdown",
      "metadata": {
        "id": "ev55vYNd4JvD"
      },
      "source": [
        "# Filtering  non Malaysian states"
      ]
    },
    {
      "cell_type": "code",
      "execution_count": null,
      "metadata": {
        "id": "fKyLM5nH4I41"
      },
      "outputs": [],
      "source": [
        "cleaned_df = cleaned_df[cleaned_df['state'].isin(states_list)]"
      ]
    },
    {
      "cell_type": "code",
      "execution_count": null,
      "metadata": {
        "id": "u_fJiQhKc00l"
      },
      "outputs": [],
      "source": [
        "type(cleaned_df['state'].isin(states_list))"
      ]
    },
    {
      "cell_type": "code",
      "execution_count": null,
      "metadata": {
        "id": "NGVf6l4JGMBz"
      },
      "outputs": [],
      "source": [
        "cleaned_df_states = cleaned_df['state'].value_counts()"
      ]
    },
    {
      "cell_type": "code",
      "execution_count": null,
      "metadata": {
        "id": "zUFTlTuZPw9n"
      },
      "outputs": [],
      "source": [
        "cleaned_df_states"
      ]
    },
    {
      "cell_type": "code",
      "execution_count": null,
      "metadata": {
        "id": "RZAnyt9wKz3N"
      },
      "outputs": [],
      "source": [
        "type(cleaned_df_states)"
      ]
    },
    {
      "cell_type": "code",
      "execution_count": null,
      "metadata": {
        "id": "zY_bpIYAP3R8"
      },
      "outputs": [],
      "source": [
        "cleaned_df_states.sum()"
      ]
    },
    {
      "cell_type": "code",
      "execution_count": null,
      "metadata": {
        "id": "hGzaC8mMPTfD"
      },
      "outputs": [],
      "source": [
        "cleaned_df_states.count()"
      ]
    },
    {
      "cell_type": "markdown",
      "metadata": {
        "id": "CSDs_8xmPc7x"
      },
      "source": [
        "### hence the **final version of cleaned_df** contains list of only 16 states which is actual no of states in malaysia"
      ]
    },
    {
      "cell_type": "code",
      "execution_count": null,
      "metadata": {
        "id": "vrFHO04G4QXJ"
      },
      "outputs": [],
      "source": [
        "cleaned_df.shape"
      ]
    },
    {
      "cell_type": "markdown",
      "metadata": {
        "id": "cpLGB6LM7pPt"
      },
      "source": [
        "## Till here we have a final version of cleaned dataframe"
      ]
    },
    {
      "cell_type": "markdown",
      "metadata": {
        "id": "FQUR2weZOOr1"
      },
      "source": [
        "# Now scaling down the dataset"
      ]
    },
    {
      "cell_type": "code",
      "execution_count": null,
      "metadata": {
        "id": "M14eHjDwOTBO"
      },
      "outputs": [],
      "source": [
        "sample_size = int(cleaned_df.shape[0] * 0.4)"
      ]
    },
    {
      "cell_type": "code",
      "execution_count": null,
      "metadata": {
        "id": "dE6l4g3NYzVS"
      },
      "outputs": [],
      "source": [
        "sample_size"
      ]
    },
    {
      "cell_type": "code",
      "execution_count": null,
      "metadata": {
        "id": "-TlM3buoY7ti"
      },
      "outputs": [],
      "source": [
        "sampled_df = cleaned_df.sample(n=sample_size, random_state=42)"
      ]
    },
    {
      "cell_type": "markdown",
      "metadata": {
        "id": "WsHdJGXzbgQs"
      },
      "source": [
        "# Now we consider only those records whose watch duration is non-zero"
      ]
    },
    {
      "cell_type": "code",
      "execution_count": null,
      "metadata": {
        "id": "5axUoPVXZijV"
      },
      "outputs": [],
      "source": [
        "nz_duration_df = sampled_df[sampled_df[\"duration_seconds\"] !=0]"
      ]
    },
    {
      "cell_type": "code",
      "execution_count": null,
      "metadata": {
        "id": "w69Jmx9qdEct"
      },
      "outputs": [],
      "source": [
        "nz_duration_df"
      ]
    },
    {
      "cell_type": "code",
      "execution_count": null,
      "metadata": {
        "id": "2tLoFjX-hXqj"
      },
      "outputs": [],
      "source": [
        "nz_duration_df.shape"
      ]
    },
    {
      "cell_type": "code",
      "execution_count": null,
      "metadata": {
        "id": "xFnWSaI9hh71"
      },
      "outputs": [],
      "source": [
        "(nz_duration_df.shape[0] / main_df.shape[0]) * 100"
      ]
    },
    {
      "cell_type": "markdown",
      "source": [
        "# states frequency & statistics analysis"
      ],
      "metadata": {
        "id": "hQ3R3VwAjkfo"
      }
    },
    {
      "cell_type": "code",
      "execution_count": null,
      "metadata": {
        "id": "tv9MvjJHgxzZ"
      },
      "outputs": [],
      "source": [
        "sampled_df[\"state\"].value_counts()"
      ]
    },
    {
      "cell_type": "code",
      "execution_count": null,
      "metadata": {
        "id": "YsHu-6RCbIQ-"
      },
      "outputs": [],
      "source": [
        "nz_duration_df[\"state\"].value_counts()"
      ]
    },
    {
      "cell_type": "code",
      "execution_count": null,
      "metadata": {
        "id": "PG45pJEpZOyO"
      },
      "outputs": [],
      "source": [
        "states_series = nz_duration_df[\"state\"].value_counts()"
      ]
    },
    {
      "cell_type": "code",
      "execution_count": null,
      "metadata": {
        "id": "V-yQy9h2aYI9"
      },
      "outputs": [],
      "source": [
        "states_series"
      ]
    },
    {
      "cell_type": "code",
      "source": [
        "print(len(states_series))"
      ],
      "metadata": {
        "id": "mA8xb_45RCiD"
      },
      "execution_count": null,
      "outputs": []
    },
    {
      "cell_type": "code",
      "source": [
        "print(states_series.nunique())"
      ],
      "metadata": {
        "id": "Xa-z7IMERIR6"
      },
      "execution_count": null,
      "outputs": []
    },
    {
      "cell_type": "code",
      "execution_count": null,
      "metadata": {
        "id": "qQwkNg49o_n0"
      },
      "outputs": [],
      "source": [
        "cumilative_frequency_of_states = states_series.sum()"
      ]
    },
    {
      "cell_type": "code",
      "execution_count": null,
      "metadata": {
        "id": "Xrzq6MQjp2Dn"
      },
      "outputs": [],
      "source": [
        "cumilative_frequency_of_states"
      ]
    },
    {
      "cell_type": "code",
      "execution_count": null,
      "metadata": {
        "id": "WWYQBDd9ocaU"
      },
      "outputs": [],
      "source": [
        "statewise_frequency_percentages = {}\n",
        "for state in states_series.index:\n",
        "  statewise_frequency_percentages[state] = (states_series[state] / cumilative_frequency_of_states) * 100"
      ]
    },
    {
      "cell_type": "code",
      "execution_count": null,
      "metadata": {
        "id": "9i1yHsoxo6ZZ"
      },
      "outputs": [],
      "source": [
        "statewise_frequency_percentages"
      ]
    },
    {
      "cell_type": "markdown",
      "metadata": {
        "id": "_Ae6BpwMZ8wJ"
      },
      "source": [
        "# list of distinct content_type (content_category)\n"
      ]
    },
    {
      "cell_type": "code",
      "execution_count": null,
      "metadata": {
        "id": "-gBJxON3aDeL"
      },
      "outputs": [],
      "source": [
        "content_categories = nz_duration_df['content_type'].value_counts()"
      ]
    },
    {
      "cell_type": "code",
      "execution_count": null,
      "metadata": {
        "id": "ADzCNuzSenPb"
      },
      "outputs": [],
      "source": [
        "content_categories"
      ]
    },
    {
      "cell_type": "code",
      "source": [
        "len(content_categories)"
      ],
      "metadata": {
        "id": "o7mSARctQaXa"
      },
      "execution_count": null,
      "outputs": []
    },
    {
      "cell_type": "code",
      "source": [
        "content_categorywise_percentages = {}\n",
        "for category in content_categories.index:\n",
        "  content_categorywise_percentages[category] = (content_categories[category] / content_categories.sum()) * 100"
      ],
      "metadata": {
        "id": "EloHGoLo_OOq"
      },
      "execution_count": null,
      "outputs": []
    },
    {
      "cell_type": "code",
      "source": [
        "content_categorywise_percentages"
      ],
      "metadata": {
        "id": "MJSL12Y0A_sn"
      },
      "execution_count": null,
      "outputs": []
    },
    {
      "cell_type": "markdown",
      "metadata": {
        "id": "d4afLOO5cNYG"
      },
      "source": [
        "# list of distinct content (T.V Shows)"
      ]
    },
    {
      "cell_type": "code",
      "execution_count": null,
      "metadata": {
        "id": "pCNAgqZ2aQXB"
      },
      "outputs": [],
      "source": [
        "content_series = nz_duration_df['content'].value_counts()"
      ]
    },
    {
      "cell_type": "markdown",
      "metadata": {
        "id": "su98wJiOn1e0"
      },
      "source": [
        " * ***the value_counts() method will always return a pandas series with unique indexes so no need to worry about the uniqueness of index names***"
      ]
    },
    {
      "cell_type": "code",
      "execution_count": null,
      "metadata": {
        "id": "8E9e8S84br-l"
      },
      "outputs": [],
      "source": [
        "content_series"
      ]
    },
    {
      "cell_type": "code",
      "source": [
        "nz_duration_df.shape[0]"
      ],
      "metadata": {
        "id": "OMAtenICZw3g"
      },
      "execution_count": null,
      "outputs": []
    },
    {
      "cell_type": "code",
      "execution_count": null,
      "metadata": {
        "id": "DlchwzqtL4vp"
      },
      "outputs": [],
      "source": [
        "len(content_series)"
      ]
    },
    {
      "cell_type": "code",
      "source": [
        "print(content_series.index.nunique()) # using nunique() method"
      ],
      "metadata": {
        "id": "TUA1WLlkRWgN"
      },
      "execution_count": null,
      "outputs": []
    },
    {
      "cell_type": "code",
      "source": [
        "no_of_shows = content_series.index.nunique()"
      ],
      "metadata": {
        "id": "HVu6nzStei_j"
      },
      "execution_count": null,
      "outputs": []
    },
    {
      "cell_type": "code",
      "source": [
        "sampled_df.shape[0]"
      ],
      "metadata": {
        "id": "bBblZASvgwnG"
      },
      "execution_count": null,
      "outputs": []
    },
    {
      "cell_type": "markdown",
      "metadata": {
        "id": "DooUYautMFl7"
      },
      "source": [
        "## There are almost 54000 distinct shows. Below is top 20\n"
      ]
    },
    {
      "cell_type": "code",
      "execution_count": null,
      "metadata": {
        "id": "IElQpkrKKZgi"
      },
      "outputs": [],
      "source": [
        "content_series.head(10)"
      ]
    },
    {
      "cell_type": "markdown",
      "source": [
        "### bottom 20 TV shows"
      ],
      "metadata": {
        "id": "LRXnhBmu5wQD"
      }
    },
    {
      "cell_type": "code",
      "execution_count": null,
      "metadata": {
        "id": "4fhXqb_uL2-G"
      },
      "outputs": [],
      "source": [
        "content_series.tail(20)"
      ]
    },
    {
      "cell_type": "markdown",
      "metadata": {
        "id": "ZZJMTnTW-ojh"
      },
      "source": [
        "## sports shows are most watched"
      ]
    },
    {
      "cell_type": "code",
      "execution_count": null,
      "metadata": {
        "id": "NbbDScixbuiu"
      },
      "outputs": [],
      "source": [
        "distinct_contents_dictionary = content_series.to_dict()"
      ]
    },
    {
      "cell_type": "code",
      "source": [
        "len(distinct_contents_dictionary)"
      ],
      "metadata": {
        "id": "6uk-9O0EFVKd"
      },
      "execution_count": null,
      "outputs": []
    },
    {
      "cell_type": "code",
      "source": [
        "distinct_contents_dictionary"
      ],
      "metadata": {
        "id": "PLhKlph9Oh6y"
      },
      "execution_count": null,
      "outputs": []
    },
    {
      "cell_type": "code",
      "execution_count": null,
      "metadata": {
        "id": "LkJ_BA94b9DK"
      },
      "outputs": [],
      "source": [
        "# since the dictionary is too big lets only see the first few elements\n",
        "# first_few_elements = 10\n",
        "# for key, value in distinct_contents_dictionary.items():\n",
        "#   print(key, \":\", distinct_contents_dictionary[key])\n",
        "#   first_few_elements -= 1\n",
        "#   if first_few_elements == 0:\n",
        "#     break"
      ]
    },
    {
      "cell_type": "code",
      "execution_count": null,
      "metadata": {
        "id": "Wlr518qSqKoC"
      },
      "outputs": [],
      "source": [
        "len(distinct_contents_dictionary)"
      ]
    },
    {
      "cell_type": "markdown",
      "source": [
        "# Feature Engineering & Extraction\n",
        "* Adding date, time, day some extra columns"
      ],
      "metadata": {
        "id": "9LjNoq7A7ES8"
      }
    },
    {
      "cell_type": "code",
      "execution_count": null,
      "metadata": {
        "id": "Ok77A4WgXBwR"
      },
      "outputs": [],
      "source": [
        "datetime_format = \"%Y-%m-%d %H:%M:%S.%f %Z\"\n",
        "\n",
        "# Convert the column to datetime using the specified format\n",
        "nz_duration_df['event_start_tz'] = pd.to_datetime(nz_duration_df['event_start_tz'], format=datetime_format)\n",
        "\n",
        "# Check the data type of the 'event_start_tz' column\n",
        "print(nz_duration_df['event_start_tz'].dtype)\n"
      ]
    },
    {
      "cell_type": "code",
      "execution_count": null,
      "metadata": {
        "id": "WzeD0XRKt32T"
      },
      "outputs": [],
      "source": [
        "nz_duration_df['date'] = nz_duration_df['event_start_tz'].dt.date\n",
        "nz_duration_df['time'] = nz_duration_df['event_start_tz'].dt.time\n",
        "nz_duration_df['timezone'] = nz_duration_df['event_start_tz'].dt.tz\n",
        "nz_duration_df['end_time'] = nz_duration_df['event_start_tz'] + pd.to_timedelta(nz_duration_df['duration_seconds'], unit='s')\n",
        "nz_duration_df['timestamp'] = nz_duration_df['event_start_tz'].apply(lambda x: x.timestamp())\n",
        "# Assuming you have a DataFrame named 'sampled_df' with a 'date' column\n",
        "\n",
        "# Convert the 'date' column to a datetime format\n",
        "nz_duration_df['date'] = pd.to_datetime(nz_duration_df['date'])\n",
        "\n",
        "# Add a new 'day' column to represent the day of the week\n",
        "nz_duration_df['day'] = nz_duration_df['date'].dt.day_name()\n",
        "\n"
      ]
    },
    {
      "cell_type": "code",
      "source": [
        "nz_duration_df[\"day\"].value_counts()"
      ],
      "metadata": {
        "id": "6NLvoMChydU0"
      },
      "execution_count": null,
      "outputs": []
    },
    {
      "cell_type": "code",
      "source": [
        "nz_duration_df = nz_duration_df[nz_duration_df['day'].isin(['Sunday', 'Monday'])]\n"
      ],
      "metadata": {
        "id": "xnDJiNli2ATP"
      },
      "execution_count": null,
      "outputs": []
    },
    {
      "cell_type": "code",
      "source": [],
      "metadata": {
        "id": "O1MLPz2G1vE2"
      },
      "execution_count": null,
      "outputs": []
    },
    {
      "cell_type": "code",
      "execution_count": null,
      "metadata": {
        "id": "R9ajwHs2MCf9"
      },
      "outputs": [],
      "source": [
        "nz_duration_df.shape"
      ]
    },
    {
      "cell_type": "code",
      "execution_count": null,
      "metadata": {
        "id": "Yrqse54_ygmH"
      },
      "outputs": [],
      "source": [
        "  nz_duration_df.info()"
      ]
    },
    {
      "cell_type": "code",
      "execution_count": null,
      "metadata": {
        "id": "3zwsziuHt1pq"
      },
      "outputs": [],
      "source": [
        "nz_duration_df[\"event_start_tz\"][0]\n"
      ]
    },
    {
      "cell_type": "code",
      "execution_count": null,
      "metadata": {
        "id": "mZy0kBnFt5g6"
      },
      "outputs": [],
      "source": [
        "nz_duration_df"
      ]
    },
    {
      "cell_type": "markdown",
      "metadata": {
        "id": "VycU43iRYVK3"
      },
      "source": [
        "## duration_seconds is the only numerical field hence lets see description of that field"
      ]
    },
    {
      "cell_type": "code",
      "execution_count": null,
      "metadata": {
        "id": "Ul6hY64dPGEj"
      },
      "outputs": [],
      "source": [
        "nz_duration_df.describe()"
      ]
    },
    {
      "cell_type": "code",
      "execution_count": null,
      "metadata": {
        "id": "G5NsD16VXd6l"
      },
      "outputs": [],
      "source": [
        "nz_duration_df.info()"
      ]
    },
    {
      "cell_type": "markdown",
      "metadata": {
        "id": "TpiSFnXkiS4X"
      },
      "source": [
        "### ***sampled dataframe  is what % of orignal dataframe ?***"
      ]
    },
    {
      "cell_type": "code",
      "execution_count": null,
      "metadata": {
        "id": "L9K7C30bh_FU"
      },
      "outputs": [],
      "source": [
        "(sampled_df.shape[0] / main_df.shape[0]) * 100"
      ]
    },
    {
      "cell_type": "markdown",
      "metadata": {
        "id": "VnOKmd5KkB55"
      },
      "source": [
        "## List of distinct content providers"
      ]
    },
    {
      "cell_type": "code",
      "execution_count": null,
      "metadata": {
        "id": "gLPm29dgg8SX"
      },
      "outputs": [],
      "source": [
        "provider_list = nz_duration_df[\"content_source\"].value_counts()"
      ]
    },
    {
      "cell_type": "code",
      "execution_count": null,
      "metadata": {
        "id": "JS2qbT0DlHaL"
      },
      "outputs": [],
      "source": [
        "provider_list"
      ]
    },
    {
      "cell_type": "markdown",
      "metadata": {
        "id": "7j82ySb9mTQi"
      },
      "source": [
        "### top 20 content providers"
      ]
    },
    {
      "cell_type": "code",
      "execution_count": null,
      "metadata": {
        "id": "x7CvL6BkkQMM"
      },
      "outputs": [],
      "source": [
        "provider_list.head(20) # seeing top 20 content providers"
      ]
    },
    {
      "cell_type": "markdown",
      "source": [
        "### bottom 20 content providers"
      ],
      "metadata": {
        "id": "jB5gYp5cywCh"
      }
    },
    {
      "cell_type": "code",
      "source": [
        "provider_list.tail(20)"
      ],
      "metadata": {
        "id": "5S4kj3d_yvsc"
      },
      "execution_count": null,
      "outputs": []
    },
    {
      "cell_type": "code",
      "execution_count": null,
      "metadata": {
        "id": "jBaQPQQSmBAG"
      },
      "outputs": [],
      "source": [
        "# ! pip install pandas_profiling\n",
        "# from pandas_profiling import ProfileReport\n"
      ]
    },
    {
      "cell_type": "code",
      "execution_count": null,
      "metadata": {
        "id": "S-rM00GKmpwR"
      },
      "outputs": [],
      "source": [
        "# nz_duration_df_profile =  ProfileReport(nz_duration_df)\n",
        "# nz_duration_df_profile.to_file(output_file = '/content/nz_duration_df_profile.html')"
      ]
    },
    {
      "cell_type": "code",
      "source": [
        "nz_duration_df"
      ],
      "metadata": {
        "id": "9xQ6Q1N2pxKh"
      },
      "execution_count": null,
      "outputs": []
    },
    {
      "cell_type": "code",
      "source": [],
      "metadata": {
        "id": "IuWao3bJ1AJr"
      },
      "execution_count": null,
      "outputs": []
    }
  ],
  "metadata": {
    "colab": {
      "provenance": [],
      "authorship_tag": "ABX9TyPixQW5XwNl3+VziopQHWmH",
      "include_colab_link": true
    },
    "kernelspec": {
      "display_name": "Python 3",
      "name": "python3"
    },
    "language_info": {
      "name": "python"
    }
  },
  "nbformat": 4,
  "nbformat_minor": 0
}